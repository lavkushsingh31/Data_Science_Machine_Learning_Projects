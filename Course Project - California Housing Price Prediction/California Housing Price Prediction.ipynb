{
 "cells": [
  {
   "cell_type": "markdown",
   "id": "compressed-morris",
   "metadata": {},
   "source": [
    "\n",
    "\n",
    "\n",
    "<h1 align=\"center\">Simplilearn Post Graduate Program - Data Science - In Partnership With Purdue University</h1>  "
   ]
  },
  {
   "cell_type": "markdown",
   "id": "hairy-blast",
   "metadata": {},
   "source": [
    "<div style=\"font-size:22px;\">\n",
    "<b> <center> Project Report - California Housing Price Prediction </center></b><br>\n",
    "</div>\n"
   ]
  },
  {
   "cell_type": "markdown",
   "id": "closing-coral",
   "metadata": {},
   "source": [
    "<div  style=\"font-size: 17px\">\n",
    "Organization: <b>Simplilearn - Purdue University</b><br>\n",
    "Batch: <b>PGP DS Mar 2022 COHORT 2</b><br>\n",
    "Course: <b>PG -DS - Data Science with Python</b><br>\n",
    "Project: <b>California Housing Price Prediction</b><br>\n",
    "Programming Language: <b>Python</b><br>\n",
    "Submitted by: <b>Lavkush Singh</b>\n",
    "</div>"
   ]
  },
  {
   "cell_type": "markdown",
   "id": "valued-guyana",
   "metadata": {},
   "source": [
    "## Dataset Description\n",
    "\n",
    "**Dataset has the following fields:**\n",
    "\n",
    "* **longitude**\t(signed numeric - float) : Longitude value for the block in California, USA\n",
    "* **latitude**\t(numeric - float ) : Latitude value for the block in California, USA\n",
    "* **housing_median_age**\t(numeric - int ) : Median age of the house in the block\n",
    "* **total_rooms**\t(numeric - int ) : Count of the total number of rooms (excluding bedrooms) in all houses in the block\n",
    "* **total_bedrooms**\t(numeric - float ) : Count of the total number of bedrooms in all houses in the block\n",
    "* **population**\t(numeric - int ) : Count of the total number of population in the block\n",
    "* **households**\t(numeric - int ) : Count of the total number of households in the block\n",
    "* **median_incom**e\t(numeric - float ) : Median of the total household income of all the houses in the block\n",
    "* **ocean_proximity**\t(numeric - categorical ) : Type of the landscape of the block [ Unique Values : 'NEAR BAY', '<1H OCEAN', 'INLAND', 'NEAR OCEAN', 'ISLAND'  ]\n",
    "* **median_house_value**\t(numeric - int ) : Median of the household prices of all the houses in the block"
   ]
  },
  {
   "cell_type": "markdown",
   "id": "superb-alexander",
   "metadata": {},
   "source": [
    "## Problem Statement\n",
    "\n",
    "**The project aims at building a model of housing prices to predict median house values in California using the provided dataset. This model should learn from the data and be able to predict the median housing price in any district, given all the other metrics. There are 20,640 districts in the project dataset.**\n",
    "\n",
    "##### Analysis Tasks to be performed\n",
    "\n",
    "- Build a model of housing prices to predict median house values in California using the provided dataset.\n",
    "- Train the model to learn from the data to predict the median housing price in any district, given all the other metrics.\n",
    "- Predict housing prices based on median_income and plot the regression chart for it."
   ]
  },
  {
   "cell_type": "markdown",
   "id": "perfect-impression",
   "metadata": {},
   "source": [
    "### 1. Load the data"
   ]
  },
  {
   "cell_type": "code",
   "execution_count": 1,
   "id": "norman-juvenile",
   "metadata": {},
   "outputs": [],
   "source": [
    "# importing necessary libraries\n",
    "\n",
    "import numpy as np\n",
    "import pandas as pd\n",
    "import matplotlib.pyplot as plt\n",
    "import seaborn as sns\n",
    "from sklearn.cluster import KMeans\n",
    "from sklearn.model_selection import train_test_split\n",
    "from sklearn.preprocessing import RobustScaler\n",
    "from sklearn.linear_model import LinearRegression\n",
    "from statsmodels.formula.api import ols\n",
    "from sklearn.ensemble import RandomForestRegressor\n",
    "from sklearn.metrics import mean_absolute_error, mean_squared_error, mean_absolute_percentage_error, r2_score\n",
    "%matplotlib inline"
   ]
  },
  {
   "cell_type": "code",
   "execution_count": 2,
   "id": "successful-absence",
   "metadata": {},
   "outputs": [],
   "source": [
    "housedata = pd.read_excel('Datasets/1553768847_housing.xlsx') # reading the dataset"
   ]
  },
  {
   "cell_type": "code",
   "execution_count": 3,
   "id": "institutional-hygiene",
   "metadata": {},
   "outputs": [
    {
     "data": {
      "text/html": [
       "<div>\n",
       "<style scoped>\n",
       "    .dataframe tbody tr th:only-of-type {\n",
       "        vertical-align: middle;\n",
       "    }\n",
       "\n",
       "    .dataframe tbody tr th {\n",
       "        vertical-align: top;\n",
       "    }\n",
       "\n",
       "    .dataframe thead th {\n",
       "        text-align: right;\n",
       "    }\n",
       "</style>\n",
       "<table border=\"1\" class=\"dataframe\">\n",
       "  <thead>\n",
       "    <tr style=\"text-align: right;\">\n",
       "      <th></th>\n",
       "      <th>longitude</th>\n",
       "      <th>latitude</th>\n",
       "      <th>housing_median_age</th>\n",
       "      <th>total_rooms</th>\n",
       "      <th>total_bedrooms</th>\n",
       "      <th>population</th>\n",
       "      <th>households</th>\n",
       "      <th>median_income</th>\n",
       "      <th>ocean_proximity</th>\n",
       "      <th>median_house_value</th>\n",
       "    </tr>\n",
       "  </thead>\n",
       "  <tbody>\n",
       "    <tr>\n",
       "      <th>0</th>\n",
       "      <td>-122.23</td>\n",
       "      <td>37.88</td>\n",
       "      <td>41</td>\n",
       "      <td>880</td>\n",
       "      <td>129.0</td>\n",
       "      <td>322</td>\n",
       "      <td>126</td>\n",
       "      <td>8.3252</td>\n",
       "      <td>NEAR BAY</td>\n",
       "      <td>452600</td>\n",
       "    </tr>\n",
       "    <tr>\n",
       "      <th>1</th>\n",
       "      <td>-122.22</td>\n",
       "      <td>37.86</td>\n",
       "      <td>21</td>\n",
       "      <td>7099</td>\n",
       "      <td>1106.0</td>\n",
       "      <td>2401</td>\n",
       "      <td>1138</td>\n",
       "      <td>8.3014</td>\n",
       "      <td>NEAR BAY</td>\n",
       "      <td>358500</td>\n",
       "    </tr>\n",
       "    <tr>\n",
       "      <th>2</th>\n",
       "      <td>-122.24</td>\n",
       "      <td>37.85</td>\n",
       "      <td>52</td>\n",
       "      <td>1467</td>\n",
       "      <td>190.0</td>\n",
       "      <td>496</td>\n",
       "      <td>177</td>\n",
       "      <td>7.2574</td>\n",
       "      <td>NEAR BAY</td>\n",
       "      <td>352100</td>\n",
       "    </tr>\n",
       "    <tr>\n",
       "      <th>3</th>\n",
       "      <td>-122.25</td>\n",
       "      <td>37.85</td>\n",
       "      <td>52</td>\n",
       "      <td>1274</td>\n",
       "      <td>235.0</td>\n",
       "      <td>558</td>\n",
       "      <td>219</td>\n",
       "      <td>5.6431</td>\n",
       "      <td>NEAR BAY</td>\n",
       "      <td>341300</td>\n",
       "    </tr>\n",
       "    <tr>\n",
       "      <th>4</th>\n",
       "      <td>-122.25</td>\n",
       "      <td>37.85</td>\n",
       "      <td>52</td>\n",
       "      <td>1627</td>\n",
       "      <td>280.0</td>\n",
       "      <td>565</td>\n",
       "      <td>259</td>\n",
       "      <td>3.8462</td>\n",
       "      <td>NEAR BAY</td>\n",
       "      <td>342200</td>\n",
       "    </tr>\n",
       "  </tbody>\n",
       "</table>\n",
       "</div>"
      ],
      "text/plain": [
       "   longitude  latitude  housing_median_age  total_rooms  total_bedrooms  \\\n",
       "0    -122.23     37.88                  41          880           129.0   \n",
       "1    -122.22     37.86                  21         7099          1106.0   \n",
       "2    -122.24     37.85                  52         1467           190.0   \n",
       "3    -122.25     37.85                  52         1274           235.0   \n",
       "4    -122.25     37.85                  52         1627           280.0   \n",
       "\n",
       "   population  households  median_income ocean_proximity  median_house_value  \n",
       "0         322         126         8.3252        NEAR BAY              452600  \n",
       "1        2401        1138         8.3014        NEAR BAY              358500  \n",
       "2         496         177         7.2574        NEAR BAY              352100  \n",
       "3         558         219         5.6431        NEAR BAY              341300  \n",
       "4         565         259         3.8462        NEAR BAY              342200  "
      ]
     },
     "execution_count": 3,
     "metadata": {},
     "output_type": "execute_result"
    }
   ],
   "source": [
    "housedata.head() #viewing first few records"
   ]
  },
  {
   "cell_type": "code",
   "execution_count": 4,
   "id": "canadian-smooth",
   "metadata": {},
   "outputs": [
    {
     "name": "stdout",
     "output_type": "stream",
     "text": [
      "<class 'pandas.core.frame.DataFrame'>\n",
      "RangeIndex: 20640 entries, 0 to 20639\n",
      "Data columns (total 10 columns):\n",
      " #   Column              Non-Null Count  Dtype  \n",
      "---  ------              --------------  -----  \n",
      " 0   longitude           20640 non-null  float64\n",
      " 1   latitude            20640 non-null  float64\n",
      " 2   housing_median_age  20640 non-null  int64  \n",
      " 3   total_rooms         20640 non-null  int64  \n",
      " 4   total_bedrooms      20433 non-null  float64\n",
      " 5   population          20640 non-null  int64  \n",
      " 6   households          20640 non-null  int64  \n",
      " 7   median_income       20640 non-null  float64\n",
      " 8   ocean_proximity     20640 non-null  object \n",
      " 9   median_house_value  20640 non-null  int64  \n",
      "dtypes: float64(4), int64(5), object(1)\n",
      "memory usage: 1.6+ MB\n"
     ]
    }
   ],
   "source": [
    "housedata.info()   # viewing basic info about the dataset"
   ]
  },
  {
   "cell_type": "code",
   "execution_count": 5,
   "id": "successful-walnut",
   "metadata": {},
   "outputs": [
    {
     "data": {
      "text/plain": [
       "0"
      ]
     },
     "execution_count": 5,
     "metadata": {},
     "output_type": "execute_result"
    }
   ],
   "source": [
    "housedata.duplicated().sum() # checking if the dataframe has any duplicate entries"
   ]
  },
  {
   "cell_type": "markdown",
   "id": "abroad-persian",
   "metadata": {},
   "source": [
    "### 2. Handling Missing Values"
   ]
  },
  {
   "cell_type": "code",
   "execution_count": 6,
   "id": "occupational-subscriber",
   "metadata": {},
   "outputs": [
    {
     "name": "stdout",
     "output_type": "stream",
     "text": [
      "longitude               0\n",
      "latitude                0\n",
      "housing_median_age      0\n",
      "total_rooms             0\n",
      "total_bedrooms        207\n",
      "population              0\n",
      "households              0\n",
      "median_income           0\n",
      "ocean_proximity         0\n",
      "median_house_value      0\n",
      "dtype: int64\n"
     ]
    }
   ],
   "source": [
    "# checking how many total null values we have\n",
    "nulls = housedata.isnull().sum()\n",
    "print(nulls)"
   ]
  },
  {
   "cell_type": "code",
   "execution_count": 7,
   "id": "intelligent-latex",
   "metadata": {
    "scrolled": true
   },
   "outputs": [
    {
     "data": {
      "text/plain": [
       "total_bedrooms    1.002907\n",
       "dtype: float64"
      ]
     },
     "execution_count": 7,
     "metadata": {},
     "output_type": "execute_result"
    }
   ],
   "source": [
    "# checking the percent of null values present in dataset (only null values greater then 0 will be displayd)\n",
    "\n",
    "(nulls[nulls > 0]/housedata.shape[0])*100"
   ]
  },
  {
   "cell_type": "code",
   "execution_count": 8,
   "id": "valued-personal",
   "metadata": {},
   "outputs": [
    {
     "data": {
      "text/plain": [
       "3.46"
      ]
     },
     "execution_count": 8,
     "metadata": {},
     "output_type": "execute_result"
    }
   ],
   "source": [
    "housedata['total_bedrooms'].skew().round(2) # checking the magnitude of the skewness"
   ]
  },
  {
   "cell_type": "code",
   "execution_count": 9,
   "id": "conceptual-chair",
   "metadata": {},
   "outputs": [],
   "source": [
    "# imputing missing values with median of 'total_bedrooms' column since it is highly skewed\n",
    "\n",
    "housedata['total_bedrooms'].fillna(value=housedata['total_bedrooms'].median(), inplace = True)"
   ]
  },
  {
   "cell_type": "code",
   "execution_count": 10,
   "id": "polished-asian",
   "metadata": {},
   "outputs": [
    {
     "data": {
      "text/plain": [
       "longitude             0\n",
       "latitude              0\n",
       "housing_median_age    0\n",
       "total_rooms           0\n",
       "total_bedrooms        0\n",
       "population            0\n",
       "households            0\n",
       "median_income         0\n",
       "ocean_proximity       0\n",
       "median_house_value    0\n",
       "dtype: int64"
      ]
     },
     "execution_count": 10,
     "metadata": {},
     "output_type": "execute_result"
    }
   ],
   "source": [
    "housedata.isnull().sum() # checking if all the missing values are now removed"
   ]
  },
  {
   "cell_type": "markdown",
   "id": "offensive-bracket",
   "metadata": {},
   "source": [
    "### Understanding Data and Feature Engineering"
   ]
  },
  {
   "cell_type": "code",
   "execution_count": 11,
   "id": "biological-prior",
   "metadata": {},
   "outputs": [
    {
     "data": {
      "text/html": [
       "<div>\n",
       "<style scoped>\n",
       "    .dataframe tbody tr th:only-of-type {\n",
       "        vertical-align: middle;\n",
       "    }\n",
       "\n",
       "    .dataframe tbody tr th {\n",
       "        vertical-align: top;\n",
       "    }\n",
       "\n",
       "    .dataframe thead th {\n",
       "        text-align: right;\n",
       "    }\n",
       "</style>\n",
       "<table border=\"1\" class=\"dataframe\">\n",
       "  <thead>\n",
       "    <tr style=\"text-align: right;\">\n",
       "      <th></th>\n",
       "      <th>longitude</th>\n",
       "      <th>latitude</th>\n",
       "      <th>housing_median_age</th>\n",
       "      <th>total_rooms</th>\n",
       "      <th>total_bedrooms</th>\n",
       "      <th>population</th>\n",
       "      <th>households</th>\n",
       "      <th>median_income</th>\n",
       "      <th>median_house_value</th>\n",
       "    </tr>\n",
       "  </thead>\n",
       "  <tbody>\n",
       "    <tr>\n",
       "      <th>count</th>\n",
       "      <td>20640.00</td>\n",
       "      <td>20640.00</td>\n",
       "      <td>20640.00</td>\n",
       "      <td>20640.00</td>\n",
       "      <td>20640.00</td>\n",
       "      <td>20640.00</td>\n",
       "      <td>20640.00</td>\n",
       "      <td>20640.00</td>\n",
       "      <td>20640.00</td>\n",
       "    </tr>\n",
       "    <tr>\n",
       "      <th>mean</th>\n",
       "      <td>-119.57</td>\n",
       "      <td>35.63</td>\n",
       "      <td>28.64</td>\n",
       "      <td>2635.76</td>\n",
       "      <td>536.84</td>\n",
       "      <td>1425.48</td>\n",
       "      <td>499.54</td>\n",
       "      <td>3.87</td>\n",
       "      <td>206855.82</td>\n",
       "    </tr>\n",
       "    <tr>\n",
       "      <th>std</th>\n",
       "      <td>2.00</td>\n",
       "      <td>2.14</td>\n",
       "      <td>12.59</td>\n",
       "      <td>2181.62</td>\n",
       "      <td>419.39</td>\n",
       "      <td>1132.46</td>\n",
       "      <td>382.33</td>\n",
       "      <td>1.90</td>\n",
       "      <td>115395.62</td>\n",
       "    </tr>\n",
       "    <tr>\n",
       "      <th>min</th>\n",
       "      <td>-124.35</td>\n",
       "      <td>32.54</td>\n",
       "      <td>1.00</td>\n",
       "      <td>2.00</td>\n",
       "      <td>1.00</td>\n",
       "      <td>3.00</td>\n",
       "      <td>1.00</td>\n",
       "      <td>0.50</td>\n",
       "      <td>14999.00</td>\n",
       "    </tr>\n",
       "    <tr>\n",
       "      <th>25%</th>\n",
       "      <td>-121.80</td>\n",
       "      <td>33.93</td>\n",
       "      <td>18.00</td>\n",
       "      <td>1447.75</td>\n",
       "      <td>297.00</td>\n",
       "      <td>787.00</td>\n",
       "      <td>280.00</td>\n",
       "      <td>2.56</td>\n",
       "      <td>119600.00</td>\n",
       "    </tr>\n",
       "    <tr>\n",
       "      <th>50%</th>\n",
       "      <td>-118.49</td>\n",
       "      <td>34.26</td>\n",
       "      <td>29.00</td>\n",
       "      <td>2127.00</td>\n",
       "      <td>435.00</td>\n",
       "      <td>1166.00</td>\n",
       "      <td>409.00</td>\n",
       "      <td>3.53</td>\n",
       "      <td>179700.00</td>\n",
       "    </tr>\n",
       "    <tr>\n",
       "      <th>75%</th>\n",
       "      <td>-118.01</td>\n",
       "      <td>37.71</td>\n",
       "      <td>37.00</td>\n",
       "      <td>3148.00</td>\n",
       "      <td>643.25</td>\n",
       "      <td>1725.00</td>\n",
       "      <td>605.00</td>\n",
       "      <td>4.74</td>\n",
       "      <td>264725.00</td>\n",
       "    </tr>\n",
       "    <tr>\n",
       "      <th>max</th>\n",
       "      <td>-114.31</td>\n",
       "      <td>41.95</td>\n",
       "      <td>52.00</td>\n",
       "      <td>39320.00</td>\n",
       "      <td>6445.00</td>\n",
       "      <td>35682.00</td>\n",
       "      <td>6082.00</td>\n",
       "      <td>15.00</td>\n",
       "      <td>500001.00</td>\n",
       "    </tr>\n",
       "  </tbody>\n",
       "</table>\n",
       "</div>"
      ],
      "text/plain": [
       "       longitude  latitude  housing_median_age  total_rooms  total_bedrooms  \\\n",
       "count   20640.00  20640.00            20640.00     20640.00        20640.00   \n",
       "mean     -119.57     35.63               28.64      2635.76          536.84   \n",
       "std         2.00      2.14               12.59      2181.62          419.39   \n",
       "min      -124.35     32.54                1.00         2.00            1.00   \n",
       "25%      -121.80     33.93               18.00      1447.75          297.00   \n",
       "50%      -118.49     34.26               29.00      2127.00          435.00   \n",
       "75%      -118.01     37.71               37.00      3148.00          643.25   \n",
       "max      -114.31     41.95               52.00     39320.00         6445.00   \n",
       "\n",
       "       population  households  median_income  median_house_value  \n",
       "count    20640.00    20640.00       20640.00            20640.00  \n",
       "mean      1425.48      499.54           3.87           206855.82  \n",
       "std       1132.46      382.33           1.90           115395.62  \n",
       "min          3.00        1.00           0.50            14999.00  \n",
       "25%        787.00      280.00           2.56           119600.00  \n",
       "50%       1166.00      409.00           3.53           179700.00  \n",
       "75%       1725.00      605.00           4.74           264725.00  \n",
       "max      35682.00     6082.00          15.00           500001.00  "
      ]
     },
     "execution_count": 11,
     "metadata": {},
     "output_type": "execute_result"
    }
   ],
   "source": [
    "housedata.describe().round(2) # getting basic descriptive statistics of numerical columns "
   ]
  },
  {
   "cell_type": "code",
   "execution_count": 12,
   "id": "after-armstrong",
   "metadata": {},
   "outputs": [
    {
     "data": {
      "text/plain": [
       "<1H OCEAN     9136\n",
       "INLAND        6551\n",
       "NEAR OCEAN    2658\n",
       "NEAR BAY      2290\n",
       "ISLAND           5\n",
       "Name: ocean_proximity, dtype: int64"
      ]
     },
     "execution_count": 12,
     "metadata": {},
     "output_type": "execute_result"
    }
   ],
   "source": [
    "housedata['ocean_proximity'].value_counts() # ocean_proximity is categorical column, so getting its value counts"
   ]
  },
  {
   "cell_type": "code",
   "execution_count": 13,
   "id": "basic-champagne",
   "metadata": {},
   "outputs": [
    {
     "data": {
      "text/plain": [
       "array([['population', 'total_rooms'],\n",
       "       ['total_bedrooms', 'households']], dtype='<U14')"
      ]
     },
     "execution_count": 13,
     "metadata": {},
     "output_type": "execute_result"
    }
   ],
   "source": [
    "# converting columns into array to traverse through it and plotting graph as sub-plots\n",
    "\n",
    "arr_cols = np.array(['population', 'total_rooms', 'total_bedrooms', 'households']).reshape(2,2)\n",
    "arr_cols"
   ]
  },
  {
   "cell_type": "code",
   "execution_count": 14,
   "id": "intense-candy",
   "metadata": {
    "scrolled": false
   },
   "outputs": [
    {
     "data": {
      "image/png": "[encoded data removed]",
      "text/plain": [
       "<Figure size 1296x1080 with 4 Axes>"
      ]
     },
     "metadata": {
      "needs_background": "light"
     },
     "output_type": "display_data"
    }
   ],
   "source": [
    "# plotting KDE plot to view how the data is distributed\n",
    "\n",
    "fig, axes = plt.subplots(2, 2, figsize=(18, 15))\n",
    "\n",
    "for i in range(2):\n",
    "    for j in range(2):\n",
    "            sns.kdeplot(ax=axes[i, j], data = housedata, x = arr_cols[i,j])\n"
   ]
  },
  {
   "cell_type": "code",
   "execution_count": 15,
   "id": "amino-bruce",
   "metadata": {},
   "outputs": [
    {
     "data": {
      "text/plain": [
       "array([['housing_median_age', 'median_income'],\n",
       "       ['median_house_value', 'ocean_proximity']], dtype='<U18')"
      ]
     },
     "execution_count": 15,
     "metadata": {},
     "output_type": "execute_result"
    }
   ],
   "source": [
    "# converting columns into array to traverse through it and plotting graph as sub-plots\n",
    "\n",
    "arr_cols_2 = np.array(['housing_median_age', 'median_income', 'median_house_value', 'ocean_proximity']).reshape(2,2)\n",
    "arr_cols_2"
   ]
  },
  {
   "cell_type": "code",
   "execution_count": 16,
   "id": "infinite-setting",
   "metadata": {},
   "outputs": [
    {
     "data": {
      "image/png": "[encoded data removed]",
      "text/plain": [
       "<Figure size 1296x1080 with 4 Axes>"
      ]
     },
     "metadata": {
      "needs_background": "light"
     },
     "output_type": "display_data"
    }
   ],
   "source": [
    "# KDE plots for all columns except the categorical column for which we have plotted Bar-plot\n",
    "\n",
    "fig, axes = plt.subplots(2, 2, figsize=(18, 15))\n",
    "\n",
    "for i in range(2):\n",
    "    for j in range(2):\n",
    "        if(i == 1 & j == 1):\n",
    "            sns.countplot(ax=axes[i, j], data = housedata, x = arr_cols_2[i,j])\n",
    "        else:\n",
    "            sns.kdeplot(ax=axes[i, j], data = housedata, x = arr_cols_2[i,j])\n"
   ]
  },
  {
   "cell_type": "code",
   "execution_count": 17,
   "id": "operating-wisdom",
   "metadata": {},
   "outputs": [],
   "source": [
    "# below is the function which take latitude and longitue as input and returns city, state and country as output\n",
    "# this function is made with an objective to extract information out of latitude and longitude columns present in the data\n",
    "\n",
    "from geopy.geocoders import Nominatim\n",
    "\n",
    "def get_city(lat, long):\n",
    "    \n",
    "    if (type(lat) != str) | (type(long) != str):\n",
    "        lat = str(lat)\n",
    "        long = str(long)\n",
    "    \n",
    "    geolocator = Nominatim(user_agent=\"geoapiExercises\")\n",
    "    location = geolocator.reverse(lat+\",\"+long)\n",
    "    address = location.raw['address']\n",
    "    city = address.get('city', '')\n",
    "    state = address.get('state', '')\n",
    "    country = address.get('country', '')\n",
    "    return city, state, country"
   ]
  },
  {
   "cell_type": "code",
   "execution_count": 18,
   "id": "irish-practice",
   "metadata": {},
   "outputs": [],
   "source": [
    "# below is the function which take latitude and longitue as input and returns city, state and country as output\n",
    "# this function is adjusted to make api calls with pauses to accomodate the limitations of 1 request per second\n",
    "\n",
    "from geopy.geocoders import Nominatim\n",
    "from random import randint\n",
    "from time import sleep\n",
    "def get_city_2(lat, long):\n",
    "    sleep_sec = 1\n",
    "    if (type(lat) != str) | (type(long) != str):\n",
    "        lat = str(lat)\n",
    "        long = str(long)\n",
    "    sleep(randint(1*100,sleep_sec*100)/100)\n",
    "    user_agent = 'user_me_{}'.format(randint(10000,99999))\n",
    "    geolocator = Nominatim(user_agent=user_agent)\n",
    "    location = geolocator.reverse(lat+\",\"+long)\n",
    "    address = location.raw['address']\n",
    "    city = address.get('city', '')\n",
    "    state = address.get('state', '')\n",
    "    country = address.get('country', '')\n",
    "    return city, state, country"
   ]
  },
  {
   "cell_type": "code",
   "execution_count": 19,
   "id": "attempted-geography",
   "metadata": {
    "scrolled": false
   },
   "outputs": [
    {
     "data": {
      "text/plain": [
       "('', 'California', 'United States')"
      ]
     },
     "execution_count": 19,
     "metadata": {},
     "output_type": "execute_result"
    }
   ],
   "source": [
    "get_city(37.86, -122.22) # testing of the get_city() function"
   ]
  },
  {
   "cell_type": "code",
   "execution_count": 20,
   "id": "sealed-silence",
   "metadata": {},
   "outputs": [
    {
     "data": {
      "text/html": [
       "<div>\n",
       "<style scoped>\n",
       "    .dataframe tbody tr th:only-of-type {\n",
       "        vertical-align: middle;\n",
       "    }\n",
       "\n",
       "    .dataframe tbody tr th {\n",
       "        vertical-align: top;\n",
       "    }\n",
       "\n",
       "    .dataframe thead th {\n",
       "        text-align: right;\n",
       "    }\n",
       "</style>\n",
       "<table border=\"1\" class=\"dataframe\">\n",
       "  <thead>\n",
       "    <tr style=\"text-align: right;\">\n",
       "      <th></th>\n",
       "      <th>latitude</th>\n",
       "      <th>longitude</th>\n",
       "      <th>Lat-Long-to-Info</th>\n",
       "    </tr>\n",
       "  </thead>\n",
       "  <tbody>\n",
       "    <tr>\n",
       "      <th>0</th>\n",
       "      <td>37.88</td>\n",
       "      <td>-122.23</td>\n",
       "      <td>(Oakland, California, United States)</td>\n",
       "    </tr>\n",
       "    <tr>\n",
       "      <th>1</th>\n",
       "      <td>37.86</td>\n",
       "      <td>-122.22</td>\n",
       "      <td>(, California, United States)</td>\n",
       "    </tr>\n",
       "    <tr>\n",
       "      <th>2</th>\n",
       "      <td>37.85</td>\n",
       "      <td>-122.24</td>\n",
       "      <td>(Oakland, California, United States)</td>\n",
       "    </tr>\n",
       "    <tr>\n",
       "      <th>3</th>\n",
       "      <td>37.85</td>\n",
       "      <td>-122.25</td>\n",
       "      <td>(Oakland, California, United States)</td>\n",
       "    </tr>\n",
       "    <tr>\n",
       "      <th>4</th>\n",
       "      <td>37.85</td>\n",
       "      <td>-122.25</td>\n",
       "      <td>(Oakland, California, United States)</td>\n",
       "    </tr>\n",
       "  </tbody>\n",
       "</table>\n",
       "</div>"
      ],
      "text/plain": [
       "   latitude  longitude                      Lat-Long-to-Info\n",
       "0     37.88    -122.23  (Oakland, California, United States)\n",
       "1     37.86    -122.22         (, California, United States)\n",
       "2     37.85    -122.24  (Oakland, California, United States)\n",
       "3     37.85    -122.25  (Oakland, California, United States)\n",
       "4     37.85    -122.25  (Oakland, California, United States)"
      ]
     },
     "execution_count": 20,
     "metadata": {},
     "output_type": "execute_result"
    }
   ],
   "source": [
    "# testing the code with few values of latitude and longitude\n",
    "\n",
    "temp = housedata[[\"latitude\", \"longitude\"]].head()\n",
    "temp['Lat-Long-to-Info'] = temp.apply(lambda row: get_city(row['latitude'], row['longitude']), axis = 1)\n",
    "temp"
   ]
  },
  {
   "cell_type": "code",
   "execution_count": 21,
   "id": "protecting-highlight",
   "metadata": {},
   "outputs": [
    {
     "data": {
      "text/html": [
       "<div>\n",
       "<style scoped>\n",
       "    .dataframe tbody tr th:only-of-type {\n",
       "        vertical-align: middle;\n",
       "    }\n",
       "\n",
       "    .dataframe tbody tr th {\n",
       "        vertical-align: top;\n",
       "    }\n",
       "\n",
       "    .dataframe thead th {\n",
       "        text-align: right;\n",
       "    }\n",
       "</style>\n",
       "<table border=\"1\" class=\"dataframe\">\n",
       "  <thead>\n",
       "    <tr style=\"text-align: right;\">\n",
       "      <th></th>\n",
       "      <th>latitude</th>\n",
       "      <th>longitude</th>\n",
       "      <th>city</th>\n",
       "      <th>state</th>\n",
       "      <th>country</th>\n",
       "    </tr>\n",
       "  </thead>\n",
       "  <tbody>\n",
       "    <tr>\n",
       "      <th>0</th>\n",
       "      <td>37.88</td>\n",
       "      <td>-122.23</td>\n",
       "      <td>Oakland</td>\n",
       "      <td>California</td>\n",
       "      <td>United States</td>\n",
       "    </tr>\n",
       "    <tr>\n",
       "      <th>1</th>\n",
       "      <td>37.86</td>\n",
       "      <td>-122.22</td>\n",
       "      <td></td>\n",
       "      <td>California</td>\n",
       "      <td>United States</td>\n",
       "    </tr>\n",
       "    <tr>\n",
       "      <th>2</th>\n",
       "      <td>37.85</td>\n",
       "      <td>-122.24</td>\n",
       "      <td>Oakland</td>\n",
       "      <td>California</td>\n",
       "      <td>United States</td>\n",
       "    </tr>\n",
       "    <tr>\n",
       "      <th>3</th>\n",
       "      <td>37.85</td>\n",
       "      <td>-122.25</td>\n",
       "      <td>Oakland</td>\n",
       "      <td>California</td>\n",
       "      <td>United States</td>\n",
       "    </tr>\n",
       "    <tr>\n",
       "      <th>4</th>\n",
       "      <td>37.85</td>\n",
       "      <td>-122.25</td>\n",
       "      <td>Oakland</td>\n",
       "      <td>California</td>\n",
       "      <td>United States</td>\n",
       "    </tr>\n",
       "  </tbody>\n",
       "</table>\n",
       "</div>"
      ],
      "text/plain": [
       "   latitude  longitude     city       state        country\n",
       "0     37.88    -122.23  Oakland  California  United States\n",
       "1     37.86    -122.22           California  United States\n",
       "2     37.85    -122.24  Oakland  California  United States\n",
       "3     37.85    -122.25  Oakland  California  United States\n",
       "4     37.85    -122.25  Oakland  California  United States"
      ]
     },
     "execution_count": 21,
     "metadata": {},
     "output_type": "execute_result"
    }
   ],
   "source": [
    "# splitting up the 'Lat-Long-to-Info' column into individual columns\n",
    "\n",
    "new_col_list = ['city','state','country']\n",
    "for n,col in enumerate(new_col_list):\n",
    "    temp[col] = temp['Lat-Long-to-Info'].apply(lambda location: location[n])\n",
    "\n",
    "temp = temp.drop('Lat-Long-to-Info',axis=1)\n",
    "temp"
   ]
  },
  {
   "cell_type": "code",
   "execution_count": 22,
   "id": "thousand-remainder",
   "metadata": {},
   "outputs": [
    {
     "data": {
      "text/html": [
       "<div>\n",
       "<style scoped>\n",
       "    .dataframe tbody tr th:only-of-type {\n",
       "        vertical-align: middle;\n",
       "    }\n",
       "\n",
       "    .dataframe tbody tr th {\n",
       "        vertical-align: top;\n",
       "    }\n",
       "\n",
       "    .dataframe thead th {\n",
       "        text-align: right;\n",
       "    }\n",
       "</style>\n",
       "<table border=\"1\" class=\"dataframe\">\n",
       "  <thead>\n",
       "    <tr style=\"text-align: right;\">\n",
       "      <th></th>\n",
       "      <th>latitude</th>\n",
       "      <th>longitude</th>\n",
       "    </tr>\n",
       "  </thead>\n",
       "  <tbody>\n",
       "    <tr>\n",
       "      <th>0</th>\n",
       "      <td>37.88</td>\n",
       "      <td>-122.23</td>\n",
       "    </tr>\n",
       "    <tr>\n",
       "      <th>1</th>\n",
       "      <td>37.86</td>\n",
       "      <td>-122.22</td>\n",
       "    </tr>\n",
       "    <tr>\n",
       "      <th>2</th>\n",
       "      <td>37.85</td>\n",
       "      <td>-122.24</td>\n",
       "    </tr>\n",
       "    <tr>\n",
       "      <th>3</th>\n",
       "      <td>37.85</td>\n",
       "      <td>-122.25</td>\n",
       "    </tr>\n",
       "    <tr>\n",
       "      <th>6</th>\n",
       "      <td>37.84</td>\n",
       "      <td>-122.25</td>\n",
       "    </tr>\n",
       "    <tr>\n",
       "      <th>8</th>\n",
       "      <td>37.84</td>\n",
       "      <td>-122.26</td>\n",
       "    </tr>\n",
       "    <tr>\n",
       "      <th>10</th>\n",
       "      <td>37.85</td>\n",
       "      <td>-122.26</td>\n",
       "    </tr>\n",
       "    <tr>\n",
       "      <th>16</th>\n",
       "      <td>37.85</td>\n",
       "      <td>-122.27</td>\n",
       "    </tr>\n",
       "    <tr>\n",
       "      <th>19</th>\n",
       "      <td>37.84</td>\n",
       "      <td>-122.27</td>\n",
       "    </tr>\n",
       "    <tr>\n",
       "      <th>25</th>\n",
       "      <td>37.85</td>\n",
       "      <td>-122.28</td>\n",
       "    </tr>\n",
       "  </tbody>\n",
       "</table>\n",
       "</div>"
      ],
      "text/plain": [
       "    latitude  longitude\n",
       "0      37.88    -122.23\n",
       "1      37.86    -122.22\n",
       "2      37.85    -122.24\n",
       "3      37.85    -122.25\n",
       "6      37.84    -122.25\n",
       "8      37.84    -122.26\n",
       "10     37.85    -122.26\n",
       "16     37.85    -122.27\n",
       "19     37.84    -122.27\n",
       "25     37.85    -122.28"
      ]
     },
     "execution_count": 22,
     "metadata": {},
     "output_type": "execute_result"
    }
   ],
   "source": [
    "housedata[[\"latitude\", \"longitude\"]].drop_duplicates().head(10)  # This is a test sample to check if get_city_2() works"
   ]
  },
  {
   "cell_type": "code",
   "execution_count": 23,
   "id": "integrated-calvin",
   "metadata": {
    "scrolled": false
   },
   "outputs": [],
   "source": [
    "# This peice of code would pass unique values of latitude and longitudes to get_city_2() function and \n",
    "# would fetch respective city, state and country \n",
    "\n",
    "housedata_unique_lat_long = housedata[[\"latitude\", \"longitude\"]].drop_duplicates().head(10)\n",
    "scraped_data = housedata_unique_lat_long.apply(lambda row: get_city_2(row['latitude'], row['longitude']), \n",
    "                                                                   axis = 1)"
   ]
  },
  {
   "cell_type": "code",
   "execution_count": 24,
   "id": "otherwise-finance",
   "metadata": {},
   "outputs": [
    {
     "data": {
      "text/plain": [
       "0      (Oakland, California, United States)\n",
       "1             (, California, United States)\n",
       "2      (Oakland, California, United States)\n",
       "3      (Oakland, California, United States)\n",
       "6      (Oakland, California, United States)\n",
       "8      (Oakland, California, United States)\n",
       "10     (Oakland, California, United States)\n",
       "16    (Berkeley, California, United States)\n",
       "19     (Oakland, California, United States)\n",
       "25    (Berkeley, California, United States)\n",
       "dtype: object"
      ]
     },
     "execution_count": 24,
     "metadata": {},
     "output_type": "execute_result"
    }
   ],
   "source": [
    "scraped_data"
   ]
  },
  {
   "cell_type": "markdown",
   "id": "specified-realtor",
   "metadata": {},
   "source": [
    "Since we have limitations of fetching location from coordinates, a better approch is to cluster the given coordinates and based \n",
    "on that we can put them in groups. This way, we will get rid of two features (latitude and longitue), and instead will have a \n",
    "single feature (cluster or group in which given latitude and longitude belongs to)"
   ]
  },
  {
   "cell_type": "code",
   "execution_count": 25,
   "id": "pharmaceutical-comfort",
   "metadata": {},
   "outputs": [
    {
     "data": {
      "text/html": [
       "<div>\n",
       "<style scoped>\n",
       "    .dataframe tbody tr th:only-of-type {\n",
       "        vertical-align: middle;\n",
       "    }\n",
       "\n",
       "    .dataframe tbody tr th {\n",
       "        vertical-align: top;\n",
       "    }\n",
       "\n",
       "    .dataframe thead th {\n",
       "        text-align: right;\n",
       "    }\n",
       "</style>\n",
       "<table border=\"1\" class=\"dataframe\">\n",
       "  <thead>\n",
       "    <tr style=\"text-align: right;\">\n",
       "      <th></th>\n",
       "      <th>longitude</th>\n",
       "      <th>latitude</th>\n",
       "      <th>housing_median_age</th>\n",
       "      <th>total_rooms</th>\n",
       "      <th>total_bedrooms</th>\n",
       "      <th>population</th>\n",
       "      <th>households</th>\n",
       "      <th>median_income</th>\n",
       "      <th>ocean_proximity</th>\n",
       "      <th>median_house_value</th>\n",
       "    </tr>\n",
       "  </thead>\n",
       "  <tbody>\n",
       "    <tr>\n",
       "      <th>0</th>\n",
       "      <td>-122.23</td>\n",
       "      <td>37.88</td>\n",
       "      <td>41</td>\n",
       "      <td>880</td>\n",
       "      <td>129.0</td>\n",
       "      <td>322</td>\n",
       "      <td>126</td>\n",
       "      <td>8.3252</td>\n",
       "      <td>NEAR BAY</td>\n",
       "      <td>452600</td>\n",
       "    </tr>\n",
       "    <tr>\n",
       "      <th>1</th>\n",
       "      <td>-122.22</td>\n",
       "      <td>37.86</td>\n",
       "      <td>21</td>\n",
       "      <td>7099</td>\n",
       "      <td>1106.0</td>\n",
       "      <td>2401</td>\n",
       "      <td>1138</td>\n",
       "      <td>8.3014</td>\n",
       "      <td>NEAR BAY</td>\n",
       "      <td>358500</td>\n",
       "    </tr>\n",
       "    <tr>\n",
       "      <th>2</th>\n",
       "      <td>-122.24</td>\n",
       "      <td>37.85</td>\n",
       "      <td>52</td>\n",
       "      <td>1467</td>\n",
       "      <td>190.0</td>\n",
       "      <td>496</td>\n",
       "      <td>177</td>\n",
       "      <td>7.2574</td>\n",
       "      <td>NEAR BAY</td>\n",
       "      <td>352100</td>\n",
       "    </tr>\n",
       "    <tr>\n",
       "      <th>3</th>\n",
       "      <td>-122.25</td>\n",
       "      <td>37.85</td>\n",
       "      <td>52</td>\n",
       "      <td>1274</td>\n",
       "      <td>235.0</td>\n",
       "      <td>558</td>\n",
       "      <td>219</td>\n",
       "      <td>5.6431</td>\n",
       "      <td>NEAR BAY</td>\n",
       "      <td>341300</td>\n",
       "    </tr>\n",
       "    <tr>\n",
       "      <th>4</th>\n",
       "      <td>-122.25</td>\n",
       "      <td>37.85</td>\n",
       "      <td>52</td>\n",
       "      <td>1627</td>\n",
       "      <td>280.0</td>\n",
       "      <td>565</td>\n",
       "      <td>259</td>\n",
       "      <td>3.8462</td>\n",
       "      <td>NEAR BAY</td>\n",
       "      <td>342200</td>\n",
       "    </tr>\n",
       "  </tbody>\n",
       "</table>\n",
       "</div>"
      ],
      "text/plain": [
       "   longitude  latitude  housing_median_age  total_rooms  total_bedrooms  \\\n",
       "0    -122.23     37.88                  41          880           129.0   \n",
       "1    -122.22     37.86                  21         7099          1106.0   \n",
       "2    -122.24     37.85                  52         1467           190.0   \n",
       "3    -122.25     37.85                  52         1274           235.0   \n",
       "4    -122.25     37.85                  52         1627           280.0   \n",
       "\n",
       "   population  households  median_income ocean_proximity  median_house_value  \n",
       "0         322         126         8.3252        NEAR BAY              452600  \n",
       "1        2401        1138         8.3014        NEAR BAY              358500  \n",
       "2         496         177         7.2574        NEAR BAY              352100  \n",
       "3         558         219         5.6431        NEAR BAY              341300  \n",
       "4         565         259         3.8462        NEAR BAY              342200  "
      ]
     },
     "execution_count": 25,
     "metadata": {},
     "output_type": "execute_result"
    }
   ],
   "source": [
    "housedata.head()"
   ]
  },
  {
   "cell_type": "code",
   "execution_count": 26,
   "id": "distinguished-narrative",
   "metadata": {},
   "outputs": [],
   "source": [
    "lat_long_data = housedata[[\"latitude\", \"longitude\"]] # extracting only latitude and longitude"
   ]
  },
  {
   "cell_type": "code",
   "execution_count": 27,
   "id": "interpreted-controversy",
   "metadata": {},
   "outputs": [],
   "source": [
    "# fitting K-Means clustering algorithm for multiple K values and storing the metric 'sum of squared distances'\n",
    "\n",
    "sum_of_squared_distances = []\n",
    "k_values = range(2,20)\n",
    "\n",
    "for k in k_values:\n",
    "    kmeans_model = KMeans(n_clusters=k)\n",
    "    kmeans_model.fit(lat_long_data)\n",
    "    sum_of_squared_distances.append(kmeans_model.inertia_)"
   ]
  },
  {
   "cell_type": "code",
   "execution_count": 28,
   "id": "surrounded-adolescent",
   "metadata": {},
   "outputs": [
    {
     "data": {
      "image/png": "[encoded data removed]",
      "text/plain": [
       "<Figure size 1008x720 with 1 Axes>"
      ]
     },
     "metadata": {},
     "output_type": "display_data"
    }
   ],
   "source": [
    "# plotting the k values versus the 'sum of squared distances'\n",
    "\n",
    "sns.set_style('darkgrid')\n",
    "\n",
    "plt.figure(figsize=(14,10))\n",
    "plt.plot(k_values,sum_of_squared_distances, color='blue', linestyle='dashed', marker='o',\n",
    "         markerfacecolor='red', markersize=10)\n",
    "plt.title('Sum_of_squared_distances vs. K Value')\n",
    "plt.xticks(range(2,20))\n",
    "plt.xlabel('K-Values')\n",
    "plt.ylabel('Sum_of_squared_distances');"
   ]
  },
  {
   "cell_type": "markdown",
   "id": "grand-exercise",
   "metadata": {},
   "source": [
    "From the above graph, we see that the elbow point is somewhere between 5 to 7. Hence, we will select k = 6 for our analysis"
   ]
  },
  {
   "cell_type": "code",
   "execution_count": 29,
   "id": "unavailable-principal",
   "metadata": {},
   "outputs": [
    {
     "data": {
      "text/plain": [
       "KMeans(n_clusters=6)"
      ]
     },
     "execution_count": 29,
     "metadata": {},
     "output_type": "execute_result"
    }
   ],
   "source": [
    "# Fitting the data with k = 6\n",
    "\n",
    "kmeans_model = KMeans(n_clusters=6)\n",
    "kmeans_model.fit(lat_long_data)"
   ]
  },
  {
   "cell_type": "code",
   "execution_count": 30,
   "id": "detected-thriller",
   "metadata": {},
   "outputs": [
    {
     "data": {
      "text/plain": [
       "array([[  40.17953556, -122.75143687],\n",
       "       [  34.01332397, -118.11814873],\n",
       "       [  38.39667957, -121.13467957],\n",
       "       [  37.66910899, -122.17297969],\n",
       "       [  35.95939794, -119.68459289],\n",
       "       [  33.05233055, -116.93609099]])"
      ]
     },
     "execution_count": 30,
     "metadata": {},
     "output_type": "execute_result"
    }
   ],
   "source": [
    "# Printing out cluster centers, just in case if required\n",
    "\n",
    "kmeans_model.cluster_centers_"
   ]
  },
  {
   "cell_type": "code",
   "execution_count": 31,
   "id": "differential-style",
   "metadata": {},
   "outputs": [
    {
     "data": {
      "text/plain": [
       "array([3, 3, 3, ..., 2, 2, 2])"
      ]
     },
     "execution_count": 31,
     "metadata": {},
     "output_type": "execute_result"
    }
   ],
   "source": [
    "# model labels can be accessed using .labels_ attribute\n",
    "\n",
    "kmeans_model.labels_"
   ]
  },
  {
   "cell_type": "code",
   "execution_count": 32,
   "id": "neither-spouse",
   "metadata": {},
   "outputs": [
    {
     "data": {
      "text/plain": [
       "(20640, 2)"
      ]
     },
     "execution_count": 32,
     "metadata": {},
     "output_type": "execute_result"
    }
   ],
   "source": [
    "lat_long_data.shape # checking shape of data we used in clustering (having latitude and longitude)"
   ]
  },
  {
   "cell_type": "code",
   "execution_count": 33,
   "id": "manufactured-scientist",
   "metadata": {},
   "outputs": [
    {
     "data": {
      "text/plain": [
       "(20640, 1)"
      ]
     },
     "execution_count": 33,
     "metadata": {},
     "output_type": "execute_result"
    }
   ],
   "source": [
    "# creating respective clusters using the KMeans model built\n",
    "\n",
    "clusters = pd.DataFrame(kmeans_model.labels_, columns=['lat_long_cluster'])\n",
    "clusters.shape"
   ]
  },
  {
   "cell_type": "markdown",
   "id": "quiet-missouri",
   "metadata": {},
   "source": [
    "Below are the ways with which we can combine the data frame \n",
    "\n",
    "- pd.concat([lat_long_data, clusters], axis=1)\n",
    "- lat_long_data = lat_long_data.join(clusters)\n",
    "- pd.merge(housedata, clusters, left_index=True, right_index=True)"
   ]
  },
  {
   "cell_type": "code",
   "execution_count": 34,
   "id": "sound-plastic",
   "metadata": {},
   "outputs": [],
   "source": [
    "# Here I have used merge function to combine the clusters to main dataframe and \n",
    "\n",
    "housedata_processed = pd.merge(housedata, clusters, left_index=True, right_index=True) \n",
    "\n",
    "# left_index and right_index is True, because we do not have anything in common except the index values in both tables"
   ]
  },
  {
   "cell_type": "code",
   "execution_count": 35,
   "id": "amino-president",
   "metadata": {},
   "outputs": [
    {
     "data": {
      "text/html": [
       "<div>\n",
       "<style scoped>\n",
       "    .dataframe tbody tr th:only-of-type {\n",
       "        vertical-align: middle;\n",
       "    }\n",
       "\n",
       "    .dataframe tbody tr th {\n",
       "        vertical-align: top;\n",
       "    }\n",
       "\n",
       "    .dataframe thead th {\n",
       "        text-align: right;\n",
       "    }\n",
       "</style>\n",
       "<table border=\"1\" class=\"dataframe\">\n",
       "  <thead>\n",
       "    <tr style=\"text-align: right;\">\n",
       "      <th></th>\n",
       "      <th>housing_median_age</th>\n",
       "      <th>total_rooms</th>\n",
       "      <th>total_bedrooms</th>\n",
       "      <th>population</th>\n",
       "      <th>households</th>\n",
       "      <th>median_income</th>\n",
       "      <th>ocean_proximity</th>\n",
       "      <th>median_house_value</th>\n",
       "      <th>lat_long_cluster</th>\n",
       "    </tr>\n",
       "  </thead>\n",
       "  <tbody>\n",
       "    <tr>\n",
       "      <th>0</th>\n",
       "      <td>41</td>\n",
       "      <td>880</td>\n",
       "      <td>129.0</td>\n",
       "      <td>322</td>\n",
       "      <td>126</td>\n",
       "      <td>8.3252</td>\n",
       "      <td>NEAR BAY</td>\n",
       "      <td>452600</td>\n",
       "      <td>3</td>\n",
       "    </tr>\n",
       "    <tr>\n",
       "      <th>1</th>\n",
       "      <td>21</td>\n",
       "      <td>7099</td>\n",
       "      <td>1106.0</td>\n",
       "      <td>2401</td>\n",
       "      <td>1138</td>\n",
       "      <td>8.3014</td>\n",
       "      <td>NEAR BAY</td>\n",
       "      <td>358500</td>\n",
       "      <td>3</td>\n",
       "    </tr>\n",
       "    <tr>\n",
       "      <th>2</th>\n",
       "      <td>52</td>\n",
       "      <td>1467</td>\n",
       "      <td>190.0</td>\n",
       "      <td>496</td>\n",
       "      <td>177</td>\n",
       "      <td>7.2574</td>\n",
       "      <td>NEAR BAY</td>\n",
       "      <td>352100</td>\n",
       "      <td>3</td>\n",
       "    </tr>\n",
       "    <tr>\n",
       "      <th>3</th>\n",
       "      <td>52</td>\n",
       "      <td>1274</td>\n",
       "      <td>235.0</td>\n",
       "      <td>558</td>\n",
       "      <td>219</td>\n",
       "      <td>5.6431</td>\n",
       "      <td>NEAR BAY</td>\n",
       "      <td>341300</td>\n",
       "      <td>3</td>\n",
       "    </tr>\n",
       "    <tr>\n",
       "      <th>4</th>\n",
       "      <td>52</td>\n",
       "      <td>1627</td>\n",
       "      <td>280.0</td>\n",
       "      <td>565</td>\n",
       "      <td>259</td>\n",
       "      <td>3.8462</td>\n",
       "      <td>NEAR BAY</td>\n",
       "      <td>342200</td>\n",
       "      <td>3</td>\n",
       "    </tr>\n",
       "  </tbody>\n",
       "</table>\n",
       "</div>"
      ],
      "text/plain": [
       "   housing_median_age  total_rooms  total_bedrooms  population  households  \\\n",
       "0                  41          880           129.0         322         126   \n",
       "1                  21         7099          1106.0        2401        1138   \n",
       "2                  52         1467           190.0         496         177   \n",
       "3                  52         1274           235.0         558         219   \n",
       "4                  52         1627           280.0         565         259   \n",
       "\n",
       "   median_income ocean_proximity  median_house_value  lat_long_cluster  \n",
       "0         8.3252        NEAR BAY              452600                 3  \n",
       "1         8.3014        NEAR BAY              358500                 3  \n",
       "2         7.2574        NEAR BAY              352100                 3  \n",
       "3         5.6431        NEAR BAY              341300                 3  \n",
       "4         3.8462        NEAR BAY              342200                 3  "
      ]
     },
     "execution_count": 35,
     "metadata": {},
     "output_type": "execute_result"
    }
   ],
   "source": [
    "# removed the original columns latitude and longitude\n",
    "\n",
    "housedata_processed.drop(['latitude', 'longitude'], axis=1, inplace=True)  # dropping latitude and longitude columns\n",
    "housedata_processed.head()"
   ]
  },
  {
   "cell_type": "markdown",
   "id": "suitable-alpha",
   "metadata": {},
   "source": [
    "### 3. Encoding of the Categorical variables"
   ]
  },
  {
   "cell_type": "code",
   "execution_count": 36,
   "id": "surprising-vinyl",
   "metadata": {},
   "outputs": [
    {
     "data": {
      "text/html": [
       "<div>\n",
       "<style scoped>\n",
       "    .dataframe tbody tr th:only-of-type {\n",
       "        vertical-align: middle;\n",
       "    }\n",
       "\n",
       "    .dataframe tbody tr th {\n",
       "        vertical-align: top;\n",
       "    }\n",
       "\n",
       "    .dataframe thead th {\n",
       "        text-align: right;\n",
       "    }\n",
       "</style>\n",
       "<table border=\"1\" class=\"dataframe\">\n",
       "  <thead>\n",
       "    <tr style=\"text-align: right;\">\n",
       "      <th></th>\n",
       "      <th>&lt;1H OCEAN</th>\n",
       "      <th>INLAND</th>\n",
       "      <th>ISLAND</th>\n",
       "      <th>NEAR BAY</th>\n",
       "      <th>NEAR OCEAN</th>\n",
       "    </tr>\n",
       "  </thead>\n",
       "  <tbody>\n",
       "    <tr>\n",
       "      <th>0</th>\n",
       "      <td>0</td>\n",
       "      <td>0</td>\n",
       "      <td>0</td>\n",
       "      <td>1</td>\n",
       "      <td>0</td>\n",
       "    </tr>\n",
       "    <tr>\n",
       "      <th>1</th>\n",
       "      <td>0</td>\n",
       "      <td>0</td>\n",
       "      <td>0</td>\n",
       "      <td>1</td>\n",
       "      <td>0</td>\n",
       "    </tr>\n",
       "    <tr>\n",
       "      <th>2</th>\n",
       "      <td>0</td>\n",
       "      <td>0</td>\n",
       "      <td>0</td>\n",
       "      <td>1</td>\n",
       "      <td>0</td>\n",
       "    </tr>\n",
       "    <tr>\n",
       "      <th>3</th>\n",
       "      <td>0</td>\n",
       "      <td>0</td>\n",
       "      <td>0</td>\n",
       "      <td>1</td>\n",
       "      <td>0</td>\n",
       "    </tr>\n",
       "    <tr>\n",
       "      <th>4</th>\n",
       "      <td>0</td>\n",
       "      <td>0</td>\n",
       "      <td>0</td>\n",
       "      <td>1</td>\n",
       "      <td>0</td>\n",
       "    </tr>\n",
       "    <tr>\n",
       "      <th>...</th>\n",
       "      <td>...</td>\n",
       "      <td>...</td>\n",
       "      <td>...</td>\n",
       "      <td>...</td>\n",
       "      <td>...</td>\n",
       "    </tr>\n",
       "    <tr>\n",
       "      <th>20635</th>\n",
       "      <td>0</td>\n",
       "      <td>1</td>\n",
       "      <td>0</td>\n",
       "      <td>0</td>\n",
       "      <td>0</td>\n",
       "    </tr>\n",
       "    <tr>\n",
       "      <th>20636</th>\n",
       "      <td>0</td>\n",
       "      <td>1</td>\n",
       "      <td>0</td>\n",
       "      <td>0</td>\n",
       "      <td>0</td>\n",
       "    </tr>\n",
       "    <tr>\n",
       "      <th>20637</th>\n",
       "      <td>0</td>\n",
       "      <td>1</td>\n",
       "      <td>0</td>\n",
       "      <td>0</td>\n",
       "      <td>0</td>\n",
       "    </tr>\n",
       "    <tr>\n",
       "      <th>20638</th>\n",
       "      <td>0</td>\n",
       "      <td>1</td>\n",
       "      <td>0</td>\n",
       "      <td>0</td>\n",
       "      <td>0</td>\n",
       "    </tr>\n",
       "    <tr>\n",
       "      <th>20639</th>\n",
       "      <td>0</td>\n",
       "      <td>1</td>\n",
       "      <td>0</td>\n",
       "      <td>0</td>\n",
       "      <td>0</td>\n",
       "    </tr>\n",
       "  </tbody>\n",
       "</table>\n",
       "<p>20640 rows × 5 columns</p>\n",
       "</div>"
      ],
      "text/plain": [
       "       <1H OCEAN  INLAND  ISLAND  NEAR BAY  NEAR OCEAN\n",
       "0              0       0       0         1           0\n",
       "1              0       0       0         1           0\n",
       "2              0       0       0         1           0\n",
       "3              0       0       0         1           0\n",
       "4              0       0       0         1           0\n",
       "...          ...     ...     ...       ...         ...\n",
       "20635          0       1       0         0           0\n",
       "20636          0       1       0         0           0\n",
       "20637          0       1       0         0           0\n",
       "20638          0       1       0         0           0\n",
       "20639          0       1       0         0           0\n",
       "\n",
       "[20640 rows x 5 columns]"
      ]
     },
     "execution_count": 36,
     "metadata": {},
     "output_type": "execute_result"
    }
   ],
   "source": [
    "encoded_ocean_proximity = pd.get_dummies(data = housedata_processed['ocean_proximity'])\n",
    "encoded_ocean_proximity"
   ]
  },
  {
   "cell_type": "code",
   "execution_count": 37,
   "id": "crude-aside",
   "metadata": {},
   "outputs": [
    {
     "data": {
      "text/html": [
       "<div>\n",
       "<style scoped>\n",
       "    .dataframe tbody tr th:only-of-type {\n",
       "        vertical-align: middle;\n",
       "    }\n",
       "\n",
       "    .dataframe tbody tr th {\n",
       "        vertical-align: top;\n",
       "    }\n",
       "\n",
       "    .dataframe thead th {\n",
       "        text-align: right;\n",
       "    }\n",
       "</style>\n",
       "<table border=\"1\" class=\"dataframe\">\n",
       "  <thead>\n",
       "    <tr style=\"text-align: right;\">\n",
       "      <th></th>\n",
       "      <th>housing_median_age</th>\n",
       "      <th>total_rooms</th>\n",
       "      <th>total_bedrooms</th>\n",
       "      <th>population</th>\n",
       "      <th>households</th>\n",
       "      <th>median_income</th>\n",
       "      <th>ocean_proximity</th>\n",
       "      <th>median_house_value</th>\n",
       "      <th>lat_long_cluster</th>\n",
       "    </tr>\n",
       "  </thead>\n",
       "  <tbody>\n",
       "    <tr>\n",
       "      <th>0</th>\n",
       "      <td>41</td>\n",
       "      <td>880</td>\n",
       "      <td>129.0</td>\n",
       "      <td>322</td>\n",
       "      <td>126</td>\n",
       "      <td>8.3252</td>\n",
       "      <td>NEAR BAY</td>\n",
       "      <td>452600</td>\n",
       "      <td>3</td>\n",
       "    </tr>\n",
       "    <tr>\n",
       "      <th>1</th>\n",
       "      <td>21</td>\n",
       "      <td>7099</td>\n",
       "      <td>1106.0</td>\n",
       "      <td>2401</td>\n",
       "      <td>1138</td>\n",
       "      <td>8.3014</td>\n",
       "      <td>NEAR BAY</td>\n",
       "      <td>358500</td>\n",
       "      <td>3</td>\n",
       "    </tr>\n",
       "    <tr>\n",
       "      <th>2</th>\n",
       "      <td>52</td>\n",
       "      <td>1467</td>\n",
       "      <td>190.0</td>\n",
       "      <td>496</td>\n",
       "      <td>177</td>\n",
       "      <td>7.2574</td>\n",
       "      <td>NEAR BAY</td>\n",
       "      <td>352100</td>\n",
       "      <td>3</td>\n",
       "    </tr>\n",
       "    <tr>\n",
       "      <th>3</th>\n",
       "      <td>52</td>\n",
       "      <td>1274</td>\n",
       "      <td>235.0</td>\n",
       "      <td>558</td>\n",
       "      <td>219</td>\n",
       "      <td>5.6431</td>\n",
       "      <td>NEAR BAY</td>\n",
       "      <td>341300</td>\n",
       "      <td>3</td>\n",
       "    </tr>\n",
       "    <tr>\n",
       "      <th>4</th>\n",
       "      <td>52</td>\n",
       "      <td>1627</td>\n",
       "      <td>280.0</td>\n",
       "      <td>565</td>\n",
       "      <td>259</td>\n",
       "      <td>3.8462</td>\n",
       "      <td>NEAR BAY</td>\n",
       "      <td>342200</td>\n",
       "      <td>3</td>\n",
       "    </tr>\n",
       "  </tbody>\n",
       "</table>\n",
       "</div>"
      ],
      "text/plain": [
       "   housing_median_age  total_rooms  total_bedrooms  population  households  \\\n",
       "0                  41          880           129.0         322         126   \n",
       "1                  21         7099          1106.0        2401        1138   \n",
       "2                  52         1467           190.0         496         177   \n",
       "3                  52         1274           235.0         558         219   \n",
       "4                  52         1627           280.0         565         259   \n",
       "\n",
       "   median_income ocean_proximity  median_house_value  lat_long_cluster  \n",
       "0         8.3252        NEAR BAY              452600                 3  \n",
       "1         8.3014        NEAR BAY              358500                 3  \n",
       "2         7.2574        NEAR BAY              352100                 3  \n",
       "3         5.6431        NEAR BAY              341300                 3  \n",
       "4         3.8462        NEAR BAY              342200                 3  "
      ]
     },
     "execution_count": 37,
     "metadata": {},
     "output_type": "execute_result"
    }
   ],
   "source": [
    "housedata_processed.head()"
   ]
  },
  {
   "cell_type": "code",
   "execution_count": 38,
   "id": "powerful-africa",
   "metadata": {},
   "outputs": [
    {
     "data": {
      "text/html": [
       "<div>\n",
       "<style scoped>\n",
       "    .dataframe tbody tr th:only-of-type {\n",
       "        vertical-align: middle;\n",
       "    }\n",
       "\n",
       "    .dataframe tbody tr th {\n",
       "        vertical-align: top;\n",
       "    }\n",
       "\n",
       "    .dataframe thead th {\n",
       "        text-align: right;\n",
       "    }\n",
       "</style>\n",
       "<table border=\"1\" class=\"dataframe\">\n",
       "  <thead>\n",
       "    <tr style=\"text-align: right;\">\n",
       "      <th></th>\n",
       "      <th>lat_long_cluster</th>\n",
       "      <th>housing_median_age</th>\n",
       "      <th>total_rooms</th>\n",
       "      <th>total_bedrooms</th>\n",
       "      <th>population</th>\n",
       "      <th>households</th>\n",
       "      <th>median_income</th>\n",
       "      <th>&lt;1H OCEAN</th>\n",
       "      <th>INLAND</th>\n",
       "      <th>ISLAND</th>\n",
       "      <th>NEAR BAY</th>\n",
       "      <th>NEAR OCEAN</th>\n",
       "      <th>median_house_value</th>\n",
       "    </tr>\n",
       "  </thead>\n",
       "  <tbody>\n",
       "    <tr>\n",
       "      <th>0</th>\n",
       "      <td>3</td>\n",
       "      <td>41</td>\n",
       "      <td>880</td>\n",
       "      <td>129.0</td>\n",
       "      <td>322</td>\n",
       "      <td>126</td>\n",
       "      <td>8.3252</td>\n",
       "      <td>0</td>\n",
       "      <td>0</td>\n",
       "      <td>0</td>\n",
       "      <td>1</td>\n",
       "      <td>0</td>\n",
       "      <td>452600</td>\n",
       "    </tr>\n",
       "    <tr>\n",
       "      <th>1</th>\n",
       "      <td>3</td>\n",
       "      <td>21</td>\n",
       "      <td>7099</td>\n",
       "      <td>1106.0</td>\n",
       "      <td>2401</td>\n",
       "      <td>1138</td>\n",
       "      <td>8.3014</td>\n",
       "      <td>0</td>\n",
       "      <td>0</td>\n",
       "      <td>0</td>\n",
       "      <td>1</td>\n",
       "      <td>0</td>\n",
       "      <td>358500</td>\n",
       "    </tr>\n",
       "    <tr>\n",
       "      <th>2</th>\n",
       "      <td>3</td>\n",
       "      <td>52</td>\n",
       "      <td>1467</td>\n",
       "      <td>190.0</td>\n",
       "      <td>496</td>\n",
       "      <td>177</td>\n",
       "      <td>7.2574</td>\n",
       "      <td>0</td>\n",
       "      <td>0</td>\n",
       "      <td>0</td>\n",
       "      <td>1</td>\n",
       "      <td>0</td>\n",
       "      <td>352100</td>\n",
       "    </tr>\n",
       "    <tr>\n",
       "      <th>3</th>\n",
       "      <td>3</td>\n",
       "      <td>52</td>\n",
       "      <td>1274</td>\n",
       "      <td>235.0</td>\n",
       "      <td>558</td>\n",
       "      <td>219</td>\n",
       "      <td>5.6431</td>\n",
       "      <td>0</td>\n",
       "      <td>0</td>\n",
       "      <td>0</td>\n",
       "      <td>1</td>\n",
       "      <td>0</td>\n",
       "      <td>341300</td>\n",
       "    </tr>\n",
       "    <tr>\n",
       "      <th>4</th>\n",
       "      <td>3</td>\n",
       "      <td>52</td>\n",
       "      <td>1627</td>\n",
       "      <td>280.0</td>\n",
       "      <td>565</td>\n",
       "      <td>259</td>\n",
       "      <td>3.8462</td>\n",
       "      <td>0</td>\n",
       "      <td>0</td>\n",
       "      <td>0</td>\n",
       "      <td>1</td>\n",
       "      <td>0</td>\n",
       "      <td>342200</td>\n",
       "    </tr>\n",
       "  </tbody>\n",
       "</table>\n",
       "</div>"
      ],
      "text/plain": [
       "   lat_long_cluster  housing_median_age  total_rooms  total_bedrooms  \\\n",
       "0                 3                  41          880           129.0   \n",
       "1                 3                  21         7099          1106.0   \n",
       "2                 3                  52         1467           190.0   \n",
       "3                 3                  52         1274           235.0   \n",
       "4                 3                  52         1627           280.0   \n",
       "\n",
       "   population  households  median_income  <1H OCEAN  INLAND  ISLAND  NEAR BAY  \\\n",
       "0         322         126         8.3252          0       0       0         1   \n",
       "1        2401        1138         8.3014          0       0       0         1   \n",
       "2         496         177         7.2574          0       0       0         1   \n",
       "3         558         219         5.6431          0       0       0         1   \n",
       "4         565         259         3.8462          0       0       0         1   \n",
       "\n",
       "   NEAR OCEAN  median_house_value  \n",
       "0           0              452600  \n",
       "1           0              358500  \n",
       "2           0              352100  \n",
       "3           0              341300  \n",
       "4           0              342200  "
      ]
     },
     "execution_count": 38,
     "metadata": {},
     "output_type": "execute_result"
    }
   ],
   "source": [
    "# I wanted to insert the categoical columns at a specific location and hence I used concat method as follows:\n",
    "\n",
    "housedata_processed = pd.concat((housedata_processed['lat_long_cluster'],\n",
    "                                 housedata_processed.iloc[:,:6],\n",
    "                                 encoded_ocean_proximity, \n",
    "                                 housedata.iloc[:,-1]), axis = 1)\n",
    "housedata_processed.head()"
   ]
  },
  {
   "cell_type": "code",
   "execution_count": 39,
   "id": "practical-barbados",
   "metadata": {},
   "outputs": [
    {
     "data": {
      "text/plain": [
       "Index(['lat_long_cluster', 'housing_median_age', 'total_rooms',\n",
       "       'total_bedrooms', 'population', 'households', 'median_income',\n",
       "       '<1H OCEAN', 'INLAND', 'ISLAND', 'NEAR BAY', 'NEAR OCEAN',\n",
       "       'median_house_value'],\n",
       "      dtype='object')"
      ]
     },
     "execution_count": 39,
     "metadata": {},
     "output_type": "execute_result"
    }
   ],
   "source": [
    "housedata_processed.columns # viewing column names"
   ]
  },
  {
   "cell_type": "markdown",
   "id": "forward-person",
   "metadata": {},
   "source": [
    "Since one of the categorical column name (<1H OCEAN) has space which will be problematic later on in ols regression model building, therefore, I am renaming this column, and as well as other categorical columns, just to maintain uniform naming convention of all columns"
   ]
  },
  {
   "cell_type": "code",
   "execution_count": 40,
   "id": "pharmaceutical-virtue",
   "metadata": {},
   "outputs": [],
   "source": [
    "housedata_processed.rename(columns = {'<1H OCEAN': 'less_1h_ocean', \n",
    "                                      'INLAND': 'inland', \n",
    "                                      'ISLAND': 'island', \n",
    "                                      'NEAR BAY':'near_bay', \n",
    "                                      'NEAR OCEAN':'near_ocean'}, inplace = True)"
   ]
  },
  {
   "cell_type": "code",
   "execution_count": 41,
   "id": "dutch-lotus",
   "metadata": {},
   "outputs": [
    {
     "data": {
      "text/plain": [
       "Index(['lat_long_cluster', 'housing_median_age', 'total_rooms',\n",
       "       'total_bedrooms', 'population', 'households', 'median_income',\n",
       "       'less_1h_ocean', 'inland', 'near_bay', 'near_ocean',\n",
       "       'median_house_value'],\n",
       "      dtype='object')"
      ]
     },
     "execution_count": 41,
     "metadata": {},
     "output_type": "execute_result"
    }
   ],
   "source": [
    "# As we have 4 categories, and we are representing them with 0 and 1, three columns are enough to serve the purpose. \n",
    "# Therefore, dropping off 'island' column\n",
    "\n",
    "housedata_processed.drop('island', axis = 1, inplace = True)\n",
    "housedata_processed.columns"
   ]
  },
  {
   "cell_type": "markdown",
   "id": "excellent-samuel",
   "metadata": {},
   "source": [
    "### Visualization, Correlation and Pre-Processing of Data"
   ]
  },
  {
   "cell_type": "code",
   "execution_count": 42,
   "id": "backed-rover",
   "metadata": {},
   "outputs": [
    {
     "data": {
      "text/plain": [
       "1    8902\n",
       "3    4826\n",
       "2    2325\n",
       "5    2154\n",
       "4    1744\n",
       "0     689\n",
       "Name: lat_long_cluster, dtype: int64"
      ]
     },
     "execution_count": 42,
     "metadata": {},
     "output_type": "execute_result"
    }
   ],
   "source": [
    "housedata_processed['lat_long_cluster'].value_counts() # checking the counts of the latitude longitude clusters  "
   ]
  },
  {
   "cell_type": "code",
   "execution_count": 43,
   "id": "extra-involvement",
   "metadata": {},
   "outputs": [
    {
     "data": {
      "text/plain": [
       "['Solarize_Light2',\n",
       " '_classic_test_patch',\n",
       " 'bmh',\n",
       " 'classic',\n",
       " 'dark_background',\n",
       " 'fast',\n",
       " 'fivethirtyeight',\n",
       " 'ggplot',\n",
       " 'grayscale',\n",
       " 'seaborn',\n",
       " 'seaborn-bright',\n",
       " 'seaborn-colorblind',\n",
       " 'seaborn-dark',\n",
       " 'seaborn-dark-palette',\n",
       " 'seaborn-darkgrid',\n",
       " 'seaborn-deep',\n",
       " 'seaborn-muted',\n",
       " 'seaborn-notebook',\n",
       " 'seaborn-paper',\n",
       " 'seaborn-pastel',\n",
       " 'seaborn-poster',\n",
       " 'seaborn-talk',\n",
       " 'seaborn-ticks',\n",
       " 'seaborn-white',\n",
       " 'seaborn-whitegrid',\n",
       " 'tableau-colorblind10']"
      ]
     },
     "execution_count": 43,
     "metadata": {},
     "output_type": "execute_result"
    }
   ],
   "source": [
    "plt.style.available"
   ]
  },
  {
   "cell_type": "code",
   "execution_count": 44,
   "id": "introductory-summit",
   "metadata": {
    "scrolled": false
   },
   "outputs": [
    {
     "data": {
      "image/png": "[encoded data removed]",
      "text/plain": [
       "<Figure size 1080x504 with 1 Axes>"
      ]
     },
     "metadata": {},
     "output_type": "display_data"
    }
   ],
   "source": [
    "# Plotting bar graph to visualize the results\n",
    "plt.style.use('seaborn-whitegrid')\n",
    "\n",
    "plt.figure(figsize=(15,7))\n",
    "sns.barplot(x = housedata_processed['lat_long_cluster'].value_counts().index, \n",
    "            y = housedata_processed['lat_long_cluster'].value_counts().values)\n",
    "plt.title(\"Number of Instances per Cluster\", fontweight=\"bold\", fontdict = {'fontsize' : 19})\n",
    "plt.xlabel(\"Cluster Label\", fontweight=\"bold\", fontdict = {'fontsize' : 15})\n",
    "plt.ylabel(\"Number of Instances\", fontweight=\"bold\", fontdict = {'fontsize' : 15});"
   ]
  },
  {
   "cell_type": "code",
   "execution_count": 45,
   "id": "geological-prophet",
   "metadata": {},
   "outputs": [
    {
     "data": {
      "text/plain": [
       "lat_long_cluster\n",
       "0      63549998\n",
       "1    2046839444\n",
       "2     292577501\n",
       "3    1269773346\n",
       "4     213879822\n",
       "5     382883950\n",
       "Name: median_house_value, dtype: int64"
      ]
     },
     "execution_count": 45,
     "metadata": {},
     "output_type": "execute_result"
    }
   ],
   "source": [
    "# Checking the distribution of sum of median_house_value prices as per the latitude-longitude-cluster\n",
    "\n",
    "cluster_wise_total_house_price = housedata_processed.groupby('lat_long_cluster').sum()['median_house_value']\n",
    "cluster_wise_total_house_price"
   ]
  },
  {
   "cell_type": "code",
   "execution_count": 46,
   "id": "pursuant-northern",
   "metadata": {},
   "outputs": [
    {
     "data": {
      "image/png": "[encoded data removed]",
      "text/plain": [
       "<Figure size 936x504 with 1 Axes>"
      ]
     },
     "metadata": {},
     "output_type": "display_data"
    }
   ],
   "source": [
    "# Plotting bar graph to visualize the results\n",
    "plt.style.use('seaborn-bright')\n",
    "\n",
    "plt.figure(figsize=(13,7))\n",
    "sns.barplot(x = cluster_wise_total_house_price.index, y = cluster_wise_total_house_price.values)\n",
    "plt.title(\"Sum of 'median_house_value' per Cluster\", fontweight=\"bold\", fontdict = {'fontsize' : 19})\n",
    "plt.xlabel(\"Cluster Label\", fontweight=\"bold\", fontdict = {'fontsize' : 15})\n",
    "plt.ylabel(\"Total Median House Value\", fontweight=\"bold\", fontdict = {'fontsize' : 15});"
   ]
  },
  {
   "cell_type": "code",
   "execution_count": 47,
   "id": "orange-dictionary",
   "metadata": {},
   "outputs": [
    {
     "data": {
      "text/plain": [
       "lat_long_cluster\n",
       "0    2.47\n",
       "1    4.09\n",
       "2    3.14\n",
       "3    4.47\n",
       "4    3.01\n",
       "5    3.57\n",
       "Name: median_income, dtype: float64"
      ]
     },
     "execution_count": 47,
     "metadata": {},
     "output_type": "execute_result"
    }
   ],
   "source": [
    "# Checking the distribution of mean of median_income prices as per the latitude-longitude-cluster\n",
    "\n",
    "cluster_wise_avg_of_median_income = housedata_processed.groupby('lat_long_cluster').mean()['median_income'].round(2)\n",
    "cluster_wise_avg_of_median_income"
   ]
  },
  {
   "cell_type": "code",
   "execution_count": 48,
   "id": "offensive-elizabeth",
   "metadata": {},
   "outputs": [
    {
     "data": {
      "image/png": "[encoded data removed]",
      "text/plain": [
       "<Figure size 936x504 with 1 Axes>"
      ]
     },
     "metadata": {},
     "output_type": "display_data"
    }
   ],
   "source": [
    "# Plotting bar graph to visualize the results\n",
    "plt.style.use('seaborn-white')\n",
    "\n",
    "plt.figure(figsize=(13,7))\n",
    "sns.barplot(x = cluster_wise_avg_of_median_income.index, \n",
    "            y = cluster_wise_avg_of_median_income.values, \n",
    "            palette=sns.color_palette(\"bright\", 6))\n",
    "plt.title(\"Mean 'median_income' per Cluster\", fontweight=\"bold\", fontdict = {'fontsize' : 19})\n",
    "plt.xlabel(\"Cluster Label\", fontweight=\"bold\", fontdict = {'fontsize' : 15})\n",
    "plt.ylabel(\"Mean Median Income\", fontweight=\"bold\", fontdict = {'fontsize' : 15});"
   ]
  },
  {
   "cell_type": "code",
   "execution_count": 49,
   "id": "metropolitan-capture",
   "metadata": {},
   "outputs": [
    {
     "data": {
      "text/plain": [
       "lat_long_cluster\n",
       "0    24.61\n",
       "1    30.24\n",
       "2    25.05\n",
       "3    32.15\n",
       "4    25.11\n",
       "5    22.19\n",
       "Name: housing_median_age, dtype: float64"
      ]
     },
     "execution_count": 49,
     "metadata": {},
     "output_type": "execute_result"
    }
   ],
   "source": [
    "# Checking the distribution of mean of housing_median_age as per the latitude-longitude-cluster\n",
    "\n",
    "cluster_wise_avg_house_age = housedata_processed.groupby('lat_long_cluster').mean()['housing_median_age'].round(2)\n",
    "cluster_wise_avg_house_age"
   ]
  },
  {
   "cell_type": "code",
   "execution_count": 50,
   "id": "indian-penalty",
   "metadata": {},
   "outputs": [
    {
     "data": {
      "image/png": "[encoded data removed]",
      "text/plain": [
       "<Figure size 936x504 with 1 Axes>"
      ]
     },
     "metadata": {},
     "output_type": "display_data"
    }
   ],
   "source": [
    "# Plotting bar graph to visualize the results\n",
    "plt.style.use('bmh')\n",
    "plt.figure(figsize=(13,7))\n",
    "sns.barplot(x = cluster_wise_avg_house_age.index, \n",
    "            y = cluster_wise_avg_house_age.values,\n",
    "           palette=sns.color_palette(\"bright\", 6))\n",
    "plt.title(\"Mean 'house_median_age' per Cluster\", fontweight=\"bold\", fontdict = {'fontsize' : 19})\n",
    "plt.xlabel(\"Cluster Label\", fontweight=\"bold\", fontdict = {'fontsize' : 15})\n",
    "plt.ylabel(\"Mean of House_Median_Age\", fontweight=\"bold\", fontdict = {'fontsize' : 15});"
   ]
  },
  {
   "cell_type": "markdown",
   "id": "technological-tuning",
   "metadata": {},
   "source": [
    "Below I am checking if the data has multicoloniearity and if we have redundant features"
   ]
  },
  {
   "cell_type": "code",
   "execution_count": 51,
   "id": "planned-seattle",
   "metadata": {},
   "outputs": [
    {
     "data": {
      "text/html": [
       "<style  type=\"text/css\" >\n",
       "#T_85770_row0_col0,#T_85770_row0_col1,#T_85770_row0_col2,#T_85770_row0_col3,#T_85770_row0_col4,#T_85770_row0_col5,#T_85770_row0_col6,#T_85770_row0_col7,#T_85770_row0_col8,#T_85770_row0_col9,#T_85770_row0_col10,#T_85770_row0_col11,#T_85770_row1_col1,#T_85770_row1_col2,#T_85770_row1_col3,#T_85770_row1_col4,#T_85770_row1_col5,#T_85770_row1_col6,#T_85770_row1_col7,#T_85770_row1_col8,#T_85770_row1_col9,#T_85770_row1_col10,#T_85770_row1_col11,#T_85770_row2_col2,#T_85770_row2_col3,#T_85770_row2_col4,#T_85770_row2_col5,#T_85770_row2_col6,#T_85770_row2_col7,#T_85770_row2_col8,#T_85770_row2_col9,#T_85770_row2_col10,#T_85770_row2_col11,#T_85770_row3_col3,#T_85770_row3_col4,#T_85770_row3_col5,#T_85770_row3_col6,#T_85770_row3_col7,#T_85770_row3_col8,#T_85770_row3_col9,#T_85770_row3_col10,#T_85770_row3_col11,#T_85770_row4_col4,#T_85770_row4_col5,#T_85770_row4_col6,#T_85770_row4_col7,#T_85770_row4_col8,#T_85770_row4_col9,#T_85770_row4_col10,#T_85770_row4_col11,#T_85770_row5_col5,#T_85770_row5_col6,#T_85770_row5_col7,#T_85770_row5_col8,#T_85770_row5_col9,#T_85770_row5_col10,#T_85770_row5_col11,#T_85770_row6_col6,#T_85770_row6_col7,#T_85770_row6_col8,#T_85770_row6_col9,#T_85770_row6_col10,#T_85770_row6_col11,#T_85770_row7_col7,#T_85770_row7_col8,#T_85770_row7_col9,#T_85770_row7_col10,#T_85770_row7_col11,#T_85770_row8_col8,#T_85770_row8_col9,#T_85770_row8_col10,#T_85770_row8_col11,#T_85770_row9_col9,#T_85770_row9_col10,#T_85770_row9_col11,#T_85770_row10_col10,#T_85770_row10_col11,#T_85770_row11_col11{\n",
       "            background-color:  #000000;\n",
       "            color:  #f1f1f1;\n",
       "            background-color:  #f1f1f1;\n",
       "        }#T_85770_row1_col0,#T_85770_row6_col1{\n",
       "            background-color:  #ccd9ed;\n",
       "            color:  #000000;\n",
       "        }#T_85770_row2_col0,#T_85770_row7_col1,#T_85770_row7_col5,#T_85770_row8_col0{\n",
       "            background-color:  #e2dad5;\n",
       "            color:  #000000;\n",
       "        }#T_85770_row2_col1,#T_85770_row7_col0{\n",
       "            background-color:  #a5c3fe;\n",
       "            color:  #000000;\n",
       "        }#T_85770_row3_col0,#T_85770_row8_col2,#T_85770_row10_col6{\n",
       "            background-color:  #e0dbd8;\n",
       "            color:  #000000;\n",
       "        }#T_85770_row3_col1,#T_85770_row9_col7{\n",
       "            background-color:  #adc9fd;\n",
       "            color:  #000000;\n",
       "        }#T_85770_row3_col2{\n",
       "            background-color:  #c12b30;\n",
       "            color:  #f1f1f1;\n",
       "        }#T_85770_row4_col0,#T_85770_row8_col4,#T_85770_row9_col2,#T_85770_row9_col3{\n",
       "            background-color:  #dadce0;\n",
       "            color:  #000000;\n",
       "        }#T_85770_row4_col1{\n",
       "            background-color:  #b1cbfc;\n",
       "            color:  #000000;\n",
       "        }#T_85770_row4_col2{\n",
       "            background-color:  #cd423b;\n",
       "            color:  #f1f1f1;\n",
       "        }#T_85770_row4_col3{\n",
       "            background-color:  #cb3e38;\n",
       "            color:  #f1f1f1;\n",
       "        }#T_85770_row5_col0,#T_85770_row6_col5{\n",
       "            background-color:  #dedcdb;\n",
       "            color:  #000000;\n",
       "        }#T_85770_row5_col1{\n",
       "            background-color:  #afcafc;\n",
       "            color:  #000000;\n",
       "        }#T_85770_row5_col2{\n",
       "            background-color:  #c32e31;\n",
       "            color:  #f1f1f1;\n",
       "        }#T_85770_row5_col3{\n",
       "            background-color:  #b8122a;\n",
       "            color:  #f1f1f1;\n",
       "        }#T_85770_row5_col4{\n",
       "            background-color:  #c43032;\n",
       "            color:  #f1f1f1;\n",
       "        }#T_85770_row6_col0{\n",
       "            background-color:  #d8dce2;\n",
       "            color:  #000000;\n",
       "        }#T_85770_row6_col2{\n",
       "            background-color:  #f2cbb7;\n",
       "            color:  #000000;\n",
       "        }#T_85770_row6_col3,#T_85770_row7_col2,#T_85770_row8_col3{\n",
       "            background-color:  #dcdddd;\n",
       "            color:  #000000;\n",
       "        }#T_85770_row6_col4,#T_85770_row10_col3,#T_85770_row10_col5{\n",
       "            background-color:  #dddcdc;\n",
       "            color:  #000000;\n",
       "        }#T_85770_row7_col3,#T_85770_row10_col1{\n",
       "            background-color:  #dfdbd9;\n",
       "            color:  #000000;\n",
       "        }#T_85770_row7_col4{\n",
       "            background-color:  #e6d7cf;\n",
       "            color:  #000000;\n",
       "        }#T_85770_row7_col6{\n",
       "            background-color:  #efcebd;\n",
       "            color:  #000000;\n",
       "        }#T_85770_row8_col1,#T_85770_row8_col6,#T_85770_row9_col8{\n",
       "            background-color:  #bad0f8;\n",
       "            color:  #000000;\n",
       "        }#T_85770_row8_col5{\n",
       "            background-color:  #d7dce3;\n",
       "            color:  #000000;\n",
       "        }#T_85770_row8_col7{\n",
       "            background-color:  #7a9df8;\n",
       "            color:  #000000;\n",
       "        }#T_85770_row9_col0{\n",
       "            background-color:  #f1ccb8;\n",
       "            color:  #000000;\n",
       "        }#T_85770_row9_col1,#T_85770_row11_col7{\n",
       "            background-color:  #f5c4ac;\n",
       "            color:  #000000;\n",
       "        }#T_85770_row9_col4{\n",
       "            background-color:  #d5dbe5;\n",
       "            color:  #000000;\n",
       "        }#T_85770_row9_col5,#T_85770_row10_col2{\n",
       "            background-color:  #dbdcde;\n",
       "            color:  #000000;\n",
       "        }#T_85770_row9_col6{\n",
       "            background-color:  #e4d9d2;\n",
       "            color:  #000000;\n",
       "        }#T_85770_row10_col0{\n",
       "            background-color:  #f6bea4;\n",
       "            color:  #000000;\n",
       "        }#T_85770_row10_col4,#T_85770_row11_col4{\n",
       "            background-color:  #d9dce1;\n",
       "            color:  #000000;\n",
       "        }#T_85770_row10_col7{\n",
       "            background-color:  #a9c6fd;\n",
       "            color:  #000000;\n",
       "        }#T_85770_row10_col8{\n",
       "            background-color:  #b6cefa;\n",
       "            color:  #000000;\n",
       "        }#T_85770_row10_col9{\n",
       "            background-color:  #cad8ef;\n",
       "            color:  #000000;\n",
       "        }#T_85770_row11_col0{\n",
       "            background-color:  #d3dbe7;\n",
       "            color:  #000000;\n",
       "        }#T_85770_row11_col1{\n",
       "            background-color:  #ead5c9;\n",
       "            color:  #000000;\n",
       "        }#T_85770_row11_col2{\n",
       "            background-color:  #edd2c3;\n",
       "            color:  #000000;\n",
       "        }#T_85770_row11_col3{\n",
       "            background-color:  #e3d9d3;\n",
       "            color:  #000000;\n",
       "        }#T_85770_row11_col5{\n",
       "            background-color:  #e5d8d1;\n",
       "            color:  #000000;\n",
       "        }#T_85770_row11_col6{\n",
       "            background-color:  #e46e56;\n",
       "            color:  #000000;\n",
       "        }#T_85770_row11_col8{\n",
       "            background-color:  #8fb1fe;\n",
       "            color:  #000000;\n",
       "        }#T_85770_row11_col9{\n",
       "            background-color:  #efcfbf;\n",
       "            color:  #000000;\n",
       "        }#T_85770_row11_col10{\n",
       "            background-color:  #edd1c2;\n",
       "            color:  #000000;\n",
       "        }</style><table id=\"T_85770_\" ><thead>    <tr>        <th class=\"blank level0\" ></th>        <th class=\"col_heading level0 col0\" >lat_long_cluster</th>        <th class=\"col_heading level0 col1\" >housing_median_age</th>        <th class=\"col_heading level0 col2\" >total_rooms</th>        <th class=\"col_heading level0 col3\" >total_bedrooms</th>        <th class=\"col_heading level0 col4\" >population</th>        <th class=\"col_heading level0 col5\" >households</th>        <th class=\"col_heading level0 col6\" >median_income</th>        <th class=\"col_heading level0 col7\" >less_1h_ocean</th>        <th class=\"col_heading level0 col8\" >inland</th>        <th class=\"col_heading level0 col9\" >near_bay</th>        <th class=\"col_heading level0 col10\" >near_ocean</th>        <th class=\"col_heading level0 col11\" >median_house_value</th>    </tr></thead><tbody>\n",
       "                <tr>\n",
       "                        <th id=\"T_85770_level0_row0\" class=\"row_heading level0 row0\" >lat_long_cluster</th>\n",
       "                        <td id=\"T_85770_row0_col0\" class=\"data row0 col0\" >nan</td>\n",
       "                        <td id=\"T_85770_row0_col1\" class=\"data row0 col1\" >nan</td>\n",
       "                        <td id=\"T_85770_row0_col2\" class=\"data row0 col2\" >nan</td>\n",
       "                        <td id=\"T_85770_row0_col3\" class=\"data row0 col3\" >nan</td>\n",
       "                        <td id=\"T_85770_row0_col4\" class=\"data row0 col4\" >nan</td>\n",
       "                        <td id=\"T_85770_row0_col5\" class=\"data row0 col5\" >nan</td>\n",
       "                        <td id=\"T_85770_row0_col6\" class=\"data row0 col6\" >nan</td>\n",
       "                        <td id=\"T_85770_row0_col7\" class=\"data row0 col7\" >nan</td>\n",
       "                        <td id=\"T_85770_row0_col8\" class=\"data row0 col8\" >nan</td>\n",
       "                        <td id=\"T_85770_row0_col9\" class=\"data row0 col9\" >nan</td>\n",
       "                        <td id=\"T_85770_row0_col10\" class=\"data row0 col10\" >nan</td>\n",
       "                        <td id=\"T_85770_row0_col11\" class=\"data row0 col11\" >nan</td>\n",
       "            </tr>\n",
       "            <tr>\n",
       "                        <th id=\"T_85770_level0_row1\" class=\"row_heading level0 row1\" >housing_median_age</th>\n",
       "                        <td id=\"T_85770_row1_col0\" class=\"data row1 col0\" >-0.12</td>\n",
       "                        <td id=\"T_85770_row1_col1\" class=\"data row1 col1\" >nan</td>\n",
       "                        <td id=\"T_85770_row1_col2\" class=\"data row1 col2\" >nan</td>\n",
       "                        <td id=\"T_85770_row1_col3\" class=\"data row1 col3\" >nan</td>\n",
       "                        <td id=\"T_85770_row1_col4\" class=\"data row1 col4\" >nan</td>\n",
       "                        <td id=\"T_85770_row1_col5\" class=\"data row1 col5\" >nan</td>\n",
       "                        <td id=\"T_85770_row1_col6\" class=\"data row1 col6\" >nan</td>\n",
       "                        <td id=\"T_85770_row1_col7\" class=\"data row1 col7\" >nan</td>\n",
       "                        <td id=\"T_85770_row1_col8\" class=\"data row1 col8\" >nan</td>\n",
       "                        <td id=\"T_85770_row1_col9\" class=\"data row1 col9\" >nan</td>\n",
       "                        <td id=\"T_85770_row1_col10\" class=\"data row1 col10\" >nan</td>\n",
       "                        <td id=\"T_85770_row1_col11\" class=\"data row1 col11\" >nan</td>\n",
       "            </tr>\n",
       "            <tr>\n",
       "                        <th id=\"T_85770_level0_row2\" class=\"row_heading level0 row2\" >total_rooms</th>\n",
       "                        <td id=\"T_85770_row2_col0\" class=\"data row2 col0\" >0.04</td>\n",
       "                        <td id=\"T_85770_row2_col1\" class=\"data row2 col1\" >-0.36</td>\n",
       "                        <td id=\"T_85770_row2_col2\" class=\"data row2 col2\" >nan</td>\n",
       "                        <td id=\"T_85770_row2_col3\" class=\"data row2 col3\" >nan</td>\n",
       "                        <td id=\"T_85770_row2_col4\" class=\"data row2 col4\" >nan</td>\n",
       "                        <td id=\"T_85770_row2_col5\" class=\"data row2 col5\" >nan</td>\n",
       "                        <td id=\"T_85770_row2_col6\" class=\"data row2 col6\" >nan</td>\n",
       "                        <td id=\"T_85770_row2_col7\" class=\"data row2 col7\" >nan</td>\n",
       "                        <td id=\"T_85770_row2_col8\" class=\"data row2 col8\" >nan</td>\n",
       "                        <td id=\"T_85770_row2_col9\" class=\"data row2 col9\" >nan</td>\n",
       "                        <td id=\"T_85770_row2_col10\" class=\"data row2 col10\" >nan</td>\n",
       "                        <td id=\"T_85770_row2_col11\" class=\"data row2 col11\" >nan</td>\n",
       "            </tr>\n",
       "            <tr>\n",
       "                        <th id=\"T_85770_level0_row3\" class=\"row_heading level0 row3\" >total_bedrooms</th>\n",
       "                        <td id=\"T_85770_row3_col0\" class=\"data row3 col0\" >0.02</td>\n",
       "                        <td id=\"T_85770_row3_col1\" class=\"data row3 col1\" >-0.32</td>\n",
       "                        <td id=\"T_85770_row3_col2\" class=\"data row3 col2\" >0.93</td>\n",
       "                        <td id=\"T_85770_row3_col3\" class=\"data row3 col3\" >nan</td>\n",
       "                        <td id=\"T_85770_row3_col4\" class=\"data row3 col4\" >nan</td>\n",
       "                        <td id=\"T_85770_row3_col5\" class=\"data row3 col5\" >nan</td>\n",
       "                        <td id=\"T_85770_row3_col6\" class=\"data row3 col6\" >nan</td>\n",
       "                        <td id=\"T_85770_row3_col7\" class=\"data row3 col7\" >nan</td>\n",
       "                        <td id=\"T_85770_row3_col8\" class=\"data row3 col8\" >nan</td>\n",
       "                        <td id=\"T_85770_row3_col9\" class=\"data row3 col9\" >nan</td>\n",
       "                        <td id=\"T_85770_row3_col10\" class=\"data row3 col10\" >nan</td>\n",
       "                        <td id=\"T_85770_row3_col11\" class=\"data row3 col11\" >nan</td>\n",
       "            </tr>\n",
       "            <tr>\n",
       "                        <th id=\"T_85770_level0_row4\" class=\"row_heading level0 row4\" >population</th>\n",
       "                        <td id=\"T_85770_row4_col0\" class=\"data row4 col0\" >-0.02</td>\n",
       "                        <td id=\"T_85770_row4_col1\" class=\"data row4 col1\" >-0.30</td>\n",
       "                        <td id=\"T_85770_row4_col2\" class=\"data row4 col2\" >0.86</td>\n",
       "                        <td id=\"T_85770_row4_col3\" class=\"data row4 col3\" >0.87</td>\n",
       "                        <td id=\"T_85770_row4_col4\" class=\"data row4 col4\" >nan</td>\n",
       "                        <td id=\"T_85770_row4_col5\" class=\"data row4 col5\" >nan</td>\n",
       "                        <td id=\"T_85770_row4_col6\" class=\"data row4 col6\" >nan</td>\n",
       "                        <td id=\"T_85770_row4_col7\" class=\"data row4 col7\" >nan</td>\n",
       "                        <td id=\"T_85770_row4_col8\" class=\"data row4 col8\" >nan</td>\n",
       "                        <td id=\"T_85770_row4_col9\" class=\"data row4 col9\" >nan</td>\n",
       "                        <td id=\"T_85770_row4_col10\" class=\"data row4 col10\" >nan</td>\n",
       "                        <td id=\"T_85770_row4_col11\" class=\"data row4 col11\" >nan</td>\n",
       "            </tr>\n",
       "            <tr>\n",
       "                        <th id=\"T_85770_level0_row5\" class=\"row_heading level0 row5\" >households</th>\n",
       "                        <td id=\"T_85770_row5_col0\" class=\"data row5 col0\" >0.01</td>\n",
       "                        <td id=\"T_85770_row5_col1\" class=\"data row5 col1\" >-0.30</td>\n",
       "                        <td id=\"T_85770_row5_col2\" class=\"data row5 col2\" >0.92</td>\n",
       "                        <td id=\"T_85770_row5_col3\" class=\"data row5 col3\" >0.97</td>\n",
       "                        <td id=\"T_85770_row5_col4\" class=\"data row5 col4\" >0.91</td>\n",
       "                        <td id=\"T_85770_row5_col5\" class=\"data row5 col5\" >nan</td>\n",
       "                        <td id=\"T_85770_row5_col6\" class=\"data row5 col6\" >nan</td>\n",
       "                        <td id=\"T_85770_row5_col7\" class=\"data row5 col7\" >nan</td>\n",
       "                        <td id=\"T_85770_row5_col8\" class=\"data row5 col8\" >nan</td>\n",
       "                        <td id=\"T_85770_row5_col9\" class=\"data row5 col9\" >nan</td>\n",
       "                        <td id=\"T_85770_row5_col10\" class=\"data row5 col10\" >nan</td>\n",
       "                        <td id=\"T_85770_row5_col11\" class=\"data row5 col11\" >nan</td>\n",
       "            </tr>\n",
       "            <tr>\n",
       "                        <th id=\"T_85770_level0_row6\" class=\"row_heading level0 row6\" >median_income</th>\n",
       "                        <td id=\"T_85770_row6_col0\" class=\"data row6 col0\" >-0.04</td>\n",
       "                        <td id=\"T_85770_row6_col1\" class=\"data row6 col1\" >-0.12</td>\n",
       "                        <td id=\"T_85770_row6_col2\" class=\"data row6 col2\" >0.20</td>\n",
       "                        <td id=\"T_85770_row6_col3\" class=\"data row6 col3\" >-0.01</td>\n",
       "                        <td id=\"T_85770_row6_col4\" class=\"data row6 col4\" >0.00</td>\n",
       "                        <td id=\"T_85770_row6_col5\" class=\"data row6 col5\" >0.01</td>\n",
       "                        <td id=\"T_85770_row6_col6\" class=\"data row6 col6\" >nan</td>\n",
       "                        <td id=\"T_85770_row6_col7\" class=\"data row6 col7\" >nan</td>\n",
       "                        <td id=\"T_85770_row6_col8\" class=\"data row6 col8\" >nan</td>\n",
       "                        <td id=\"T_85770_row6_col9\" class=\"data row6 col9\" >nan</td>\n",
       "                        <td id=\"T_85770_row6_col10\" class=\"data row6 col10\" >nan</td>\n",
       "                        <td id=\"T_85770_row6_col11\" class=\"data row6 col11\" >nan</td>\n",
       "            </tr>\n",
       "            <tr>\n",
       "                        <th id=\"T_85770_level0_row7\" class=\"row_heading level0 row7\" >less_1h_ocean</th>\n",
       "                        <td id=\"T_85770_row7_col0\" class=\"data row7 col0\" >-0.36</td>\n",
       "                        <td id=\"T_85770_row7_col1\" class=\"data row7 col1\" >0.05</td>\n",
       "                        <td id=\"T_85770_row7_col2\" class=\"data row7 col2\" >-0.00</td>\n",
       "                        <td id=\"T_85770_row7_col3\" class=\"data row7 col3\" >0.02</td>\n",
       "                        <td id=\"T_85770_row7_col4\" class=\"data row7 col4\" >0.07</td>\n",
       "                        <td id=\"T_85770_row7_col5\" class=\"data row7 col5\" >0.04</td>\n",
       "                        <td id=\"T_85770_row7_col6\" class=\"data row7 col6\" >0.17</td>\n",
       "                        <td id=\"T_85770_row7_col7\" class=\"data row7 col7\" >nan</td>\n",
       "                        <td id=\"T_85770_row7_col8\" class=\"data row7 col8\" >nan</td>\n",
       "                        <td id=\"T_85770_row7_col9\" class=\"data row7 col9\" >nan</td>\n",
       "                        <td id=\"T_85770_row7_col10\" class=\"data row7 col10\" >nan</td>\n",
       "                        <td id=\"T_85770_row7_col11\" class=\"data row7 col11\" >nan</td>\n",
       "            </tr>\n",
       "            <tr>\n",
       "                        <th id=\"T_85770_level0_row8\" class=\"row_heading level0 row8\" >inland</th>\n",
       "                        <td id=\"T_85770_row8_col0\" class=\"data row8 col0\" >0.04</td>\n",
       "                        <td id=\"T_85770_row8_col1\" class=\"data row8 col1\" >-0.24</td>\n",
       "                        <td id=\"T_85770_row8_col2\" class=\"data row8 col2\" >0.03</td>\n",
       "                        <td id=\"T_85770_row8_col3\" class=\"data row8 col3\" >-0.01</td>\n",
       "                        <td id=\"T_85770_row8_col4\" class=\"data row8 col4\" >-0.02</td>\n",
       "                        <td id=\"T_85770_row8_col5\" class=\"data row8 col5\" >-0.04</td>\n",
       "                        <td id=\"T_85770_row8_col6\" class=\"data row8 col6\" >-0.24</td>\n",
       "                        <td id=\"T_85770_row8_col7\" class=\"data row8 col7\" >-0.61</td>\n",
       "                        <td id=\"T_85770_row8_col8\" class=\"data row8 col8\" >nan</td>\n",
       "                        <td id=\"T_85770_row8_col9\" class=\"data row8 col9\" >nan</td>\n",
       "                        <td id=\"T_85770_row8_col10\" class=\"data row8 col10\" >nan</td>\n",
       "                        <td id=\"T_85770_row8_col11\" class=\"data row8 col11\" >nan</td>\n",
       "            </tr>\n",
       "            <tr>\n",
       "                        <th id=\"T_85770_level0_row9\" class=\"row_heading level0 row9\" >near_bay</th>\n",
       "                        <td id=\"T_85770_row9_col0\" class=\"data row9 col0\" >0.19</td>\n",
       "                        <td id=\"T_85770_row9_col1\" class=\"data row9 col1\" >0.26</td>\n",
       "                        <td id=\"T_85770_row9_col2\" class=\"data row9 col2\" >-0.02</td>\n",
       "                        <td id=\"T_85770_row9_col3\" class=\"data row9 col3\" >-0.02</td>\n",
       "                        <td id=\"T_85770_row9_col4\" class=\"data row9 col4\" >-0.06</td>\n",
       "                        <td id=\"T_85770_row9_col5\" class=\"data row9 col5\" >-0.01</td>\n",
       "                        <td id=\"T_85770_row9_col6\" class=\"data row9 col6\" >0.06</td>\n",
       "                        <td id=\"T_85770_row9_col7\" class=\"data row9 col7\" >-0.31</td>\n",
       "                        <td id=\"T_85770_row9_col8\" class=\"data row9 col8\" >-0.24</td>\n",
       "                        <td id=\"T_85770_row9_col9\" class=\"data row9 col9\" >nan</td>\n",
       "                        <td id=\"T_85770_row9_col10\" class=\"data row9 col10\" >nan</td>\n",
       "                        <td id=\"T_85770_row9_col11\" class=\"data row9 col11\" >nan</td>\n",
       "            </tr>\n",
       "            <tr>\n",
       "                        <th id=\"T_85770_level0_row10\" class=\"row_heading level0 row10\" >near_ocean</th>\n",
       "                        <td id=\"T_85770_row10_col0\" class=\"data row10 col0\" >0.30</td>\n",
       "                        <td id=\"T_85770_row10_col1\" class=\"data row10 col1\" >0.02</td>\n",
       "                        <td id=\"T_85770_row10_col2\" class=\"data row10 col2\" >-0.01</td>\n",
       "                        <td id=\"T_85770_row10_col3\" class=\"data row10 col3\" >0.00</td>\n",
       "                        <td id=\"T_85770_row10_col4\" class=\"data row10 col4\" >-0.02</td>\n",
       "                        <td id=\"T_85770_row10_col5\" class=\"data row10 col5\" >0.00</td>\n",
       "                        <td id=\"T_85770_row10_col6\" class=\"data row10 col6\" >0.03</td>\n",
       "                        <td id=\"T_85770_row10_col7\" class=\"data row10 col7\" >-0.34</td>\n",
       "                        <td id=\"T_85770_row10_col8\" class=\"data row10 col8\" >-0.26</td>\n",
       "                        <td id=\"T_85770_row10_col9\" class=\"data row10 col9\" >-0.14</td>\n",
       "                        <td id=\"T_85770_row10_col10\" class=\"data row10 col10\" >nan</td>\n",
       "                        <td id=\"T_85770_row10_col11\" class=\"data row10 col11\" >nan</td>\n",
       "            </tr>\n",
       "            <tr>\n",
       "                        <th id=\"T_85770_level0_row11\" class=\"row_heading level0 row11\" >median_house_value</th>\n",
       "                        <td id=\"T_85770_row11_col0\" class=\"data row11 col0\" >-0.08</td>\n",
       "                        <td id=\"T_85770_row11_col1\" class=\"data row11 col1\" >0.11</td>\n",
       "                        <td id=\"T_85770_row11_col2\" class=\"data row11 col2\" >0.13</td>\n",
       "                        <td id=\"T_85770_row11_col3\" class=\"data row11 col3\" >0.05</td>\n",
       "                        <td id=\"T_85770_row11_col4\" class=\"data row11 col4\" >-0.02</td>\n",
       "                        <td id=\"T_85770_row11_col5\" class=\"data row11 col5\" >0.07</td>\n",
       "                        <td id=\"T_85770_row11_col6\" class=\"data row11 col6\" >0.69</td>\n",
       "                        <td id=\"T_85770_row11_col7\" class=\"data row11 col7\" >0.26</td>\n",
       "                        <td id=\"T_85770_row11_col8\" class=\"data row11 col8\" >-0.48</td>\n",
       "                        <td id=\"T_85770_row11_col9\" class=\"data row11 col9\" >0.16</td>\n",
       "                        <td id=\"T_85770_row11_col10\" class=\"data row11 col10\" >0.14</td>\n",
       "                        <td id=\"T_85770_row11_col11\" class=\"data row11 col11\" >nan</td>\n",
       "            </tr>\n",
       "    </tbody></table>"
      ],
      "text/plain": [
       "<pandas.io.formats.style.Styler at 0x1c6eeab3f08>"
      ]
     },
     "execution_count": 51,
     "metadata": {},
     "output_type": "execute_result"
    }
   ],
   "source": [
    "# Making correlation plot\n",
    "\n",
    "corr = housedata_processed.corr()\n",
    "\n",
    "mask = np.zeros_like(corr, dtype=bool)\n",
    "mask[np.triu_indices_from(mask)] = True\n",
    "corr[mask] = np.nan\n",
    "(corr\n",
    " .style\n",
    " .background_gradient(cmap='coolwarm', axis=None, vmin=-1, vmax=1)\n",
    " .highlight_null(null_color='#f1f1f1')  # Color NaNs grey\n",
    " .set_precision(2))"
   ]
  },
  {
   "cell_type": "code",
   "execution_count": 52,
   "id": "hindu-riverside",
   "metadata": {},
   "outputs": [
    {
     "data": {
      "text/html": [
       "<div>\n",
       "<style scoped>\n",
       "    .dataframe tbody tr th:only-of-type {\n",
       "        vertical-align: middle;\n",
       "    }\n",
       "\n",
       "    .dataframe tbody tr th {\n",
       "        vertical-align: top;\n",
       "    }\n",
       "\n",
       "    .dataframe thead th {\n",
       "        text-align: right;\n",
       "    }\n",
       "</style>\n",
       "<table border=\"1\" class=\"dataframe\">\n",
       "  <thead>\n",
       "    <tr style=\"text-align: right;\">\n",
       "      <th></th>\n",
       "      <th>lat_long_cluster</th>\n",
       "      <th>housing_median_age</th>\n",
       "      <th>total_rooms</th>\n",
       "      <th>total_bedrooms</th>\n",
       "      <th>population</th>\n",
       "      <th>households</th>\n",
       "      <th>median_income</th>\n",
       "      <th>less_1h_ocean</th>\n",
       "      <th>inland</th>\n",
       "      <th>near_bay</th>\n",
       "      <th>near_ocean</th>\n",
       "      <th>median_house_value</th>\n",
       "    </tr>\n",
       "  </thead>\n",
       "  <tbody>\n",
       "    <tr>\n",
       "      <th>lat_long_cluster</th>\n",
       "      <td>NaN</td>\n",
       "      <td>NaN</td>\n",
       "      <td>NaN</td>\n",
       "      <td>NaN</td>\n",
       "      <td>NaN</td>\n",
       "      <td>NaN</td>\n",
       "      <td>NaN</td>\n",
       "      <td>NaN</td>\n",
       "      <td>NaN</td>\n",
       "      <td>NaN</td>\n",
       "      <td>NaN</td>\n",
       "      <td>NaN</td>\n",
       "    </tr>\n",
       "    <tr>\n",
       "      <th>housing_median_age</th>\n",
       "      <td>-0.123634</td>\n",
       "      <td>NaN</td>\n",
       "      <td>NaN</td>\n",
       "      <td>NaN</td>\n",
       "      <td>NaN</td>\n",
       "      <td>NaN</td>\n",
       "      <td>NaN</td>\n",
       "      <td>NaN</td>\n",
       "      <td>NaN</td>\n",
       "      <td>NaN</td>\n",
       "      <td>NaN</td>\n",
       "      <td>NaN</td>\n",
       "    </tr>\n",
       "    <tr>\n",
       "      <th>total_rooms</th>\n",
       "      <td>0.041557</td>\n",
       "      <td>-0.361262</td>\n",
       "      <td>NaN</td>\n",
       "      <td>NaN</td>\n",
       "      <td>NaN</td>\n",
       "      <td>NaN</td>\n",
       "      <td>NaN</td>\n",
       "      <td>NaN</td>\n",
       "      <td>NaN</td>\n",
       "      <td>NaN</td>\n",
       "      <td>NaN</td>\n",
       "      <td>NaN</td>\n",
       "    </tr>\n",
       "    <tr>\n",
       "      <th>total_bedrooms</th>\n",
       "      <td>0.024481</td>\n",
       "      <td>-0.319026</td>\n",
       "      <td>0.927058</td>\n",
       "      <td>NaN</td>\n",
       "      <td>NaN</td>\n",
       "      <td>NaN</td>\n",
       "      <td>NaN</td>\n",
       "      <td>NaN</td>\n",
       "      <td>NaN</td>\n",
       "      <td>NaN</td>\n",
       "      <td>NaN</td>\n",
       "      <td>NaN</td>\n",
       "    </tr>\n",
       "    <tr>\n",
       "      <th>population</th>\n",
       "      <td>-0.019781</td>\n",
       "      <td>-0.296244</td>\n",
       "      <td>0.857126</td>\n",
       "      <td>0.873535</td>\n",
       "      <td>NaN</td>\n",
       "      <td>NaN</td>\n",
       "      <td>NaN</td>\n",
       "      <td>NaN</td>\n",
       "      <td>NaN</td>\n",
       "      <td>NaN</td>\n",
       "      <td>NaN</td>\n",
       "      <td>NaN</td>\n",
       "    </tr>\n",
       "    <tr>\n",
       "      <th>households</th>\n",
       "      <td>0.008030</td>\n",
       "      <td>-0.302916</td>\n",
       "      <td>0.918484</td>\n",
       "      <td>0.974366</td>\n",
       "      <td>0.907222</td>\n",
       "      <td>NaN</td>\n",
       "      <td>NaN</td>\n",
       "      <td>NaN</td>\n",
       "      <td>NaN</td>\n",
       "      <td>NaN</td>\n",
       "      <td>NaN</td>\n",
       "      <td>NaN</td>\n",
       "    </tr>\n",
       "    <tr>\n",
       "      <th>median_income</th>\n",
       "      <td>-0.037191</td>\n",
       "      <td>-0.119034</td>\n",
       "      <td>0.198050</td>\n",
       "      <td>-0.007617</td>\n",
       "      <td>0.004834</td>\n",
       "      <td>0.013033</td>\n",
       "      <td>NaN</td>\n",
       "      <td>NaN</td>\n",
       "      <td>NaN</td>\n",
       "      <td>NaN</td>\n",
       "      <td>NaN</td>\n",
       "      <td>NaN</td>\n",
       "    </tr>\n",
       "    <tr>\n",
       "      <th>less_1h_ocean</th>\n",
       "      <td>-0.363544</td>\n",
       "      <td>0.045300</td>\n",
       "      <td>-0.003031</td>\n",
       "      <td>0.017966</td>\n",
       "      <td>0.074613</td>\n",
       "      <td>0.042435</td>\n",
       "      <td>0.168876</td>\n",
       "      <td>NaN</td>\n",
       "      <td>NaN</td>\n",
       "      <td>NaN</td>\n",
       "      <td>NaN</td>\n",
       "      <td>NaN</td>\n",
       "    </tr>\n",
       "    <tr>\n",
       "      <th>inland</th>\n",
       "      <td>0.043997</td>\n",
       "      <td>-0.236645</td>\n",
       "      <td>0.025624</td>\n",
       "      <td>-0.006158</td>\n",
       "      <td>-0.020732</td>\n",
       "      <td>-0.039402</td>\n",
       "      <td>-0.237496</td>\n",
       "      <td>-0.607669</td>\n",
       "      <td>NaN</td>\n",
       "      <td>NaN</td>\n",
       "      <td>NaN</td>\n",
       "      <td>NaN</td>\n",
       "    </tr>\n",
       "    <tr>\n",
       "      <th>near_bay</th>\n",
       "      <td>0.194009</td>\n",
       "      <td>0.255172</td>\n",
       "      <td>-0.023022</td>\n",
       "      <td>-0.019667</td>\n",
       "      <td>-0.060880</td>\n",
       "      <td>-0.010093</td>\n",
       "      <td>0.056197</td>\n",
       "      <td>-0.314813</td>\n",
       "      <td>-0.240887</td>\n",
       "      <td>NaN</td>\n",
       "      <td>NaN</td>\n",
       "      <td>NaN</td>\n",
       "    </tr>\n",
       "    <tr>\n",
       "      <th>near_ocean</th>\n",
       "      <td>0.296659</td>\n",
       "      <td>0.021622</td>\n",
       "      <td>-0.009175</td>\n",
       "      <td>0.000557</td>\n",
       "      <td>-0.024264</td>\n",
       "      <td>0.001714</td>\n",
       "      <td>0.027344</td>\n",
       "      <td>-0.342620</td>\n",
       "      <td>-0.262163</td>\n",
       "      <td>-0.135818</td>\n",
       "      <td>NaN</td>\n",
       "      <td>NaN</td>\n",
       "    </tr>\n",
       "    <tr>\n",
       "      <th>median_house_value</th>\n",
       "      <td>-0.075994</td>\n",
       "      <td>0.105623</td>\n",
       "      <td>0.134153</td>\n",
       "      <td>0.049457</td>\n",
       "      <td>-0.024650</td>\n",
       "      <td>0.065843</td>\n",
       "      <td>0.688075</td>\n",
       "      <td>0.256617</td>\n",
       "      <td>-0.484859</td>\n",
       "      <td>0.160284</td>\n",
       "      <td>0.141862</td>\n",
       "      <td>NaN</td>\n",
       "    </tr>\n",
       "  </tbody>\n",
       "</table>\n",
       "</div>"
      ],
      "text/plain": [
       "                    lat_long_cluster  housing_median_age  total_rooms  \\\n",
       "lat_long_cluster                 NaN                 NaN          NaN   \n",
       "housing_median_age         -0.123634                 NaN          NaN   \n",
       "total_rooms                 0.041557           -0.361262          NaN   \n",
       "total_bedrooms              0.024481           -0.319026     0.927058   \n",
       "population                 -0.019781           -0.296244     0.857126   \n",
       "households                  0.008030           -0.302916     0.918484   \n",
       "median_income              -0.037191           -0.119034     0.198050   \n",
       "less_1h_ocean              -0.363544            0.045300    -0.003031   \n",
       "inland                      0.043997           -0.236645     0.025624   \n",
       "near_bay                    0.194009            0.255172    -0.023022   \n",
       "near_ocean                  0.296659            0.021622    -0.009175   \n",
       "median_house_value         -0.075994            0.105623     0.134153   \n",
       "\n",
       "                    total_bedrooms  population  households  median_income  \\\n",
       "lat_long_cluster               NaN         NaN         NaN            NaN   \n",
       "housing_median_age             NaN         NaN         NaN            NaN   \n",
       "total_rooms                    NaN         NaN         NaN            NaN   \n",
       "total_bedrooms                 NaN         NaN         NaN            NaN   \n",
       "population                0.873535         NaN         NaN            NaN   \n",
       "households                0.974366    0.907222         NaN            NaN   \n",
       "median_income            -0.007617    0.004834    0.013033            NaN   \n",
       "less_1h_ocean             0.017966    0.074613    0.042435       0.168876   \n",
       "inland                   -0.006158   -0.020732   -0.039402      -0.237496   \n",
       "near_bay                 -0.019667   -0.060880   -0.010093       0.056197   \n",
       "near_ocean                0.000557   -0.024264    0.001714       0.027344   \n",
       "median_house_value        0.049457   -0.024650    0.065843       0.688075   \n",
       "\n",
       "                    less_1h_ocean    inland  near_bay  near_ocean  \\\n",
       "lat_long_cluster              NaN       NaN       NaN         NaN   \n",
       "housing_median_age            NaN       NaN       NaN         NaN   \n",
       "total_rooms                   NaN       NaN       NaN         NaN   \n",
       "total_bedrooms                NaN       NaN       NaN         NaN   \n",
       "population                    NaN       NaN       NaN         NaN   \n",
       "households                    NaN       NaN       NaN         NaN   \n",
       "median_income                 NaN       NaN       NaN         NaN   \n",
       "less_1h_ocean                 NaN       NaN       NaN         NaN   \n",
       "inland                  -0.607669       NaN       NaN         NaN   \n",
       "near_bay                -0.314813 -0.240887       NaN         NaN   \n",
       "near_ocean              -0.342620 -0.262163 -0.135818         NaN   \n",
       "median_house_value       0.256617 -0.484859  0.160284    0.141862   \n",
       "\n",
       "                    median_house_value  \n",
       "lat_long_cluster                   NaN  \n",
       "housing_median_age                 NaN  \n",
       "total_rooms                        NaN  \n",
       "total_bedrooms                     NaN  \n",
       "population                         NaN  \n",
       "households                         NaN  \n",
       "median_income                      NaN  \n",
       "less_1h_ocean                      NaN  \n",
       "inland                             NaN  \n",
       "near_bay                           NaN  \n",
       "near_ocean                         NaN  \n",
       "median_house_value                 NaN  "
      ]
     },
     "execution_count": 52,
     "metadata": {},
     "output_type": "execute_result"
    }
   ],
   "source": [
    "# This is how original correlation matrix looks like\n",
    "\n",
    "corr"
   ]
  },
  {
   "cell_type": "code",
   "execution_count": 53,
   "id": "interesting-burlington",
   "metadata": {},
   "outputs": [
    {
     "name": "stdout",
     "output_type": "stream",
     "text": [
      "total_bedrooms    total_rooms: 0.9270581965414207\n",
      "population    total_rooms: 0.8571259728659829\n",
      "population    total_bedrooms: 0.8735348611611192\n",
      "households    total_rooms: 0.9184844926543111\n",
      "households    total_bedrooms: 0.9743662937706982\n",
      "households    population: 0.9072222660959659\n",
      "inland    less_1h_ocean: -0.6076693393596981\n",
      "median_house_value    median_income: 0.6880752079585577\n"
     ]
    }
   ],
   "source": [
    "# Instead of viewing the entire correlation matrix, if I am interested in specific correlation values, \n",
    "# this is how we will get it, along with the column names which are correlated.\n",
    "\n",
    "for row in corr.columns:\n",
    "    for col in corr.columns:\n",
    "        if corr.loc[row, col] >= 0.60 or corr.loc[row, col] < -0.60:\n",
    "            print(f\"{row}    {col}: {corr.loc[row, col]}\")\n",
    "        "
   ]
  },
  {
   "cell_type": "code",
   "execution_count": 54,
   "id": "ultimate-worse",
   "metadata": {},
   "outputs": [],
   "source": [
    "# This below function calculates the Variance Inflation Factor, which basically tells us if the numerical column present in \n",
    "# our data is adding to the value or not.\n",
    "\n",
    "def get_VIF(input_df):\n",
    "    \n",
    "    cols = input_df.columns\n",
    "    \n",
    "    for col in cols:\n",
    "        X = input_df.drop(col, axis = 1)\n",
    "        y = input_df[col]\n",
    "        \n",
    "        r_sq = ols(formula = 'y ~ X', data = input_df).fit().rsquared\n",
    "        vif = round( 1/(1-r_sq),2)\n",
    "        print(f\"{col} VIF: {vif}\")\n",
    "        \n",
    "        \n",
    "        "
   ]
  },
  {
   "cell_type": "code",
   "execution_count": 55,
   "id": "bronze-legend",
   "metadata": {},
   "outputs": [
    {
     "data": {
      "text/plain": [
       "Index(['lat_long_cluster', 'housing_median_age', 'total_rooms',\n",
       "       'total_bedrooms', 'population', 'households', 'median_income',\n",
       "       'less_1h_ocean', 'inland', 'near_bay', 'near_ocean',\n",
       "       'median_house_value'],\n",
       "      dtype='object')"
      ]
     },
     "execution_count": 55,
     "metadata": {},
     "output_type": "execute_result"
    }
   ],
   "source": [
    "housedata_processed.columns"
   ]
  },
  {
   "cell_type": "code",
   "execution_count": 56,
   "id": "excellent-function",
   "metadata": {},
   "outputs": [],
   "source": [
    "# excluding the categorical features and the target, below is the data for which VIF needs to be calculated\n",
    "\n",
    "housedata_processed_vifs = housedata_processed[['housing_median_age', 'total_rooms', 'total_bedrooms',\n",
    "                                                'population', 'households', 'median_income']]"
   ]
  },
  {
   "cell_type": "markdown",
   "id": "broken-shannon",
   "metadata": {},
   "source": [
    "##### Now, in order to determine if the column is significant with respect to information it is adding, VIF is checked, iterateively. After each iteration, VIF of column greater than 5 is removed, and the process continues until all columns have VIFs less than or equal to 5."
   ]
  },
  {
   "cell_type": "code",
   "execution_count": 57,
   "id": "completed-strand",
   "metadata": {},
   "outputs": [
    {
     "data": {
      "text/html": [
       "<div>\n",
       "<style scoped>\n",
       "    .dataframe tbody tr th:only-of-type {\n",
       "        vertical-align: middle;\n",
       "    }\n",
       "\n",
       "    .dataframe tbody tr th {\n",
       "        vertical-align: top;\n",
       "    }\n",
       "\n",
       "    .dataframe thead th {\n",
       "        text-align: right;\n",
       "    }\n",
       "</style>\n",
       "<table border=\"1\" class=\"dataframe\">\n",
       "  <thead>\n",
       "    <tr style=\"text-align: right;\">\n",
       "      <th></th>\n",
       "      <th>housing_median_age</th>\n",
       "      <th>total_rooms</th>\n",
       "      <th>total_bedrooms</th>\n",
       "      <th>population</th>\n",
       "      <th>households</th>\n",
       "      <th>median_income</th>\n",
       "    </tr>\n",
       "  </thead>\n",
       "  <tbody>\n",
       "    <tr>\n",
       "      <th>0</th>\n",
       "      <td>41</td>\n",
       "      <td>880</td>\n",
       "      <td>129.0</td>\n",
       "      <td>322</td>\n",
       "      <td>126</td>\n",
       "      <td>8.3252</td>\n",
       "    </tr>\n",
       "    <tr>\n",
       "      <th>1</th>\n",
       "      <td>21</td>\n",
       "      <td>7099</td>\n",
       "      <td>1106.0</td>\n",
       "      <td>2401</td>\n",
       "      <td>1138</td>\n",
       "      <td>8.3014</td>\n",
       "    </tr>\n",
       "    <tr>\n",
       "      <th>2</th>\n",
       "      <td>52</td>\n",
       "      <td>1467</td>\n",
       "      <td>190.0</td>\n",
       "      <td>496</td>\n",
       "      <td>177</td>\n",
       "      <td>7.2574</td>\n",
       "    </tr>\n",
       "    <tr>\n",
       "      <th>3</th>\n",
       "      <td>52</td>\n",
       "      <td>1274</td>\n",
       "      <td>235.0</td>\n",
       "      <td>558</td>\n",
       "      <td>219</td>\n",
       "      <td>5.6431</td>\n",
       "    </tr>\n",
       "    <tr>\n",
       "      <th>4</th>\n",
       "      <td>52</td>\n",
       "      <td>1627</td>\n",
       "      <td>280.0</td>\n",
       "      <td>565</td>\n",
       "      <td>259</td>\n",
       "      <td>3.8462</td>\n",
       "    </tr>\n",
       "  </tbody>\n",
       "</table>\n",
       "</div>"
      ],
      "text/plain": [
       "   housing_median_age  total_rooms  total_bedrooms  population  households  \\\n",
       "0                  41          880           129.0         322         126   \n",
       "1                  21         7099          1106.0        2401        1138   \n",
       "2                  52         1467           190.0         496         177   \n",
       "3                  52         1274           235.0         558         219   \n",
       "4                  52         1627           280.0         565         259   \n",
       "\n",
       "   median_income  \n",
       "0         8.3252  \n",
       "1         8.3014  \n",
       "2         7.2574  \n",
       "3         5.6431  \n",
       "4         3.8462  "
      ]
     },
     "execution_count": 57,
     "metadata": {},
     "output_type": "execute_result"
    }
   ],
   "source": [
    "housedata_processed_vifs.head()"
   ]
  },
  {
   "cell_type": "code",
   "execution_count": 58,
   "id": "expressed-theater",
   "metadata": {},
   "outputs": [
    {
     "name": "stdout",
     "output_type": "stream",
     "text": [
      "housing_median_age VIF: 1.16\n",
      "total_rooms VIF: 11.32\n",
      "total_bedrooms VIF: 26.57\n",
      "population VIF: 6.12\n",
      "households VIF: 27.19\n",
      "median_income VIF: 1.47\n"
     ]
    }
   ],
   "source": [
    "get_VIF(housedata_processed_vifs)"
   ]
  },
  {
   "cell_type": "code",
   "execution_count": 59,
   "id": "thick-architect",
   "metadata": {},
   "outputs": [],
   "source": [
    "housedata_processed_vifs = housedata_processed_vifs.drop('households', axis = 1)"
   ]
  },
  {
   "cell_type": "code",
   "execution_count": 60,
   "id": "resistant-voluntary",
   "metadata": {},
   "outputs": [
    {
     "name": "stdout",
     "output_type": "stream",
     "text": [
      "housing_median_age VIF: 1.15\n",
      "total_rooms VIF: 11.32\n",
      "total_bedrooms VIF: 10.69\n",
      "population VIF: 4.62\n",
      "median_income VIF: 1.46\n"
     ]
    }
   ],
   "source": [
    "get_VIF(housedata_processed_vifs)"
   ]
  },
  {
   "cell_type": "code",
   "execution_count": 61,
   "id": "standing-violence",
   "metadata": {},
   "outputs": [],
   "source": [
    "housedata_processed_vifs = housedata_processed_vifs.drop('total_rooms', axis = 1)"
   ]
  },
  {
   "cell_type": "code",
   "execution_count": 62,
   "id": "greater-corner",
   "metadata": {},
   "outputs": [
    {
     "name": "stdout",
     "output_type": "stream",
     "text": [
      "housing_median_age VIF: 1.13\n",
      "total_bedrooms VIF: 4.3\n",
      "population VIF: 4.23\n",
      "median_income VIF: 1.02\n"
     ]
    }
   ],
   "source": [
    "get_VIF(housedata_processed_vifs)"
   ]
  },
  {
   "cell_type": "code",
   "execution_count": 63,
   "id": "complimentary-cemetery",
   "metadata": {},
   "outputs": [
    {
     "data": {
      "text/html": [
       "<div>\n",
       "<style scoped>\n",
       "    .dataframe tbody tr th:only-of-type {\n",
       "        vertical-align: middle;\n",
       "    }\n",
       "\n",
       "    .dataframe tbody tr th {\n",
       "        vertical-align: top;\n",
       "    }\n",
       "\n",
       "    .dataframe thead th {\n",
       "        text-align: right;\n",
       "    }\n",
       "</style>\n",
       "<table border=\"1\" class=\"dataframe\">\n",
       "  <thead>\n",
       "    <tr style=\"text-align: right;\">\n",
       "      <th></th>\n",
       "      <th>housing_median_age</th>\n",
       "      <th>total_bedrooms</th>\n",
       "      <th>population</th>\n",
       "      <th>median_income</th>\n",
       "    </tr>\n",
       "  </thead>\n",
       "  <tbody>\n",
       "    <tr>\n",
       "      <th>0</th>\n",
       "      <td>41</td>\n",
       "      <td>129.0</td>\n",
       "      <td>322</td>\n",
       "      <td>8.3252</td>\n",
       "    </tr>\n",
       "    <tr>\n",
       "      <th>1</th>\n",
       "      <td>21</td>\n",
       "      <td>1106.0</td>\n",
       "      <td>2401</td>\n",
       "      <td>8.3014</td>\n",
       "    </tr>\n",
       "    <tr>\n",
       "      <th>2</th>\n",
       "      <td>52</td>\n",
       "      <td>190.0</td>\n",
       "      <td>496</td>\n",
       "      <td>7.2574</td>\n",
       "    </tr>\n",
       "    <tr>\n",
       "      <th>3</th>\n",
       "      <td>52</td>\n",
       "      <td>235.0</td>\n",
       "      <td>558</td>\n",
       "      <td>5.6431</td>\n",
       "    </tr>\n",
       "    <tr>\n",
       "      <th>4</th>\n",
       "      <td>52</td>\n",
       "      <td>280.0</td>\n",
       "      <td>565</td>\n",
       "      <td>3.8462</td>\n",
       "    </tr>\n",
       "  </tbody>\n",
       "</table>\n",
       "</div>"
      ],
      "text/plain": [
       "   housing_median_age  total_bedrooms  population  median_income\n",
       "0                  41           129.0         322         8.3252\n",
       "1                  21          1106.0        2401         8.3014\n",
       "2                  52           190.0         496         7.2574\n",
       "3                  52           235.0         558         5.6431\n",
       "4                  52           280.0         565         3.8462"
      ]
     },
     "execution_count": 63,
     "metadata": {},
     "output_type": "execute_result"
    }
   ],
   "source": [
    "housedata_processed_vifs.head()"
   ]
  },
  {
   "cell_type": "markdown",
   "id": "weird-zealand",
   "metadata": {},
   "source": [
    "##### Plotting Correlations again, after removing columns based on VIF values"
   ]
  },
  {
   "cell_type": "code",
   "execution_count": 64,
   "id": "functional-opinion",
   "metadata": {},
   "outputs": [
    {
     "data": {
      "text/html": [
       "<style  type=\"text/css\" >\n",
       "#T_70e08_row0_col0,#T_70e08_row0_col1,#T_70e08_row0_col2,#T_70e08_row0_col3,#T_70e08_row1_col1,#T_70e08_row1_col2,#T_70e08_row1_col3,#T_70e08_row2_col2,#T_70e08_row2_col3,#T_70e08_row3_col3{\n",
       "            background-color:  #000000;\n",
       "            color:  #f1f1f1;\n",
       "            background-color:  #f1f1f1;\n",
       "        }#T_70e08_row1_col0{\n",
       "            background-color:  #adc9fd;\n",
       "            color:  #000000;\n",
       "        }#T_70e08_row2_col0{\n",
       "            background-color:  #b1cbfc;\n",
       "            color:  #000000;\n",
       "        }#T_70e08_row2_col1{\n",
       "            background-color:  #cb3e38;\n",
       "            color:  #f1f1f1;\n",
       "        }#T_70e08_row3_col0{\n",
       "            background-color:  #ccd9ed;\n",
       "            color:  #000000;\n",
       "        }#T_70e08_row3_col1{\n",
       "            background-color:  #dcdddd;\n",
       "            color:  #000000;\n",
       "        }#T_70e08_row3_col2{\n",
       "            background-color:  #dddcdc;\n",
       "            color:  #000000;\n",
       "        }</style><table id=\"T_70e08_\" ><thead>    <tr>        <th class=\"blank level0\" ></th>        <th class=\"col_heading level0 col0\" >housing_median_age</th>        <th class=\"col_heading level0 col1\" >total_bedrooms</th>        <th class=\"col_heading level0 col2\" >population</th>        <th class=\"col_heading level0 col3\" >median_income</th>    </tr></thead><tbody>\n",
       "                <tr>\n",
       "                        <th id=\"T_70e08_level0_row0\" class=\"row_heading level0 row0\" >housing_median_age</th>\n",
       "                        <td id=\"T_70e08_row0_col0\" class=\"data row0 col0\" >nan</td>\n",
       "                        <td id=\"T_70e08_row0_col1\" class=\"data row0 col1\" >nan</td>\n",
       "                        <td id=\"T_70e08_row0_col2\" class=\"data row0 col2\" >nan</td>\n",
       "                        <td id=\"T_70e08_row0_col3\" class=\"data row0 col3\" >nan</td>\n",
       "            </tr>\n",
       "            <tr>\n",
       "                        <th id=\"T_70e08_level0_row1\" class=\"row_heading level0 row1\" >total_bedrooms</th>\n",
       "                        <td id=\"T_70e08_row1_col0\" class=\"data row1 col0\" >-0.32</td>\n",
       "                        <td id=\"T_70e08_row1_col1\" class=\"data row1 col1\" >nan</td>\n",
       "                        <td id=\"T_70e08_row1_col2\" class=\"data row1 col2\" >nan</td>\n",
       "                        <td id=\"T_70e08_row1_col3\" class=\"data row1 col3\" >nan</td>\n",
       "            </tr>\n",
       "            <tr>\n",
       "                        <th id=\"T_70e08_level0_row2\" class=\"row_heading level0 row2\" >population</th>\n",
       "                        <td id=\"T_70e08_row2_col0\" class=\"data row2 col0\" >-0.30</td>\n",
       "                        <td id=\"T_70e08_row2_col1\" class=\"data row2 col1\" >0.87</td>\n",
       "                        <td id=\"T_70e08_row2_col2\" class=\"data row2 col2\" >nan</td>\n",
       "                        <td id=\"T_70e08_row2_col3\" class=\"data row2 col3\" >nan</td>\n",
       "            </tr>\n",
       "            <tr>\n",
       "                        <th id=\"T_70e08_level0_row3\" class=\"row_heading level0 row3\" >median_income</th>\n",
       "                        <td id=\"T_70e08_row3_col0\" class=\"data row3 col0\" >-0.12</td>\n",
       "                        <td id=\"T_70e08_row3_col1\" class=\"data row3 col1\" >-0.01</td>\n",
       "                        <td id=\"T_70e08_row3_col2\" class=\"data row3 col2\" >0.00</td>\n",
       "                        <td id=\"T_70e08_row3_col3\" class=\"data row3 col3\" >nan</td>\n",
       "            </tr>\n",
       "    </tbody></table>"
      ],
      "text/plain": [
       "<pandas.io.formats.style.Styler at 0x1c6ef84e9c8>"
      ]
     },
     "execution_count": 64,
     "metadata": {},
     "output_type": "execute_result"
    },
    {
     "data": {
      "text/plain": [
       "<Figure size 504x360 with 0 Axes>"
      ]
     },
     "metadata": {},
     "output_type": "display_data"
    }
   ],
   "source": [
    "fig = plt.figure(figsize=(7,5))\n",
    "\n",
    "corr = housedata_processed_vifs.corr()\n",
    "\n",
    "mask = np.zeros_like(corr, dtype=bool)\n",
    "mask[np.triu_indices_from(mask)] = True\n",
    "corr[mask] = np.nan\n",
    "(corr\n",
    " .style\n",
    " .background_gradient(cmap='coolwarm', axis=None, vmin=-1, vmax=1)\n",
    " .highlight_null(null_color='#f1f1f1')  # Color NaNs grey\n",
    " .set_precision(2))"
   ]
  },
  {
   "cell_type": "code",
   "execution_count": 65,
   "id": "robust-screen",
   "metadata": {},
   "outputs": [
    {
     "name": "stdout",
     "output_type": "stream",
     "text": [
      "population    total_bedrooms: 0.8735348611611192\n"
     ]
    }
   ],
   "source": [
    "# This code displays the columns which are highly correlated along with the magnitude and sign\n",
    "\n",
    "for row in corr.columns:\n",
    "    for col in corr.columns:\n",
    "        if corr.loc[row, col] >= 0.6 or corr.loc[row, col] < -0.6:\n",
    "            print(f\"{row}    {col}: {corr.loc[row, col]}\")"
   ]
  },
  {
   "cell_type": "markdown",
   "id": "expanded-speed",
   "metadata": {},
   "source": [
    "##### Because, 'population' and 'total_bedrooms' are highly correlated, one can be dropped. I have plotted boxplot below to determine which column has higher range of outliars (the one having higher outliars can be dropped)"
   ]
  },
  {
   "cell_type": "code",
   "execution_count": 66,
   "id": "conditional-michigan",
   "metadata": {},
   "outputs": [
    {
     "data": {
      "text/plain": [
       "<AxesSubplot:>"
      ]
     },
     "execution_count": 66,
     "metadata": {},
     "output_type": "execute_result"
    },
    {
     "data": {
      "image/png": "[encoded data removed]",
      "text/plain": [
       "<Figure size 1296x864 with 1 Axes>"
      ]
     },
     "metadata": {},
     "output_type": "display_data"
    }
   ],
   "source": [
    "plt.style.use('seaborn-white')\n",
    "\n",
    "plt.figure(figsize = (18,12))\n",
    "sns.boxplot(data = housedata_processed_vifs[['population', 'total_bedrooms']], orient='h')"
   ]
  },
  {
   "cell_type": "code",
   "execution_count": 67,
   "id": "waiting-affiliate",
   "metadata": {},
   "outputs": [],
   "source": [
    "housedata_processed_vifs.drop('population', axis = 1, inplace = True) # dropping population "
   ]
  },
  {
   "cell_type": "code",
   "execution_count": 68,
   "id": "occupational-stamp",
   "metadata": {},
   "outputs": [
    {
     "data": {
      "text/html": [
       "<div>\n",
       "<style scoped>\n",
       "    .dataframe tbody tr th:only-of-type {\n",
       "        vertical-align: middle;\n",
       "    }\n",
       "\n",
       "    .dataframe tbody tr th {\n",
       "        vertical-align: top;\n",
       "    }\n",
       "\n",
       "    .dataframe thead th {\n",
       "        text-align: right;\n",
       "    }\n",
       "</style>\n",
       "<table border=\"1\" class=\"dataframe\">\n",
       "  <thead>\n",
       "    <tr style=\"text-align: right;\">\n",
       "      <th></th>\n",
       "      <th>housing_median_age</th>\n",
       "      <th>total_bedrooms</th>\n",
       "      <th>median_income</th>\n",
       "      <th>lat_long_cluster</th>\n",
       "      <th>less_1h_ocean</th>\n",
       "      <th>inland</th>\n",
       "      <th>near_bay</th>\n",
       "      <th>near_ocean</th>\n",
       "      <th>median_house_value</th>\n",
       "    </tr>\n",
       "  </thead>\n",
       "  <tbody>\n",
       "    <tr>\n",
       "      <th>0</th>\n",
       "      <td>41</td>\n",
       "      <td>129.0</td>\n",
       "      <td>8.3252</td>\n",
       "      <td>3</td>\n",
       "      <td>0</td>\n",
       "      <td>0</td>\n",
       "      <td>1</td>\n",
       "      <td>0</td>\n",
       "      <td>452600</td>\n",
       "    </tr>\n",
       "    <tr>\n",
       "      <th>1</th>\n",
       "      <td>21</td>\n",
       "      <td>1106.0</td>\n",
       "      <td>8.3014</td>\n",
       "      <td>3</td>\n",
       "      <td>0</td>\n",
       "      <td>0</td>\n",
       "      <td>1</td>\n",
       "      <td>0</td>\n",
       "      <td>358500</td>\n",
       "    </tr>\n",
       "    <tr>\n",
       "      <th>2</th>\n",
       "      <td>52</td>\n",
       "      <td>190.0</td>\n",
       "      <td>7.2574</td>\n",
       "      <td>3</td>\n",
       "      <td>0</td>\n",
       "      <td>0</td>\n",
       "      <td>1</td>\n",
       "      <td>0</td>\n",
       "      <td>352100</td>\n",
       "    </tr>\n",
       "    <tr>\n",
       "      <th>3</th>\n",
       "      <td>52</td>\n",
       "      <td>235.0</td>\n",
       "      <td>5.6431</td>\n",
       "      <td>3</td>\n",
       "      <td>0</td>\n",
       "      <td>0</td>\n",
       "      <td>1</td>\n",
       "      <td>0</td>\n",
       "      <td>341300</td>\n",
       "    </tr>\n",
       "    <tr>\n",
       "      <th>4</th>\n",
       "      <td>52</td>\n",
       "      <td>280.0</td>\n",
       "      <td>3.8462</td>\n",
       "      <td>3</td>\n",
       "      <td>0</td>\n",
       "      <td>0</td>\n",
       "      <td>1</td>\n",
       "      <td>0</td>\n",
       "      <td>342200</td>\n",
       "    </tr>\n",
       "  </tbody>\n",
       "</table>\n",
       "</div>"
      ],
      "text/plain": [
       "   housing_median_age  total_bedrooms  median_income  lat_long_cluster  \\\n",
       "0                  41           129.0         8.3252                 3   \n",
       "1                  21          1106.0         8.3014                 3   \n",
       "2                  52           190.0         7.2574                 3   \n",
       "3                  52           235.0         5.6431                 3   \n",
       "4                  52           280.0         3.8462                 3   \n",
       "\n",
       "   less_1h_ocean  inland  near_bay  near_ocean  median_house_value  \n",
       "0              0       0         1           0              452600  \n",
       "1              0       0         1           0              358500  \n",
       "2              0       0         1           0              352100  \n",
       "3              0       0         1           0              341300  \n",
       "4              0       0         1           0              342200  "
      ]
     },
     "execution_count": 68,
     "metadata": {},
     "output_type": "execute_result"
    }
   ],
   "source": [
    "# combining the entire data after removing non-significant columns\n",
    "\n",
    "cat_cols_and_target = ['lat_long_cluster', 'less_1h_ocean', 'inland', 'near_bay', 'near_ocean','median_house_value']\n",
    "\n",
    "housedata_processed = pd.concat([housedata_processed_vifs, housedata_processed[cat_cols_and_target]], axis = 1)\n",
    "housedata_processed.head()"
   ]
  },
  {
   "cell_type": "markdown",
   "id": "another-rotation",
   "metadata": {},
   "source": [
    "### 4. Splitting of the dataset"
   ]
  },
  {
   "cell_type": "code",
   "execution_count": 69,
   "id": "fabulous-austin",
   "metadata": {},
   "outputs": [],
   "source": [
    "# Splitting the data into features and target seperately\n",
    "\n",
    "X = housedata_processed.drop('median_house_value', axis = 1)\n",
    "y = housedata_processed['median_house_value']"
   ]
  },
  {
   "cell_type": "code",
   "execution_count": 70,
   "id": "unexpected-worry",
   "metadata": {},
   "outputs": [],
   "source": [
    "# Splitting of training and test set into 80%-20% ratio\n",
    "\n",
    "X_train, X_test, y_train, y_test = train_test_split(X, y, test_size=0.20, random_state=42)"
   ]
  },
  {
   "cell_type": "markdown",
   "id": "amber-charleston",
   "metadata": {},
   "source": [
    "### Standardizing the data"
   ]
  },
  {
   "cell_type": "code",
   "execution_count": 71,
   "id": "broke-federation",
   "metadata": {},
   "outputs": [
    {
     "data": {
      "text/html": [
       "<div>\n",
       "<style scoped>\n",
       "    .dataframe tbody tr th:only-of-type {\n",
       "        vertical-align: middle;\n",
       "    }\n",
       "\n",
       "    .dataframe tbody tr th {\n",
       "        vertical-align: top;\n",
       "    }\n",
       "\n",
       "    .dataframe thead th {\n",
       "        text-align: right;\n",
       "    }\n",
       "</style>\n",
       "<table border=\"1\" class=\"dataframe\">\n",
       "  <thead>\n",
       "    <tr style=\"text-align: right;\">\n",
       "      <th></th>\n",
       "      <th>housing_median_age</th>\n",
       "      <th>total_bedrooms</th>\n",
       "      <th>median_income</th>\n",
       "      <th>lat_long_cluster</th>\n",
       "      <th>less_1h_ocean</th>\n",
       "      <th>inland</th>\n",
       "      <th>near_bay</th>\n",
       "      <th>near_ocean</th>\n",
       "    </tr>\n",
       "  </thead>\n",
       "  <tbody>\n",
       "    <tr>\n",
       "      <th>14196</th>\n",
       "      <td>33</td>\n",
       "      <td>627.0</td>\n",
       "      <td>3.2596</td>\n",
       "      <td>5</td>\n",
       "      <td>0</td>\n",
       "      <td>0</td>\n",
       "      <td>0</td>\n",
       "      <td>1</td>\n",
       "    </tr>\n",
       "    <tr>\n",
       "      <th>8267</th>\n",
       "      <td>49</td>\n",
       "      <td>787.0</td>\n",
       "      <td>3.8125</td>\n",
       "      <td>1</td>\n",
       "      <td>0</td>\n",
       "      <td>0</td>\n",
       "      <td>0</td>\n",
       "      <td>1</td>\n",
       "    </tr>\n",
       "  </tbody>\n",
       "</table>\n",
       "</div>"
      ],
      "text/plain": [
       "       housing_median_age  total_bedrooms  median_income  lat_long_cluster  \\\n",
       "14196                  33           627.0         3.2596                 5   \n",
       "8267                   49           787.0         3.8125                 1   \n",
       "\n",
       "       less_1h_ocean  inland  near_bay  near_ocean  \n",
       "14196              0       0         0           1  \n",
       "8267               0       0         0           1  "
      ]
     },
     "execution_count": 71,
     "metadata": {},
     "output_type": "execute_result"
    }
   ],
   "source": [
    "X_train.head(2)"
   ]
  },
  {
   "cell_type": "code",
   "execution_count": 72,
   "id": "matched-speed",
   "metadata": {},
   "outputs": [
    {
     "data": {
      "text/html": [
       "<div>\n",
       "<style scoped>\n",
       "    .dataframe tbody tr th:only-of-type {\n",
       "        vertical-align: middle;\n",
       "    }\n",
       "\n",
       "    .dataframe tbody tr th {\n",
       "        vertical-align: top;\n",
       "    }\n",
       "\n",
       "    .dataframe thead th {\n",
       "        text-align: right;\n",
       "    }\n",
       "</style>\n",
       "<table border=\"1\" class=\"dataframe\">\n",
       "  <thead>\n",
       "    <tr style=\"text-align: right;\">\n",
       "      <th></th>\n",
       "      <th>housing_median_age</th>\n",
       "      <th>total_bedrooms</th>\n",
       "      <th>median_income</th>\n",
       "    </tr>\n",
       "  </thead>\n",
       "  <tbody>\n",
       "    <tr>\n",
       "      <th>0</th>\n",
       "      <td>33</td>\n",
       "      <td>627.0</td>\n",
       "      <td>3.2596</td>\n",
       "    </tr>\n",
       "    <tr>\n",
       "      <th>1</th>\n",
       "      <td>49</td>\n",
       "      <td>787.0</td>\n",
       "      <td>3.8125</td>\n",
       "    </tr>\n",
       "  </tbody>\n",
       "</table>\n",
       "</div>"
      ],
      "text/plain": [
       "   housing_median_age  total_bedrooms  median_income\n",
       "0                  33           627.0         3.2596\n",
       "1                  49           787.0         3.8125"
      ]
     },
     "execution_count": 72,
     "metadata": {},
     "output_type": "execute_result"
    }
   ],
   "source": [
    "X_train.iloc[:, :3].head(2).reset_index(drop = True)"
   ]
  },
  {
   "cell_type": "code",
   "execution_count": 73,
   "id": "individual-casting",
   "metadata": {},
   "outputs": [
    {
     "data": {
      "text/html": [
       "<div>\n",
       "<style scoped>\n",
       "    .dataframe tbody tr th:only-of-type {\n",
       "        vertical-align: middle;\n",
       "    }\n",
       "\n",
       "    .dataframe tbody tr th {\n",
       "        vertical-align: top;\n",
       "    }\n",
       "\n",
       "    .dataframe thead th {\n",
       "        text-align: right;\n",
       "    }\n",
       "</style>\n",
       "<table border=\"1\" class=\"dataframe\">\n",
       "  <thead>\n",
       "    <tr style=\"text-align: right;\">\n",
       "      <th></th>\n",
       "      <th>lat_long_cluster</th>\n",
       "      <th>less_1h_ocean</th>\n",
       "      <th>inland</th>\n",
       "      <th>near_bay</th>\n",
       "      <th>near_ocean</th>\n",
       "    </tr>\n",
       "  </thead>\n",
       "  <tbody>\n",
       "    <tr>\n",
       "      <th>0</th>\n",
       "      <td>5</td>\n",
       "      <td>0</td>\n",
       "      <td>0</td>\n",
       "      <td>0</td>\n",
       "      <td>1</td>\n",
       "    </tr>\n",
       "    <tr>\n",
       "      <th>1</th>\n",
       "      <td>1</td>\n",
       "      <td>0</td>\n",
       "      <td>0</td>\n",
       "      <td>0</td>\n",
       "      <td>1</td>\n",
       "    </tr>\n",
       "  </tbody>\n",
       "</table>\n",
       "</div>"
      ],
      "text/plain": [
       "   lat_long_cluster  less_1h_ocean  inland  near_bay  near_ocean\n",
       "0                 5              0       0         0           1\n",
       "1                 1              0       0         0           1"
      ]
     },
     "execution_count": 73,
     "metadata": {},
     "output_type": "execute_result"
    }
   ],
   "source": [
    "X_train.iloc[:, 3:].head(2).reset_index(drop = True)"
   ]
  },
  {
   "cell_type": "code",
   "execution_count": 74,
   "id": "distant-quantum",
   "metadata": {},
   "outputs": [],
   "source": [
    "# scaling input features (except the categorical columns)\n",
    "\n",
    "robust_scaler = RobustScaler()\n",
    "\n",
    "X_train_scaled = robust_scaler.fit_transform(X_train.iloc[:, :3])\n",
    "X_train_scaled = pd.concat([pd.DataFrame(X_train_scaled, columns = X_train.iloc[:, :3].columns), \n",
    "                            X_train.iloc[:, 3:].reset_index(drop=True)], axis = 1)\n",
    "\n",
    "\n",
    "X_test_scaled  = robust_scaler.transform(X_test.iloc[:, :3])\n",
    "X_test_scaled = pd.concat([pd.DataFrame(X_test_scaled, columns = X_test.iloc[:, :3].columns), \n",
    "                           X_test.iloc[:, 3:].reset_index(drop=True)], axis = 1)\n"
   ]
  },
  {
   "cell_type": "code",
   "execution_count": 75,
   "id": "sacred-buffalo",
   "metadata": {},
   "outputs": [
    {
     "data": {
      "text/html": [
       "<div>\n",
       "<style scoped>\n",
       "    .dataframe tbody tr th:only-of-type {\n",
       "        vertical-align: middle;\n",
       "    }\n",
       "\n",
       "    .dataframe tbody tr th {\n",
       "        vertical-align: top;\n",
       "    }\n",
       "\n",
       "    .dataframe thead th {\n",
       "        text-align: right;\n",
       "    }\n",
       "</style>\n",
       "<table border=\"1\" class=\"dataframe\">\n",
       "  <thead>\n",
       "    <tr style=\"text-align: right;\">\n",
       "      <th></th>\n",
       "      <th>housing_median_age</th>\n",
       "      <th>total_bedrooms</th>\n",
       "      <th>median_income</th>\n",
       "      <th>lat_long_cluster</th>\n",
       "      <th>less_1h_ocean</th>\n",
       "      <th>inland</th>\n",
       "      <th>near_bay</th>\n",
       "      <th>near_ocean</th>\n",
       "    </tr>\n",
       "  </thead>\n",
       "  <tbody>\n",
       "    <tr>\n",
       "      <th>0</th>\n",
       "      <td>0.210526</td>\n",
       "      <td>0.542470</td>\n",
       "      <td>-0.129709</td>\n",
       "      <td>5</td>\n",
       "      <td>0</td>\n",
       "      <td>0</td>\n",
       "      <td>0</td>\n",
       "      <td>1</td>\n",
       "    </tr>\n",
       "    <tr>\n",
       "      <th>1</th>\n",
       "      <td>1.052632</td>\n",
       "      <td>0.999286</td>\n",
       "      <td>0.120872</td>\n",
       "      <td>1</td>\n",
       "      <td>0</td>\n",
       "      <td>0</td>\n",
       "      <td>0</td>\n",
       "      <td>1</td>\n",
       "    </tr>\n",
       "    <tr>\n",
       "      <th>2</th>\n",
       "      <td>-1.315789</td>\n",
       "      <td>-0.302641</td>\n",
       "      <td>0.276686</td>\n",
       "      <td>4</td>\n",
       "      <td>0</td>\n",
       "      <td>0</td>\n",
       "      <td>0</td>\n",
       "      <td>1</td>\n",
       "    </tr>\n",
       "    <tr>\n",
       "      <th>3</th>\n",
       "      <td>0.368421</td>\n",
       "      <td>-0.199857</td>\n",
       "      <td>-0.726634</td>\n",
       "      <td>5</td>\n",
       "      <td>0</td>\n",
       "      <td>0</td>\n",
       "      <td>0</td>\n",
       "      <td>1</td>\n",
       "    </tr>\n",
       "    <tr>\n",
       "      <th>4</th>\n",
       "      <td>0.736842</td>\n",
       "      <td>-0.017131</td>\n",
       "      <td>0.003807</td>\n",
       "      <td>4</td>\n",
       "      <td>0</td>\n",
       "      <td>1</td>\n",
       "      <td>0</td>\n",
       "      <td>0</td>\n",
       "    </tr>\n",
       "  </tbody>\n",
       "</table>\n",
       "</div>"
      ],
      "text/plain": [
       "   housing_median_age  total_bedrooms  median_income  lat_long_cluster  \\\n",
       "0            0.210526        0.542470      -0.129709                 5   \n",
       "1            1.052632        0.999286       0.120872                 1   \n",
       "2           -1.315789       -0.302641       0.276686                 4   \n",
       "3            0.368421       -0.199857      -0.726634                 5   \n",
       "4            0.736842       -0.017131       0.003807                 4   \n",
       "\n",
       "   less_1h_ocean  inland  near_bay  near_ocean  \n",
       "0              0       0         0           1  \n",
       "1              0       0         0           1  \n",
       "2              0       0         0           1  \n",
       "3              0       0         0           1  \n",
       "4              0       1         0           0  "
      ]
     },
     "execution_count": 75,
     "metadata": {},
     "output_type": "execute_result"
    }
   ],
   "source": [
    "X_train_scaled.head()"
   ]
  },
  {
   "cell_type": "code",
   "execution_count": 76,
   "id": "closed-break",
   "metadata": {},
   "outputs": [
    {
     "data": {
      "text/html": [
       "<div>\n",
       "<style scoped>\n",
       "    .dataframe tbody tr th:only-of-type {\n",
       "        vertical-align: middle;\n",
       "    }\n",
       "\n",
       "    .dataframe tbody tr th {\n",
       "        vertical-align: top;\n",
       "    }\n",
       "\n",
       "    .dataframe thead th {\n",
       "        text-align: right;\n",
       "    }\n",
       "</style>\n",
       "<table border=\"1\" class=\"dataframe\">\n",
       "  <thead>\n",
       "    <tr style=\"text-align: right;\">\n",
       "      <th></th>\n",
       "      <th>housing_median_age</th>\n",
       "      <th>total_bedrooms</th>\n",
       "      <th>median_income</th>\n",
       "      <th>lat_long_cluster</th>\n",
       "      <th>less_1h_ocean</th>\n",
       "      <th>inland</th>\n",
       "      <th>near_bay</th>\n",
       "      <th>near_ocean</th>\n",
       "    </tr>\n",
       "  </thead>\n",
       "  <tbody>\n",
       "    <tr>\n",
       "      <th>0</th>\n",
       "      <td>-0.210526</td>\n",
       "      <td>-0.00571</td>\n",
       "      <td>-0.845058</td>\n",
       "      <td>4</td>\n",
       "      <td>0</td>\n",
       "      <td>1</td>\n",
       "      <td>0</td>\n",
       "      <td>0</td>\n",
       "    </tr>\n",
       "    <tr>\n",
       "      <th>1</th>\n",
       "      <td>0.052632</td>\n",
       "      <td>-0.00571</td>\n",
       "      <td>-0.459783</td>\n",
       "      <td>4</td>\n",
       "      <td>0</td>\n",
       "      <td>1</td>\n",
       "      <td>0</td>\n",
       "      <td>0</td>\n",
       "    </tr>\n",
       "    <tr>\n",
       "      <th>2</th>\n",
       "      <td>1.210526</td>\n",
       "      <td>-0.00571</td>\n",
       "      <td>-0.029776</td>\n",
       "      <td>3</td>\n",
       "      <td>0</td>\n",
       "      <td>0</td>\n",
       "      <td>1</td>\n",
       "      <td>0</td>\n",
       "    </tr>\n",
       "    <tr>\n",
       "      <th>3</th>\n",
       "      <td>-0.631579</td>\n",
       "      <td>-0.00571</td>\n",
       "      <td>0.993349</td>\n",
       "      <td>1</td>\n",
       "      <td>1</td>\n",
       "      <td>0</td>\n",
       "      <td>0</td>\n",
       "      <td>0</td>\n",
       "    </tr>\n",
       "    <tr>\n",
       "      <th>4</th>\n",
       "      <td>0.263158</td>\n",
       "      <td>-0.00571</td>\n",
       "      <td>0.081216</td>\n",
       "      <td>3</td>\n",
       "      <td>0</td>\n",
       "      <td>0</td>\n",
       "      <td>0</td>\n",
       "      <td>1</td>\n",
       "    </tr>\n",
       "  </tbody>\n",
       "</table>\n",
       "</div>"
      ],
      "text/plain": [
       "   housing_median_age  total_bedrooms  median_income  lat_long_cluster  \\\n",
       "0           -0.210526        -0.00571      -0.845058                 4   \n",
       "1            0.052632        -0.00571      -0.459783                 4   \n",
       "2            1.210526        -0.00571      -0.029776                 3   \n",
       "3           -0.631579        -0.00571       0.993349                 1   \n",
       "4            0.263158        -0.00571       0.081216                 3   \n",
       "\n",
       "   less_1h_ocean  inland  near_bay  near_ocean  \n",
       "0              0       1         0           0  \n",
       "1              0       1         0           0  \n",
       "2              0       0         1           0  \n",
       "3              1       0         0           0  \n",
       "4              0       0         0           1  "
      ]
     },
     "execution_count": 76,
     "metadata": {},
     "output_type": "execute_result"
    }
   ],
   "source": [
    "X_test_scaled.head()"
   ]
  },
  {
   "cell_type": "code",
   "execution_count": 77,
   "id": "broke-renaissance",
   "metadata": {},
   "outputs": [],
   "source": [
    "# scaling target variables\n",
    "\n",
    "y_train_scaled = robust_scaler.fit_transform(y_train.values.reshape(-1,1))\n",
    "y_test_scaled  = robust_scaler.transform(y_test.values.reshape(-1,1))"
   ]
  },
  {
   "cell_type": "code",
   "execution_count": 78,
   "id": "basic-federation",
   "metadata": {},
   "outputs": [
    {
     "data": {
      "text/plain": [
       "array([[-0.52881473],\n",
       "       [ 1.39170824],\n",
       "       [-0.04988818],\n",
       "       ...,\n",
       "       [ 0.29072768],\n",
       "       [ 0.71322897],\n",
       "       [ 0.9987958 ]])"
      ]
     },
     "execution_count": 78,
     "metadata": {},
     "output_type": "execute_result"
    }
   ],
   "source": [
    "y_train_scaled"
   ]
  },
  {
   "cell_type": "code",
   "execution_count": 79,
   "id": "corrected-baltimore",
   "metadata": {},
   "outputs": [
    {
     "data": {
      "text/plain": [
       "array([[-0.90934113],\n",
       "       [-0.92241528],\n",
       "       [ 2.20300017],\n",
       "       ...,\n",
       "       [ 2.20300017],\n",
       "       [-0.74006537],\n",
       "       [-0.19507999]])"
      ]
     },
     "execution_count": 79,
     "metadata": {},
     "output_type": "execute_result"
    }
   ],
   "source": [
    "y_test_scaled"
   ]
  },
  {
   "cell_type": "code",
   "execution_count": 80,
   "id": "occupational-kruger",
   "metadata": {},
   "outputs": [
    {
     "data": {
      "text/plain": [
       "((16512, 8), (4128, 8))"
      ]
     },
     "execution_count": 80,
     "metadata": {},
     "output_type": "execute_result"
    }
   ],
   "source": [
    "X_train_scaled.shape, X_test_scaled.shape"
   ]
  },
  {
   "cell_type": "code",
   "execution_count": 81,
   "id": "vertical-preliminary",
   "metadata": {},
   "outputs": [
    {
     "data": {
      "text/plain": [
       "((16512, 1), (4128, 1))"
      ]
     },
     "execution_count": 81,
     "metadata": {},
     "output_type": "execute_result"
    }
   ],
   "source": [
    "y_train_scaled.shape, y_test_scaled.shape"
   ]
  },
  {
   "cell_type": "markdown",
   "id": "unavailable-messaging",
   "metadata": {},
   "source": [
    "### 6. Building Linear Regression Model"
   ]
  },
  {
   "cell_type": "code",
   "execution_count": 82,
   "id": "advance-break",
   "metadata": {},
   "outputs": [],
   "source": [
    "linear_regression_model = LinearRegression() "
   ]
  },
  {
   "cell_type": "code",
   "execution_count": 83,
   "id": "natural-bumper",
   "metadata": {},
   "outputs": [
    {
     "data": {
      "text/plain": [
       "LinearRegression()"
      ]
     },
     "execution_count": 83,
     "metadata": {},
     "output_type": "execute_result"
    }
   ],
   "source": [
    "linear_regression_model.fit(X_train_scaled, y_train_scaled)"
   ]
  },
  {
   "cell_type": "code",
   "execution_count": 84,
   "id": "crucial-juice",
   "metadata": {},
   "outputs": [],
   "source": [
    "y_pred_scaled = linear_regression_model.predict(X_test_scaled) #Predictions will be scaled as scaled data was used in training"
   ]
  },
  {
   "cell_type": "code",
   "execution_count": 85,
   "id": "involved-spectacular",
   "metadata": {},
   "outputs": [
    {
     "data": {
      "text/plain": [
       "array([[ 55673.36850733],\n",
       "       [ 94382.96374567],\n",
       "       [246529.66541181],\n",
       "       ...,\n",
       "       [422481.99082252],\n",
       "       [111999.55434371],\n",
       "       [200721.73112587]])"
      ]
     },
     "execution_count": 85,
     "metadata": {},
     "output_type": "execute_result"
    }
   ],
   "source": [
    "y_pred = robust_scaler.inverse_transform(y_pred_scaled)   # getting the predictions in original scale\n",
    "y_pred"
   ]
  },
  {
   "cell_type": "code",
   "execution_count": 86,
   "id": "agricultural-familiar",
   "metadata": {},
   "outputs": [
    {
     "data": {
      "text/html": [
       "<div>\n",
       "<style scoped>\n",
       "    .dataframe tbody tr th:only-of-type {\n",
       "        vertical-align: middle;\n",
       "    }\n",
       "\n",
       "    .dataframe tbody tr th {\n",
       "        vertical-align: top;\n",
       "    }\n",
       "\n",
       "    .dataframe thead th {\n",
       "        text-align: right;\n",
       "    }\n",
       "</style>\n",
       "<table border=\"1\" class=\"dataframe\">\n",
       "  <thead>\n",
       "    <tr style=\"text-align: right;\">\n",
       "      <th></th>\n",
       "      <th>Actual Values</th>\n",
       "      <th>Predicted Values</th>\n",
       "    </tr>\n",
       "  </thead>\n",
       "  <tbody>\n",
       "    <tr>\n",
       "      <th>0</th>\n",
       "      <td>47700</td>\n",
       "      <td>55673.368507</td>\n",
       "    </tr>\n",
       "    <tr>\n",
       "      <th>1</th>\n",
       "      <td>45800</td>\n",
       "      <td>94382.963746</td>\n",
       "    </tr>\n",
       "    <tr>\n",
       "      <th>2</th>\n",
       "      <td>500001</td>\n",
       "      <td>246529.665412</td>\n",
       "    </tr>\n",
       "    <tr>\n",
       "      <th>3</th>\n",
       "      <td>218600</td>\n",
       "      <td>284549.983833</td>\n",
       "    </tr>\n",
       "    <tr>\n",
       "      <th>4</th>\n",
       "      <td>278000</td>\n",
       "      <td>242164.914452</td>\n",
       "    </tr>\n",
       "    <tr>\n",
       "      <th>...</th>\n",
       "      <td>...</td>\n",
       "      <td>...</td>\n",
       "    </tr>\n",
       "    <tr>\n",
       "      <th>4123</th>\n",
       "      <td>263300</td>\n",
       "      <td>222325.860267</td>\n",
       "    </tr>\n",
       "    <tr>\n",
       "      <th>4124</th>\n",
       "      <td>266800</td>\n",
       "      <td>203906.685581</td>\n",
       "    </tr>\n",
       "    <tr>\n",
       "      <th>4125</th>\n",
       "      <td>500001</td>\n",
       "      <td>422481.990823</td>\n",
       "    </tr>\n",
       "    <tr>\n",
       "      <th>4126</th>\n",
       "      <td>72300</td>\n",
       "      <td>111999.554344</td>\n",
       "    </tr>\n",
       "    <tr>\n",
       "      <th>4127</th>\n",
       "      <td>151500</td>\n",
       "      <td>200721.731126</td>\n",
       "    </tr>\n",
       "  </tbody>\n",
       "</table>\n",
       "<p>4128 rows × 2 columns</p>\n",
       "</div>"
      ],
      "text/plain": [
       "      Actual Values  Predicted Values\n",
       "0             47700      55673.368507\n",
       "1             45800      94382.963746\n",
       "2            500001     246529.665412\n",
       "3            218600     284549.983833\n",
       "4            278000     242164.914452\n",
       "...             ...               ...\n",
       "4123         263300     222325.860267\n",
       "4124         266800     203906.685581\n",
       "4125         500001     422481.990823\n",
       "4126          72300     111999.554344\n",
       "4127         151500     200721.731126\n",
       "\n",
       "[4128 rows x 2 columns]"
      ]
     },
     "execution_count": 86,
     "metadata": {},
     "output_type": "execute_result"
    }
   ],
   "source": [
    "pd.DataFrame({'Actual Values': y_test, 'Predicted Values': y_pred.flatten()}).reset_index(drop=True) # just to view and confirm"
   ]
  },
  {
   "cell_type": "code",
   "execution_count": 87,
   "id": "opponent-program",
   "metadata": {},
   "outputs": [],
   "source": [
    "# Defining function to return the MAPE (Mean Absolute Percent Error)\n",
    "\n",
    "def get_mape(actual, pred): \n",
    "    actual, pred = np.array(actual), np.array(pred)\n",
    "    return np.mean(np.abs((actual - pred) / actual)) * 100"
   ]
  },
  {
   "cell_type": "code",
   "execution_count": 88,
   "id": "rural-space",
   "metadata": {},
   "outputs": [],
   "source": [
    "# defining a single function to get all required metrics of regression, to avoid writing it again and again\n",
    "\n",
    "def regression_metrics(actual, predicted):\n",
    "    \n",
    "    mae = mean_absolute_error(actual, predicted)\n",
    "    mse = mean_squared_error(actual, predicted)\n",
    "    rmse = np.sqrt(mean_squared_error(actual, predicted))\n",
    "    mape = get_mape(actual, predicted)\n",
    "    r_squared = r2_score(actual, predicted)\n",
    "    \n",
    "    return round(mae,2), round(mse,2), round(rmse,2), round(mape,2), round(r_squared, 2)\n",
    "    \n"
   ]
  },
  {
   "cell_type": "code",
   "execution_count": 89,
   "id": "limited-vehicle",
   "metadata": {},
   "outputs": [
    {
     "data": {
      "text/plain": [
       "False"
      ]
     },
     "execution_count": 89,
     "metadata": {},
     "output_type": "execute_result"
    }
   ],
   "source": [
    "any(housedata['median_house_value'] == 0) # checking if any of the target is 0, because MAPE will fail otherwise"
   ]
  },
  {
   "cell_type": "code",
   "execution_count": 90,
   "id": "fitted-blood",
   "metadata": {},
   "outputs": [],
   "source": [
    "mae, mse, rmse, mape, r_squared = regression_metrics(y_test, y_pred)"
   ]
  },
  {
   "cell_type": "code",
   "execution_count": 91,
   "id": "institutional-logan",
   "metadata": {},
   "outputs": [
    {
     "name": "stdout",
     "output_type": "stream",
     "text": [
      "Mean Absolute Error: 52622.29\n",
      "Mean Squared Error: 5304356396.49\n",
      "Root Mean Squared Error: 72831.01\n",
      "Mean Absolute Percent Error: 74.73%\n",
      "R Squared: 0.6\n"
     ]
    }
   ],
   "source": [
    "print(f'Mean Absolute Error: {mae}')\n",
    "print(f'Mean Squared Error: {mse}')\n",
    "print(f'Root Mean Squared Error: {rmse}')\n",
    "print(f'Mean Absolute Percent Error: {mape}%')\n",
    "print(f'R Squared: {r_squared}')"
   ]
  },
  {
   "cell_type": "code",
   "execution_count": 92,
   "id": "aging-afternoon",
   "metadata": {},
   "outputs": [
    {
     "data": {
      "image/png": "[encoded data removed]",
      "text/plain": [
       "<Figure size 864x432 with 1 Axes>"
      ]
     },
     "metadata": {},
     "output_type": "display_data"
    }
   ],
   "source": [
    "plt.style.use('seaborn-white')\n",
    "\n",
    "plt.figure(figsize=(12,6))\n",
    "sns.scatterplot(x=y_test,y=y_pred.ravel())\n",
    "plt.xlim(0,550000)\n",
    "plt.ylim(0, 700000)\n",
    "plt.title(\"Actual Values versus Predicted Values (Test Data)\", fontweight=\"bold\", fontdict = {'fontsize' : 19})\n",
    "plt.xlabel(\"Actual Test Target Values\", fontweight=\"bold\", fontdict = {'fontsize' : 15})\n",
    "plt.ylabel(\"Predicted Test Target Values\", fontweight=\"bold\", fontdict = {'fontsize' : 15});"
   ]
  },
  {
   "cell_type": "markdown",
   "id": "different-arnold",
   "metadata": {},
   "source": [
    "### 7. Bonus Exercise"
   ]
  },
  {
   "cell_type": "code",
   "execution_count": 93,
   "id": "interior-silence",
   "metadata": {},
   "outputs": [],
   "source": [
    "linear_regression_model_2 = LinearRegression() # another linear model instantiation"
   ]
  },
  {
   "cell_type": "code",
   "execution_count": 94,
   "id": "infrared-drill",
   "metadata": {},
   "outputs": [
    {
     "data": {
      "text/plain": [
       "array([[-0.52881473],\n",
       "       [ 1.39170824],\n",
       "       [-0.04988818],\n",
       "       ...,\n",
       "       [ 0.29072768],\n",
       "       [ 0.71322897],\n",
       "       [ 0.9987958 ]])"
      ]
     },
     "execution_count": 94,
     "metadata": {},
     "output_type": "execute_result"
    }
   ],
   "source": [
    "y_train_scaled # this is the target variable (scaled by robust scaler)"
   ]
  },
  {
   "cell_type": "code",
   "execution_count": 95,
   "id": "hindu-financing",
   "metadata": {},
   "outputs": [
    {
     "data": {
      "text/plain": [
       "LinearRegression()"
      ]
     },
     "execution_count": 95,
     "metadata": {},
     "output_type": "execute_result"
    }
   ],
   "source": [
    "# training linear regression model with only single feature 'median_income'\n",
    "\n",
    "linear_regression_model_2.fit(X_train_scaled['median_income'].values.reshape(-1,1), y_train_scaled)"
   ]
  },
  {
   "cell_type": "code",
   "execution_count": 96,
   "id": "canadian-liverpool",
   "metadata": {},
   "outputs": [],
   "source": [
    "# Predicting the target values of Training Data, and getting the original scaled values\n",
    "\n",
    "y_train_pred = linear_regression_model_2.predict(X_train_scaled['median_income'].values.reshape(-1,1))\n",
    "y_train_pred = robust_scaler.inverse_transform(y_train_pred)"
   ]
  },
  {
   "cell_type": "code",
   "execution_count": 97,
   "id": "alpine-fiber",
   "metadata": {},
   "outputs": [],
   "source": [
    "# Predicted values will also be in scaled format, and getting predicted values in original scale \n",
    "\n",
    "y_pred_scaled_2 = linear_regression_model_2.predict(X_test_scaled['median_income'].values.reshape(-1,1))\n",
    "y_pred_2 = robust_scaler.inverse_transform(y_pred_scaled_2)"
   ]
  },
  {
   "cell_type": "code",
   "execution_count": 98,
   "id": "cardiovascular-briefing",
   "metadata": {},
   "outputs": [],
   "source": [
    "mae, mse, rmse, mape, r_squared = regression_metrics(y_train, y_train_pred) # getting required regression performmance metrics"
   ]
  },
  {
   "cell_type": "code",
   "execution_count": 99,
   "id": "tight-consultancy",
   "metadata": {},
   "outputs": [
    {
     "name": "stdout",
     "output_type": "stream",
     "text": [
      "Train Data Metrics - Single feature Regression - 'median_income'\n",
      "\n",
      "Mean Absolute Error: 62495.08\n",
      "Mean Squared Error: 6991447170.18\n",
      "Root Mean Squared Error: 83614.87\n",
      "Mean Absolute Percent Error: 70.06%\n",
      "R Squared: 0.48\n"
     ]
    }
   ],
   "source": [
    "print(\"Train Data Metrics - Single feature Regression - 'median_income'\\n\")\n",
    "\n",
    "print(f'Mean Absolute Error: {mae}')\n",
    "print(f'Mean Squared Error: {mse}')\n",
    "print(f'Root Mean Squared Error: {rmse}')\n",
    "print(f'Mean Absolute Percent Error: {mape}%')\n",
    "print(f'R Squared: {r_squared}')"
   ]
  },
  {
   "cell_type": "code",
   "execution_count": 100,
   "id": "another-blink",
   "metadata": {},
   "outputs": [],
   "source": [
    "# getting required regression performmance metrics\n",
    "mae_test, mse_test, rmse_test, mape_test, r_squared_test = regression_metrics(y_test, y_pred_2) "
   ]
  },
  {
   "cell_type": "code",
   "execution_count": 101,
   "id": "together-tennessee",
   "metadata": {},
   "outputs": [
    {
     "name": "stdout",
     "output_type": "stream",
     "text": [
      "Test Data Metrics - Single feature Regression - 'median_income'\n",
      "\n",
      "Mean Absolute Error: 62990.87\n",
      "Mean Squared Error: 7091157771.77\n",
      "Root Mean Squared Error: 84209.01\n",
      "Mean Absolute Percent Error: 69.95%\n",
      "R Squared: 0.46\n"
     ]
    }
   ],
   "source": [
    "print(\"Test Data Metrics - Single feature Regression - 'median_income'\\n\")\n",
    "print(f'Mean Absolute Error: {mae_test}')\n",
    "print(f'Mean Squared Error: {mse_test}')\n",
    "print(f'Root Mean Squared Error: {rmse_test}')\n",
    "print(f'Mean Absolute Percent Error: {mape_test}%')\n",
    "print(f'R Squared: {r_squared_test}')"
   ]
  },
  {
   "cell_type": "code",
   "execution_count": 102,
   "id": "obvious-slovak",
   "metadata": {},
   "outputs": [
    {
     "data": {
      "text/plain": [
       "((4128,), (4128, 1))"
      ]
     },
     "execution_count": 102,
     "metadata": {},
     "output_type": "execute_result"
    }
   ],
   "source": [
    "y_test.shape, y_pred_2.shape"
   ]
  },
  {
   "cell_type": "code",
   "execution_count": 103,
   "id": "assisted-arbor",
   "metadata": {},
   "outputs": [
    {
     "data": {
      "image/png": "[encoded data removed]",
      "text/plain": [
       "<Figure size 864x432 with 1 Axes>"
      ]
     },
     "metadata": {},
     "output_type": "display_data"
    }
   ],
   "source": [
    "plt.style.use('seaborn-whitegrid')\n",
    "\n",
    "plt.figure(figsize=(12,6))\n",
    "sns.scatterplot(x=y_train,y=y_train_pred.ravel())\n",
    "plt.xlim(0,550000)\n",
    "plt.ylim(0, 700000)\n",
    "plt.title(\"Actual versus Predicted Values (Train Data - 'median_income')\", fontweight=\"bold\", fontdict = {'fontsize' : 19})\n",
    "plt.xlabel(\"Actual Train Target Values\", fontweight=\"bold\", fontdict = {'fontsize' : 15})\n",
    "plt.ylabel(\"Predicted Train Target Values\", fontweight=\"bold\", fontdict = {'fontsize' : 15});"
   ]
  },
  {
   "cell_type": "code",
   "execution_count": 104,
   "id": "infrared-printing",
   "metadata": {},
   "outputs": [
    {
     "data": {
      "image/png": "[encoded data removed]",
      "text/plain": [
       "<Figure size 864x432 with 1 Axes>"
      ]
     },
     "metadata": {},
     "output_type": "display_data"
    }
   ],
   "source": [
    "plt.style.use('seaborn-whitegrid')\n",
    "\n",
    "plt.figure(figsize=(12,6))\n",
    "sns.scatterplot(x=y_test,y=y_pred_2.ravel())\n",
    "plt.xlim(0,550000)\n",
    "plt.ylim(0, 700000)\n",
    "plt.title(\"Actual Values versus Predicted Values (Test Data - 'median_income')\", fontweight=\"bold\", fontdict = {'fontsize' : 19})\n",
    "plt.xlabel(\"Actual Test Target Values\", fontweight=\"bold\", fontdict = {'fontsize' : 15})\n",
    "plt.ylabel(\"Predicted Test Target Values\", fontweight=\"bold\", fontdict = {'fontsize' : 15});"
   ]
  },
  {
   "cell_type": "markdown",
   "id": "intermediate-pizza",
   "metadata": {},
   "source": [
    "### Further Analysis: OLS Regression from Statsmodel"
   ]
  },
  {
   "cell_type": "markdown",
   "id": "periodic-filling",
   "metadata": {},
   "source": [
    "##### Trying to build the linear regression model from OLS Regression (of Statsmodel library)"
   ]
  },
  {
   "cell_type": "code",
   "execution_count": 105,
   "id": "wrapped-subscriber",
   "metadata": {},
   "outputs": [
    {
     "data": {
      "text/plain": [
       "'housing_median_age + total_bedrooms + median_income + lat_long_cluster + less_1h_ocean + inland + near_bay + near_ocean'"
      ]
     },
     "execution_count": 105,
     "metadata": {},
     "output_type": "execute_result"
    }
   ],
   "source": [
    "# getting all the input column names (features)\n",
    "\n",
    "features = ' + '.join(X_train_scaled.columns)\n",
    "features"
   ]
  },
  {
   "cell_type": "code",
   "execution_count": 106,
   "id": "physical-graham",
   "metadata": {},
   "outputs": [
    {
     "data": {
      "text/html": [
       "<div>\n",
       "<style scoped>\n",
       "    .dataframe tbody tr th:only-of-type {\n",
       "        vertical-align: middle;\n",
       "    }\n",
       "\n",
       "    .dataframe tbody tr th {\n",
       "        vertical-align: top;\n",
       "    }\n",
       "\n",
       "    .dataframe thead th {\n",
       "        text-align: right;\n",
       "    }\n",
       "</style>\n",
       "<table border=\"1\" class=\"dataframe\">\n",
       "  <thead>\n",
       "    <tr style=\"text-align: right;\">\n",
       "      <th></th>\n",
       "      <th>housing_median_age</th>\n",
       "      <th>total_bedrooms</th>\n",
       "      <th>median_income</th>\n",
       "      <th>lat_long_cluster</th>\n",
       "      <th>less_1h_ocean</th>\n",
       "      <th>inland</th>\n",
       "      <th>near_bay</th>\n",
       "      <th>near_ocean</th>\n",
       "    </tr>\n",
       "  </thead>\n",
       "  <tbody>\n",
       "    <tr>\n",
       "      <th>0</th>\n",
       "      <td>0.210526</td>\n",
       "      <td>0.542470</td>\n",
       "      <td>-0.129709</td>\n",
       "      <td>5</td>\n",
       "      <td>0</td>\n",
       "      <td>0</td>\n",
       "      <td>0</td>\n",
       "      <td>1</td>\n",
       "    </tr>\n",
       "    <tr>\n",
       "      <th>1</th>\n",
       "      <td>1.052632</td>\n",
       "      <td>0.999286</td>\n",
       "      <td>0.120872</td>\n",
       "      <td>1</td>\n",
       "      <td>0</td>\n",
       "      <td>0</td>\n",
       "      <td>0</td>\n",
       "      <td>1</td>\n",
       "    </tr>\n",
       "    <tr>\n",
       "      <th>2</th>\n",
       "      <td>-1.315789</td>\n",
       "      <td>-0.302641</td>\n",
       "      <td>0.276686</td>\n",
       "      <td>4</td>\n",
       "      <td>0</td>\n",
       "      <td>0</td>\n",
       "      <td>0</td>\n",
       "      <td>1</td>\n",
       "    </tr>\n",
       "  </tbody>\n",
       "</table>\n",
       "</div>"
      ],
      "text/plain": [
       "   housing_median_age  total_bedrooms  median_income  lat_long_cluster  \\\n",
       "0            0.210526        0.542470      -0.129709                 5   \n",
       "1            1.052632        0.999286       0.120872                 1   \n",
       "2           -1.315789       -0.302641       0.276686                 4   \n",
       "\n",
       "   less_1h_ocean  inland  near_bay  near_ocean  \n",
       "0              0       0         0           1  \n",
       "1              0       0         0           1  \n",
       "2              0       0         0           1  "
      ]
     },
     "execution_count": 106,
     "metadata": {},
     "output_type": "execute_result"
    }
   ],
   "source": [
    "X_train_scaled.head(3)"
   ]
  },
  {
   "cell_type": "code",
   "execution_count": 107,
   "id": "south-nightlife",
   "metadata": {},
   "outputs": [
    {
     "data": {
      "text/html": [
       "<div>\n",
       "<style scoped>\n",
       "    .dataframe tbody tr th:only-of-type {\n",
       "        vertical-align: middle;\n",
       "    }\n",
       "\n",
       "    .dataframe tbody tr th {\n",
       "        vertical-align: top;\n",
       "    }\n",
       "\n",
       "    .dataframe thead th {\n",
       "        text-align: right;\n",
       "    }\n",
       "</style>\n",
       "<table border=\"1\" class=\"dataframe\">\n",
       "  <thead>\n",
       "    <tr style=\"text-align: right;\">\n",
       "      <th></th>\n",
       "      <th>median_house_value</th>\n",
       "    </tr>\n",
       "  </thead>\n",
       "  <tbody>\n",
       "    <tr>\n",
       "      <th>0</th>\n",
       "      <td>-0.528815</td>\n",
       "    </tr>\n",
       "    <tr>\n",
       "      <th>1</th>\n",
       "      <td>1.391708</td>\n",
       "    </tr>\n",
       "    <tr>\n",
       "      <th>2</th>\n",
       "      <td>-0.049888</td>\n",
       "    </tr>\n",
       "  </tbody>\n",
       "</table>\n",
       "</div>"
      ],
      "text/plain": [
       "   median_house_value\n",
       "0           -0.528815\n",
       "1            1.391708\n",
       "2           -0.049888"
      ]
     },
     "execution_count": 107,
     "metadata": {},
     "output_type": "execute_result"
    }
   ],
   "source": [
    "pd.DataFrame(y_train_scaled, columns=['median_house_value']).head(3)"
   ]
  },
  {
   "cell_type": "code",
   "execution_count": 108,
   "id": "valued-forwarding",
   "metadata": {},
   "outputs": [
    {
     "data": {
      "text/html": [
       "<div>\n",
       "<style scoped>\n",
       "    .dataframe tbody tr th:only-of-type {\n",
       "        vertical-align: middle;\n",
       "    }\n",
       "\n",
       "    .dataframe tbody tr th {\n",
       "        vertical-align: top;\n",
       "    }\n",
       "\n",
       "    .dataframe thead th {\n",
       "        text-align: right;\n",
       "    }\n",
       "</style>\n",
       "<table border=\"1\" class=\"dataframe\">\n",
       "  <thead>\n",
       "    <tr style=\"text-align: right;\">\n",
       "      <th></th>\n",
       "      <th>housing_median_age</th>\n",
       "      <th>total_bedrooms</th>\n",
       "      <th>median_income</th>\n",
       "      <th>lat_long_cluster</th>\n",
       "      <th>less_1h_ocean</th>\n",
       "      <th>inland</th>\n",
       "      <th>near_bay</th>\n",
       "      <th>near_ocean</th>\n",
       "      <th>median_house_value</th>\n",
       "    </tr>\n",
       "  </thead>\n",
       "  <tbody>\n",
       "    <tr>\n",
       "      <th>0</th>\n",
       "      <td>0.210526</td>\n",
       "      <td>0.542470</td>\n",
       "      <td>-0.129709</td>\n",
       "      <td>5</td>\n",
       "      <td>0</td>\n",
       "      <td>0</td>\n",
       "      <td>0</td>\n",
       "      <td>1</td>\n",
       "      <td>-0.528815</td>\n",
       "    </tr>\n",
       "    <tr>\n",
       "      <th>1</th>\n",
       "      <td>1.052632</td>\n",
       "      <td>0.999286</td>\n",
       "      <td>0.120872</td>\n",
       "      <td>1</td>\n",
       "      <td>0</td>\n",
       "      <td>0</td>\n",
       "      <td>0</td>\n",
       "      <td>1</td>\n",
       "      <td>1.391708</td>\n",
       "    </tr>\n",
       "    <tr>\n",
       "      <th>2</th>\n",
       "      <td>-1.315789</td>\n",
       "      <td>-0.302641</td>\n",
       "      <td>0.276686</td>\n",
       "      <td>4</td>\n",
       "      <td>0</td>\n",
       "      <td>0</td>\n",
       "      <td>0</td>\n",
       "      <td>1</td>\n",
       "      <td>-0.049888</td>\n",
       "    </tr>\n",
       "  </tbody>\n",
       "</table>\n",
       "</div>"
      ],
      "text/plain": [
       "   housing_median_age  total_bedrooms  median_income  lat_long_cluster  \\\n",
       "0            0.210526        0.542470      -0.129709                 5   \n",
       "1            1.052632        0.999286       0.120872                 1   \n",
       "2           -1.315789       -0.302641       0.276686                 4   \n",
       "\n",
       "   less_1h_ocean  inland  near_bay  near_ocean  median_house_value  \n",
       "0              0       0         0           1           -0.528815  \n",
       "1              0       0         0           1            1.391708  \n",
       "2              0       0         0           1           -0.049888  "
      ]
     },
     "execution_count": 108,
     "metadata": {},
     "output_type": "execute_result"
    }
   ],
   "source": [
    "# Combining training features and input variable to pass it in OLS function to build the model\n",
    "\n",
    "ols_scaled_data = pd.concat([X_train_scaled, \n",
    "                             pd.DataFrame(y_train_scaled, columns=['median_house_value'])], axis = 1)\n",
    "ols_scaled_data.head(3)"
   ]
  },
  {
   "cell_type": "code",
   "execution_count": 109,
   "id": "protective-newfoundland",
   "metadata": {
    "scrolled": false
   },
   "outputs": [],
   "source": [
    "model = ols(formula = 'median_house_value ~ ' + features, data = ols_scaled_data).fit() # building the model"
   ]
  },
  {
   "cell_type": "code",
   "execution_count": 110,
   "id": "executed-contents",
   "metadata": {},
   "outputs": [
    {
     "data": {
      "text/html": [
       "<table class=\"simpletable\">\n",
       "<caption>OLS Regression Results</caption>\n",
       "<tr>\n",
       "  <th>Dep. Variable:</th>    <td>median_house_value</td> <th>  R-squared:         </th> <td>   0.611</td> \n",
       "</tr>\n",
       "<tr>\n",
       "  <th>Model:</th>                    <td>OLS</td>        <th>  Adj. R-squared:    </th> <td>   0.611</td> \n",
       "</tr>\n",
       "<tr>\n",
       "  <th>Method:</th>              <td>Least Squares</td>   <th>  F-statistic:       </th> <td>   3241.</td> \n",
       "</tr>\n",
       "<tr>\n",
       "  <th>Date:</th>              <td>Tue, 13 Sep 2022</td>  <th>  Prob (F-statistic):</th>  <td>  0.00</td>  \n",
       "</tr>\n",
       "<tr>\n",
       "  <th>Time:</th>                  <td>23:31:16</td>      <th>  Log-Likelihood:    </th> <td> -11857.</td> \n",
       "</tr>\n",
       "<tr>\n",
       "  <th>No. Observations:</th>       <td> 16512</td>       <th>  AIC:               </th> <td>2.373e+04</td>\n",
       "</tr>\n",
       "<tr>\n",
       "  <th>Df Residuals:</th>           <td> 16503</td>       <th>  BIC:               </th> <td>2.380e+04</td>\n",
       "</tr>\n",
       "<tr>\n",
       "  <th>Df Model:</th>               <td>     8</td>       <th>                     </th>     <td> </td>    \n",
       "</tr>\n",
       "<tr>\n",
       "  <th>Covariance Type:</th>       <td>nonrobust</td>     <th>                     </th>     <td> </td>    \n",
       "</tr>\n",
       "</table>\n",
       "<table class=\"simpletable\">\n",
       "<tr>\n",
       "           <td></td>             <th>coef</th>     <th>std err</th>      <th>t</th>      <th>P>|t|</th>  <th>[0.025</th>    <th>0.975]</th>  \n",
       "</tr>\n",
       "<tr>\n",
       "  <th>Intercept</th>          <td>    1.4131</td> <td>    0.248</td> <td>    5.693</td> <td> 0.000</td> <td>    0.927</td> <td>    1.900</td>\n",
       "</tr>\n",
       "<tr>\n",
       "  <th>housing_median_age</th> <td>    0.1520</td> <td>    0.007</td> <td>   22.452</td> <td> 0.000</td> <td>    0.139</td> <td>    0.165</td>\n",
       "</tr>\n",
       "<tr>\n",
       "  <th>total_bedrooms</th>     <td>    0.0640</td> <td>    0.003</td> <td>   18.601</td> <td> 0.000</td> <td>    0.057</td> <td>    0.071</td>\n",
       "</tr>\n",
       "<tr>\n",
       "  <th>median_income</th>      <td>    0.5875</td> <td>    0.005</td> <td>  124.566</td> <td> 0.000</td> <td>    0.578</td> <td>    0.597</td>\n",
       "</tr>\n",
       "<tr>\n",
       "  <th>lat_long_cluster</th>   <td>   -0.0318</td> <td>    0.003</td> <td>  -10.349</td> <td> 0.000</td> <td>   -0.038</td> <td>   -0.026</td>\n",
       "</tr>\n",
       "<tr>\n",
       "  <th>less_1h_ocean</th>      <td>   -1.1481</td> <td>    0.248</td> <td>   -4.625</td> <td> 0.000</td> <td>   -1.635</td> <td>   -0.662</td>\n",
       "</tr>\n",
       "<tr>\n",
       "  <th>inland</th>             <td>   -1.6116</td> <td>    0.248</td> <td>   -6.490</td> <td> 0.000</td> <td>   -2.098</td> <td>   -1.125</td>\n",
       "</tr>\n",
       "<tr>\n",
       "  <th>near_bay</th>           <td>   -1.0251</td> <td>    0.249</td> <td>   -4.125</td> <td> 0.000</td> <td>   -1.512</td> <td>   -0.538</td>\n",
       "</tr>\n",
       "<tr>\n",
       "  <th>near_ocean</th>         <td>   -0.9763</td> <td>    0.249</td> <td>   -3.929</td> <td> 0.000</td> <td>   -1.463</td> <td>   -0.489</td>\n",
       "</tr>\n",
       "</table>\n",
       "<table class=\"simpletable\">\n",
       "<tr>\n",
       "  <th>Omnibus:</th>       <td>3741.006</td> <th>  Durbin-Watson:     </th> <td>   1.965</td> \n",
       "</tr>\n",
       "<tr>\n",
       "  <th>Prob(Omnibus):</th>  <td> 0.000</td>  <th>  Jarque-Bera (JB):  </th> <td>10222.923</td>\n",
       "</tr>\n",
       "<tr>\n",
       "  <th>Skew:</th>           <td> 1.208</td>  <th>  Prob(JB):          </th> <td>    0.00</td> \n",
       "</tr>\n",
       "<tr>\n",
       "  <th>Kurtosis:</th>       <td> 6.004</td>  <th>  Cond. No.          </th> <td>    407.</td> \n",
       "</tr>\n",
       "</table><br/><br/>Notes:<br/>[1] Standard Errors assume that the covariance matrix of the errors is correctly specified."
      ],
      "text/plain": [
       "<class 'statsmodels.iolib.summary.Summary'>\n",
       "\"\"\"\n",
       "                            OLS Regression Results                            \n",
       "==============================================================================\n",
       "Dep. Variable:     median_house_value   R-squared:                       0.611\n",
       "Model:                            OLS   Adj. R-squared:                  0.611\n",
       "Method:                 Least Squares   F-statistic:                     3241.\n",
       "Date:                Tue, 13 Sep 2022   Prob (F-statistic):               0.00\n",
       "Time:                        23:31:16   Log-Likelihood:                -11857.\n",
       "No. Observations:               16512   AIC:                         2.373e+04\n",
       "Df Residuals:                   16503   BIC:                         2.380e+04\n",
       "Df Model:                           8                                         \n",
       "Covariance Type:            nonrobust                                         \n",
       "======================================================================================\n",
       "                         coef    std err          t      P>|t|      [0.025      0.975]\n",
       "--------------------------------------------------------------------------------------\n",
       "Intercept              1.4131      0.248      5.693      0.000       0.927       1.900\n",
       "housing_median_age     0.1520      0.007     22.452      0.000       0.139       0.165\n",
       "total_bedrooms         0.0640      0.003     18.601      0.000       0.057       0.071\n",
       "median_income          0.5875      0.005    124.566      0.000       0.578       0.597\n",
       "lat_long_cluster      -0.0318      0.003    -10.349      0.000      -0.038      -0.026\n",
       "less_1h_ocean         -1.1481      0.248     -4.625      0.000      -1.635      -0.662\n",
       "inland                -1.6116      0.248     -6.490      0.000      -2.098      -1.125\n",
       "near_bay              -1.0251      0.249     -4.125      0.000      -1.512      -0.538\n",
       "near_ocean            -0.9763      0.249     -3.929      0.000      -1.463      -0.489\n",
       "==============================================================================\n",
       "Omnibus:                     3741.006   Durbin-Watson:                   1.965\n",
       "Prob(Omnibus):                  0.000   Jarque-Bera (JB):            10222.923\n",
       "Skew:                           1.208   Prob(JB):                         0.00\n",
       "Kurtosis:                       6.004   Cond. No.                         407.\n",
       "==============================================================================\n",
       "\n",
       "Notes:\n",
       "[1] Standard Errors assume that the covariance matrix of the errors is correctly specified.\n",
       "\"\"\""
      ]
     },
     "execution_count": 110,
     "metadata": {},
     "output_type": "execute_result"
    }
   ],
   "source": [
    "model.summary() # viewing the summary"
   ]
  },
  {
   "cell_type": "markdown",
   "id": "conceptual-pierre",
   "metadata": {},
   "source": [
    "##### Attempting to build Random Forest Regressor Model from Ensemble models library, to see how it performs"
   ]
  },
  {
   "cell_type": "code",
   "execution_count": 111,
   "id": "confidential-muscle",
   "metadata": {},
   "outputs": [
    {
     "data": {
      "text/plain": [
       "RandomForestRegressor(n_estimators=150, random_state=0)"
      ]
     },
     "execution_count": 111,
     "metadata": {},
     "output_type": "execute_result"
    }
   ],
   "source": [
    "# instantiating and building the random forest regressor\n",
    "\n",
    "random_forest_regressor = RandomForestRegressor(n_estimators = 150, random_state = 0)\n",
    "random_forest_regressor.fit(X_train_scaled, y_train_scaled.ravel())  "
   ]
  },
  {
   "cell_type": "code",
   "execution_count": 112,
   "id": "clear-dollar",
   "metadata": {},
   "outputs": [],
   "source": [
    "# Getting predicted values (it will be scaled as data fed in was also scaled)\n",
    "\n",
    "y_predicted_scaled = random_forest_regressor.predict(X_test_scaled)"
   ]
  },
  {
   "cell_type": "code",
   "execution_count": 113,
   "id": "regulation-italic",
   "metadata": {},
   "outputs": [],
   "source": [
    "# getting predicted values in original scale\n",
    "\n",
    "y_predicted = robust_scaler.inverse_transform(y_predicted_scaled.reshape(-1,1))"
   ]
  },
  {
   "cell_type": "code",
   "execution_count": 114,
   "id": "broken-motel",
   "metadata": {},
   "outputs": [
    {
     "data": {
      "text/plain": [
       "array([[ 54060.66666667],\n",
       "       [ 71861.33333333],\n",
       "       [242491.38      ],\n",
       "       ...,\n",
       "       [498184.29333333],\n",
       "       [ 67004.66666667],\n",
       "       [190369.35333333]])"
      ]
     },
     "execution_count": 114,
     "metadata": {},
     "output_type": "execute_result"
    }
   ],
   "source": [
    "y_predicted"
   ]
  },
  {
   "cell_type": "code",
   "execution_count": 115,
   "id": "illegal-ghost",
   "metadata": {},
   "outputs": [],
   "source": [
    "mae, mse, rmse, mape, r_squared = regression_metrics(y_test, y_predicted) # getting regression performance metrics"
   ]
  },
  {
   "cell_type": "code",
   "execution_count": 116,
   "id": "breathing-insulin",
   "metadata": {},
   "outputs": [
    {
     "name": "stdout",
     "output_type": "stream",
     "text": [
      "Test Data Metrics - Random Forest Regressor\n",
      "\n",
      "Mean Absolute Error: 47857.86\n",
      "Mean Squared Error: 4823567900.96\n",
      "Root Mean Squared Error: 69451.91\n",
      "Mean Absolute Percent Error: 76.72%\n",
      "R Squared: 0.63\n"
     ]
    }
   ],
   "source": [
    "print(\"Test Data Metrics - Random Forest Regressor\\n\")\n",
    "\n",
    "print(f'Mean Absolute Error: {mae}')\n",
    "print(f'Mean Squared Error: {mse}')\n",
    "print(f'Root Mean Squared Error: {rmse}')\n",
    "print(f'Mean Absolute Percent Error: {mape}%')\n",
    "print(f'R Squared: {r_squared}')"
   ]
  },
  {
   "cell_type": "markdown",
   "id": "bizarre-album",
   "metadata": {},
   "source": [
    "<center> <h3> End of the Project </h3> </center>"
   ]
  }
 ],
 "metadata": {
  "kernelspec": {
   "display_name": "Python 3",
   "language": "python",
   "name": "python3"
  },
  "language_info": {
   "codemirror_mode": {
    "name": "ipython",
    "version": 3
   },
   "file_extension": ".py",
   "mimetype": "text/x-python",
   "name": "python",
   "nbconvert_exporter": "python",
   "pygments_lexer": "ipython3",
   "version": "3.7.10"
  }
 },
 "nbformat": 4,
 "nbformat_minor": 5
}
