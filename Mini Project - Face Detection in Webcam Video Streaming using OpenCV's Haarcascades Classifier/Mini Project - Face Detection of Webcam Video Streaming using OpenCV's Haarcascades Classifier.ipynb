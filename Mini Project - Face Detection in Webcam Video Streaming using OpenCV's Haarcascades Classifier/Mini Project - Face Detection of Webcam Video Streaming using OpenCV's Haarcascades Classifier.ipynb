{
 "cells": [
  {
   "cell_type": "markdown",
   "id": "3a7211b3",
   "metadata": {},
   "source": [
    "# Face Detection in Webcam Video Streaming using OpenCV's Haarcascades Classifier"
   ]
  },
  {
   "cell_type": "code",
   "execution_count": 1,
   "id": "da956078",
   "metadata": {},
   "outputs": [],
   "source": [
    "import cv2\n",
    "import matplotlib.pyplot as plt"
   ]
  },
  {
   "cell_type": "code",
   "execution_count": 2,
   "id": "7408d764",
   "metadata": {},
   "outputs": [],
   "source": [
    "cam = cv2.VideoCapture(0)"
   ]
  },
  {
   "cell_type": "code",
   "execution_count": 3,
   "id": "56efc9e2",
   "metadata": {},
   "outputs": [],
   "source": [
    "model_frontalface_alt = cv2.CascadeClassifier(\"haarcascade_frontalface_alt.xml\")"
   ]
  },
  {
   "cell_type": "code",
   "execution_count": 4,
   "id": "87676606",
   "metadata": {},
   "outputs": [],
   "source": [
    "while True:\n",
    "    success, img = cam.read()\n",
    "    if not success:\n",
    "        print(\"Unable to read image from webcam!\")\n",
    "    \n",
    "    faces = model_frontalface_alt.detectMultiScale(img, scaleFactor= 1.3, minNeighbors = 5 )\n",
    "    \n",
    "    for f in faces:\n",
    "        x,y,w,h = f\n",
    "        cv2.rectangle(img, (x,y), (x+w, y+h), (255,0,0), 4 )\n",
    "    cv2.imshow(\"image\", img)\n",
    "    \n",
    "    key = cv2.waitKey(5)     # Pause here for 1 ms before you read the next image \n",
    "    if key == ord('q') or key == ord('Q'):  # press q to exit\n",
    "        break\n",
    "\n",
    "cam.release()\n",
    "cv2.destroyAllWindows() "
   ]
  },
  {
   "cell_type": "code",
   "execution_count": null,
   "id": "13dc4c3f",
   "metadata": {},
   "outputs": [],
   "source": []
  },
  {
   "cell_type": "code",
   "execution_count": null,
   "id": "9850bf26",
   "metadata": {},
   "outputs": [],
   "source": []
  },
  {
   "cell_type": "code",
   "execution_count": null,
   "id": "f012c411",
   "metadata": {},
   "outputs": [],
   "source": []
  },
  {
   "cell_type": "code",
   "execution_count": null,
   "id": "21f20595",
   "metadata": {},
   "outputs": [],
   "source": []
  },
  {
   "cell_type": "code",
   "execution_count": null,
   "id": "a4195ab2",
   "metadata": {},
   "outputs": [],
   "source": []
  },
  {
   "cell_type": "code",
   "execution_count": null,
   "id": "4fe820fc",
   "metadata": {},
   "outputs": [],
   "source": []
  },
  {
   "cell_type": "code",
   "execution_count": null,
   "id": "e45822c8",
   "metadata": {},
   "outputs": [],
   "source": []
  },
  {
   "cell_type": "code",
   "execution_count": null,
   "id": "b926c5a2",
   "metadata": {},
   "outputs": [],
   "source": []
  },
  {
   "cell_type": "code",
   "execution_count": null,
   "id": "480cd3dc",
   "metadata": {},
   "outputs": [],
   "source": []
  },
  {
   "cell_type": "code",
   "execution_count": null,
   "id": "5e23c67f",
   "metadata": {},
   "outputs": [],
   "source": []
  },
  {
   "cell_type": "code",
   "execution_count": null,
   "id": "ccacc5bd",
   "metadata": {},
   "outputs": [],
   "source": []
  },
  {
   "cell_type": "code",
   "execution_count": null,
   "id": "0471cce6",
   "metadata": {},
   "outputs": [],
   "source": []
  },
  {
   "cell_type": "code",
   "execution_count": null,
   "id": "d254b761",
   "metadata": {},
   "outputs": [],
   "source": []
  },
  {
   "cell_type": "code",
   "execution_count": null,
   "id": "16e6c97e",
   "metadata": {},
   "outputs": [],
   "source": []
  },
  {
   "cell_type": "code",
   "execution_count": null,
   "id": "12351cf3",
   "metadata": {},
   "outputs": [],
   "source": []
  }
 ],
 "metadata": {
  "kernelspec": {
   "display_name": "Python 3 (ipykernel)",
   "language": "python",
   "name": "python3"
  },
  "language_info": {
   "codemirror_mode": {
    "name": "ipython",
    "version": 3
   },
   "file_extension": ".py",
   "mimetype": "text/x-python",
   "name": "python",
   "nbconvert_exporter": "python",
   "pygments_lexer": "ipython3",
   "version": "3.9.16"
  }
 },
 "nbformat": 4,
 "nbformat_minor": 5
}
