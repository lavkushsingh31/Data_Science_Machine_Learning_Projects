{
 "cells": [
  {
   "cell_type": "markdown",
   "id": "f4cf84c3",
   "metadata": {},
   "source": [
    "\n",
    "\n",
    "\n",
    "<h1 align=\"center\">Simplilearn Post Graduate Program - Data Science - In Partnership With Purdue University</h1>  "
   ]
  },
  {
   "cell_type": "markdown",
   "id": "f08f9351",
   "metadata": {},
   "source": [
    "<div style=\"font-size: 22px\">\n",
    "<b> <center>R Project report - Retail Analysis with Walmart Data </center></b><br>\n",
    "</div>"
   ]
  },
  {
   "cell_type": "markdown",
   "id": "8b19f38c",
   "metadata": {},
   "source": [
    "<div  style=\"font-size: 17px\">\n",
    "Organization: <b>Simplilearn - Purdue University</b><br>\n",
    "Batch: <b>PGP DS Mar 2022 COHORT 2</b><br>\n",
    "Course: <b>PG -DS - Data Science with R</b><br>\n",
    "Project: <b>Retail Analysis with Walmart Data</b><br>\n",
    "Programming Language: <b>R</b><br>\n",
    "Submitted by: <b>Lavkush Singh</b>\n",
    "</div>"
   ]
  },
  {
   "cell_type": "markdown",
   "id": "8b1d8671",
   "metadata": {},
   "source": [
    "## Dataset Description\n",
    "\n",
    "**This is the historical data which covers sales from 2010-02-05 to 2012-11-01, in the file Walmart_Store_sales. This file has the following fields:**\n",
    "\n",
    "* **Store** - the store number\n",
    "* **Date** - the week of sales\n",
    "* **Weekly_Sales** -  sales for the given store\n",
    "* **Holiday_Flag** - whether the week is a special holiday week 1 – Holiday week 0 – Non-holiday week\n",
    "* **Temperature** - Temperature on the day of sale\n",
    "* **Fuel_Price** - Cost of fuel in the region\n",
    "* **CPI** – Prevailing consumer price index\n",
    "* **Unemployment** - Prevailing unemployment rate\n",
    "\n"
   ]
  },
  {
   "cell_type": "markdown",
   "id": "2f39f890",
   "metadata": {},
   "source": [
    "## Problem Statement\n",
    "\n",
    "**Based on the given data, basic analysis to be performed, and to model a Linear Regression to forecast demand**\n",
    "\n",
    "##### Basic Statistics tasks\n",
    "\n",
    "- Which store has maximum sales\n",
    "- Which store has maximum standard deviation i.e., the sales vary a lot. Also, find out the coefficient of mean to standard deviation\n",
    "- Which store/s has good quarterly growth rate in Q3’2012\n",
    "- Some holidays have a negative impact on sales. Find out holidays which have higher sales than the mean sales in non-holiday season for all stores together\n",
    "- Provide a monthly and semester view of sales in units and give insights\n",
    "\n",
    " \n",
    "\n",
    "##### Statistical Model\n",
    "- For Store 1 – Build  prediction models to forecast demand\n",
    "    - Hypothesize if CPI, unemployment, and fuel price have any impact on sales.\n",
    "    - Change dates into days by creating new variable.\n",
    "    - Linear Regression"
   ]
  },
  {
   "cell_type": "markdown",
   "id": "fc75d31c",
   "metadata": {},
   "source": [
    "## A. Importing necessary libraries and setting up working environment"
   ]
  },
  {
   "cell_type": "code",
   "execution_count": 1,
   "id": "cc8d6c70",
   "metadata": {},
   "outputs": [
    {
     "name": "stderr",
     "output_type": "stream",
     "text": [
      "Warning message:\n",
      "\"package 'ggplot2' was built under R version 3.6.3\"Warning message:\n",
      "\"package 'dplyr' was built under R version 3.6.3\"\n",
      "Attaching package: 'dplyr'\n",
      "\n",
      "The following objects are masked from 'package:stats':\n",
      "\n",
      "    filter, lag\n",
      "\n",
      "The following objects are masked from 'package:base':\n",
      "\n",
      "    intersect, setdiff, setequal, union\n",
      "\n",
      "Warning message:\n",
      "\"package 'lubridate' was built under R version 3.6.3\"\n",
      "Attaching package: 'lubridate'\n",
      "\n",
      "The following objects are masked from 'package:base':\n",
      "\n",
      "    date, intersect, setdiff, union\n",
      "\n",
      "Warning message:\n",
      "\"package 'caTools' was built under R version 3.6.3\"Warning message:\n",
      "\"package 'tidyr' was built under R version 3.6.3\"Warning message:\n",
      "\"package 'modelr' was built under R version 3.6.3\"Warning message:\n",
      "\"package 'caret' was built under R version 3.6.3\"Loading required package: lattice\n"
     ]
    }
   ],
   "source": [
    "library('ggplot2')\n",
    "library('dplyr')\n",
    "library('lubridate')\n",
    "library('caTools')\n",
    "library('tidyr')\n",
    "library('RColorBrewer')\n",
    "library('modelr')\n",
    "library('caret')"
   ]
  },
  {
   "cell_type": "code",
   "execution_count": 2,
   "id": "2299fa7e",
   "metadata": {
    "scrolled": true
   },
   "outputs": [
    {
     "data": {
      "text/html": [
       "'E:/R Workspace/R_Projects'"
      ],
      "text/latex": [
       "'E:/R Workspace/R\\_Projects'"
      ],
      "text/markdown": [
       "'E:/R Workspace/R_Projects'"
      ],
      "text/plain": [
       "[1] \"E:/R Workspace/R_Projects\""
      ]
     },
     "metadata": {},
     "output_type": "display_data"
    }
   ],
   "source": [
    "getwd() # getting working directory"
   ]
  },
  {
   "cell_type": "code",
   "execution_count": 3,
   "id": "64dd3918",
   "metadata": {},
   "outputs": [],
   "source": [
    "options(\"digits\" = 15) # controls the number of digits to print when printing numeric values, currently set to 15"
   ]
  },
  {
   "cell_type": "code",
   "execution_count": 4,
   "id": "9548b1bf",
   "metadata": {},
   "outputs": [],
   "source": [
    "# This is a useful function, which controls the size of the plots created. \n",
    "# This function is called before creating almost every plot in this notebook.\n",
    "# E.g. fig(6,4) --> This will set the width of the plot to 6 units and height as 4 units\n",
    "\n",
    "fig <- function(width, heigth){\n",
    "options(repr.plot.width = width, repr.plot.height = heigth)\n",
    "}"
   ]
  },
  {
   "cell_type": "markdown",
   "id": "a958941d",
   "metadata": {},
   "source": [
    "### B. Loading data into R"
   ]
  },
  {
   "cell_type": "code",
   "execution_count": 5,
   "id": "4e56f650",
   "metadata": {},
   "outputs": [],
   "source": [
    "walmart_data <- read.csv('Datasets/Walmart_Store_sales.csv', stringsAsFactors = FALSE) # reading the data in R"
   ]
  },
  {
   "cell_type": "code",
   "execution_count": 6,
   "id": "94de3c96",
   "metadata": {
    "scrolled": true
   },
   "outputs": [
    {
     "data": {
      "text/html": [
       "<table>\n",
       "<thead><tr><th scope=col>Store</th><th scope=col>Date</th><th scope=col>Weekly_Sales</th><th scope=col>Holiday_Flag</th><th scope=col>Temperature</th><th scope=col>Fuel_Price</th><th scope=col>CPI</th><th scope=col>Unemployment</th></tr></thead>\n",
       "<tbody>\n",
       "\t<tr><td>1          </td><td>05-02-2010 </td><td>1643690.90 </td><td>0          </td><td>42.31      </td><td>2.572      </td><td>211.0963582</td><td>8.106      </td></tr>\n",
       "\t<tr><td>1          </td><td>12-02-2010 </td><td>1641957.44 </td><td>1          </td><td>38.51      </td><td>2.548      </td><td>211.2421698</td><td>8.106      </td></tr>\n",
       "\t<tr><td>1          </td><td>19-02-2010 </td><td>1611968.17 </td><td>0          </td><td>39.93      </td><td>2.514      </td><td>211.2891429</td><td>8.106      </td></tr>\n",
       "\t<tr><td>1          </td><td>26-02-2010 </td><td>1409727.59 </td><td>0          </td><td>46.63      </td><td>2.561      </td><td>211.3196429</td><td>8.106      </td></tr>\n",
       "\t<tr><td>1          </td><td>05-03-2010 </td><td>1554806.68 </td><td>0          </td><td>46.50      </td><td>2.625      </td><td>211.3501429</td><td>8.106      </td></tr>\n",
       "\t<tr><td>1          </td><td>12-03-2010 </td><td>1439541.59 </td><td>0          </td><td>57.79      </td><td>2.667      </td><td>211.3806429</td><td>8.106      </td></tr>\n",
       "</tbody>\n",
       "</table>\n"
      ],
      "text/latex": [
       "\\begin{tabular}{r|llllllll}\n",
       " Store & Date & Weekly\\_Sales & Holiday\\_Flag & Temperature & Fuel\\_Price & CPI & Unemployment\\\\\n",
       "\\hline\n",
       "\t 1           & 05-02-2010  & 1643690.90  & 0           & 42.31       & 2.572       & 211.0963582 & 8.106      \\\\\n",
       "\t 1           & 12-02-2010  & 1641957.44  & 1           & 38.51       & 2.548       & 211.2421698 & 8.106      \\\\\n",
       "\t 1           & 19-02-2010  & 1611968.17  & 0           & 39.93       & 2.514       & 211.2891429 & 8.106      \\\\\n",
       "\t 1           & 26-02-2010  & 1409727.59  & 0           & 46.63       & 2.561       & 211.3196429 & 8.106      \\\\\n",
       "\t 1           & 05-03-2010  & 1554806.68  & 0           & 46.50       & 2.625       & 211.3501429 & 8.106      \\\\\n",
       "\t 1           & 12-03-2010  & 1439541.59  & 0           & 57.79       & 2.667       & 211.3806429 & 8.106      \\\\\n",
       "\\end{tabular}\n"
      ],
      "text/markdown": [
       "\n",
       "| Store | Date | Weekly_Sales | Holiday_Flag | Temperature | Fuel_Price | CPI | Unemployment |\n",
       "|---|---|---|---|---|---|---|---|\n",
       "| 1           | 05-02-2010  | 1643690.90  | 0           | 42.31       | 2.572       | 211.0963582 | 8.106       |\n",
       "| 1           | 12-02-2010  | 1641957.44  | 1           | 38.51       | 2.548       | 211.2421698 | 8.106       |\n",
       "| 1           | 19-02-2010  | 1611968.17  | 0           | 39.93       | 2.514       | 211.2891429 | 8.106       |\n",
       "| 1           | 26-02-2010  | 1409727.59  | 0           | 46.63       | 2.561       | 211.3196429 | 8.106       |\n",
       "| 1           | 05-03-2010  | 1554806.68  | 0           | 46.50       | 2.625       | 211.3501429 | 8.106       |\n",
       "| 1           | 12-03-2010  | 1439541.59  | 0           | 57.79       | 2.667       | 211.3806429 | 8.106       |\n",
       "\n"
      ],
      "text/plain": [
       "  Store Date       Weekly_Sales Holiday_Flag Temperature Fuel_Price CPI        \n",
       "1 1     05-02-2010 1643690.90   0            42.31       2.572      211.0963582\n",
       "2 1     12-02-2010 1641957.44   1            38.51       2.548      211.2421698\n",
       "3 1     19-02-2010 1611968.17   0            39.93       2.514      211.2891429\n",
       "4 1     26-02-2010 1409727.59   0            46.63       2.561      211.3196429\n",
       "5 1     05-03-2010 1554806.68   0            46.50       2.625      211.3501429\n",
       "6 1     12-03-2010 1439541.59   0            57.79       2.667      211.3806429\n",
       "  Unemployment\n",
       "1 8.106       \n",
       "2 8.106       \n",
       "3 8.106       \n",
       "4 8.106       \n",
       "5 8.106       \n",
       "6 8.106       "
      ]
     },
     "metadata": {},
     "output_type": "display_data"
    }
   ],
   "source": [
    "head(walmart_data) # checking first 6 observations of data"
   ]
  },
  {
   "cell_type": "code",
   "execution_count": 7,
   "id": "72b0dd4e",
   "metadata": {},
   "outputs": [
    {
     "data": {
      "text/html": [
       "<ol class=list-inline>\n",
       "\t<li>6435</li>\n",
       "\t<li>8</li>\n",
       "</ol>\n"
      ],
      "text/latex": [
       "\\begin{enumerate*}\n",
       "\\item 6435\n",
       "\\item 8\n",
       "\\end{enumerate*}\n"
      ],
      "text/markdown": [
       "1. 6435\n",
       "2. 8\n",
       "\n",
       "\n"
      ],
      "text/plain": [
       "[1] 6435    8"
      ]
     },
     "metadata": {},
     "output_type": "display_data"
    }
   ],
   "source": [
    "dim(walmart_data) # checking the shape of the data, rows and column numbers"
   ]
  },
  {
   "cell_type": "markdown",
   "id": "554aee74",
   "metadata": {},
   "source": [
    "### Checking if the data has duplicate values, if there were duplicates, the below would return different dimentions, since this is same as that of imported walmart_data, there are no duplicates"
   ]
  },
  {
   "cell_type": "code",
   "execution_count": 8,
   "id": "fe9f9404",
   "metadata": {
    "scrolled": false
   },
   "outputs": [
    {
     "data": {
      "text/html": [
       "<ol class=list-inline>\n",
       "\t<li>6435</li>\n",
       "\t<li>8</li>\n",
       "</ol>\n"
      ],
      "text/latex": [
       "\\begin{enumerate*}\n",
       "\\item 6435\n",
       "\\item 8\n",
       "\\end{enumerate*}\n"
      ],
      "text/markdown": [
       "1. 6435\n",
       "2. 8\n",
       "\n",
       "\n"
      ],
      "text/plain": [
       "[1] 6435    8"
      ]
     },
     "metadata": {},
     "output_type": "display_data"
    }
   ],
   "source": [
    "dim(unique(walmart_data))"
   ]
  },
  {
   "cell_type": "markdown",
   "id": "15905fd7",
   "metadata": {},
   "source": [
    "## C. Data Wrangling/Manipulation & Exploratory Data Analysis"
   ]
  },
  {
   "cell_type": "code",
   "execution_count": 9,
   "id": "0fe8f4bf",
   "metadata": {
    "scrolled": false
   },
   "outputs": [
    {
     "name": "stdout",
     "output_type": "stream",
     "text": [
      "'data.frame':\t6435 obs. of  8 variables:\n",
      " $ Store       : int  1 1 1 1 1 1 1 1 1 1 ...\n",
      " $ Date        : chr  \"05-02-2010\" \"12-02-2010\" \"19-02-2010\" \"26-02-2010\" ...\n",
      " $ Weekly_Sales: num  1643691 1641957 1611968 1409728 1554807 ...\n",
      " $ Holiday_Flag: int  0 1 0 0 0 0 0 0 0 0 ...\n",
      " $ Temperature : num  42.3 38.5 39.9 46.6 46.5 ...\n",
      " $ Fuel_Price  : num  2.57 2.55 2.51 2.56 2.62 ...\n",
      " $ CPI         : num  211 211 211 211 211 ...\n",
      " $ Unemployment: num  8.11 8.11 8.11 8.11 8.11 ...\n"
     ]
    }
   ],
   "source": [
    "str(walmart_data) # checking the structure of data"
   ]
  },
  {
   "cell_type": "code",
   "execution_count": 10,
   "id": "d975a4ce",
   "metadata": {},
   "outputs": [],
   "source": [
    "# Converting data object to appropriate type, using dmy() of lubridate library\n",
    "\n",
    "walmart_data$Date <- dmy(walmart_data$Date)"
   ]
  },
  {
   "cell_type": "code",
   "execution_count": 11,
   "id": "ee658971",
   "metadata": {},
   "outputs": [
    {
     "data": {
      "text/html": [
       "<table>\n",
       "<thead><tr><th scope=col>Store</th><th scope=col>Date</th><th scope=col>Weekly_Sales</th><th scope=col>Holiday_Flag</th><th scope=col>Temperature</th><th scope=col>Fuel_Price</th><th scope=col>CPI</th><th scope=col>Unemployment</th></tr></thead>\n",
       "<tbody>\n",
       "\t<tr><td>1          </td><td>2010-02-05 </td><td>1643690.90 </td><td>0          </td><td>42.31      </td><td>2.572      </td><td>211.0963582</td><td>8.106      </td></tr>\n",
       "\t<tr><td>1          </td><td>2010-02-12 </td><td>1641957.44 </td><td>1          </td><td>38.51      </td><td>2.548      </td><td>211.2421698</td><td>8.106      </td></tr>\n",
       "\t<tr><td>1          </td><td>2010-02-19 </td><td>1611968.17 </td><td>0          </td><td>39.93      </td><td>2.514      </td><td>211.2891429</td><td>8.106      </td></tr>\n",
       "\t<tr><td>1          </td><td>2010-02-26 </td><td>1409727.59 </td><td>0          </td><td>46.63      </td><td>2.561      </td><td>211.3196429</td><td>8.106      </td></tr>\n",
       "\t<tr><td>1          </td><td>2010-03-05 </td><td>1554806.68 </td><td>0          </td><td>46.50      </td><td>2.625      </td><td>211.3501429</td><td>8.106      </td></tr>\n",
       "\t<tr><td>1          </td><td>2010-03-12 </td><td>1439541.59 </td><td>0          </td><td>57.79      </td><td>2.667      </td><td>211.3806429</td><td>8.106      </td></tr>\n",
       "\t<tr><td>1          </td><td>2010-03-19 </td><td>1472515.79 </td><td>0          </td><td>54.58      </td><td>2.720      </td><td>211.2156350</td><td>8.106      </td></tr>\n",
       "\t<tr><td>1          </td><td>2010-03-26 </td><td>1404429.92 </td><td>0          </td><td>51.45      </td><td>2.732      </td><td>211.0180424</td><td>8.106      </td></tr>\n",
       "\t<tr><td>1          </td><td>2010-04-02 </td><td>1594968.28 </td><td>0          </td><td>62.27      </td><td>2.719      </td><td>210.8204499</td><td>7.808      </td></tr>\n",
       "\t<tr><td>1          </td><td>2010-04-09 </td><td>1545418.53 </td><td>0          </td><td>65.86      </td><td>2.770      </td><td>210.6228574</td><td>7.808      </td></tr>\n",
       "</tbody>\n",
       "</table>\n"
      ],
      "text/latex": [
       "\\begin{tabular}{r|llllllll}\n",
       " Store & Date & Weekly\\_Sales & Holiday\\_Flag & Temperature & Fuel\\_Price & CPI & Unemployment\\\\\n",
       "\\hline\n",
       "\t 1           & 2010-02-05  & 1643690.90  & 0           & 42.31       & 2.572       & 211.0963582 & 8.106      \\\\\n",
       "\t 1           & 2010-02-12  & 1641957.44  & 1           & 38.51       & 2.548       & 211.2421698 & 8.106      \\\\\n",
       "\t 1           & 2010-02-19  & 1611968.17  & 0           & 39.93       & 2.514       & 211.2891429 & 8.106      \\\\\n",
       "\t 1           & 2010-02-26  & 1409727.59  & 0           & 46.63       & 2.561       & 211.3196429 & 8.106      \\\\\n",
       "\t 1           & 2010-03-05  & 1554806.68  & 0           & 46.50       & 2.625       & 211.3501429 & 8.106      \\\\\n",
       "\t 1           & 2010-03-12  & 1439541.59  & 0           & 57.79       & 2.667       & 211.3806429 & 8.106      \\\\\n",
       "\t 1           & 2010-03-19  & 1472515.79  & 0           & 54.58       & 2.720       & 211.2156350 & 8.106      \\\\\n",
       "\t 1           & 2010-03-26  & 1404429.92  & 0           & 51.45       & 2.732       & 211.0180424 & 8.106      \\\\\n",
       "\t 1           & 2010-04-02  & 1594968.28  & 0           & 62.27       & 2.719       & 210.8204499 & 7.808      \\\\\n",
       "\t 1           & 2010-04-09  & 1545418.53  & 0           & 65.86       & 2.770       & 210.6228574 & 7.808      \\\\\n",
       "\\end{tabular}\n"
      ],
      "text/markdown": [
       "\n",
       "| Store | Date | Weekly_Sales | Holiday_Flag | Temperature | Fuel_Price | CPI | Unemployment |\n",
       "|---|---|---|---|---|---|---|---|\n",
       "| 1           | 2010-02-05  | 1643690.90  | 0           | 42.31       | 2.572       | 211.0963582 | 8.106       |\n",
       "| 1           | 2010-02-12  | 1641957.44  | 1           | 38.51       | 2.548       | 211.2421698 | 8.106       |\n",
       "| 1           | 2010-02-19  | 1611968.17  | 0           | 39.93       | 2.514       | 211.2891429 | 8.106       |\n",
       "| 1           | 2010-02-26  | 1409727.59  | 0           | 46.63       | 2.561       | 211.3196429 | 8.106       |\n",
       "| 1           | 2010-03-05  | 1554806.68  | 0           | 46.50       | 2.625       | 211.3501429 | 8.106       |\n",
       "| 1           | 2010-03-12  | 1439541.59  | 0           | 57.79       | 2.667       | 211.3806429 | 8.106       |\n",
       "| 1           | 2010-03-19  | 1472515.79  | 0           | 54.58       | 2.720       | 211.2156350 | 8.106       |\n",
       "| 1           | 2010-03-26  | 1404429.92  | 0           | 51.45       | 2.732       | 211.0180424 | 8.106       |\n",
       "| 1           | 2010-04-02  | 1594968.28  | 0           | 62.27       | 2.719       | 210.8204499 | 7.808       |\n",
       "| 1           | 2010-04-09  | 1545418.53  | 0           | 65.86       | 2.770       | 210.6228574 | 7.808       |\n",
       "\n"
      ],
      "text/plain": [
       "   Store Date       Weekly_Sales Holiday_Flag Temperature Fuel_Price\n",
       "1  1     2010-02-05 1643690.90   0            42.31       2.572     \n",
       "2  1     2010-02-12 1641957.44   1            38.51       2.548     \n",
       "3  1     2010-02-19 1611968.17   0            39.93       2.514     \n",
       "4  1     2010-02-26 1409727.59   0            46.63       2.561     \n",
       "5  1     2010-03-05 1554806.68   0            46.50       2.625     \n",
       "6  1     2010-03-12 1439541.59   0            57.79       2.667     \n",
       "7  1     2010-03-19 1472515.79   0            54.58       2.720     \n",
       "8  1     2010-03-26 1404429.92   0            51.45       2.732     \n",
       "9  1     2010-04-02 1594968.28   0            62.27       2.719     \n",
       "10 1     2010-04-09 1545418.53   0            65.86       2.770     \n",
       "   CPI         Unemployment\n",
       "1  211.0963582 8.106       \n",
       "2  211.2421698 8.106       \n",
       "3  211.2891429 8.106       \n",
       "4  211.3196429 8.106       \n",
       "5  211.3501429 8.106       \n",
       "6  211.3806429 8.106       \n",
       "7  211.2156350 8.106       \n",
       "8  211.0180424 8.106       \n",
       "9  210.8204499 7.808       \n",
       "10 210.6228574 7.808       "
      ]
     },
     "metadata": {},
     "output_type": "display_data"
    }
   ],
   "source": [
    "head(walmart_data, n = 10)"
   ]
  },
  {
   "cell_type": "code",
   "execution_count": 12,
   "id": "0892c15b",
   "metadata": {},
   "outputs": [
    {
     "name": "stdout",
     "output_type": "stream",
     "text": [
      "'data.frame':\t6435 obs. of  8 variables:\n",
      " $ Store       : int  1 1 1 1 1 1 1 1 1 1 ...\n",
      " $ Date        : Date, format: \"2010-02-05\" \"2010-02-12\" ...\n",
      " $ Weekly_Sales: num  1643691 1641957 1611968 1409728 1554807 ...\n",
      " $ Holiday_Flag: int  0 1 0 0 0 0 0 0 0 0 ...\n",
      " $ Temperature : num  42.3 38.5 39.9 46.6 46.5 ...\n",
      " $ Fuel_Price  : num  2.57 2.55 2.51 2.56 2.62 ...\n",
      " $ CPI         : num  211 211 211 211 211 ...\n",
      " $ Unemployment: num  8.11 8.11 8.11 8.11 8.11 ...\n"
     ]
    }
   ],
   "source": [
    "str(walmart_data)"
   ]
  },
  {
   "cell_type": "code",
   "execution_count": 13,
   "id": "3da0f68e",
   "metadata": {},
   "outputs": [
    {
     "data": {
      "text/plain": [
       "     Store         Date             Weekly_Sales          \n",
       " Min.   : 1   Min.   :2010-02-05   Min.   : 209986.25000  \n",
       " 1st Qu.:12   1st Qu.:2010-10-08   1st Qu.: 553350.10500  \n",
       " Median :23   Median :2011-06-17   Median : 960746.04000  \n",
       " Mean   :23   Mean   :2011-06-17   Mean   :1046964.87756  \n",
       " 3rd Qu.:34   3rd Qu.:2012-02-24   3rd Qu.:1420158.66000  \n",
       " Max.   :45   Max.   :2012-10-26   Max.   :3818686.45000  \n",
       "  Holiday_Flag              Temperature               Fuel_Price           \n",
       " Min.   :0.0000000000000   Min.   : -2.0600000000   Min.   :2.47200000000  \n",
       " 1st Qu.:0.0000000000000   1st Qu.: 47.4600000000   1st Qu.:2.93300000000  \n",
       " Median :0.0000000000000   Median : 62.6700000000   Median :3.44500000000  \n",
       " Mean   :0.0699300699301   Mean   : 60.6637824398   Mean   :3.35860683761  \n",
       " 3rd Qu.:0.0000000000000   3rd Qu.: 74.9400000000   3rd Qu.:3.73500000000  \n",
       " Max.   :1.0000000000000   Max.   :100.1400000000   Max.   :4.46800000000  \n",
       "      CPI                 Unemployment           \n",
       " Min.   :126.064000000   Min.   : 3.87900000000  \n",
       " 1st Qu.:131.735000000   1st Qu.: 6.89100000000  \n",
       " Median :182.616520500   Median : 7.87400000000  \n",
       " Mean   :171.578393849   Mean   : 7.99915104895  \n",
       " 3rd Qu.:212.743293450   3rd Qu.: 8.62200000000  \n",
       " Max.   :227.232806800   Max.   :14.31300000000  "
      ]
     },
     "metadata": {},
     "output_type": "display_data"
    }
   ],
   "source": [
    "summary(walmart_data) # checking the summary of the dataset"
   ]
  },
  {
   "cell_type": "code",
   "execution_count": 14,
   "id": "aa8ccc0d",
   "metadata": {},
   "outputs": [
    {
     "data": {
      "text/html": [
       "FALSE"
      ],
      "text/latex": [
       "FALSE"
      ],
      "text/markdown": [
       "FALSE"
      ],
      "text/plain": [
       "[1] FALSE"
      ]
     },
     "metadata": {},
     "output_type": "display_data"
    }
   ],
   "source": [
    "any(is.na(walmart_data)) # checking if there are any missing value in the entire dataset"
   ]
  },
  {
   "cell_type": "code",
   "execution_count": 15,
   "id": "6ed48d02",
   "metadata": {},
   "outputs": [
    {
     "data": {
      "text/html": [
       "<dl class=dl-horizontal>\n",
       "\t<dt>Store</dt>\n",
       "\t\t<dd>FALSE</dd>\n",
       "\t<dt>Date</dt>\n",
       "\t\t<dd>FALSE</dd>\n",
       "\t<dt>Weekly_Sales</dt>\n",
       "\t\t<dd>FALSE</dd>\n",
       "\t<dt>Holiday_Flag</dt>\n",
       "\t\t<dd>FALSE</dd>\n",
       "\t<dt>Temperature</dt>\n",
       "\t\t<dd>FALSE</dd>\n",
       "\t<dt>Fuel_Price</dt>\n",
       "\t\t<dd>FALSE</dd>\n",
       "\t<dt>CPI</dt>\n",
       "\t\t<dd>FALSE</dd>\n",
       "\t<dt>Unemployment</dt>\n",
       "\t\t<dd>FALSE</dd>\n",
       "</dl>\n"
      ],
      "text/latex": [
       "\\begin{description*}\n",
       "\\item[Store] FALSE\n",
       "\\item[Date] FALSE\n",
       "\\item[Weekly\\textbackslash{}\\_Sales] FALSE\n",
       "\\item[Holiday\\textbackslash{}\\_Flag] FALSE\n",
       "\\item[Temperature] FALSE\n",
       "\\item[Fuel\\textbackslash{}\\_Price] FALSE\n",
       "\\item[CPI] FALSE\n",
       "\\item[Unemployment] FALSE\n",
       "\\end{description*}\n"
      ],
      "text/markdown": [
       "Store\n",
       ":   FALSEDate\n",
       ":   FALSEWeekly_Sales\n",
       ":   FALSEHoliday_Flag\n",
       ":   FALSETemperature\n",
       ":   FALSEFuel_Price\n",
       ":   FALSECPI\n",
       ":   FALSEUnemployment\n",
       ":   FALSE\n",
       "\n"
      ],
      "text/plain": [
       "       Store         Date Weekly_Sales Holiday_Flag  Temperature   Fuel_Price \n",
       "       FALSE        FALSE        FALSE        FALSE        FALSE        FALSE \n",
       "         CPI Unemployment \n",
       "       FALSE        FALSE "
      ]
     },
     "metadata": {},
     "output_type": "display_data"
    }
   ],
   "source": [
    "sapply(walmart_data, is.null) # checking column wise missing values"
   ]
  },
  {
   "cell_type": "code",
   "execution_count": 16,
   "id": "f96edaf3",
   "metadata": {},
   "outputs": [
    {
     "data": {
      "text/html": [
       "<table>\n",
       "<thead><tr><th scope=col>Store</th><th scope=col>Date</th><th scope=col>Weekly_Sales</th><th scope=col>Holiday_Flag</th><th scope=col>Temperature</th><th scope=col>Fuel_Price</th><th scope=col>CPI</th><th scope=col>Unemployment</th></tr></thead>\n",
       "<tbody>\n",
       "\t<tr><td>0</td><td>0</td><td>0</td><td>0</td><td>0</td><td>0</td><td>0</td><td>0</td></tr>\n",
       "</tbody>\n",
       "</table>\n"
      ],
      "text/latex": [
       "\\begin{tabular}{r|llllllll}\n",
       " Store & Date & Weekly\\_Sales & Holiday\\_Flag & Temperature & Fuel\\_Price & CPI & Unemployment\\\\\n",
       "\\hline\n",
       "\t 0 & 0 & 0 & 0 & 0 & 0 & 0 & 0\\\\\n",
       "\\end{tabular}\n"
      ],
      "text/markdown": [
       "\n",
       "| Store | Date | Weekly_Sales | Holiday_Flag | Temperature | Fuel_Price | CPI | Unemployment |\n",
       "|---|---|---|---|---|---|---|---|\n",
       "| 0 | 0 | 0 | 0 | 0 | 0 | 0 | 0 |\n",
       "\n"
      ],
      "text/plain": [
       "  Store Date Weekly_Sales Holiday_Flag Temperature Fuel_Price CPI Unemployment\n",
       "1 0     0    0            0            0           0          0   0           "
      ]
     },
     "metadata": {},
     "output_type": "display_data"
    }
   ],
   "source": [
    "walmart_data %>% summarise_all(~ sum(is.na(.))) # Another way of getting missing value count per column"
   ]
  },
  {
   "cell_type": "code",
   "execution_count": 17,
   "id": "2b863c38",
   "metadata": {},
   "outputs": [
    {
     "data": {
      "text/html": [
       "<ol class=list-inline>\n",
       "\t<li>1</li>\n",
       "\t<li>2</li>\n",
       "\t<li>3</li>\n",
       "\t<li>4</li>\n",
       "\t<li>5</li>\n",
       "\t<li>6</li>\n",
       "\t<li>7</li>\n",
       "\t<li>8</li>\n",
       "\t<li>9</li>\n",
       "\t<li>10</li>\n",
       "\t<li>11</li>\n",
       "\t<li>12</li>\n",
       "\t<li>13</li>\n",
       "\t<li>14</li>\n",
       "\t<li>15</li>\n",
       "\t<li>16</li>\n",
       "\t<li>17</li>\n",
       "\t<li>18</li>\n",
       "\t<li>19</li>\n",
       "\t<li>20</li>\n",
       "\t<li>21</li>\n",
       "\t<li>22</li>\n",
       "\t<li>23</li>\n",
       "\t<li>24</li>\n",
       "\t<li>25</li>\n",
       "\t<li>26</li>\n",
       "\t<li>27</li>\n",
       "\t<li>28</li>\n",
       "\t<li>29</li>\n",
       "\t<li>30</li>\n",
       "\t<li>31</li>\n",
       "\t<li>32</li>\n",
       "\t<li>33</li>\n",
       "\t<li>34</li>\n",
       "\t<li>35</li>\n",
       "\t<li>36</li>\n",
       "\t<li>37</li>\n",
       "\t<li>38</li>\n",
       "\t<li>39</li>\n",
       "\t<li>40</li>\n",
       "\t<li>41</li>\n",
       "\t<li>42</li>\n",
       "\t<li>43</li>\n",
       "\t<li>44</li>\n",
       "\t<li>45</li>\n",
       "</ol>\n"
      ],
      "text/latex": [
       "\\begin{enumerate*}\n",
       "\\item 1\n",
       "\\item 2\n",
       "\\item 3\n",
       "\\item 4\n",
       "\\item 5\n",
       "\\item 6\n",
       "\\item 7\n",
       "\\item 8\n",
       "\\item 9\n",
       "\\item 10\n",
       "\\item 11\n",
       "\\item 12\n",
       "\\item 13\n",
       "\\item 14\n",
       "\\item 15\n",
       "\\item 16\n",
       "\\item 17\n",
       "\\item 18\n",
       "\\item 19\n",
       "\\item 20\n",
       "\\item 21\n",
       "\\item 22\n",
       "\\item 23\n",
       "\\item 24\n",
       "\\item 25\n",
       "\\item 26\n",
       "\\item 27\n",
       "\\item 28\n",
       "\\item 29\n",
       "\\item 30\n",
       "\\item 31\n",
       "\\item 32\n",
       "\\item 33\n",
       "\\item 34\n",
       "\\item 35\n",
       "\\item 36\n",
       "\\item 37\n",
       "\\item 38\n",
       "\\item 39\n",
       "\\item 40\n",
       "\\item 41\n",
       "\\item 42\n",
       "\\item 43\n",
       "\\item 44\n",
       "\\item 45\n",
       "\\end{enumerate*}\n"
      ],
      "text/markdown": [
       "1. 1\n",
       "2. 2\n",
       "3. 3\n",
       "4. 4\n",
       "5. 5\n",
       "6. 6\n",
       "7. 7\n",
       "8. 8\n",
       "9. 9\n",
       "10. 10\n",
       "11. 11\n",
       "12. 12\n",
       "13. 13\n",
       "14. 14\n",
       "15. 15\n",
       "16. 16\n",
       "17. 17\n",
       "18. 18\n",
       "19. 19\n",
       "20. 20\n",
       "21. 21\n",
       "22. 22\n",
       "23. 23\n",
       "24. 24\n",
       "25. 25\n",
       "26. 26\n",
       "27. 27\n",
       "28. 28\n",
       "29. 29\n",
       "30. 30\n",
       "31. 31\n",
       "32. 32\n",
       "33. 33\n",
       "34. 34\n",
       "35. 35\n",
       "36. 36\n",
       "37. 37\n",
       "38. 38\n",
       "39. 39\n",
       "40. 40\n",
       "41. 41\n",
       "42. 42\n",
       "43. 43\n",
       "44. 44\n",
       "45. 45\n",
       "\n",
       "\n"
      ],
      "text/plain": [
       " [1]  1  2  3  4  5  6  7  8  9 10 11 12 13 14 15 16 17 18 19 20 21 22 23 24 25\n",
       "[26] 26 27 28 29 30 31 32 33 34 35 36 37 38 39 40 41 42 43 44 45"
      ]
     },
     "metadata": {},
     "output_type": "display_data"
    }
   ],
   "source": [
    "unique(walmart_data$Store)  # viewing the number of unique stores "
   ]
  },
  {
   "cell_type": "code",
   "execution_count": 18,
   "id": "d7fc8817",
   "metadata": {},
   "outputs": [
    {
     "data": {
      "text/plain": [
       "\n",
       "   0    1 \n",
       "5985  450 "
      ]
     },
     "metadata": {},
     "output_type": "display_data"
    }
   ],
   "source": [
    "table(walmart_data$Holiday_Flag) # count of total holidays and non-holidays, there are 450 holidays in the dataset "
   ]
  },
  {
   "cell_type": "code",
   "execution_count": 19,
   "id": "185785c2",
   "metadata": {},
   "outputs": [],
   "source": [
    "walmart_data$Weekly_Sales_Scaled = walmart_data$Weekly_Sales / 100000 # scaling sales to make it compareable to other columns"
   ]
  },
  {
   "cell_type": "code",
   "execution_count": 20,
   "id": "45fd5b89",
   "metadata": {},
   "outputs": [
    {
     "data": {
      "text/html": [
       "<table>\n",
       "<thead><tr><th scope=col>Store</th><th scope=col>Date</th><th scope=col>Weekly_Sales</th><th scope=col>Holiday_Flag</th><th scope=col>Temperature</th><th scope=col>Fuel_Price</th><th scope=col>CPI</th><th scope=col>Unemployment</th><th scope=col>Weekly_Sales_Scaled</th></tr></thead>\n",
       "<tbody>\n",
       "\t<tr><td>1          </td><td>2010-02-05 </td><td>1643690.90 </td><td>0          </td><td>42.31      </td><td>2.572      </td><td>211.0963582</td><td>8.106      </td><td>16.4369090 </td></tr>\n",
       "\t<tr><td>1          </td><td>2010-02-12 </td><td>1641957.44 </td><td>1          </td><td>38.51      </td><td>2.548      </td><td>211.2421698</td><td>8.106      </td><td>16.4195744 </td></tr>\n",
       "\t<tr><td>1          </td><td>2010-02-19 </td><td>1611968.17 </td><td>0          </td><td>39.93      </td><td>2.514      </td><td>211.2891429</td><td>8.106      </td><td>16.1196817 </td></tr>\n",
       "\t<tr><td>1          </td><td>2010-02-26 </td><td>1409727.59 </td><td>0          </td><td>46.63      </td><td>2.561      </td><td>211.3196429</td><td>8.106      </td><td>14.0972759 </td></tr>\n",
       "\t<tr><td>1          </td><td>2010-03-05 </td><td>1554806.68 </td><td>0          </td><td>46.50      </td><td>2.625      </td><td>211.3501429</td><td>8.106      </td><td>15.5480668 </td></tr>\n",
       "\t<tr><td>1          </td><td>2010-03-12 </td><td>1439541.59 </td><td>0          </td><td>57.79      </td><td>2.667      </td><td>211.3806429</td><td>8.106      </td><td>14.3954159 </td></tr>\n",
       "\t<tr><td>1          </td><td>2010-03-19 </td><td>1472515.79 </td><td>0          </td><td>54.58      </td><td>2.720      </td><td>211.2156350</td><td>8.106      </td><td>14.7251579 </td></tr>\n",
       "\t<tr><td>1          </td><td>2010-03-26 </td><td>1404429.92 </td><td>0          </td><td>51.45      </td><td>2.732      </td><td>211.0180424</td><td>8.106      </td><td>14.0442992 </td></tr>\n",
       "\t<tr><td>1          </td><td>2010-04-02 </td><td>1594968.28 </td><td>0          </td><td>62.27      </td><td>2.719      </td><td>210.8204499</td><td>7.808      </td><td>15.9496828 </td></tr>\n",
       "\t<tr><td>1          </td><td>2010-04-09 </td><td>1545418.53 </td><td>0          </td><td>65.86      </td><td>2.770      </td><td>210.6228574</td><td>7.808      </td><td>15.4541853 </td></tr>\n",
       "</tbody>\n",
       "</table>\n"
      ],
      "text/latex": [
       "\\begin{tabular}{r|lllllllll}\n",
       " Store & Date & Weekly\\_Sales & Holiday\\_Flag & Temperature & Fuel\\_Price & CPI & Unemployment & Weekly\\_Sales\\_Scaled\\\\\n",
       "\\hline\n",
       "\t 1           & 2010-02-05  & 1643690.90  & 0           & 42.31       & 2.572       & 211.0963582 & 8.106       & 16.4369090 \\\\\n",
       "\t 1           & 2010-02-12  & 1641957.44  & 1           & 38.51       & 2.548       & 211.2421698 & 8.106       & 16.4195744 \\\\\n",
       "\t 1           & 2010-02-19  & 1611968.17  & 0           & 39.93       & 2.514       & 211.2891429 & 8.106       & 16.1196817 \\\\\n",
       "\t 1           & 2010-02-26  & 1409727.59  & 0           & 46.63       & 2.561       & 211.3196429 & 8.106       & 14.0972759 \\\\\n",
       "\t 1           & 2010-03-05  & 1554806.68  & 0           & 46.50       & 2.625       & 211.3501429 & 8.106       & 15.5480668 \\\\\n",
       "\t 1           & 2010-03-12  & 1439541.59  & 0           & 57.79       & 2.667       & 211.3806429 & 8.106       & 14.3954159 \\\\\n",
       "\t 1           & 2010-03-19  & 1472515.79  & 0           & 54.58       & 2.720       & 211.2156350 & 8.106       & 14.7251579 \\\\\n",
       "\t 1           & 2010-03-26  & 1404429.92  & 0           & 51.45       & 2.732       & 211.0180424 & 8.106       & 14.0442992 \\\\\n",
       "\t 1           & 2010-04-02  & 1594968.28  & 0           & 62.27       & 2.719       & 210.8204499 & 7.808       & 15.9496828 \\\\\n",
       "\t 1           & 2010-04-09  & 1545418.53  & 0           & 65.86       & 2.770       & 210.6228574 & 7.808       & 15.4541853 \\\\\n",
       "\\end{tabular}\n"
      ],
      "text/markdown": [
       "\n",
       "| Store | Date | Weekly_Sales | Holiday_Flag | Temperature | Fuel_Price | CPI | Unemployment | Weekly_Sales_Scaled |\n",
       "|---|---|---|---|---|---|---|---|---|\n",
       "| 1           | 2010-02-05  | 1643690.90  | 0           | 42.31       | 2.572       | 211.0963582 | 8.106       | 16.4369090  |\n",
       "| 1           | 2010-02-12  | 1641957.44  | 1           | 38.51       | 2.548       | 211.2421698 | 8.106       | 16.4195744  |\n",
       "| 1           | 2010-02-19  | 1611968.17  | 0           | 39.93       | 2.514       | 211.2891429 | 8.106       | 16.1196817  |\n",
       "| 1           | 2010-02-26  | 1409727.59  | 0           | 46.63       | 2.561       | 211.3196429 | 8.106       | 14.0972759  |\n",
       "| 1           | 2010-03-05  | 1554806.68  | 0           | 46.50       | 2.625       | 211.3501429 | 8.106       | 15.5480668  |\n",
       "| 1           | 2010-03-12  | 1439541.59  | 0           | 57.79       | 2.667       | 211.3806429 | 8.106       | 14.3954159  |\n",
       "| 1           | 2010-03-19  | 1472515.79  | 0           | 54.58       | 2.720       | 211.2156350 | 8.106       | 14.7251579  |\n",
       "| 1           | 2010-03-26  | 1404429.92  | 0           | 51.45       | 2.732       | 211.0180424 | 8.106       | 14.0442992  |\n",
       "| 1           | 2010-04-02  | 1594968.28  | 0           | 62.27       | 2.719       | 210.8204499 | 7.808       | 15.9496828  |\n",
       "| 1           | 2010-04-09  | 1545418.53  | 0           | 65.86       | 2.770       | 210.6228574 | 7.808       | 15.4541853  |\n",
       "\n"
      ],
      "text/plain": [
       "   Store Date       Weekly_Sales Holiday_Flag Temperature Fuel_Price\n",
       "1  1     2010-02-05 1643690.90   0            42.31       2.572     \n",
       "2  1     2010-02-12 1641957.44   1            38.51       2.548     \n",
       "3  1     2010-02-19 1611968.17   0            39.93       2.514     \n",
       "4  1     2010-02-26 1409727.59   0            46.63       2.561     \n",
       "5  1     2010-03-05 1554806.68   0            46.50       2.625     \n",
       "6  1     2010-03-12 1439541.59   0            57.79       2.667     \n",
       "7  1     2010-03-19 1472515.79   0            54.58       2.720     \n",
       "8  1     2010-03-26 1404429.92   0            51.45       2.732     \n",
       "9  1     2010-04-02 1594968.28   0            62.27       2.719     \n",
       "10 1     2010-04-09 1545418.53   0            65.86       2.770     \n",
       "   CPI         Unemployment Weekly_Sales_Scaled\n",
       "1  211.0963582 8.106        16.4369090         \n",
       "2  211.2421698 8.106        16.4195744         \n",
       "3  211.2891429 8.106        16.1196817         \n",
       "4  211.3196429 8.106        14.0972759         \n",
       "5  211.3501429 8.106        15.5480668         \n",
       "6  211.3806429 8.106        14.3954159         \n",
       "7  211.2156350 8.106        14.7251579         \n",
       "8  211.0180424 8.106        14.0442992         \n",
       "9  210.8204499 7.808        15.9496828         \n",
       "10 210.6228574 7.808        15.4541853         "
      ]
     },
     "metadata": {},
     "output_type": "display_data"
    }
   ],
   "source": [
    "head(walmart_data, n=10)"
   ]
  },
  {
   "cell_type": "code",
   "execution_count": 21,
   "id": "fdfe67a0",
   "metadata": {},
   "outputs": [
    {
     "data": {
      "text/html": [
       "<ol class=list-inline>\n",
       "\t<li>2.0998625</li>\n",
       "\t<li>38.1868645</li>\n",
       "</ol>\n"
      ],
      "text/latex": [
       "\\begin{enumerate*}\n",
       "\\item 2.0998625\n",
       "\\item 38.1868645\n",
       "\\end{enumerate*}\n"
      ],
      "text/markdown": [
       "1. 2.0998625\n",
       "2. 38.1868645\n",
       "\n",
       "\n"
      ],
      "text/plain": [
       "[1]  2.0998625 38.1868645"
      ]
     },
     "metadata": {},
     "output_type": "display_data"
    }
   ],
   "source": [
    "range(walmart_data$Weekly_Sales_Scaled) # highest and lowest values of the Sales"
   ]
  },
  {
   "cell_type": "markdown",
   "id": "92b8d4ed",
   "metadata": {},
   "source": [
    "### Labelling Holidays and creating Dummy variables for holidays basis names"
   ]
  },
  {
   "cell_type": "code",
   "execution_count": 22,
   "id": "b7aea997",
   "metadata": {},
   "outputs": [],
   "source": [
    "# creating variables of holiday names given in the problem description\n",
    "# these variables are used to create dummy variables for holiday flags\n",
    "\n",
    "Super_Bowl <- c(dmy('12-Feb-10', '11-Feb-11', '10-Feb-12', '8-Feb-13'))\n",
    "Labour_Day <- c(dmy('10-Sep-10', '9-Sep-11', '7-Sep-12', '6-Sep-13'))\n",
    "Thanksgiving <- c(dmy('26-Nov-10', '25-Nov-11', '23-Nov-12', '29-Nov-13'))\n",
    "Christmas <- c(dmy('31-Dec-10', '30-Dec-11','28-Dec-12', '27-Dec-13'))"
   ]
  },
  {
   "cell_type": "code",
   "execution_count": 23,
   "id": "cbeb8473",
   "metadata": {},
   "outputs": [
    {
     "data": {
      "text/html": [
       "<dl>\n",
       "\t<dt>$Super_Bowl</dt>\n",
       "\t\t<dd><ol class=list-inline>\n",
       "\t<li><time datetime=\"2010-02-12\">2010-02-12</time></li>\n",
       "\t<li><time datetime=\"2011-02-11\">2011-02-11</time></li>\n",
       "\t<li><time datetime=\"2012-02-10\">2012-02-10</time></li>\n",
       "\t<li><time datetime=\"2013-02-08\">2013-02-08</time></li>\n",
       "</ol>\n",
       "</dd>\n",
       "\t<dt>$Labour_Day</dt>\n",
       "\t\t<dd><ol class=list-inline>\n",
       "\t<li><time datetime=\"2010-09-10\">2010-09-10</time></li>\n",
       "\t<li><time datetime=\"2011-09-09\">2011-09-09</time></li>\n",
       "\t<li><time datetime=\"2012-09-07\">2012-09-07</time></li>\n",
       "\t<li><time datetime=\"2013-09-06\">2013-09-06</time></li>\n",
       "</ol>\n",
       "</dd>\n",
       "\t<dt>$Thanksgiving</dt>\n",
       "\t\t<dd><ol class=list-inline>\n",
       "\t<li><time datetime=\"2010-11-26\">2010-11-26</time></li>\n",
       "\t<li><time datetime=\"2011-11-25\">2011-11-25</time></li>\n",
       "\t<li><time datetime=\"2012-11-23\">2012-11-23</time></li>\n",
       "\t<li><time datetime=\"2013-11-29\">2013-11-29</time></li>\n",
       "</ol>\n",
       "</dd>\n",
       "\t<dt>$Christmas</dt>\n",
       "\t\t<dd><ol class=list-inline>\n",
       "\t<li><time datetime=\"2010-12-31\">2010-12-31</time></li>\n",
       "\t<li><time datetime=\"2011-12-30\">2011-12-30</time></li>\n",
       "\t<li><time datetime=\"2012-12-28\">2012-12-28</time></li>\n",
       "\t<li><time datetime=\"2013-12-27\">2013-12-27</time></li>\n",
       "</ol>\n",
       "</dd>\n",
       "</dl>\n"
      ],
      "text/latex": [
       "\\begin{description}\n",
       "\\item[\\$Super\\_Bowl] \\begin{enumerate*}\n",
       "\\item 2010-02-12\n",
       "\\item 2011-02-11\n",
       "\\item 2012-02-10\n",
       "\\item 2013-02-08\n",
       "\\end{enumerate*}\n",
       "\n",
       "\\item[\\$Labour\\_Day] \\begin{enumerate*}\n",
       "\\item 2010-09-10\n",
       "\\item 2011-09-09\n",
       "\\item 2012-09-07\n",
       "\\item 2013-09-06\n",
       "\\end{enumerate*}\n",
       "\n",
       "\\item[\\$Thanksgiving] \\begin{enumerate*}\n",
       "\\item 2010-11-26\n",
       "\\item 2011-11-25\n",
       "\\item 2012-11-23\n",
       "\\item 2013-11-29\n",
       "\\end{enumerate*}\n",
       "\n",
       "\\item[\\$Christmas] \\begin{enumerate*}\n",
       "\\item 2010-12-31\n",
       "\\item 2011-12-30\n",
       "\\item 2012-12-28\n",
       "\\item 2013-12-27\n",
       "\\end{enumerate*}\n",
       "\n",
       "\\end{description}\n"
      ],
      "text/markdown": [
       "$Super_Bowl\n",
       ":   1. 2010-02-12\n",
       "2. 2011-02-11\n",
       "3. 2012-02-10\n",
       "4. 2013-02-08\n",
       "\n",
       "\n",
       "\n",
       "$Labour_Day\n",
       ":   1. 2010-09-10\n",
       "2. 2011-09-09\n",
       "3. 2012-09-07\n",
       "4. 2013-09-06\n",
       "\n",
       "\n",
       "\n",
       "$Thanksgiving\n",
       ":   1. 2010-11-26\n",
       "2. 2011-11-25\n",
       "3. 2012-11-23\n",
       "4. 2013-11-29\n",
       "\n",
       "\n",
       "\n",
       "$Christmas\n",
       ":   1. 2010-12-31\n",
       "2. 2011-12-30\n",
       "3. 2012-12-28\n",
       "4. 2013-12-27\n",
       "\n",
       "\n",
       "\n",
       "\n",
       "\n"
      ],
      "text/plain": [
       "$Super_Bowl\n",
       "[1] \"2010-02-12\" \"2011-02-11\" \"2012-02-10\" \"2013-02-08\"\n",
       "\n",
       "$Labour_Day\n",
       "[1] \"2010-09-10\" \"2011-09-09\" \"2012-09-07\" \"2013-09-06\"\n",
       "\n",
       "$Thanksgiving\n",
       "[1] \"2010-11-26\" \"2011-11-25\" \"2012-11-23\" \"2013-11-29\"\n",
       "\n",
       "$Christmas\n",
       "[1] \"2010-12-31\" \"2011-12-30\" \"2012-12-28\" \"2013-12-27\"\n"
      ]
     },
     "metadata": {},
     "output_type": "display_data"
    }
   ],
   "source": [
    "holiday_dates_list <- list(Super_Bowl = Super_Bowl, Labour_Day = Labour_Day, Thanksgiving = Thanksgiving, Christmas = Christmas)\n",
    "holiday_dates_list"
   ]
  },
  {
   "cell_type": "code",
   "execution_count": 24,
   "id": "8d0cd56f",
   "metadata": {},
   "outputs": [],
   "source": [
    "# Working function to encode the dates as 0 or 1 if present in the given vector of dates\n",
    "# This requires vector to be passed at a time, which involves multiple calls to this function\n",
    "# An improvised version of this function is used below, which takes list of vectors as argument, and \n",
    "# avoids calling  function multiple time for different column\n",
    "\n",
    "# date_encoder <- function(df, df_date_col, dates_to_encode) {\n",
    "#     colname_to_create <- deparse(substitute(dates_to_encode))\n",
    "#     df[colname_to_create] <- ifelse(df[[df_date_col]] %in% dates_to_encode, 1, 0)\n",
    "#     return(df)\n",
    "# }"
   ]
  },
  {
   "cell_type": "code",
   "execution_count": 25,
   "id": "2e945717",
   "metadata": {},
   "outputs": [],
   "source": [
    "# A function which takes dataframe, date column of the data frame, and list of vectors containing dates\n",
    "# List of vectors are parsed one by one, and if the date is present in that vector, it will be encoded as 1, else 0\n",
    "# A column with the same name as of the vector in the list passed, is created in the passed dataframe\n",
    "# And this modified dataframe is returned\n",
    "\n",
    "date_encoder <- function(df, df_date_col, named_list_of_dates_to_encode) {\n",
    "    \n",
    "    for(col in names(named_list_of_dates_to_encode)) {\n",
    "        df[col] <- ifelse(df[[df_date_col]] %in% named_list_of_dates_to_encode[[col]], 1, 0)\n",
    "    }\n",
    "    return (df)\n",
    "}"
   ]
  },
  {
   "cell_type": "code",
   "execution_count": 26,
   "id": "8c488092",
   "metadata": {},
   "outputs": [],
   "source": [
    "walmart_data <- date_encoder(walmart_data, 'Date', holiday_dates_list) \n",
    "\n",
    "# 'holiday_dates_list' is a list containing all the holiday dates with the name of the holiday\n",
    "# this returns 4 encoded columns with the names of the holiday as column names"
   ]
  },
  {
   "cell_type": "code",
   "execution_count": 27,
   "id": "18d6e48c",
   "metadata": {},
   "outputs": [
    {
     "data": {
      "text/html": [
       "<table>\n",
       "<thead><tr><th scope=col>Store</th><th scope=col>Date</th><th scope=col>Weekly_Sales</th><th scope=col>Holiday_Flag</th><th scope=col>Temperature</th><th scope=col>Fuel_Price</th><th scope=col>CPI</th><th scope=col>Unemployment</th><th scope=col>Weekly_Sales_Scaled</th><th scope=col>Super_Bowl</th><th scope=col>Labour_Day</th><th scope=col>Thanksgiving</th><th scope=col>Christmas</th></tr></thead>\n",
       "<tbody>\n",
       "\t<tr><td>1          </td><td>2010-02-05 </td><td>1643690.90 </td><td>0          </td><td>42.31      </td><td>2.572      </td><td>211.0963582</td><td>8.106      </td><td>16.4369090 </td><td>0          </td><td>0          </td><td>0          </td><td>0          </td></tr>\n",
       "\t<tr><td>1          </td><td>2010-02-12 </td><td>1641957.44 </td><td>1          </td><td>38.51      </td><td>2.548      </td><td>211.2421698</td><td>8.106      </td><td>16.4195744 </td><td>1          </td><td>0          </td><td>0          </td><td>0          </td></tr>\n",
       "\t<tr><td>1          </td><td>2010-02-19 </td><td>1611968.17 </td><td>0          </td><td>39.93      </td><td>2.514      </td><td>211.2891429</td><td>8.106      </td><td>16.1196817 </td><td>0          </td><td>0          </td><td>0          </td><td>0          </td></tr>\n",
       "\t<tr><td>1          </td><td>2010-02-26 </td><td>1409727.59 </td><td>0          </td><td>46.63      </td><td>2.561      </td><td>211.3196429</td><td>8.106      </td><td>14.0972759 </td><td>0          </td><td>0          </td><td>0          </td><td>0          </td></tr>\n",
       "\t<tr><td>1          </td><td>2010-03-05 </td><td>1554806.68 </td><td>0          </td><td>46.50      </td><td>2.625      </td><td>211.3501429</td><td>8.106      </td><td>15.5480668 </td><td>0          </td><td>0          </td><td>0          </td><td>0          </td></tr>\n",
       "\t<tr><td>1          </td><td>2010-03-12 </td><td>1439541.59 </td><td>0          </td><td>57.79      </td><td>2.667      </td><td>211.3806429</td><td>8.106      </td><td>14.3954159 </td><td>0          </td><td>0          </td><td>0          </td><td>0          </td></tr>\n",
       "</tbody>\n",
       "</table>\n"
      ],
      "text/latex": [
       "\\begin{tabular}{r|lllllllllllll}\n",
       " Store & Date & Weekly\\_Sales & Holiday\\_Flag & Temperature & Fuel\\_Price & CPI & Unemployment & Weekly\\_Sales\\_Scaled & Super\\_Bowl & Labour\\_Day & Thanksgiving & Christmas\\\\\n",
       "\\hline\n",
       "\t 1           & 2010-02-05  & 1643690.90  & 0           & 42.31       & 2.572       & 211.0963582 & 8.106       & 16.4369090  & 0           & 0           & 0           & 0          \\\\\n",
       "\t 1           & 2010-02-12  & 1641957.44  & 1           & 38.51       & 2.548       & 211.2421698 & 8.106       & 16.4195744  & 1           & 0           & 0           & 0          \\\\\n",
       "\t 1           & 2010-02-19  & 1611968.17  & 0           & 39.93       & 2.514       & 211.2891429 & 8.106       & 16.1196817  & 0           & 0           & 0           & 0          \\\\\n",
       "\t 1           & 2010-02-26  & 1409727.59  & 0           & 46.63       & 2.561       & 211.3196429 & 8.106       & 14.0972759  & 0           & 0           & 0           & 0          \\\\\n",
       "\t 1           & 2010-03-05  & 1554806.68  & 0           & 46.50       & 2.625       & 211.3501429 & 8.106       & 15.5480668  & 0           & 0           & 0           & 0          \\\\\n",
       "\t 1           & 2010-03-12  & 1439541.59  & 0           & 57.79       & 2.667       & 211.3806429 & 8.106       & 14.3954159  & 0           & 0           & 0           & 0          \\\\\n",
       "\\end{tabular}\n"
      ],
      "text/markdown": [
       "\n",
       "| Store | Date | Weekly_Sales | Holiday_Flag | Temperature | Fuel_Price | CPI | Unemployment | Weekly_Sales_Scaled | Super_Bowl | Labour_Day | Thanksgiving | Christmas |\n",
       "|---|---|---|---|---|---|---|---|---|---|---|---|---|\n",
       "| 1           | 2010-02-05  | 1643690.90  | 0           | 42.31       | 2.572       | 211.0963582 | 8.106       | 16.4369090  | 0           | 0           | 0           | 0           |\n",
       "| 1           | 2010-02-12  | 1641957.44  | 1           | 38.51       | 2.548       | 211.2421698 | 8.106       | 16.4195744  | 1           | 0           | 0           | 0           |\n",
       "| 1           | 2010-02-19  | 1611968.17  | 0           | 39.93       | 2.514       | 211.2891429 | 8.106       | 16.1196817  | 0           | 0           | 0           | 0           |\n",
       "| 1           | 2010-02-26  | 1409727.59  | 0           | 46.63       | 2.561       | 211.3196429 | 8.106       | 14.0972759  | 0           | 0           | 0           | 0           |\n",
       "| 1           | 2010-03-05  | 1554806.68  | 0           | 46.50       | 2.625       | 211.3501429 | 8.106       | 15.5480668  | 0           | 0           | 0           | 0           |\n",
       "| 1           | 2010-03-12  | 1439541.59  | 0           | 57.79       | 2.667       | 211.3806429 | 8.106       | 14.3954159  | 0           | 0           | 0           | 0           |\n",
       "\n"
      ],
      "text/plain": [
       "  Store Date       Weekly_Sales Holiday_Flag Temperature Fuel_Price CPI        \n",
       "1 1     2010-02-05 1643690.90   0            42.31       2.572      211.0963582\n",
       "2 1     2010-02-12 1641957.44   1            38.51       2.548      211.2421698\n",
       "3 1     2010-02-19 1611968.17   0            39.93       2.514      211.2891429\n",
       "4 1     2010-02-26 1409727.59   0            46.63       2.561      211.3196429\n",
       "5 1     2010-03-05 1554806.68   0            46.50       2.625      211.3501429\n",
       "6 1     2010-03-12 1439541.59   0            57.79       2.667      211.3806429\n",
       "  Unemployment Weekly_Sales_Scaled Super_Bowl Labour_Day Thanksgiving Christmas\n",
       "1 8.106        16.4369090          0          0          0            0        \n",
       "2 8.106        16.4195744          1          0          0            0        \n",
       "3 8.106        16.1196817          0          0          0            0        \n",
       "4 8.106        14.0972759          0          0          0            0        \n",
       "5 8.106        15.5480668          0          0          0            0        \n",
       "6 8.106        14.3954159          0          0          0            0        "
      ]
     },
     "metadata": {},
     "output_type": "display_data"
    }
   ],
   "source": [
    "head(walmart_data)"
   ]
  },
  {
   "cell_type": "code",
   "execution_count": 28,
   "id": "0b9aa868",
   "metadata": {
    "scrolled": false
   },
   "outputs": [
    {
     "data": {
      "text/html": [
       "450"
      ],
      "text/latex": [
       "450"
      ],
      "text/markdown": [
       "450"
      ],
      "text/plain": [
       "[1] 450"
      ]
     },
     "metadata": {},
     "output_type": "display_data"
    }
   ],
   "source": [
    "sum(walmart_data$Holiday_Flag) # finding total holidays"
   ]
  },
  {
   "cell_type": "code",
   "execution_count": 29,
   "id": "359e2431",
   "metadata": {},
   "outputs": [
    {
     "data": {
      "text/html": [
       "<dl class=dl-horizontal>\n",
       "\t<dt>Super_Bowl</dt>\n",
       "\t\t<dd>135</dd>\n",
       "\t<dt>Labour_Day</dt>\n",
       "\t\t<dd>135</dd>\n",
       "\t<dt>Thanksgiving</dt>\n",
       "\t\t<dd>90</dd>\n",
       "\t<dt>Christmas</dt>\n",
       "\t\t<dd>90</dd>\n",
       "</dl>\n"
      ],
      "text/latex": [
       "\\begin{description*}\n",
       "\\item[Super\\textbackslash{}\\_Bowl] 135\n",
       "\\item[Labour\\textbackslash{}\\_Day] 135\n",
       "\\item[Thanksgiving] 90\n",
       "\\item[Christmas] 90\n",
       "\\end{description*}\n"
      ],
      "text/markdown": [
       "Super_Bowl\n",
       ":   135Labour_Day\n",
       ":   135Thanksgiving\n",
       ":   90Christmas\n",
       ":   90\n",
       "\n"
      ],
      "text/plain": [
       "  Super_Bowl   Labour_Day Thanksgiving    Christmas \n",
       "         135          135           90           90 "
      ]
     },
     "metadata": {},
     "output_type": "display_data"
    }
   ],
   "source": [
    "colSums(walmart_data[c('Super_Bowl', 'Labour_Day', 'Thanksgiving', 'Christmas')]) # checking total holidays of encoded columns"
   ]
  },
  {
   "cell_type": "code",
   "execution_count": 30,
   "id": "fd1c3f21",
   "metadata": {},
   "outputs": [],
   "source": [
    "# since the holiday flag has more holidays than the sum of all the encoded holidays, there are other holidays apart from these\n",
    "# therefore, a new column is created to label the holidays. if the date is within the Super Bowl, Labour Day, Thanksgiving,\n",
    "# and Christmas, then we put their name in the corresponing row, else we put 'Others'\n",
    "\n",
    "walmart_data$Holiday_Names <- ifelse(walmart_data$Super_Bowl == 1, 'Super_Bowl',\n",
    "                                     ifelse(walmart_data$Labour_Day == 1, 'Labour_Day',\n",
    "                                            ifelse(walmart_data$Thanksgiving == 1, 'Thanksgiving', \n",
    "                                                  ifelse(walmart_data$Christmas == 1, 'Christmas', 'Others'))))"
   ]
  },
  {
   "cell_type": "code",
   "execution_count": 31,
   "id": "8199d28e",
   "metadata": {},
   "outputs": [
    {
     "data": {
      "text/html": [
       "<table>\n",
       "<thead><tr><th scope=col>Store</th><th scope=col>Date</th><th scope=col>Weekly_Sales</th><th scope=col>Holiday_Flag</th><th scope=col>Temperature</th><th scope=col>Fuel_Price</th><th scope=col>CPI</th><th scope=col>Unemployment</th><th scope=col>Weekly_Sales_Scaled</th><th scope=col>Super_Bowl</th><th scope=col>Labour_Day</th><th scope=col>Thanksgiving</th><th scope=col>Christmas</th><th scope=col>Holiday_Names</th></tr></thead>\n",
       "<tbody>\n",
       "\t<tr><td>1          </td><td>2010-02-05 </td><td>1643690.90 </td><td>0          </td><td>42.31      </td><td>2.572      </td><td>211.0963582</td><td>8.106      </td><td>16.4369090 </td><td>0          </td><td>0          </td><td>0          </td><td>0          </td><td>Others     </td></tr>\n",
       "\t<tr><td>1          </td><td>2010-02-12 </td><td>1641957.44 </td><td>1          </td><td>38.51      </td><td>2.548      </td><td>211.2421698</td><td>8.106      </td><td>16.4195744 </td><td>1          </td><td>0          </td><td>0          </td><td>0          </td><td>Super_Bowl </td></tr>\n",
       "\t<tr><td>1          </td><td>2010-02-19 </td><td>1611968.17 </td><td>0          </td><td>39.93      </td><td>2.514      </td><td>211.2891429</td><td>8.106      </td><td>16.1196817 </td><td>0          </td><td>0          </td><td>0          </td><td>0          </td><td>Others     </td></tr>\n",
       "\t<tr><td>1          </td><td>2010-02-26 </td><td>1409727.59 </td><td>0          </td><td>46.63      </td><td>2.561      </td><td>211.3196429</td><td>8.106      </td><td>14.0972759 </td><td>0          </td><td>0          </td><td>0          </td><td>0          </td><td>Others     </td></tr>\n",
       "\t<tr><td>1          </td><td>2010-03-05 </td><td>1554806.68 </td><td>0          </td><td>46.50      </td><td>2.625      </td><td>211.3501429</td><td>8.106      </td><td>15.5480668 </td><td>0          </td><td>0          </td><td>0          </td><td>0          </td><td>Others     </td></tr>\n",
       "\t<tr><td>1          </td><td>2010-03-12 </td><td>1439541.59 </td><td>0          </td><td>57.79      </td><td>2.667      </td><td>211.3806429</td><td>8.106      </td><td>14.3954159 </td><td>0          </td><td>0          </td><td>0          </td><td>0          </td><td>Others     </td></tr>\n",
       "\t<tr><td>1          </td><td>2010-03-19 </td><td>1472515.79 </td><td>0          </td><td>54.58      </td><td>2.720      </td><td>211.2156350</td><td>8.106      </td><td>14.7251579 </td><td>0          </td><td>0          </td><td>0          </td><td>0          </td><td>Others     </td></tr>\n",
       "\t<tr><td>1          </td><td>2010-03-26 </td><td>1404429.92 </td><td>0          </td><td>51.45      </td><td>2.732      </td><td>211.0180424</td><td>8.106      </td><td>14.0442992 </td><td>0          </td><td>0          </td><td>0          </td><td>0          </td><td>Others     </td></tr>\n",
       "\t<tr><td>1          </td><td>2010-04-02 </td><td>1594968.28 </td><td>0          </td><td>62.27      </td><td>2.719      </td><td>210.8204499</td><td>7.808      </td><td>15.9496828 </td><td>0          </td><td>0          </td><td>0          </td><td>0          </td><td>Others     </td></tr>\n",
       "\t<tr><td>1          </td><td>2010-04-09 </td><td>1545418.53 </td><td>0          </td><td>65.86      </td><td>2.770      </td><td>210.6228574</td><td>7.808      </td><td>15.4541853 </td><td>0          </td><td>0          </td><td>0          </td><td>0          </td><td>Others     </td></tr>\n",
       "</tbody>\n",
       "</table>\n"
      ],
      "text/latex": [
       "\\begin{tabular}{r|llllllllllllll}\n",
       " Store & Date & Weekly\\_Sales & Holiday\\_Flag & Temperature & Fuel\\_Price & CPI & Unemployment & Weekly\\_Sales\\_Scaled & Super\\_Bowl & Labour\\_Day & Thanksgiving & Christmas & Holiday\\_Names\\\\\n",
       "\\hline\n",
       "\t 1           & 2010-02-05  & 1643690.90  & 0           & 42.31       & 2.572       & 211.0963582 & 8.106       & 16.4369090  & 0           & 0           & 0           & 0           & Others     \\\\\n",
       "\t 1            & 2010-02-12   & 1641957.44   & 1            & 38.51        & 2.548        & 211.2421698  & 8.106        & 16.4195744   & 1            & 0            & 0            & 0            & Super\\_Bowl\\\\\n",
       "\t 1           & 2010-02-19  & 1611968.17  & 0           & 39.93       & 2.514       & 211.2891429 & 8.106       & 16.1196817  & 0           & 0           & 0           & 0           & Others     \\\\\n",
       "\t 1           & 2010-02-26  & 1409727.59  & 0           & 46.63       & 2.561       & 211.3196429 & 8.106       & 14.0972759  & 0           & 0           & 0           & 0           & Others     \\\\\n",
       "\t 1           & 2010-03-05  & 1554806.68  & 0           & 46.50       & 2.625       & 211.3501429 & 8.106       & 15.5480668  & 0           & 0           & 0           & 0           & Others     \\\\\n",
       "\t 1           & 2010-03-12  & 1439541.59  & 0           & 57.79       & 2.667       & 211.3806429 & 8.106       & 14.3954159  & 0           & 0           & 0           & 0           & Others     \\\\\n",
       "\t 1           & 2010-03-19  & 1472515.79  & 0           & 54.58       & 2.720       & 211.2156350 & 8.106       & 14.7251579  & 0           & 0           & 0           & 0           & Others     \\\\\n",
       "\t 1           & 2010-03-26  & 1404429.92  & 0           & 51.45       & 2.732       & 211.0180424 & 8.106       & 14.0442992  & 0           & 0           & 0           & 0           & Others     \\\\\n",
       "\t 1           & 2010-04-02  & 1594968.28  & 0           & 62.27       & 2.719       & 210.8204499 & 7.808       & 15.9496828  & 0           & 0           & 0           & 0           & Others     \\\\\n",
       "\t 1           & 2010-04-09  & 1545418.53  & 0           & 65.86       & 2.770       & 210.6228574 & 7.808       & 15.4541853  & 0           & 0           & 0           & 0           & Others     \\\\\n",
       "\\end{tabular}\n"
      ],
      "text/markdown": [
       "\n",
       "| Store | Date | Weekly_Sales | Holiday_Flag | Temperature | Fuel_Price | CPI | Unemployment | Weekly_Sales_Scaled | Super_Bowl | Labour_Day | Thanksgiving | Christmas | Holiday_Names |\n",
       "|---|---|---|---|---|---|---|---|---|---|---|---|---|---|\n",
       "| 1           | 2010-02-05  | 1643690.90  | 0           | 42.31       | 2.572       | 211.0963582 | 8.106       | 16.4369090  | 0           | 0           | 0           | 0           | Others      |\n",
       "| 1           | 2010-02-12  | 1641957.44  | 1           | 38.51       | 2.548       | 211.2421698 | 8.106       | 16.4195744  | 1           | 0           | 0           | 0           | Super_Bowl  |\n",
       "| 1           | 2010-02-19  | 1611968.17  | 0           | 39.93       | 2.514       | 211.2891429 | 8.106       | 16.1196817  | 0           | 0           | 0           | 0           | Others      |\n",
       "| 1           | 2010-02-26  | 1409727.59  | 0           | 46.63       | 2.561       | 211.3196429 | 8.106       | 14.0972759  | 0           | 0           | 0           | 0           | Others      |\n",
       "| 1           | 2010-03-05  | 1554806.68  | 0           | 46.50       | 2.625       | 211.3501429 | 8.106       | 15.5480668  | 0           | 0           | 0           | 0           | Others      |\n",
       "| 1           | 2010-03-12  | 1439541.59  | 0           | 57.79       | 2.667       | 211.3806429 | 8.106       | 14.3954159  | 0           | 0           | 0           | 0           | Others      |\n",
       "| 1           | 2010-03-19  | 1472515.79  | 0           | 54.58       | 2.720       | 211.2156350 | 8.106       | 14.7251579  | 0           | 0           | 0           | 0           | Others      |\n",
       "| 1           | 2010-03-26  | 1404429.92  | 0           | 51.45       | 2.732       | 211.0180424 | 8.106       | 14.0442992  | 0           | 0           | 0           | 0           | Others      |\n",
       "| 1           | 2010-04-02  | 1594968.28  | 0           | 62.27       | 2.719       | 210.8204499 | 7.808       | 15.9496828  | 0           | 0           | 0           | 0           | Others      |\n",
       "| 1           | 2010-04-09  | 1545418.53  | 0           | 65.86       | 2.770       | 210.6228574 | 7.808       | 15.4541853  | 0           | 0           | 0           | 0           | Others      |\n",
       "\n"
      ],
      "text/plain": [
       "   Store Date       Weekly_Sales Holiday_Flag Temperature Fuel_Price\n",
       "1  1     2010-02-05 1643690.90   0            42.31       2.572     \n",
       "2  1     2010-02-12 1641957.44   1            38.51       2.548     \n",
       "3  1     2010-02-19 1611968.17   0            39.93       2.514     \n",
       "4  1     2010-02-26 1409727.59   0            46.63       2.561     \n",
       "5  1     2010-03-05 1554806.68   0            46.50       2.625     \n",
       "6  1     2010-03-12 1439541.59   0            57.79       2.667     \n",
       "7  1     2010-03-19 1472515.79   0            54.58       2.720     \n",
       "8  1     2010-03-26 1404429.92   0            51.45       2.732     \n",
       "9  1     2010-04-02 1594968.28   0            62.27       2.719     \n",
       "10 1     2010-04-09 1545418.53   0            65.86       2.770     \n",
       "   CPI         Unemployment Weekly_Sales_Scaled Super_Bowl Labour_Day\n",
       "1  211.0963582 8.106        16.4369090          0          0         \n",
       "2  211.2421698 8.106        16.4195744          1          0         \n",
       "3  211.2891429 8.106        16.1196817          0          0         \n",
       "4  211.3196429 8.106        14.0972759          0          0         \n",
       "5  211.3501429 8.106        15.5480668          0          0         \n",
       "6  211.3806429 8.106        14.3954159          0          0         \n",
       "7  211.2156350 8.106        14.7251579          0          0         \n",
       "8  211.0180424 8.106        14.0442992          0          0         \n",
       "9  210.8204499 7.808        15.9496828          0          0         \n",
       "10 210.6228574 7.808        15.4541853          0          0         \n",
       "   Thanksgiving Christmas Holiday_Names\n",
       "1  0            0         Others       \n",
       "2  0            0         Super_Bowl   \n",
       "3  0            0         Others       \n",
       "4  0            0         Others       \n",
       "5  0            0         Others       \n",
       "6  0            0         Others       \n",
       "7  0            0         Others       \n",
       "8  0            0         Others       \n",
       "9  0            0         Others       \n",
       "10 0            0         Others       "
      ]
     },
     "metadata": {},
     "output_type": "display_data"
    }
   ],
   "source": [
    "head(walmart_data, n=10)"
   ]
  },
  {
   "cell_type": "code",
   "execution_count": 32,
   "id": "01ddfda1",
   "metadata": {},
   "outputs": [
    {
     "data": {
      "text/html": [
       "<ol class=list-inline>\n",
       "\t<li>'Others'</li>\n",
       "\t<li>'Super_Bowl'</li>\n",
       "\t<li>'Labour_Day'</li>\n",
       "\t<li>'Thanksgiving'</li>\n",
       "\t<li>'Christmas'</li>\n",
       "</ol>\n"
      ],
      "text/latex": [
       "\\begin{enumerate*}\n",
       "\\item 'Others'\n",
       "\\item 'Super\\_Bowl'\n",
       "\\item 'Labour\\_Day'\n",
       "\\item 'Thanksgiving'\n",
       "\\item 'Christmas'\n",
       "\\end{enumerate*}\n"
      ],
      "text/markdown": [
       "1. 'Others'\n",
       "2. 'Super_Bowl'\n",
       "3. 'Labour_Day'\n",
       "4. 'Thanksgiving'\n",
       "5. 'Christmas'\n",
       "\n",
       "\n"
      ],
      "text/plain": [
       "[1] \"Others\"       \"Super_Bowl\"   \"Labour_Day\"   \"Thanksgiving\" \"Christmas\"   "
      ]
     },
     "metadata": {},
     "output_type": "display_data"
    }
   ],
   "source": [
    "unique(walmart_data$Holiday_Names) # Checking if the column is created correctly, by verifying the holidays names created"
   ]
  },
  {
   "cell_type": "markdown",
   "id": "092210f2",
   "metadata": {},
   "source": [
    "### Creating Days, Month, Year, and names based off of Date Column"
   ]
  },
  {
   "cell_type": "code",
   "execution_count": 33,
   "id": "2be012b0",
   "metadata": {},
   "outputs": [
    {
     "data": {
      "text/html": [
       "<table>\n",
       "<thead><tr><th scope=col>Store</th><th scope=col>Date</th><th scope=col>Weekly_Sales</th><th scope=col>Holiday_Flag</th><th scope=col>Temperature</th><th scope=col>Fuel_Price</th><th scope=col>CPI</th><th scope=col>Unemployment</th><th scope=col>Weekly_Sales_Scaled</th><th scope=col>Super_Bowl</th><th scope=col>Labour_Day</th><th scope=col>Thanksgiving</th><th scope=col>Christmas</th><th scope=col>Holiday_Names</th><th scope=col>Day</th><th scope=col>Month</th><th scope=col>Year</th><th scope=col>Quarter</th><th scope=col>Day_name</th><th scope=col>Month_Name</th></tr></thead>\n",
       "<tbody>\n",
       "\t<tr><td>1          </td><td>2010-02-05 </td><td>1643690.90 </td><td>0          </td><td>42.31      </td><td>2.572      </td><td>211.0963582</td><td>8.106      </td><td>16.4369090 </td><td>0          </td><td>0          </td><td>0          </td><td>0          </td><td>Others     </td><td> 5         </td><td>2          </td><td>2010       </td><td>1          </td><td>Friday     </td><td>Feb        </td></tr>\n",
       "\t<tr><td>1          </td><td>2010-02-12 </td><td>1641957.44 </td><td>1          </td><td>38.51      </td><td>2.548      </td><td>211.2421698</td><td>8.106      </td><td>16.4195744 </td><td>1          </td><td>0          </td><td>0          </td><td>0          </td><td>Super_Bowl </td><td>12         </td><td>2          </td><td>2010       </td><td>1          </td><td>Friday     </td><td>Feb        </td></tr>\n",
       "\t<tr><td>1          </td><td>2010-02-19 </td><td>1611968.17 </td><td>0          </td><td>39.93      </td><td>2.514      </td><td>211.2891429</td><td>8.106      </td><td>16.1196817 </td><td>0          </td><td>0          </td><td>0          </td><td>0          </td><td>Others     </td><td>19         </td><td>2          </td><td>2010       </td><td>1          </td><td>Friday     </td><td>Feb        </td></tr>\n",
       "\t<tr><td>1          </td><td>2010-02-26 </td><td>1409727.59 </td><td>0          </td><td>46.63      </td><td>2.561      </td><td>211.3196429</td><td>8.106      </td><td>14.0972759 </td><td>0          </td><td>0          </td><td>0          </td><td>0          </td><td>Others     </td><td>26         </td><td>2          </td><td>2010       </td><td>1          </td><td>Friday     </td><td>Feb        </td></tr>\n",
       "\t<tr><td>1          </td><td>2010-03-05 </td><td>1554806.68 </td><td>0          </td><td>46.50      </td><td>2.625      </td><td>211.3501429</td><td>8.106      </td><td>15.5480668 </td><td>0          </td><td>0          </td><td>0          </td><td>0          </td><td>Others     </td><td> 5         </td><td>3          </td><td>2010       </td><td>1          </td><td>Friday     </td><td>Mar        </td></tr>\n",
       "\t<tr><td>1          </td><td>2010-03-12 </td><td>1439541.59 </td><td>0          </td><td>57.79      </td><td>2.667      </td><td>211.3806429</td><td>8.106      </td><td>14.3954159 </td><td>0          </td><td>0          </td><td>0          </td><td>0          </td><td>Others     </td><td>12         </td><td>3          </td><td>2010       </td><td>1          </td><td>Friday     </td><td>Mar        </td></tr>\n",
       "\t<tr><td>1          </td><td>2010-03-19 </td><td>1472515.79 </td><td>0          </td><td>54.58      </td><td>2.720      </td><td>211.2156350</td><td>8.106      </td><td>14.7251579 </td><td>0          </td><td>0          </td><td>0          </td><td>0          </td><td>Others     </td><td>19         </td><td>3          </td><td>2010       </td><td>1          </td><td>Friday     </td><td>Mar        </td></tr>\n",
       "\t<tr><td>1          </td><td>2010-03-26 </td><td>1404429.92 </td><td>0          </td><td>51.45      </td><td>2.732      </td><td>211.0180424</td><td>8.106      </td><td>14.0442992 </td><td>0          </td><td>0          </td><td>0          </td><td>0          </td><td>Others     </td><td>26         </td><td>3          </td><td>2010       </td><td>1          </td><td>Friday     </td><td>Mar        </td></tr>\n",
       "\t<tr><td>1          </td><td>2010-04-02 </td><td>1594968.28 </td><td>0          </td><td>62.27      </td><td>2.719      </td><td>210.8204499</td><td>7.808      </td><td>15.9496828 </td><td>0          </td><td>0          </td><td>0          </td><td>0          </td><td>Others     </td><td> 2         </td><td>4          </td><td>2010       </td><td>2          </td><td>Friday     </td><td>Apr        </td></tr>\n",
       "\t<tr><td>1          </td><td>2010-04-09 </td><td>1545418.53 </td><td>0          </td><td>65.86      </td><td>2.770      </td><td>210.6228574</td><td>7.808      </td><td>15.4541853 </td><td>0          </td><td>0          </td><td>0          </td><td>0          </td><td>Others     </td><td> 9         </td><td>4          </td><td>2010       </td><td>2          </td><td>Friday     </td><td>Apr        </td></tr>\n",
       "</tbody>\n",
       "</table>\n"
      ],
      "text/latex": [
       "\\begin{tabular}{r|llllllllllllllllllll}\n",
       " Store & Date & Weekly\\_Sales & Holiday\\_Flag & Temperature & Fuel\\_Price & CPI & Unemployment & Weekly\\_Sales\\_Scaled & Super\\_Bowl & Labour\\_Day & Thanksgiving & Christmas & Holiday\\_Names & Day & Month & Year & Quarter & Day\\_name & Month\\_Name\\\\\n",
       "\\hline\n",
       "\t 1           & 2010-02-05  & 1643690.90  & 0           & 42.31       & 2.572       & 211.0963582 & 8.106       & 16.4369090  & 0           & 0           & 0           & 0           & Others      &  5          & 2           & 2010        & 1           & Friday      & Feb        \\\\\n",
       "\t 1            & 2010-02-12   & 1641957.44   & 1            & 38.51        & 2.548        & 211.2421698  & 8.106        & 16.4195744   & 1            & 0            & 0            & 0            & Super\\_Bowl & 12           & 2            & 2010         & 1            & Friday       & Feb         \\\\\n",
       "\t 1           & 2010-02-19  & 1611968.17  & 0           & 39.93       & 2.514       & 211.2891429 & 8.106       & 16.1196817  & 0           & 0           & 0           & 0           & Others      & 19          & 2           & 2010        & 1           & Friday      & Feb        \\\\\n",
       "\t 1           & 2010-02-26  & 1409727.59  & 0           & 46.63       & 2.561       & 211.3196429 & 8.106       & 14.0972759  & 0           & 0           & 0           & 0           & Others      & 26          & 2           & 2010        & 1           & Friday      & Feb        \\\\\n",
       "\t 1           & 2010-03-05  & 1554806.68  & 0           & 46.50       & 2.625       & 211.3501429 & 8.106       & 15.5480668  & 0           & 0           & 0           & 0           & Others      &  5          & 3           & 2010        & 1           & Friday      & Mar        \\\\\n",
       "\t 1           & 2010-03-12  & 1439541.59  & 0           & 57.79       & 2.667       & 211.3806429 & 8.106       & 14.3954159  & 0           & 0           & 0           & 0           & Others      & 12          & 3           & 2010        & 1           & Friday      & Mar        \\\\\n",
       "\t 1           & 2010-03-19  & 1472515.79  & 0           & 54.58       & 2.720       & 211.2156350 & 8.106       & 14.7251579  & 0           & 0           & 0           & 0           & Others      & 19          & 3           & 2010        & 1           & Friday      & Mar        \\\\\n",
       "\t 1           & 2010-03-26  & 1404429.92  & 0           & 51.45       & 2.732       & 211.0180424 & 8.106       & 14.0442992  & 0           & 0           & 0           & 0           & Others      & 26          & 3           & 2010        & 1           & Friday      & Mar        \\\\\n",
       "\t 1           & 2010-04-02  & 1594968.28  & 0           & 62.27       & 2.719       & 210.8204499 & 7.808       & 15.9496828  & 0           & 0           & 0           & 0           & Others      &  2          & 4           & 2010        & 2           & Friday      & Apr        \\\\\n",
       "\t 1           & 2010-04-09  & 1545418.53  & 0           & 65.86       & 2.770       & 210.6228574 & 7.808       & 15.4541853  & 0           & 0           & 0           & 0           & Others      &  9          & 4           & 2010        & 2           & Friday      & Apr        \\\\\n",
       "\\end{tabular}\n"
      ],
      "text/markdown": [
       "\n",
       "| Store | Date | Weekly_Sales | Holiday_Flag | Temperature | Fuel_Price | CPI | Unemployment | Weekly_Sales_Scaled | Super_Bowl | Labour_Day | Thanksgiving | Christmas | Holiday_Names | Day | Month | Year | Quarter | Day_name | Month_Name |\n",
       "|---|---|---|---|---|---|---|---|---|---|---|---|---|---|---|---|---|---|---|---|\n",
       "| 1           | 2010-02-05  | 1643690.90  | 0           | 42.31       | 2.572       | 211.0963582 | 8.106       | 16.4369090  | 0           | 0           | 0           | 0           | Others      |  5          | 2           | 2010        | 1           | Friday      | Feb         |\n",
       "| 1           | 2010-02-12  | 1641957.44  | 1           | 38.51       | 2.548       | 211.2421698 | 8.106       | 16.4195744  | 1           | 0           | 0           | 0           | Super_Bowl  | 12          | 2           | 2010        | 1           | Friday      | Feb         |\n",
       "| 1           | 2010-02-19  | 1611968.17  | 0           | 39.93       | 2.514       | 211.2891429 | 8.106       | 16.1196817  | 0           | 0           | 0           | 0           | Others      | 19          | 2           | 2010        | 1           | Friday      | Feb         |\n",
       "| 1           | 2010-02-26  | 1409727.59  | 0           | 46.63       | 2.561       | 211.3196429 | 8.106       | 14.0972759  | 0           | 0           | 0           | 0           | Others      | 26          | 2           | 2010        | 1           | Friday      | Feb         |\n",
       "| 1           | 2010-03-05  | 1554806.68  | 0           | 46.50       | 2.625       | 211.3501429 | 8.106       | 15.5480668  | 0           | 0           | 0           | 0           | Others      |  5          | 3           | 2010        | 1           | Friday      | Mar         |\n",
       "| 1           | 2010-03-12  | 1439541.59  | 0           | 57.79       | 2.667       | 211.3806429 | 8.106       | 14.3954159  | 0           | 0           | 0           | 0           | Others      | 12          | 3           | 2010        | 1           | Friday      | Mar         |\n",
       "| 1           | 2010-03-19  | 1472515.79  | 0           | 54.58       | 2.720       | 211.2156350 | 8.106       | 14.7251579  | 0           | 0           | 0           | 0           | Others      | 19          | 3           | 2010        | 1           | Friday      | Mar         |\n",
       "| 1           | 2010-03-26  | 1404429.92  | 0           | 51.45       | 2.732       | 211.0180424 | 8.106       | 14.0442992  | 0           | 0           | 0           | 0           | Others      | 26          | 3           | 2010        | 1           | Friday      | Mar         |\n",
       "| 1           | 2010-04-02  | 1594968.28  | 0           | 62.27       | 2.719       | 210.8204499 | 7.808       | 15.9496828  | 0           | 0           | 0           | 0           | Others      |  2          | 4           | 2010        | 2           | Friday      | Apr         |\n",
       "| 1           | 2010-04-09  | 1545418.53  | 0           | 65.86       | 2.770       | 210.6228574 | 7.808       | 15.4541853  | 0           | 0           | 0           | 0           | Others      |  9          | 4           | 2010        | 2           | Friday      | Apr         |\n",
       "\n"
      ],
      "text/plain": [
       "   Store Date       Weekly_Sales Holiday_Flag Temperature Fuel_Price\n",
       "1  1     2010-02-05 1643690.90   0            42.31       2.572     \n",
       "2  1     2010-02-12 1641957.44   1            38.51       2.548     \n",
       "3  1     2010-02-19 1611968.17   0            39.93       2.514     \n",
       "4  1     2010-02-26 1409727.59   0            46.63       2.561     \n",
       "5  1     2010-03-05 1554806.68   0            46.50       2.625     \n",
       "6  1     2010-03-12 1439541.59   0            57.79       2.667     \n",
       "7  1     2010-03-19 1472515.79   0            54.58       2.720     \n",
       "8  1     2010-03-26 1404429.92   0            51.45       2.732     \n",
       "9  1     2010-04-02 1594968.28   0            62.27       2.719     \n",
       "10 1     2010-04-09 1545418.53   0            65.86       2.770     \n",
       "   CPI         Unemployment Weekly_Sales_Scaled Super_Bowl Labour_Day\n",
       "1  211.0963582 8.106        16.4369090          0          0         \n",
       "2  211.2421698 8.106        16.4195744          1          0         \n",
       "3  211.2891429 8.106        16.1196817          0          0         \n",
       "4  211.3196429 8.106        14.0972759          0          0         \n",
       "5  211.3501429 8.106        15.5480668          0          0         \n",
       "6  211.3806429 8.106        14.3954159          0          0         \n",
       "7  211.2156350 8.106        14.7251579          0          0         \n",
       "8  211.0180424 8.106        14.0442992          0          0         \n",
       "9  210.8204499 7.808        15.9496828          0          0         \n",
       "10 210.6228574 7.808        15.4541853          0          0         \n",
       "   Thanksgiving Christmas Holiday_Names Day Month Year Quarter Day_name\n",
       "1  0            0         Others         5  2     2010 1       Friday  \n",
       "2  0            0         Super_Bowl    12  2     2010 1       Friday  \n",
       "3  0            0         Others        19  2     2010 1       Friday  \n",
       "4  0            0         Others        26  2     2010 1       Friday  \n",
       "5  0            0         Others         5  3     2010 1       Friday  \n",
       "6  0            0         Others        12  3     2010 1       Friday  \n",
       "7  0            0         Others        19  3     2010 1       Friday  \n",
       "8  0            0         Others        26  3     2010 1       Friday  \n",
       "9  0            0         Others         2  4     2010 2       Friday  \n",
       "10 0            0         Others         9  4     2010 2       Friday  \n",
       "   Month_Name\n",
       "1  Feb       \n",
       "2  Feb       \n",
       "3  Feb       \n",
       "4  Feb       \n",
       "5  Mar       \n",
       "6  Mar       \n",
       "7  Mar       \n",
       "8  Mar       \n",
       "9  Apr       \n",
       "10 Apr       "
      ]
     },
     "metadata": {},
     "output_type": "display_data"
    }
   ],
   "source": [
    "# New columns are created from Date column, extracting Day, Month, Year, Name of the Day, Name of the Month\n",
    "\n",
    "walmart_data <- walmart_data %>% \n",
    "                                    mutate(Day = day(Date),\n",
    "                                           Month = month(Date),\n",
    "                                           Year = year(Date),\n",
    "                                           Quarter = quarter(Date),\n",
    "                                           Day_name = wday(Date, label = TRUE, abbr = FALSE),\n",
    "                                           Month_Name = month(Date, label = TRUE)\n",
    "                                          )\n",
    "head(walmart_data, n=10)"
   ]
  },
  {
   "cell_type": "code",
   "execution_count": 34,
   "id": "b4154b0c",
   "metadata": {},
   "outputs": [
    {
     "data": {
      "text/html": [
       "<ol class=list-inline>\n",
       "\t<li>2010</li>\n",
       "\t<li>2011</li>\n",
       "\t<li>2012</li>\n",
       "</ol>\n"
      ],
      "text/latex": [
       "\\begin{enumerate*}\n",
       "\\item 2010\n",
       "\\item 2011\n",
       "\\item 2012\n",
       "\\end{enumerate*}\n"
      ],
      "text/markdown": [
       "1. 2010\n",
       "2. 2011\n",
       "3. 2012\n",
       "\n",
       "\n"
      ],
      "text/plain": [
       "[1] 2010 2011 2012"
      ]
     },
     "metadata": {},
     "output_type": "display_data"
    }
   ],
   "source": [
    "unique(walmart_data$Year) # checking the unique/distinct year "
   ]
  },
  {
   "cell_type": "code",
   "execution_count": 35,
   "id": "5a286550",
   "metadata": {},
   "outputs": [
    {
     "data": {
      "text/html": [
       "<ol class=list-inline>\n",
       "\t<li>Feb</li>\n",
       "\t<li>Mar</li>\n",
       "\t<li>Apr</li>\n",
       "\t<li>May</li>\n",
       "\t<li>Jun</li>\n",
       "\t<li>Jul</li>\n",
       "\t<li>Aug</li>\n",
       "\t<li>Sep</li>\n",
       "\t<li>Oct</li>\n",
       "\t<li>Nov</li>\n",
       "\t<li>Dec</li>\n",
       "\t<li>Jan</li>\n",
       "</ol>\n",
       "\n",
       "<details>\n",
       "\t<summary style=display:list-item;cursor:pointer>\n",
       "\t\t<strong>Levels</strong>:\n",
       "\t</summary>\n",
       "\t<ol class=list-inline>\n",
       "\t\t<li>'Jan'</li>\n",
       "\t\t<li>'Feb'</li>\n",
       "\t\t<li>'Mar'</li>\n",
       "\t\t<li>'Apr'</li>\n",
       "\t\t<li>'May'</li>\n",
       "\t\t<li>'Jun'</li>\n",
       "\t\t<li>'Jul'</li>\n",
       "\t\t<li>'Aug'</li>\n",
       "\t\t<li>'Sep'</li>\n",
       "\t\t<li>'Oct'</li>\n",
       "\t\t<li>'Nov'</li>\n",
       "\t\t<li>'Dec'</li>\n",
       "\t</ol>\n",
       "</details>"
      ],
      "text/latex": [
       "\\begin{enumerate*}\n",
       "\\item Feb\n",
       "\\item Mar\n",
       "\\item Apr\n",
       "\\item May\n",
       "\\item Jun\n",
       "\\item Jul\n",
       "\\item Aug\n",
       "\\item Sep\n",
       "\\item Oct\n",
       "\\item Nov\n",
       "\\item Dec\n",
       "\\item Jan\n",
       "\\end{enumerate*}\n",
       "\n",
       "\\emph{Levels}: \\begin{enumerate*}\n",
       "\\item 'Jan'\n",
       "\\item 'Feb'\n",
       "\\item 'Mar'\n",
       "\\item 'Apr'\n",
       "\\item 'May'\n",
       "\\item 'Jun'\n",
       "\\item 'Jul'\n",
       "\\item 'Aug'\n",
       "\\item 'Sep'\n",
       "\\item 'Oct'\n",
       "\\item 'Nov'\n",
       "\\item 'Dec'\n",
       "\\end{enumerate*}\n"
      ],
      "text/markdown": [
       "1. Feb\n",
       "2. Mar\n",
       "3. Apr\n",
       "4. May\n",
       "5. Jun\n",
       "6. Jul\n",
       "7. Aug\n",
       "8. Sep\n",
       "9. Oct\n",
       "10. Nov\n",
       "11. Dec\n",
       "12. Jan\n",
       "\n",
       "\n",
       "\n",
       "**Levels**: 1. 'Jan'\n",
       "2. 'Feb'\n",
       "3. 'Mar'\n",
       "4. 'Apr'\n",
       "5. 'May'\n",
       "6. 'Jun'\n",
       "7. 'Jul'\n",
       "8. 'Aug'\n",
       "9. 'Sep'\n",
       "10. 'Oct'\n",
       "11. 'Nov'\n",
       "12. 'Dec'\n",
       "\n",
       "\n"
      ],
      "text/plain": [
       " [1] Feb Mar Apr May Jun Jul Aug Sep Oct Nov Dec Jan\n",
       "12 Levels: Jan < Feb < Mar < Apr < May < Jun < Jul < Aug < Sep < ... < Dec"
      ]
     },
     "metadata": {},
     "output_type": "display_data"
    }
   ],
   "source": [
    "unique(walmart_data$Month_Name) # checking the unique/distinct Month Name"
   ]
  },
  {
   "cell_type": "code",
   "execution_count": 36,
   "id": "2532dffb",
   "metadata": {},
   "outputs": [
    {
     "data": {
      "text/html": [
       "Friday\n",
       "<details>\n",
       "\t<summary style=display:list-item;cursor:pointer>\n",
       "\t\t<strong>Levels</strong>:\n",
       "\t</summary>\n",
       "\t<ol class=list-inline>\n",
       "\t\t<li>'Sunday'</li>\n",
       "\t\t<li>'Monday'</li>\n",
       "\t\t<li>'Tuesday'</li>\n",
       "\t\t<li>'Wednesday'</li>\n",
       "\t\t<li>'Thursday'</li>\n",
       "\t\t<li>'Friday'</li>\n",
       "\t\t<li>'Saturday'</li>\n",
       "\t</ol>\n",
       "</details>"
      ],
      "text/latex": [
       "Friday\n",
       "\\emph{Levels}: \\begin{enumerate*}\n",
       "\\item 'Sunday'\n",
       "\\item 'Monday'\n",
       "\\item 'Tuesday'\n",
       "\\item 'Wednesday'\n",
       "\\item 'Thursday'\n",
       "\\item 'Friday'\n",
       "\\item 'Saturday'\n",
       "\\end{enumerate*}\n"
      ],
      "text/markdown": [
       "Friday\n",
       "**Levels**: 1. 'Sunday'\n",
       "2. 'Monday'\n",
       "3. 'Tuesday'\n",
       "4. 'Wednesday'\n",
       "5. 'Thursday'\n",
       "6. 'Friday'\n",
       "7. 'Saturday'\n",
       "\n",
       "\n"
      ],
      "text/plain": [
       "[1] Friday\n",
       "7 Levels: Sunday < Monday < Tuesday < Wednesday < Thursday < ... < Saturday"
      ]
     },
     "metadata": {},
     "output_type": "display_data"
    }
   ],
   "source": [
    "unique(walmart_data$Day_name)  # checking the unique/distinct Day Name "
   ]
  },
  {
   "cell_type": "code",
   "execution_count": 37,
   "id": "efbb0c06",
   "metadata": {},
   "outputs": [],
   "source": [
    "# since day is Friday for all observations, and there is no variation in analysis, dropping this variable\n",
    "walmart_data$Day_name <- NULL"
   ]
  },
  {
   "cell_type": "code",
   "execution_count": 38,
   "id": "853868f5",
   "metadata": {},
   "outputs": [
    {
     "data": {
      "text/html": [
       "<ol class=list-inline>\n",
       "\t<li>1</li>\n",
       "\t<li>2</li>\n",
       "\t<li>3</li>\n",
       "\t<li>4</li>\n",
       "</ol>\n"
      ],
      "text/latex": [
       "\\begin{enumerate*}\n",
       "\\item 1\n",
       "\\item 2\n",
       "\\item 3\n",
       "\\item 4\n",
       "\\end{enumerate*}\n"
      ],
      "text/markdown": [
       "1. 1\n",
       "2. 2\n",
       "3. 3\n",
       "4. 4\n",
       "\n",
       "\n"
      ],
      "text/plain": [
       "[1] 1 2 3 4"
      ]
     },
     "metadata": {},
     "output_type": "display_data"
    }
   ],
   "source": [
    "unique(walmart_data$Quarter)  # checking the unique/distinct quarter "
   ]
  },
  {
   "cell_type": "code",
   "execution_count": 39,
   "id": "9cc2133b",
   "metadata": {},
   "outputs": [
    {
     "data": {
      "image/png": "[encoded data removed]",
      "text/plain": [
       "plot without title"
      ]
     },
     "metadata": {},
     "output_type": "display_data"
    }
   ],
   "source": [
    "# Distribution of Weekly sales of Walmart for entire year - Histogram\n",
    "\n",
    "fig(7,4)\n",
    "walmart_data %>% \n",
    "                ggplot(aes(x = Weekly_Sales_Scaled)) +\n",
    "                geom_histogram(bins=8, fill = 'dodgerblue') +\n",
    "                ggtitle(\"Distribution of Weekly Sales of Walmart (2010-12)\") +\n",
    "                xlab(\"Weekly Sales\") + ylab(\"Frequency\") +\n",
    "                theme_minimal() +\n",
    "                theme(\n",
    "                    plot.title = element_text(color=\"black\", size=14, face=\"bold.italic\", hjust = 0.5),\n",
    "                    axis.title.x = element_text(color=\"black\", size=14, face=\"bold\"),\n",
    "                    axis.title.y = element_text(color=\"black\", size=14, face=\"bold\")) "
   ]
  },
  {
   "cell_type": "markdown",
   "id": "8e22b822",
   "metadata": {},
   "source": [
    " - **From the above graph, we see that weekly sales of Walmart for Year 2010-12 is not evenly distributed.** \n",
    " - **There are outliers at the extreme right.**"
   ]
  },
  {
   "cell_type": "code",
   "execution_count": 40,
   "id": "0fa3add1",
   "metadata": {
    "scrolled": false
   },
   "outputs": [
    {
     "data": {
      "image/png": "[encoded data removed]",
      "text/plain": [
       "plot without title"
      ]
     },
     "metadata": {},
     "output_type": "display_data"
    }
   ],
   "source": [
    "# Distribution of Weekly sales of Walmart for entire year - Density Curve\n",
    "\n",
    "fig(7,4)\n",
    "walmart_data %>% \n",
    "                ggplot(aes(x = Weekly_Sales_Scaled)) +\n",
    "                geom_density(color=\"darkblue\", fill=\"lightblue\") +\n",
    "                geom_vline(aes(xintercept=median(Weekly_Sales_Scaled)),color=\"blue\", linetype=\"dashed\", size=1) +\n",
    "                ggtitle(\"Distribution of Weekly Sales of Walmart (2010-12)\") +\n",
    "                xlab(\"Weekly Sales\") + ylab(\"Density\") +\n",
    "                theme_classic() +\n",
    "                theme(\n",
    "                    plot.title = element_text(color=\"black\", size=14, face=\"bold.italic\", hjust = 0.5),\n",
    "                    axis.title.x = element_text(color=\"black\", size=14, face=\"bold\"),\n",
    "                    axis.title.y = element_text(color=\"black\", size=14, face=\"bold\")) "
   ]
  },
  {
   "cell_type": "markdown",
   "id": "af346466",
   "metadata": {},
   "source": [
    "- **This graph confirms that the data distribution is skewed.**  \n",
    "- **There are outliers at the extreme right, that is, the data is right skewed.**"
   ]
  },
  {
   "cell_type": "code",
   "execution_count": 41,
   "id": "b4b4c2d2",
   "metadata": {},
   "outputs": [
    {
     "data": {
      "image/png": "[encoded data removed]",
      "text/plain": [
       "plot without title"
      ]
     },
     "metadata": {},
     "output_type": "display_data"
    }
   ],
   "source": [
    "# Distribution of Weekly sales for entire year - Density Curve based on holidays\n",
    "\n",
    "fig(8,5)\n",
    "walmart_data %>% \n",
    "                ggplot(aes(x = Weekly_Sales_Scaled, fill = Holiday_Names, colour = Holiday_Names)) +\n",
    "                geom_density(alpha = 0.3) +\n",
    "                ggtitle(\"Walmart Weekly Sales Distribution based on Holidays (2010-12)\") +\n",
    "                xlab(\"Weekly Sales\") + ylab(\"Density\") +\n",
    "                theme_classic() +\n",
    "                theme(\n",
    "                    plot.title = element_text(color=\"black\", size=14, face=\"bold.italic\", hjust = 0.5),\n",
    "                    axis.title.x = element_text(color=\"black\", size=14, face=\"bold\"),\n",
    "                    axis.title.y = element_text(color=\"black\", size=14, face=\"bold\")) "
   ]
  },
  {
   "cell_type": "markdown",
   "id": "4d51b056",
   "metadata": {},
   "source": [
    "- **The above graph is the distribution of sales based on the specific holidays.** \n",
    "- **In all the holiday cases, the Sales distribution is approximately right skewed**\n",
    "- **Thanksgiving Sales distribuiton is slightly fatter and is more spread compared to other holiday sales**"
   ]
  },
  {
   "cell_type": "code",
   "execution_count": 42,
   "id": "3240d21e",
   "metadata": {
    "scrolled": false
   },
   "outputs": [
    {
     "data": {
      "image/png": "[encoded data removed]",
      "text/plain": [
       "plot without title"
      ]
     },
     "metadata": {},
     "output_type": "display_data"
    }
   ],
   "source": [
    "# Distribution of Weekly sales for entire year - Density Curve based on non-holidays\n",
    "\n",
    "walmart_data[walmart_data$Holiday_Flag == 0, ] %>% \n",
    "                ggplot(aes(x = Weekly_Sales_Scaled)) +\n",
    "                geom_density(color=\"darkblue\", fill=\"lightblue\") +\n",
    "                geom_vline(aes(xintercept=median(Weekly_Sales_Scaled)),color=\"blue\", linetype=\"dashed\", size=1) +\n",
    "                ggtitle(\"Walmart Weekly Sales Distribution on Non Holidays\") +\n",
    "                xlab(\"Weekly Sales\") + ylab(\"Density\") +\n",
    "                theme_classic() +\n",
    "                theme(\n",
    "                    plot.title = element_text(color=\"black\", size=14, face=\"bold.italic\", hjust = 0.5),\n",
    "                    axis.title.x = element_text(color=\"black\", size=14, face=\"bold\"),\n",
    "                    axis.title.y = element_text(color=\"black\", size=14, face=\"bold\")) "
   ]
  },
  {
   "cell_type": "markdown",
   "id": "863dbfeb",
   "metadata": {},
   "source": [
    "- **Distribution of Weekly Sales of Walmart on Non holidays is more or less similar to holiday sales,** \n",
    "- **The distribution is right skewed**"
   ]
  },
  {
   "cell_type": "code",
   "execution_count": 43,
   "id": "b15e4308",
   "metadata": {},
   "outputs": [
    {
     "data": {
      "image/png": "[encoded data removed]",
      "text/plain": [
       "plot without title"
      ]
     },
     "metadata": {},
     "output_type": "display_data"
    }
   ],
   "source": [
    "# Distribtuion of Temperature - Histogram\n",
    "\n",
    "fig(7,4.5)\n",
    "\n",
    "walmart_data %>%\n",
    "                ggplot(aes(x = Temperature)) + \n",
    "                geom_histogram(bins = 8, fill = 'dodgerblue') +\n",
    "                ggtitle(\"Distribution of Temperature (2010-12)\") +\n",
    "                xlab(\"Temperature\") + ylab(\"Frequency\") +\n",
    "                theme_minimal() +\n",
    "                theme(\n",
    "                    plot.title = element_text(color=\"black\", size=14, face=\"bold.italic\", hjust = 0.5),\n",
    "                    axis.title.x = element_text(color=\"black\", size=14, face=\"bold\"),\n",
    "                    axis.title.y = element_text(color=\"black\", size=14, face=\"bold\")) "
   ]
  },
  {
   "cell_type": "code",
   "execution_count": 44,
   "id": "16582269",
   "metadata": {},
   "outputs": [
    {
     "data": {
      "image/png": "[encoded data removed]",
      "text/plain": [
       "plot without title"
      ]
     },
     "metadata": {},
     "output_type": "display_data"
    }
   ],
   "source": [
    "# Distribtuion of Temperature - Density Curve\n",
    "\n",
    "fig(7,4.5)\n",
    "\n",
    "walmart_data %>%\n",
    "                ggplot(aes(x = Temperature)) + \n",
    "                geom_density(color=\"darkblue\", fill=\"lightblue\") +\n",
    "                ggtitle(\"Distribution of Temperature (2010-12)\") +\n",
    "                xlab(\"Temperature\") + ylab(\"Frequency\") +\n",
    "                theme_classic() +\n",
    "                theme(\n",
    "                    plot.title = element_text(color=\"black\", size=14, face=\"bold.italic\", hjust = 0.5),\n",
    "                    axis.title.x = element_text(color=\"black\", size=14, face=\"bold\"),\n",
    "                    axis.title.y = element_text(color=\"black\", size=14, face=\"bold\")) "
   ]
  },
  {
   "cell_type": "markdown",
   "id": "f63da735",
   "metadata": {},
   "source": [
    "- **The Temperature distribution is skewed towards left, i.e. it looks like few outliars are present to the left to the graph.**\n",
    "- **We shall look for the outliers and treat them while building the predictive model**"
   ]
  },
  {
   "cell_type": "code",
   "execution_count": 45,
   "id": "245be942",
   "metadata": {},
   "outputs": [
    {
     "data": {
      "text/html": [
       "<ol class=list-inline>\n",
       "\t<li>'Store'</li>\n",
       "\t<li>'Date'</li>\n",
       "\t<li>'Weekly_Sales'</li>\n",
       "\t<li>'Holiday_Flag'</li>\n",
       "\t<li>'Temperature'</li>\n",
       "\t<li>'Fuel_Price'</li>\n",
       "\t<li>'CPI'</li>\n",
       "\t<li>'Unemployment'</li>\n",
       "\t<li>'Weekly_Sales_Scaled'</li>\n",
       "\t<li>'Super_Bowl'</li>\n",
       "\t<li>'Labour_Day'</li>\n",
       "\t<li>'Thanksgiving'</li>\n",
       "\t<li>'Christmas'</li>\n",
       "\t<li>'Holiday_Names'</li>\n",
       "\t<li>'Day'</li>\n",
       "\t<li>'Month'</li>\n",
       "\t<li>'Year'</li>\n",
       "\t<li>'Quarter'</li>\n",
       "\t<li>'Month_Name'</li>\n",
       "</ol>\n"
      ],
      "text/latex": [
       "\\begin{enumerate*}\n",
       "\\item 'Store'\n",
       "\\item 'Date'\n",
       "\\item 'Weekly\\_Sales'\n",
       "\\item 'Holiday\\_Flag'\n",
       "\\item 'Temperature'\n",
       "\\item 'Fuel\\_Price'\n",
       "\\item 'CPI'\n",
       "\\item 'Unemployment'\n",
       "\\item 'Weekly\\_Sales\\_Scaled'\n",
       "\\item 'Super\\_Bowl'\n",
       "\\item 'Labour\\_Day'\n",
       "\\item 'Thanksgiving'\n",
       "\\item 'Christmas'\n",
       "\\item 'Holiday\\_Names'\n",
       "\\item 'Day'\n",
       "\\item 'Month'\n",
       "\\item 'Year'\n",
       "\\item 'Quarter'\n",
       "\\item 'Month\\_Name'\n",
       "\\end{enumerate*}\n"
      ],
      "text/markdown": [
       "1. 'Store'\n",
       "2. 'Date'\n",
       "3. 'Weekly_Sales'\n",
       "4. 'Holiday_Flag'\n",
       "5. 'Temperature'\n",
       "6. 'Fuel_Price'\n",
       "7. 'CPI'\n",
       "8. 'Unemployment'\n",
       "9. 'Weekly_Sales_Scaled'\n",
       "10. 'Super_Bowl'\n",
       "11. 'Labour_Day'\n",
       "12. 'Thanksgiving'\n",
       "13. 'Christmas'\n",
       "14. 'Holiday_Names'\n",
       "15. 'Day'\n",
       "16. 'Month'\n",
       "17. 'Year'\n",
       "18. 'Quarter'\n",
       "19. 'Month_Name'\n",
       "\n",
       "\n"
      ],
      "text/plain": [
       " [1] \"Store\"               \"Date\"                \"Weekly_Sales\"       \n",
       " [4] \"Holiday_Flag\"        \"Temperature\"         \"Fuel_Price\"         \n",
       " [7] \"CPI\"                 \"Unemployment\"        \"Weekly_Sales_Scaled\"\n",
       "[10] \"Super_Bowl\"          \"Labour_Day\"          \"Thanksgiving\"       \n",
       "[13] \"Christmas\"           \"Holiday_Names\"       \"Day\"                \n",
       "[16] \"Month\"               \"Year\"                \"Quarter\"            \n",
       "[19] \"Month_Name\"         "
      ]
     },
     "metadata": {},
     "output_type": "display_data"
    }
   ],
   "source": [
    "colnames(walmart_data)"
   ]
  },
  {
   "cell_type": "code",
   "execution_count": 46,
   "id": "05c337e7",
   "metadata": {
    "scrolled": false
   },
   "outputs": [
    {
     "data": {
      "image/png": "[encoded data removed]",
      "text/plain": [
       "plot without title"
      ]
     },
     "metadata": {},
     "output_type": "display_data"
    }
   ],
   "source": [
    "## Distribtuion of CPI - Histogram\n",
    "\n",
    "fig(7,4)\n",
    "walmart_data %>%\n",
    "                ggplot(aes(x=CPI)) +\n",
    "                geom_histogram(bins = 5, fill = 'dodgerblue') + \n",
    "                ggtitle(\"Distribution of CPI (2010-12)\") +\n",
    "                xlab(\"CPI\") + ylab(\"Frequency\") +\n",
    "                theme_minimal() +\n",
    "                theme(\n",
    "                    plot.title = element_text(color=\"black\", size=14, face=\"bold.italic\", hjust = 0.5),\n",
    "                    axis.title.x = element_text(color=\"black\", size=14, face=\"bold\"),\n",
    "                    axis.title.y = element_text(color=\"black\", size=14, face=\"bold\")) "
   ]
  },
  {
   "cell_type": "code",
   "execution_count": 47,
   "id": "e7114afb",
   "metadata": {},
   "outputs": [
    {
     "data": {
      "image/png": "[encoded data removed]",
      "text/plain": [
       "plot without title"
      ]
     },
     "metadata": {},
     "output_type": "display_data"
    }
   ],
   "source": [
    "# Distribtuion of CPI - Density Curve\n",
    "\n",
    "fig(7,4)\n",
    "walmart_data %>%\n",
    "                ggplot(aes(x=CPI)) +\n",
    "                geom_density(fill = 'dodgerblue') + \n",
    "                ggtitle(\"Distribution of CPI (2010-12)\") +\n",
    "                xlab(\"CPI\") + ylab(\"Frequency\") +\n",
    "                theme_classic() +\n",
    "                theme(\n",
    "                    plot.title = element_text(color=\"black\", size=14, face=\"bold.italic\", hjust = 0.5),\n",
    "                    axis.title.x = element_text(color=\"black\", size=14, face=\"bold\"),\n",
    "                    axis.title.y = element_text(color=\"black\", size=14, face=\"bold\")) "
   ]
  },
  {
   "cell_type": "markdown",
   "id": "bc066d0d",
   "metadata": {},
   "source": [
    "- **The distribtuion of CPI is irregular.**\n",
    "- **Analysis of this variable along with weekly sales year wise willl give more insights, which is done on the later section**"
   ]
  },
  {
   "cell_type": "code",
   "execution_count": 48,
   "id": "3a007108",
   "metadata": {},
   "outputs": [
    {
     "data": {
      "image/png": "[encoded data removed]",
      "text/plain": [
       "plot without title"
      ]
     },
     "metadata": {},
     "output_type": "display_data"
    }
   ],
   "source": [
    "# Distribtuion of Fuel Price - Histogram\n",
    "\n",
    "fig(7,4)\n",
    "walmart_data %>%\n",
    "                ggplot(aes(x=Fuel_Price)) +\n",
    "                geom_histogram(bins = 5, fill = 'dodgerblue') + \n",
    "                ggtitle(\"Distribution of Fuel_Price (2010-12)\") +\n",
    "                xlab(\"Fuel_Price\") + ylab(\"Frequency\") +\n",
    "                theme_minimal() +\n",
    "                theme(\n",
    "                    plot.title = element_text(color=\"black\", size=14, face=\"bold.italic\", hjust = 0.5),\n",
    "                    axis.title.x = element_text(color=\"black\", size=14, face=\"bold\"),\n",
    "                    axis.title.y = element_text(color=\"black\", size=14, face=\"bold\")) "
   ]
  },
  {
   "cell_type": "code",
   "execution_count": 49,
   "id": "06d2ca28",
   "metadata": {},
   "outputs": [
    {
     "data": {
      "image/png": "[encoded data removed]",
      "text/plain": [
       "plot without title"
      ]
     },
     "metadata": {},
     "output_type": "display_data"
    }
   ],
   "source": [
    "# Distribtuion of Fuel Price - Density Curve\n",
    "\n",
    "fig(7,4)\n",
    "walmart_data %>%\n",
    "                ggplot(aes(x=Fuel_Price)) +\n",
    "                geom_density(fill = 'purple') + \n",
    "                ggtitle(\"Distribution of Fuel_Price (2010-12)\") +\n",
    "                xlab(\"Fuel Price\") + ylab(\"Frequency\") +\n",
    "                theme_classic() +\n",
    "                theme(\n",
    "                    plot.title = element_text(color=\"black\", size=14, face=\"bold.italic\", hjust = 0.5),\n",
    "                    axis.title.x = element_text(color=\"black\", size=14, face=\"bold\"),\n",
    "                    axis.title.y = element_text(color=\"black\", size=14, face=\"bold\")) "
   ]
  },
  {
   "cell_type": "markdown",
   "id": "7a4061c1",
   "metadata": {},
   "source": [
    "- **Distribution of Fuel Price is approximately Normal, having two modes**\n",
    "- **We don't see any possiblity of outliers, we shall have a look on the boxplots while making predictive model**"
   ]
  },
  {
   "cell_type": "code",
   "execution_count": 50,
   "id": "754e947f",
   "metadata": {},
   "outputs": [
    {
     "data": {
      "image/png": "[encoded data removed]",
      "text/plain": [
       "plot without title"
      ]
     },
     "metadata": {},
     "output_type": "display_data"
    }
   ],
   "source": [
    "# Distribtuion of Unemployment - Histogram\n",
    "\n",
    "fig(7,4)\n",
    "walmart_data %>%\n",
    "                ggplot(aes(x=Unemployment)) +\n",
    "                geom_histogram(bins = 5, fill = 'dodgerblue') + \n",
    "                ggtitle(\"Distribution of Unemployment (2010-12)\") +\n",
    "                xlab(\"Unemployment\") + ylab(\"Frequency\") +\n",
    "                theme_minimal() +\n",
    "                theme(\n",
    "                    plot.title = element_text(color=\"black\", size=14, face=\"bold.italic\", hjust = 0.5),\n",
    "                    axis.title.x = element_text(color=\"black\", size=14, face=\"bold\"),\n",
    "                    axis.title.y = element_text(color=\"black\", size=14, face=\"bold\")) "
   ]
  },
  {
   "cell_type": "code",
   "execution_count": 51,
   "id": "e6c18674",
   "metadata": {},
   "outputs": [
    {
     "data": {
      "image/png": "[encoded data removed]",
      "text/plain": [
       "plot without title"
      ]
     },
     "metadata": {},
     "output_type": "display_data"
    }
   ],
   "source": [
    "# Distribtuion of Unemployment - Density Curve\n",
    "\n",
    "fig(7,4)\n",
    "walmart_data %>%\n",
    "                ggplot(aes(x=Unemployment)) +\n",
    "                geom_density(fill = 'purple') + \n",
    "                ggtitle(\"Distribution of Unemployment (2010-12)\") +\n",
    "                xlab(\"Unemployment\") + ylab(\"Frequency\") +\n",
    "                theme_classic() +\n",
    "                theme(\n",
    "                    plot.title = element_text(color=\"black\", size=14, face=\"bold.italic\", hjust = 0.5),\n",
    "                    axis.title.x = element_text(color=\"black\", size=14, face=\"bold\"),\n",
    "                    axis.title.y = element_text(color=\"black\", size=14, face=\"bold\")) "
   ]
  },
  {
   "cell_type": "markdown",
   "id": "a25ecae5",
   "metadata": {},
   "source": [
    "- **Unemployment is approximately normally distributed.** \n",
    "- **We don't see possiblity of outliers here too.**"
   ]
  },
  {
   "cell_type": "code",
   "execution_count": 52,
   "id": "930a01eb",
   "metadata": {},
   "outputs": [
    {
     "data": {
      "text/html": [
       "<ol class=list-inline>\n",
       "\t<li>'Store'</li>\n",
       "\t<li>'Date'</li>\n",
       "\t<li>'Weekly_Sales'</li>\n",
       "\t<li>'Holiday_Flag'</li>\n",
       "\t<li>'Temperature'</li>\n",
       "\t<li>'Fuel_Price'</li>\n",
       "\t<li>'CPI'</li>\n",
       "\t<li>'Unemployment'</li>\n",
       "\t<li>'Weekly_Sales_Scaled'</li>\n",
       "\t<li>'Super_Bowl'</li>\n",
       "\t<li>'Labour_Day'</li>\n",
       "\t<li>'Thanksgiving'</li>\n",
       "\t<li>'Christmas'</li>\n",
       "\t<li>'Holiday_Names'</li>\n",
       "\t<li>'Day'</li>\n",
       "\t<li>'Month'</li>\n",
       "\t<li>'Year'</li>\n",
       "\t<li>'Quarter'</li>\n",
       "\t<li>'Month_Name'</li>\n",
       "</ol>\n"
      ],
      "text/latex": [
       "\\begin{enumerate*}\n",
       "\\item 'Store'\n",
       "\\item 'Date'\n",
       "\\item 'Weekly\\_Sales'\n",
       "\\item 'Holiday\\_Flag'\n",
       "\\item 'Temperature'\n",
       "\\item 'Fuel\\_Price'\n",
       "\\item 'CPI'\n",
       "\\item 'Unemployment'\n",
       "\\item 'Weekly\\_Sales\\_Scaled'\n",
       "\\item 'Super\\_Bowl'\n",
       "\\item 'Labour\\_Day'\n",
       "\\item 'Thanksgiving'\n",
       "\\item 'Christmas'\n",
       "\\item 'Holiday\\_Names'\n",
       "\\item 'Day'\n",
       "\\item 'Month'\n",
       "\\item 'Year'\n",
       "\\item 'Quarter'\n",
       "\\item 'Month\\_Name'\n",
       "\\end{enumerate*}\n"
      ],
      "text/markdown": [
       "1. 'Store'\n",
       "2. 'Date'\n",
       "3. 'Weekly_Sales'\n",
       "4. 'Holiday_Flag'\n",
       "5. 'Temperature'\n",
       "6. 'Fuel_Price'\n",
       "7. 'CPI'\n",
       "8. 'Unemployment'\n",
       "9. 'Weekly_Sales_Scaled'\n",
       "10. 'Super_Bowl'\n",
       "11. 'Labour_Day'\n",
       "12. 'Thanksgiving'\n",
       "13. 'Christmas'\n",
       "14. 'Holiday_Names'\n",
       "15. 'Day'\n",
       "16. 'Month'\n",
       "17. 'Year'\n",
       "18. 'Quarter'\n",
       "19. 'Month_Name'\n",
       "\n",
       "\n"
      ],
      "text/plain": [
       " [1] \"Store\"               \"Date\"                \"Weekly_Sales\"       \n",
       " [4] \"Holiday_Flag\"        \"Temperature\"         \"Fuel_Price\"         \n",
       " [7] \"CPI\"                 \"Unemployment\"        \"Weekly_Sales_Scaled\"\n",
       "[10] \"Super_Bowl\"          \"Labour_Day\"          \"Thanksgiving\"       \n",
       "[13] \"Christmas\"           \"Holiday_Names\"       \"Day\"                \n",
       "[16] \"Month\"               \"Year\"                \"Quarter\"            \n",
       "[19] \"Month_Name\"         "
      ]
     },
     "metadata": {},
     "output_type": "display_data"
    }
   ],
   "source": [
    "colnames(walmart_data) # viewing the column names of 'walmart_data'"
   ]
  },
  {
   "cell_type": "code",
   "execution_count": 53,
   "id": "6879aeae",
   "metadata": {
    "scrolled": false
   },
   "outputs": [],
   "source": [
    "# Creating a new variable year_wise_data, which includes the central values (mean, median) of \n",
    "# CPI, Temperature, Fuel_Price, Unemployment and the sum of sales based on group (Year)\n",
    "\n",
    "year_wise_data <- \n",
    "                    walmart_data %>%\n",
    "                    group_by(Year) %>%\n",
    "                    summarise(CPI = median(CPI), \n",
    "                              Temperature = mean(Temperature), \n",
    "                              Fuel_Price = mean(Fuel_Price),\n",
    "                              Unemployment = mean(Unemployment), \n",
    "                              Sales = sum(Weekly_Sales_Scaled), .groups = 'keep')\n",
    "year_wise_data[, -1] <- round(year_wise_data[,-1], 2)\n",
    "year_wise_data$Year <- as.character(year_wise_data$Year)"
   ]
  },
  {
   "cell_type": "code",
   "execution_count": 54,
   "id": "fbd382f4",
   "metadata": {},
   "outputs": [
    {
     "data": {
      "text/html": [
       "<table>\n",
       "<thead><tr><th scope=col>Year</th><th scope=col>CPI</th><th scope=col>Temperature</th><th scope=col>Fuel_Price</th><th scope=col>Unemployment</th><th scope=col>Sales</th></tr></thead>\n",
       "<tbody>\n",
       "\t<tr><td>2010    </td><td>182.04  </td><td>60.27   </td><td>2.82    </td><td>8.49    </td><td>22888.86</td></tr>\n",
       "\t<tr><td>2011    </td><td>185.27  </td><td>58.80   </td><td>3.56    </td><td>8.08    </td><td>24482.00</td></tr>\n",
       "\t<tr><td>2012    </td><td>190.46  </td><td>63.36   </td><td>3.71    </td><td>7.35    </td><td>20001.33</td></tr>\n",
       "</tbody>\n",
       "</table>\n"
      ],
      "text/latex": [
       "\\begin{tabular}{r|llllll}\n",
       " Year & CPI & Temperature & Fuel\\_Price & Unemployment & Sales\\\\\n",
       "\\hline\n",
       "\t 2010     & 182.04   & 60.27    & 2.82     & 8.49     & 22888.86\\\\\n",
       "\t 2011     & 185.27   & 58.80    & 3.56     & 8.08     & 24482.00\\\\\n",
       "\t 2012     & 190.46   & 63.36    & 3.71     & 7.35     & 20001.33\\\\\n",
       "\\end{tabular}\n"
      ],
      "text/markdown": [
       "\n",
       "| Year | CPI | Temperature | Fuel_Price | Unemployment | Sales |\n",
       "|---|---|---|---|---|---|\n",
       "| 2010     | 182.04   | 60.27    | 2.82     | 8.49     | 22888.86 |\n",
       "| 2011     | 185.27   | 58.80    | 3.56     | 8.08     | 24482.00 |\n",
       "| 2012     | 190.46   | 63.36    | 3.71     | 7.35     | 20001.33 |\n",
       "\n"
      ],
      "text/plain": [
       "  Year CPI    Temperature Fuel_Price Unemployment Sales   \n",
       "1 2010 182.04 60.27       2.82       8.49         22888.86\n",
       "2 2011 185.27 58.80       3.56       8.08         24482.00\n",
       "3 2012 190.46 63.36       3.71       7.35         20001.33"
      ]
     },
     "metadata": {},
     "output_type": "display_data"
    }
   ],
   "source": [
    "year_wise_data # viewing the year_wise_data"
   ]
  },
  {
   "cell_type": "code",
   "execution_count": 55,
   "id": "eab3e814",
   "metadata": {},
   "outputs": [
    {
     "data": {
      "image/png": "[encoded data removed]",
      "text/plain": [
       "plot without title"
      ]
     },
     "metadata": {},
     "output_type": "display_data"
    }
   ],
   "source": [
    "# Bar plot to show the yearly sales of Walmart\n",
    "\n",
    "fig(7,4)\n",
    "year_wise_data %>%\n",
    "                ggplot(aes(y=Sales, x=Year)) +\n",
    "                geom_bar(fill = 'darkblue', stat=\"identity\", width = 0.3) + \n",
    "                ggtitle(\"Year-wise Distribution of Sales (per Hundred Thousand)\") +\n",
    "                ylab(\"Sales\") + xlab(\"Year\") +\n",
    "                theme_minimal() +\n",
    "                theme(\n",
    "                    plot.title = element_text(color=\"black\", size=14, face=\"bold.italic\", hjust = 0.5),\n",
    "                    axis.title.x = element_text(color=\"black\", size=14, face=\"bold\"),\n",
    "                    axis.title.y = element_text(color=\"black\", size=14, face=\"bold\")) "
   ]
  },
  {
   "cell_type": "markdown",
   "id": "5916e090",
   "metadata": {},
   "source": [
    "- **2011, has recorded the highest sales, higher than the previous year 2010.** \n",
    "- **There is a dip in sales in the following year 2012**\n",
    "- **However, we are not sure if the sales were actually lower, since we dont have data of Nov & Dec, where sales might have peaked**"
   ]
  },
  {
   "cell_type": "code",
   "execution_count": 56,
   "id": "34509d93",
   "metadata": {},
   "outputs": [],
   "source": [
    "year_wise_data$Sales <- year_wise_data$Sales/10000 # Scaling down Sales to make it comparable to other columns"
   ]
  },
  {
   "cell_type": "code",
   "execution_count": 57,
   "id": "6e6dc14a",
   "metadata": {},
   "outputs": [
    {
     "data": {
      "text/html": [
       "<table>\n",
       "<thead><tr><th scope=col>Year</th><th scope=col>CPI</th><th scope=col>Temperature</th><th scope=col>Fuel_Price</th><th scope=col>Unemployment</th><th scope=col>Sales</th></tr></thead>\n",
       "<tbody>\n",
       "\t<tr><td>2010    </td><td>182.04  </td><td>60.27   </td><td>2.82    </td><td>8.49    </td><td>2.288886</td></tr>\n",
       "\t<tr><td>2011    </td><td>185.27  </td><td>58.80   </td><td>3.56    </td><td>8.08    </td><td>2.448200</td></tr>\n",
       "\t<tr><td>2012    </td><td>190.46  </td><td>63.36   </td><td>3.71    </td><td>7.35    </td><td>2.000133</td></tr>\n",
       "</tbody>\n",
       "</table>\n"
      ],
      "text/latex": [
       "\\begin{tabular}{r|llllll}\n",
       " Year & CPI & Temperature & Fuel\\_Price & Unemployment & Sales\\\\\n",
       "\\hline\n",
       "\t 2010     & 182.04   & 60.27    & 2.82     & 8.49     & 2.288886\\\\\n",
       "\t 2011     & 185.27   & 58.80    & 3.56     & 8.08     & 2.448200\\\\\n",
       "\t 2012     & 190.46   & 63.36    & 3.71     & 7.35     & 2.000133\\\\\n",
       "\\end{tabular}\n"
      ],
      "text/markdown": [
       "\n",
       "| Year | CPI | Temperature | Fuel_Price | Unemployment | Sales |\n",
       "|---|---|---|---|---|---|\n",
       "| 2010     | 182.04   | 60.27    | 2.82     | 8.49     | 2.288886 |\n",
       "| 2011     | 185.27   | 58.80    | 3.56     | 8.08     | 2.448200 |\n",
       "| 2012     | 190.46   | 63.36    | 3.71     | 7.35     | 2.000133 |\n",
       "\n"
      ],
      "text/plain": [
       "  Year CPI    Temperature Fuel_Price Unemployment Sales   \n",
       "1 2010 182.04 60.27       2.82       8.49         2.288886\n",
       "2 2011 185.27 58.80       3.56       8.08         2.448200\n",
       "3 2012 190.46 63.36       3.71       7.35         2.000133"
      ]
     },
     "metadata": {},
     "output_type": "display_data"
    }
   ],
   "source": [
    "year_wise_data"
   ]
  },
  {
   "cell_type": "markdown",
   "id": "a1c48352",
   "metadata": {},
   "source": [
    "- **Now in order to see the sales along with the variables like CPI, Temperature, Feul_Price, Unemployment,**\n",
    "- **We need to adjust the data. This is achieved using 'gather' function of tidyr library.**\n",
    "- **This adjustment is done for all the variables to plot them as side by side bar charts with sales to see if sales and these**\n",
    "- **variables follow some pattern or are related.**"
   ]
  },
  {
   "cell_type": "code",
   "execution_count": 58,
   "id": "6eaadbba",
   "metadata": {},
   "outputs": [
    {
     "data": {
      "text/html": [
       "<table>\n",
       "<thead><tr><th scope=col>Year</th><th scope=col>CPI</th><th scope=col>Temperature</th><th scope=col>Fuel_Price</th><th scope=col>Category</th><th scope=col>Value</th></tr></thead>\n",
       "<tbody>\n",
       "\t<tr><td>2010        </td><td>182.04      </td><td>60.27       </td><td>2.82        </td><td>Unemployment</td><td>8.490000    </td></tr>\n",
       "\t<tr><td>2011        </td><td>185.27      </td><td>58.80       </td><td>3.56        </td><td>Unemployment</td><td>8.080000    </td></tr>\n",
       "\t<tr><td>2012        </td><td>190.46      </td><td>63.36       </td><td>3.71        </td><td>Unemployment</td><td>7.350000    </td></tr>\n",
       "\t<tr><td>2010        </td><td>182.04      </td><td>60.27       </td><td>2.82        </td><td>Sales       </td><td>2.288886    </td></tr>\n",
       "\t<tr><td>2011        </td><td>185.27      </td><td>58.80       </td><td>3.56        </td><td>Sales       </td><td>2.448200    </td></tr>\n",
       "\t<tr><td>2012        </td><td>190.46      </td><td>63.36       </td><td>3.71        </td><td>Sales       </td><td>2.000133    </td></tr>\n",
       "</tbody>\n",
       "</table>\n"
      ],
      "text/latex": [
       "\\begin{tabular}{r|llllll}\n",
       " Year & CPI & Temperature & Fuel\\_Price & Category & Value\\\\\n",
       "\\hline\n",
       "\t 2010         & 182.04       & 60.27        & 2.82         & Unemployment & 8.490000    \\\\\n",
       "\t 2011         & 185.27       & 58.80        & 3.56         & Unemployment & 8.080000    \\\\\n",
       "\t 2012         & 190.46       & 63.36        & 3.71         & Unemployment & 7.350000    \\\\\n",
       "\t 2010         & 182.04       & 60.27        & 2.82         & Sales        & 2.288886    \\\\\n",
       "\t 2011         & 185.27       & 58.80        & 3.56         & Sales        & 2.448200    \\\\\n",
       "\t 2012         & 190.46       & 63.36        & 3.71         & Sales        & 2.000133    \\\\\n",
       "\\end{tabular}\n"
      ],
      "text/markdown": [
       "\n",
       "| Year | CPI | Temperature | Fuel_Price | Category | Value |\n",
       "|---|---|---|---|---|---|\n",
       "| 2010         | 182.04       | 60.27        | 2.82         | Unemployment | 8.490000     |\n",
       "| 2011         | 185.27       | 58.80        | 3.56         | Unemployment | 8.080000     |\n",
       "| 2012         | 190.46       | 63.36        | 3.71         | Unemployment | 7.350000     |\n",
       "| 2010         | 182.04       | 60.27        | 2.82         | Sales        | 2.288886     |\n",
       "| 2011         | 185.27       | 58.80        | 3.56         | Sales        | 2.448200     |\n",
       "| 2012         | 190.46       | 63.36        | 3.71         | Sales        | 2.000133     |\n",
       "\n"
      ],
      "text/plain": [
       "  Year CPI    Temperature Fuel_Price Category     Value   \n",
       "1 2010 182.04 60.27       2.82       Unemployment 8.490000\n",
       "2 2011 185.27 58.80       3.56       Unemployment 8.080000\n",
       "3 2012 190.46 63.36       3.71       Unemployment 7.350000\n",
       "4 2010 182.04 60.27       2.82       Sales        2.288886\n",
       "5 2011 185.27 58.80       3.56       Sales        2.448200\n",
       "6 2012 190.46 63.36       3.71       Sales        2.000133"
      ]
     },
     "metadata": {},
     "output_type": "display_data"
    }
   ],
   "source": [
    "tidy_year_wise_data <- gather(year_wise_data, Category, Value, Unemployment:Sales)\n",
    "tidy_year_wise_data"
   ]
  },
  {
   "cell_type": "code",
   "execution_count": 59,
   "id": "1937841b",
   "metadata": {
    "scrolled": false
   },
   "outputs": [
    {
     "data": {
      "image/png": "[encoded data removed]",
      "text/plain": [
       "plot without title"
      ]
     },
     "metadata": {},
     "output_type": "display_data"
    }
   ],
   "source": [
    "# Side by side bar-plot of Sales with unemployment, per year\n",
    "\n",
    "fig(7,4)\n",
    "tidy_year_wise_data %>%\n",
    "                ggplot(aes(y=Value, x=Year, fill = Category)) +\n",
    "                geom_bar(stat=\"identity\", position = 'dodge', width = 0.5, alpha = 0.8) + # position = 'dodge' so the bars are not stacked.\n",
    "                scale_fill_brewer(palette = \"Paired\") +\n",
    "                ggtitle(\"Year-wise Distribution of Unemployment vs Sales (2010-12)\") +\n",
    "                ylab(\"Value\") + xlab(\"Year\") +\n",
    "                theme_minimal() +\n",
    "                theme(\n",
    "                    plot.title = element_text(color=\"black\", size=14, face=\"bold.italic\", hjust = 0.1),\n",
    "                    axis.title.x = element_text(color=\"black\", size=14, face=\"bold\"),\n",
    "                    axis.title.y = element_text(color=\"black\", size=14, face=\"bold\")) "
   ]
  },
  {
   "cell_type": "markdown",
   "id": "b70b4dab",
   "metadata": {},
   "source": [
    "- **From the above figure, we don't observe any specific pattern of Unemployment with sales.** \n",
    "- **When sales incresed from 2010 to 2011, unemployment decreased. When sales decreased from 2011 to 2012,** \n",
    "- **unemployment further decresed. Therefore, there is no relationship between sales and unemployment as such.**\n",
    "- **However, one observation is that as the year passes, unemployment has decreased.** "
   ]
  },
  {
   "cell_type": "code",
   "execution_count": 60,
   "id": "b178fd53",
   "metadata": {},
   "outputs": [
    {
     "data": {
      "text/html": [
       "<table>\n",
       "<thead><tr><th scope=col>Year</th><th scope=col>Category</th><th scope=col>Value</th></tr></thead>\n",
       "<tbody>\n",
       "\t<tr><td>2010      </td><td>Fuel_Price</td><td>2.820000  </td></tr>\n",
       "\t<tr><td>2011      </td><td>Fuel_Price</td><td>3.560000  </td></tr>\n",
       "\t<tr><td>2012      </td><td>Fuel_Price</td><td>3.710000  </td></tr>\n",
       "\t<tr><td>2010      </td><td>Sales     </td><td>2.288886  </td></tr>\n",
       "\t<tr><td>2011      </td><td>Sales     </td><td>2.448200  </td></tr>\n",
       "\t<tr><td>2012      </td><td>Sales     </td><td>2.000133  </td></tr>\n",
       "</tbody>\n",
       "</table>\n"
      ],
      "text/latex": [
       "\\begin{tabular}{r|lll}\n",
       " Year & Category & Value\\\\\n",
       "\\hline\n",
       "\t 2010         & Fuel\\_Price & 2.820000    \\\\\n",
       "\t 2011         & Fuel\\_Price & 3.560000    \\\\\n",
       "\t 2012         & Fuel\\_Price & 3.710000    \\\\\n",
       "\t 2010       & Sales      & 2.288886  \\\\\n",
       "\t 2011       & Sales      & 2.448200  \\\\\n",
       "\t 2012       & Sales      & 2.000133  \\\\\n",
       "\\end{tabular}\n"
      ],
      "text/markdown": [
       "\n",
       "| Year | Category | Value |\n",
       "|---|---|---|\n",
       "| 2010       | Fuel_Price | 2.820000   |\n",
       "| 2011       | Fuel_Price | 3.560000   |\n",
       "| 2012       | Fuel_Price | 3.710000   |\n",
       "| 2010       | Sales      | 2.288886   |\n",
       "| 2011       | Sales      | 2.448200   |\n",
       "| 2012       | Sales      | 2.000133   |\n",
       "\n"
      ],
      "text/plain": [
       "  Year Category   Value   \n",
       "1 2010 Fuel_Price 2.820000\n",
       "2 2011 Fuel_Price 3.560000\n",
       "3 2012 Fuel_Price 3.710000\n",
       "4 2010 Sales      2.288886\n",
       "5 2011 Sales      2.448200\n",
       "6 2012 Sales      2.000133"
      ]
     },
     "metadata": {},
     "output_type": "display_data"
    }
   ],
   "source": [
    "# Making two columns as variable names in one column and their respective values as another column to plot side by side bar-plot\n",
    "\n",
    "tidy_year_wise_data <- gather(year_wise_data[c('Year', 'Fuel_Price', 'Sales')], Category, Value, Fuel_Price:Sales)\n",
    "tidy_year_wise_data"
   ]
  },
  {
   "cell_type": "code",
   "execution_count": 61,
   "id": "290b1232",
   "metadata": {},
   "outputs": [
    {
     "data": {
      "image/png": "[encoded data removed]",
      "text/plain": [
       "plot without title"
      ]
     },
     "metadata": {},
     "output_type": "display_data"
    }
   ],
   "source": [
    "# Side by side bar-plot of Sales with Fuel Price, per year\n",
    "\n",
    "fig(7,4)\n",
    "tidy_year_wise_data %>%\n",
    "                ggplot(aes(y=Value, x=Year, fill = Category)) +\n",
    "                geom_bar(stat=\"identity\", position = 'dodge', width = 0.5, alpha = 0.8) + \n",
    "                # position = 'dodge' so the bars are not stacked.\n",
    "                scale_fill_brewer(palette = \"Set1\") +\n",
    "                ggtitle(\"Year-wise Distribution of Fuel Price vs Sales (2010-12)\") +\n",
    "                ylab(\"Value\") + xlab(\"Year\") +\n",
    "                theme_minimal() +\n",
    "                theme(\n",
    "                    plot.title = element_text(color=\"black\", size=14, face=\"bold.italic\", hjust = 0.1),\n",
    "                    axis.title.x = element_text(color=\"black\", size=14, face=\"bold\"),\n",
    "                    axis.title.y = element_text(color=\"black\", size=14, face=\"bold\")) "
   ]
  },
  {
   "cell_type": "markdown",
   "id": "11803028",
   "metadata": {},
   "source": [
    "- **From the above figure, we don't observe any specific pattern of Fuel Price with Sales** \n",
    "- **When sales incresed from 2010 to 2011, Fuel Price also increased. When sales decreased from 2011 to 2012,** \n",
    "- **Fuel prices further increased. Therefore, there is no relationship between sales and unemployment as such.**\n",
    "- **However, one observation is that as the year passes, the fuel prices have increased.**"
   ]
  },
  {
   "cell_type": "code",
   "execution_count": 62,
   "id": "570c9c11",
   "metadata": {},
   "outputs": [
    {
     "data": {
      "text/html": [
       "<table>\n",
       "<thead><tr><th scope=col>Year</th><th scope=col>Category</th><th scope=col>Value</th></tr></thead>\n",
       "<tbody>\n",
       "\t<tr><td>2010       </td><td>Temperature</td><td>60.27000   </td></tr>\n",
       "\t<tr><td>2011       </td><td>Temperature</td><td>58.80000   </td></tr>\n",
       "\t<tr><td>2012       </td><td>Temperature</td><td>63.36000   </td></tr>\n",
       "\t<tr><td>2010       </td><td>Sales      </td><td>22.88886   </td></tr>\n",
       "\t<tr><td>2011       </td><td>Sales      </td><td>24.48200   </td></tr>\n",
       "\t<tr><td>2012       </td><td>Sales      </td><td>20.00133   </td></tr>\n",
       "</tbody>\n",
       "</table>\n"
      ],
      "text/latex": [
       "\\begin{tabular}{r|lll}\n",
       " Year & Category & Value\\\\\n",
       "\\hline\n",
       "\t 2010        & Temperature & 60.27000   \\\\\n",
       "\t 2011        & Temperature & 58.80000   \\\\\n",
       "\t 2012        & Temperature & 63.36000   \\\\\n",
       "\t 2010        & Sales       & 22.88886   \\\\\n",
       "\t 2011        & Sales       & 24.48200   \\\\\n",
       "\t 2012        & Sales       & 20.00133   \\\\\n",
       "\\end{tabular}\n"
      ],
      "text/markdown": [
       "\n",
       "| Year | Category | Value |\n",
       "|---|---|---|\n",
       "| 2010        | Temperature | 60.27000    |\n",
       "| 2011        | Temperature | 58.80000    |\n",
       "| 2012        | Temperature | 63.36000    |\n",
       "| 2010        | Sales       | 22.88886    |\n",
       "| 2011        | Sales       | 24.48200    |\n",
       "| 2012        | Sales       | 20.00133    |\n",
       "\n"
      ],
      "text/plain": [
       "  Year Category    Value   \n",
       "1 2010 Temperature 60.27000\n",
       "2 2011 Temperature 58.80000\n",
       "3 2012 Temperature 63.36000\n",
       "4 2010 Sales       22.88886\n",
       "5 2011 Sales       24.48200\n",
       "6 2012 Sales       20.00133"
      ]
     },
     "metadata": {},
     "output_type": "display_data"
    }
   ],
   "source": [
    "# Making adjustment of data similar to previous code to make side by side bar plot\n",
    "\n",
    "year_wise_data$Sales <- year_wise_data$Sales*10 # Scaling up Sales to make it comparable to Temperature column\n",
    "\n",
    "tidy_year_wise_data <- gather(year_wise_data[c('Year', 'Temperature', 'Sales')], Category, Value, Temperature:Sales)\n",
    "tidy_year_wise_data"
   ]
  },
  {
   "cell_type": "code",
   "execution_count": 63,
   "id": "108aacc5",
   "metadata": {},
   "outputs": [
    {
     "data": {
      "image/png": "[encoded data removed]",
      "text/plain": [
       "plot without title"
      ]
     },
     "metadata": {},
     "output_type": "display_data"
    }
   ],
   "source": [
    "# Side by side bar-plot of Sales with Temperature, per year\n",
    "\n",
    "fig(7,4)\n",
    "tidy_year_wise_data %>%\n",
    "                ggplot(aes(y=Value, x=Year, fill = Category)) +\n",
    "                geom_bar(stat=\"identity\", position = 'dodge', width = 0.5, alpha = 0.8) + \n",
    "                scale_fill_brewer(palette = \"Dark2\") +\n",
    "                ggtitle(\"Year-wise Distribution of Temperature vs Sales (2010-12)\") +\n",
    "                ylab(\"Value\") + xlab(\"Year\") +\n",
    "                theme_minimal() +\n",
    "                theme(\n",
    "                    plot.title = element_text(color=\"black\", size=14, face=\"bold.italic\", hjust = 0.1),\n",
    "                    axis.title.x = element_text(color=\"black\", size=14, face=\"bold\"),\n",
    "                    axis.title.y = element_text(color=\"black\", size=14, face=\"bold\")) "
   ]
  },
  {
   "cell_type": "markdown",
   "id": "6fb04b45",
   "metadata": {},
   "source": [
    "- **From the above figure, we observe that temperature might be inversely related to sales**\n",
    "- **When average temperature decreased from 2010 to 2011, Sales increased. When average temperature increased from 2011 to 2012, sales decreased.**\n",
    "- **However, since the data for Nov and Dec Month is not available with us for 2012 year sales and temperature, we cannot conclude this relationship with confidence. Further statistical tests are needed to confirm this**\n",
    "- **We have considered correlation coefficient as the basis to conclude if the variable is related with another variable or not.**"
   ]
  },
  {
   "cell_type": "code",
   "execution_count": 64,
   "id": "243013a5",
   "metadata": {},
   "outputs": [
    {
     "data": {
      "text/html": [
       "<table>\n",
       "<thead><tr><th scope=col>Year</th><th scope=col>Category</th><th scope=col>Value</th></tr></thead>\n",
       "<tbody>\n",
       "\t<tr><td>2010    </td><td>CPI     </td><td>182.0400</td></tr>\n",
       "\t<tr><td>2011    </td><td>CPI     </td><td>185.2700</td></tr>\n",
       "\t<tr><td>2012    </td><td>CPI     </td><td>190.4600</td></tr>\n",
       "\t<tr><td>2010    </td><td>Sales   </td><td>228.8886</td></tr>\n",
       "\t<tr><td>2011    </td><td>Sales   </td><td>244.8200</td></tr>\n",
       "\t<tr><td>2012    </td><td>Sales   </td><td>200.0133</td></tr>\n",
       "</tbody>\n",
       "</table>\n"
      ],
      "text/latex": [
       "\\begin{tabular}{r|lll}\n",
       " Year & Category & Value\\\\\n",
       "\\hline\n",
       "\t 2010     & CPI      & 182.0400\\\\\n",
       "\t 2011     & CPI      & 185.2700\\\\\n",
       "\t 2012     & CPI      & 190.4600\\\\\n",
       "\t 2010     & Sales    & 228.8886\\\\\n",
       "\t 2011     & Sales    & 244.8200\\\\\n",
       "\t 2012     & Sales    & 200.0133\\\\\n",
       "\\end{tabular}\n"
      ],
      "text/markdown": [
       "\n",
       "| Year | Category | Value |\n",
       "|---|---|---|\n",
       "| 2010     | CPI      | 182.0400 |\n",
       "| 2011     | CPI      | 185.2700 |\n",
       "| 2012     | CPI      | 190.4600 |\n",
       "| 2010     | Sales    | 228.8886 |\n",
       "| 2011     | Sales    | 244.8200 |\n",
       "| 2012     | Sales    | 200.0133 |\n",
       "\n"
      ],
      "text/plain": [
       "  Year Category Value   \n",
       "1 2010 CPI      182.0400\n",
       "2 2011 CPI      185.2700\n",
       "3 2012 CPI      190.4600\n",
       "4 2010 Sales    228.8886\n",
       "5 2011 Sales    244.8200\n",
       "6 2012 Sales    200.0133"
      ]
     },
     "metadata": {},
     "output_type": "display_data"
    }
   ],
   "source": [
    "# adjustment of data with gather function to create side by side bar plot\n",
    "\n",
    "year_wise_data$Sales <- year_wise_data$Sales*10 # Scaling up Sales to make it comparable to Temperature column\n",
    "\n",
    "tidy_year_wise_data <- gather(year_wise_data[c('Year', 'CPI', 'Sales')], Category, Value, CPI:Sales)\n",
    "tidy_year_wise_data"
   ]
  },
  {
   "cell_type": "code",
   "execution_count": 65,
   "id": "539488ef",
   "metadata": {},
   "outputs": [
    {
     "data": {
      "image/png": "[encoded data removed]",
      "text/plain": [
       "plot without title"
      ]
     },
     "metadata": {},
     "output_type": "display_data"
    }
   ],
   "source": [
    "# Side by side bar-plot of CPI with Sales, per year\n",
    "\n",
    "fig(7,4)\n",
    "tidy_year_wise_data %>%\n",
    "                ggplot(aes(y=Value, x=Year, fill = Category)) +\n",
    "                geom_bar(stat=\"identity\", position = 'dodge', width = 0.5, alpha = 0.8) + \n",
    "                scale_fill_brewer(palette = \"Set2\") +\n",
    "                ggtitle(\"Year-wise Distribution of CPI vs Sales (2010-12)\") +\n",
    "                ylab(\"Value\") + xlab(\"Year\") +\n",
    "                theme_minimal() +\n",
    "                theme(\n",
    "                    plot.title = element_text(color=\"black\", size=14, face=\"bold.italic\", hjust = 0.1),\n",
    "                    axis.title.x = element_text(color=\"black\", size=14, face=\"bold\"),\n",
    "                    axis.title.y = element_text(color=\"black\", size=14, face=\"bold\")) "
   ]
  },
  {
   "cell_type": "markdown",
   "id": "42ec661f",
   "metadata": {},
   "source": [
    "- **CPI gives an idea of the cost of living. Inflation is measured using CPI.** \n",
    "- **Higher CPI indicates the increase in prices of a representative basket of goods consumed.** <br><br>\n",
    "- **From the above figure, we see CPI has increased with the passage of time.**\n",
    "- **Sales have also increased from year 2010 to 2011, however it has decreased from 2011 t0 2012. 2012 sales are ambiguious because of non availablity of Data for 2012 Nov and Dec month. It might have been the case that 2012 sales were higher than 2011, due to  New Year and Christmas eve, but anyways, we cannot conclude the trend of CPI and sales form 2011 to 2012.**\n",
    "- **For the period 2010 to 2011, the positive relationship between Sales and CPI is actually surprising because higher CPI should lower the sales, as per logic that higher CPI leads to increases the representative basket price**\n",
    "- **The sales might have been high due to other cofounding variables e.g. discounts provided on holidays and festivals.**"
   ]
  },
  {
   "cell_type": "markdown",
   "id": "817afb75",
   "metadata": {},
   "source": [
    "## D. Analysis - Basic Statistics tasks "
   ]
  },
  {
   "cell_type": "markdown",
   "id": "1cd8e7ec",
   "metadata": {},
   "source": [
    "### 1. Which store has maximum sales?"
   ]
  },
  {
   "cell_type": "code",
   "execution_count": 66,
   "id": "fb18dfb7",
   "metadata": {},
   "outputs": [
    {
     "data": {
      "text/html": [
       "<table>\n",
       "<thead><tr><th scope=col>Store</th><th scope=col>Total_sales</th><th scope=col>Deviation</th><th scope=col>Coeff_of_variation</th></tr></thead>\n",
       "<tbody>\n",
       "\t<tr><td>1           </td><td>222402808.85</td><td>155980.77   </td><td>9.97        </td></tr>\n",
       "\t<tr><td>2           </td><td>275382440.98</td><td>237683.69   </td><td>8.10        </td></tr>\n",
       "\t<tr><td>3           </td><td> 57586735.07</td><td> 46319.63   </td><td>8.69        </td></tr>\n",
       "\t<tr><td>4           </td><td>299543953.38</td><td>266201.44   </td><td>7.87        </td></tr>\n",
       "\t<tr><td>5           </td><td> 45475688.90</td><td> 37737.97   </td><td>8.43        </td></tr>\n",
       "\t<tr><td>6           </td><td>223756130.64</td><td>212525.86   </td><td>7.36        </td></tr>\n",
       "</tbody>\n",
       "</table>\n"
      ],
      "text/latex": [
       "\\begin{tabular}{r|llll}\n",
       " Store & Total\\_sales & Deviation & Coeff\\_of\\_variation\\\\\n",
       "\\hline\n",
       "\t 1            & 222402808.85 & 155980.77    & 9.97        \\\\\n",
       "\t 2            & 275382440.98 & 237683.69    & 8.10        \\\\\n",
       "\t 3            &  57586735.07 &  46319.63    & 8.69        \\\\\n",
       "\t 4            & 299543953.38 & 266201.44    & 7.87        \\\\\n",
       "\t 5            &  45475688.90 &  37737.97    & 8.43        \\\\\n",
       "\t 6            & 223756130.64 & 212525.86    & 7.36        \\\\\n",
       "\\end{tabular}\n"
      ],
      "text/markdown": [
       "\n",
       "| Store | Total_sales | Deviation | Coeff_of_variation |\n",
       "|---|---|---|---|\n",
       "| 1            | 222402808.85 | 155980.77    | 9.97         |\n",
       "| 2            | 275382440.98 | 237683.69    | 8.10         |\n",
       "| 3            |  57586735.07 |  46319.63    | 8.69         |\n",
       "| 4            | 299543953.38 | 266201.44    | 7.87         |\n",
       "| 5            |  45475688.90 |  37737.97    | 8.43         |\n",
       "| 6            | 223756130.64 | 212525.86    | 7.36         |\n",
       "\n"
      ],
      "text/plain": [
       "  Store Total_sales  Deviation Coeff_of_variation\n",
       "1 1     222402808.85 155980.77 9.97              \n",
       "2 2     275382440.98 237683.69 8.10              \n",
       "3 3      57586735.07  46319.63 8.69              \n",
       "4 4     299543953.38 266201.44 7.87              \n",
       "5 5      45475688.90  37737.97 8.43              \n",
       "6 6     223756130.64 212525.86 7.36              "
      ]
     },
     "metadata": {},
     "output_type": "display_data"
    }
   ],
   "source": [
    "# Preparing data with store wise Sales and Deviation and Coeff. of Deviation\n",
    "\n",
    "store_wise_sales = walmart_data %>%\n",
    "                        group_by(Store) %>%\n",
    "                        summarise(Total_sales = round(sum(Weekly_Sales),2),\n",
    "                                  Deviation = round(sd(Weekly_Sales),2), \n",
    "                                  Coeff_of_variation = round(mean(Weekly_Sales)/sd(Weekly_Sales),2),\n",
    "                                  .groups = 'keep')\n",
    "store_wise_sales <- as.data.frame(store_wise_sales)\n",
    "head(store_wise_sales)"
   ]
  },
  {
   "cell_type": "code",
   "execution_count": 67,
   "id": "c8164e78",
   "metadata": {},
   "outputs": [
    {
     "data": {
      "text/html": [
       "<table>\n",
       "<thead><tr><th scope=col>Store</th><th scope=col>Total_sales</th><th scope=col>Deviation</th><th scope=col>Coeff_of_variation</th></tr></thead>\n",
       "<tbody>\n",
       "\t<tr><td>20          </td><td>301397792.46</td><td>275900.56   </td><td>7.64        </td></tr>\n",
       "</tbody>\n",
       "</table>\n"
      ],
      "text/latex": [
       "\\begin{tabular}{r|llll}\n",
       " Store & Total\\_sales & Deviation & Coeff\\_of\\_variation\\\\\n",
       "\\hline\n",
       "\t 20           & 301397792.46 & 275900.56    & 7.64        \\\\\n",
       "\\end{tabular}\n"
      ],
      "text/markdown": [
       "\n",
       "| Store | Total_sales | Deviation | Coeff_of_variation |\n",
       "|---|---|---|---|\n",
       "| 20           | 301397792.46 | 275900.56    | 7.64         |\n",
       "\n"
      ],
      "text/plain": [
       "  Store Total_sales  Deviation Coeff_of_variation\n",
       "1 20    301397792.46 275900.56 7.64              "
      ]
     },
     "metadata": {},
     "output_type": "display_data"
    }
   ],
   "source": [
    "# Filtering the data based on Max Sales\n",
    "\n",
    "max_sales = filter(store_wise_sales, Total_sales == max(Total_sales))\n",
    "max_sales"
   ]
  },
  {
   "cell_type": "code",
   "execution_count": 68,
   "id": "9aaaa379",
   "metadata": {},
   "outputs": [
    {
     "name": "stdout",
     "output_type": "stream",
     "text": [
      "[1] \"Store 20 has maximum sales of 301397792.46\"\n"
     ]
    }
   ],
   "source": [
    "print(paste('Store', max_sales['Store'], 'has maximum sales of', max_sales['Total_sales']))"
   ]
  },
  {
   "cell_type": "markdown",
   "id": "257e1164",
   "metadata": {},
   "source": [
    "### Ans: Store 20 has maximum sales of 301397792.46"
   ]
  },
  {
   "cell_type": "code",
   "execution_count": null,
   "id": "b17edc7a",
   "metadata": {},
   "outputs": [],
   "source": []
  },
  {
   "cell_type": "markdown",
   "id": "dc83cdfb",
   "metadata": {},
   "source": [
    "### 2. Which store has maximum standard deviation i.e., the sales vary a lot. Also, find out the coefficient of mean to standard deviation?"
   ]
  },
  {
   "cell_type": "code",
   "execution_count": 69,
   "id": "057705fe",
   "metadata": {},
   "outputs": [
    {
     "data": {
      "text/html": [
       "<table>\n",
       "<thead><tr><th scope=col>Store</th><th scope=col>Total_sales</th><th scope=col>Deviation</th><th scope=col>Coeff_of_variation</th></tr></thead>\n",
       "<tbody>\n",
       "\t<tr><td>14          </td><td>288999911.34</td><td>317569.95   </td><td>6.36        </td></tr>\n",
       "</tbody>\n",
       "</table>\n"
      ],
      "text/latex": [
       "\\begin{tabular}{r|llll}\n",
       " Store & Total\\_sales & Deviation & Coeff\\_of\\_variation\\\\\n",
       "\\hline\n",
       "\t 14           & 288999911.34 & 317569.95    & 6.36        \\\\\n",
       "\\end{tabular}\n"
      ],
      "text/markdown": [
       "\n",
       "| Store | Total_sales | Deviation | Coeff_of_variation |\n",
       "|---|---|---|---|\n",
       "| 14           | 288999911.34 | 317569.95    | 6.36         |\n",
       "\n"
      ],
      "text/plain": [
       "  Store Total_sales  Deviation Coeff_of_variation\n",
       "1 14    288999911.34 317569.95 6.36              "
      ]
     },
     "metadata": {},
     "output_type": "display_data"
    }
   ],
   "source": [
    "# Filtering the data based on Max Deviation\n",
    "\n",
    "max_store_sd = filter(store_wise_sales, Deviation == max(Deviation))\n",
    "max_store_sd"
   ]
  },
  {
   "cell_type": "code",
   "execution_count": 70,
   "id": "f8877948",
   "metadata": {},
   "outputs": [
    {
     "name": "stdout",
     "output_type": "stream",
     "text": [
      "[1] \"Store 14 sales vary a lot, has maximum Standard Deviation of 301397792.46 with Coefficient of variation of: 6.36\"\n"
     ]
    }
   ],
   "source": [
    "print(paste('Store', max_store_sd['Store'], 'sales vary a lot, has maximum Standard Deviation of', max_sales['Total_sales'], \n",
    "            'with Coefficient of variation of:', max_store_sd['Coeff_of_variation']))"
   ]
  },
  {
   "cell_type": "markdown",
   "id": "29d2bf5f",
   "metadata": {},
   "source": [
    "### Ans: Store 14 sales vary a lot, has maximum Standard Deviation of 301397792.46 with Coefficient of variation of: 6.36"
   ]
  },
  {
   "cell_type": "code",
   "execution_count": null,
   "id": "35f8cde3",
   "metadata": {},
   "outputs": [],
   "source": []
  },
  {
   "cell_type": "markdown",
   "id": "17b9abce",
   "metadata": {},
   "source": [
    "### 3. Which store/s has good quarterly growth rate in Q3’2012?"
   ]
  },
  {
   "cell_type": "code",
   "execution_count": 71,
   "id": "92512dbc",
   "metadata": {},
   "outputs": [
    {
     "data": {
      "text/html": [
       "<ol class=list-inline>\n",
       "\t<li>'Store'</li>\n",
       "\t<li>'Date'</li>\n",
       "\t<li>'Weekly_Sales'</li>\n",
       "\t<li>'Holiday_Flag'</li>\n",
       "\t<li>'Temperature'</li>\n",
       "\t<li>'Fuel_Price'</li>\n",
       "\t<li>'CPI'</li>\n",
       "\t<li>'Unemployment'</li>\n",
       "\t<li>'Weekly_Sales_Scaled'</li>\n",
       "\t<li>'Super_Bowl'</li>\n",
       "\t<li>'Labour_Day'</li>\n",
       "\t<li>'Thanksgiving'</li>\n",
       "\t<li>'Christmas'</li>\n",
       "\t<li>'Holiday_Names'</li>\n",
       "\t<li>'Day'</li>\n",
       "\t<li>'Month'</li>\n",
       "\t<li>'Year'</li>\n",
       "\t<li>'Quarter'</li>\n",
       "\t<li>'Month_Name'</li>\n",
       "</ol>\n"
      ],
      "text/latex": [
       "\\begin{enumerate*}\n",
       "\\item 'Store'\n",
       "\\item 'Date'\n",
       "\\item 'Weekly\\_Sales'\n",
       "\\item 'Holiday\\_Flag'\n",
       "\\item 'Temperature'\n",
       "\\item 'Fuel\\_Price'\n",
       "\\item 'CPI'\n",
       "\\item 'Unemployment'\n",
       "\\item 'Weekly\\_Sales\\_Scaled'\n",
       "\\item 'Super\\_Bowl'\n",
       "\\item 'Labour\\_Day'\n",
       "\\item 'Thanksgiving'\n",
       "\\item 'Christmas'\n",
       "\\item 'Holiday\\_Names'\n",
       "\\item 'Day'\n",
       "\\item 'Month'\n",
       "\\item 'Year'\n",
       "\\item 'Quarter'\n",
       "\\item 'Month\\_Name'\n",
       "\\end{enumerate*}\n"
      ],
      "text/markdown": [
       "1. 'Store'\n",
       "2. 'Date'\n",
       "3. 'Weekly_Sales'\n",
       "4. 'Holiday_Flag'\n",
       "5. 'Temperature'\n",
       "6. 'Fuel_Price'\n",
       "7. 'CPI'\n",
       "8. 'Unemployment'\n",
       "9. 'Weekly_Sales_Scaled'\n",
       "10. 'Super_Bowl'\n",
       "11. 'Labour_Day'\n",
       "12. 'Thanksgiving'\n",
       "13. 'Christmas'\n",
       "14. 'Holiday_Names'\n",
       "15. 'Day'\n",
       "16. 'Month'\n",
       "17. 'Year'\n",
       "18. 'Quarter'\n",
       "19. 'Month_Name'\n",
       "\n",
       "\n"
      ],
      "text/plain": [
       " [1] \"Store\"               \"Date\"                \"Weekly_Sales\"       \n",
       " [4] \"Holiday_Flag\"        \"Temperature\"         \"Fuel_Price\"         \n",
       " [7] \"CPI\"                 \"Unemployment\"        \"Weekly_Sales_Scaled\"\n",
       "[10] \"Super_Bowl\"          \"Labour_Day\"          \"Thanksgiving\"       \n",
       "[13] \"Christmas\"           \"Holiday_Names\"       \"Day\"                \n",
       "[16] \"Month\"               \"Year\"                \"Quarter\"            \n",
       "[19] \"Month_Name\"         "
      ]
     },
     "metadata": {},
     "output_type": "display_data"
    }
   ],
   "source": [
    "colnames(walmart_data)"
   ]
  },
  {
   "cell_type": "code",
   "execution_count": 72,
   "id": "5b400e1c",
   "metadata": {
    "scrolled": false
   },
   "outputs": [
    {
     "data": {
      "text/html": [
       "<table>\n",
       "<thead><tr><th scope=col>Year</th><th scope=col>Quarter</th><th scope=col>Sales</th></tr></thead>\n",
       "<tbody>\n",
       "\t<tr><td>2010   </td><td>1      </td><td>3722.53</td></tr>\n",
       "\t<tr><td>2010   </td><td>2      </td><td>6103.69</td></tr>\n",
       "\t<tr><td>2010   </td><td>3      </td><td>5974.88</td></tr>\n",
       "\t<tr><td>2010   </td><td>4      </td><td>7087.76</td></tr>\n",
       "\t<tr><td>2011   </td><td>1      </td><td>5293.92</td></tr>\n",
       "\t<tr><td>2011   </td><td>2      </td><td>5979.48</td></tr>\n",
       "\t<tr><td>2011   </td><td>3      </td><td>6393.58</td></tr>\n",
       "\t<tr><td>2011   </td><td>4      </td><td>6815.02</td></tr>\n",
       "\t<tr><td>2012   </td><td>1      </td><td>5924.68</td></tr>\n",
       "\t<tr><td>2012   </td><td>2      </td><td>6182.98</td></tr>\n",
       "\t<tr><td>2012   </td><td>3      </td><td>6050.06</td></tr>\n",
       "\t<tr><td>2012   </td><td>4      </td><td>1843.62</td></tr>\n",
       "</tbody>\n",
       "</table>\n"
      ],
      "text/latex": [
       "\\begin{tabular}{r|lll}\n",
       " Year & Quarter & Sales\\\\\n",
       "\\hline\n",
       "\t 2010    & 1       & 3722.53\\\\\n",
       "\t 2010    & 2       & 6103.69\\\\\n",
       "\t 2010    & 3       & 5974.88\\\\\n",
       "\t 2010    & 4       & 7087.76\\\\\n",
       "\t 2011    & 1       & 5293.92\\\\\n",
       "\t 2011    & 2       & 5979.48\\\\\n",
       "\t 2011    & 3       & 6393.58\\\\\n",
       "\t 2011    & 4       & 6815.02\\\\\n",
       "\t 2012    & 1       & 5924.68\\\\\n",
       "\t 2012    & 2       & 6182.98\\\\\n",
       "\t 2012    & 3       & 6050.06\\\\\n",
       "\t 2012    & 4       & 1843.62\\\\\n",
       "\\end{tabular}\n"
      ],
      "text/markdown": [
       "\n",
       "| Year | Quarter | Sales |\n",
       "|---|---|---|\n",
       "| 2010    | 1       | 3722.53 |\n",
       "| 2010    | 2       | 6103.69 |\n",
       "| 2010    | 3       | 5974.88 |\n",
       "| 2010    | 4       | 7087.76 |\n",
       "| 2011    | 1       | 5293.92 |\n",
       "| 2011    | 2       | 5979.48 |\n",
       "| 2011    | 3       | 6393.58 |\n",
       "| 2011    | 4       | 6815.02 |\n",
       "| 2012    | 1       | 5924.68 |\n",
       "| 2012    | 2       | 6182.98 |\n",
       "| 2012    | 3       | 6050.06 |\n",
       "| 2012    | 4       | 1843.62 |\n",
       "\n"
      ],
      "text/plain": [
       "   Year Quarter Sales  \n",
       "1  2010 1       3722.53\n",
       "2  2010 2       6103.69\n",
       "3  2010 3       5974.88\n",
       "4  2010 4       7087.76\n",
       "5  2011 1       5293.92\n",
       "6  2011 2       5979.48\n",
       "7  2011 3       6393.58\n",
       "8  2011 4       6815.02\n",
       "9  2012 1       5924.68\n",
       "10 2012 2       6182.98\n",
       "11 2012 3       6050.06\n",
       "12 2012 4       1843.62"
      ]
     },
     "metadata": {},
     "output_type": "display_data"
    }
   ],
   "source": [
    "# Getting data based on Year, Quarter and Sales on those period\n",
    "\n",
    "year_wise_quater_data <- walmart_data %>%\n",
    "                                            group_by(Year, Quarter) %>%\n",
    "                                            summarise(Sales = round(sum(Weekly_Sales_Scaled),2), .groups = 'keep')\n",
    "year_wise_quater_data"
   ]
  },
  {
   "cell_type": "code",
   "execution_count": 73,
   "id": "2c22e38c",
   "metadata": {},
   "outputs": [
    {
     "data": {
      "text/html": [
       "<table>\n",
       "<thead><tr><th scope=col>Year</th><th scope=col>Quarter</th><th scope=col>Sales</th></tr></thead>\n",
       "<tbody>\n",
       "\t<tr><td>2010   </td><td>1      </td><td>3722.53</td></tr>\n",
       "\t<tr><td>2010   </td><td>2      </td><td>6103.69</td></tr>\n",
       "\t<tr><td>2010   </td><td>3      </td><td>5974.88</td></tr>\n",
       "\t<tr><td>2010   </td><td>4      </td><td>7087.76</td></tr>\n",
       "\t<tr><td>2011   </td><td>1      </td><td>5293.92</td></tr>\n",
       "\t<tr><td>2011   </td><td>2      </td><td>5979.48</td></tr>\n",
       "\t<tr><td>2011   </td><td>3      </td><td>6393.58</td></tr>\n",
       "\t<tr><td>2011   </td><td>4      </td><td>6815.02</td></tr>\n",
       "\t<tr><td>2012   </td><td>1      </td><td>5924.68</td></tr>\n",
       "\t<tr><td>2012   </td><td>2      </td><td>6182.98</td></tr>\n",
       "\t<tr><td>2012   </td><td>3      </td><td>6050.06</td></tr>\n",
       "\t<tr><td>2012   </td><td>4      </td><td>1843.62</td></tr>\n",
       "</tbody>\n",
       "</table>\n"
      ],
      "text/latex": [
       "\\begin{tabular}{r|lll}\n",
       " Year & Quarter & Sales\\\\\n",
       "\\hline\n",
       "\t 2010    & 1       & 3722.53\\\\\n",
       "\t 2010    & 2       & 6103.69\\\\\n",
       "\t 2010    & 3       & 5974.88\\\\\n",
       "\t 2010    & 4       & 7087.76\\\\\n",
       "\t 2011    & 1       & 5293.92\\\\\n",
       "\t 2011    & 2       & 5979.48\\\\\n",
       "\t 2011    & 3       & 6393.58\\\\\n",
       "\t 2011    & 4       & 6815.02\\\\\n",
       "\t 2012    & 1       & 5924.68\\\\\n",
       "\t 2012    & 2       & 6182.98\\\\\n",
       "\t 2012    & 3       & 6050.06\\\\\n",
       "\t 2012    & 4       & 1843.62\\\\\n",
       "\\end{tabular}\n"
      ],
      "text/markdown": [
       "\n",
       "| Year | Quarter | Sales |\n",
       "|---|---|---|\n",
       "| 2010    | 1       | 3722.53 |\n",
       "| 2010    | 2       | 6103.69 |\n",
       "| 2010    | 3       | 5974.88 |\n",
       "| 2010    | 4       | 7087.76 |\n",
       "| 2011    | 1       | 5293.92 |\n",
       "| 2011    | 2       | 5979.48 |\n",
       "| 2011    | 3       | 6393.58 |\n",
       "| 2011    | 4       | 6815.02 |\n",
       "| 2012    | 1       | 5924.68 |\n",
       "| 2012    | 2       | 6182.98 |\n",
       "| 2012    | 3       | 6050.06 |\n",
       "| 2012    | 4       | 1843.62 |\n",
       "\n"
      ],
      "text/plain": [
       "   Year Quarter Sales  \n",
       "1  2010 1       3722.53\n",
       "2  2010 2       6103.69\n",
       "3  2010 3       5974.88\n",
       "4  2010 4       7087.76\n",
       "5  2011 1       5293.92\n",
       "6  2011 2       5979.48\n",
       "7  2011 3       6393.58\n",
       "8  2011 4       6815.02\n",
       "9  2012 1       5924.68\n",
       "10 2012 2       6182.98\n",
       "11 2012 3       6050.06\n",
       "12 2012 4       1843.62"
      ]
     },
     "metadata": {},
     "output_type": "display_data"
    }
   ],
   "source": [
    "# Converting first two columns as factor, this is needed in making graphs\n",
    "\n",
    "year_wise_quater_data[, 1:2] <- sapply(year_wise_quater_data[, 1:2], as.factor)\n",
    "year_wise_quater_data"
   ]
  },
  {
   "cell_type": "code",
   "execution_count": 74,
   "id": "abc67769",
   "metadata": {},
   "outputs": [
    {
     "data": {
      "image/png": "[encoded data removed]",
      "text/plain": [
       "plot without title"
      ]
     },
     "metadata": {},
     "output_type": "display_data"
    }
   ],
   "source": [
    "my_palette <- brewer.pal(name=\"YlGnBu\",n=9)[6:9] # selected a custom palette, where out of 9 colors, last four are selected\n",
    "\n",
    "\n",
    "# Making the side by side bar graph for Sales per quarter, year-wise\n",
    "\n",
    "fig(7,5) \n",
    "year_wise_quater_data %>%\n",
    "                ggplot(aes(y=Sales, x=Year, fill = Quarter)) +\n",
    "                geom_bar(stat=\"identity\", position = 'dodge', width = 0.5, alpha = 0.8) + \n",
    "                # position = 'dodge' so the bars are not stacked.\n",
    "                scale_fill_manual(values = my_palette) +\n",
    "                ggtitle(\"Year-wise Distribution of Quarterly Sales (2010-12)\") +\n",
    "                ylab(\"Sales\") + xlab(\"Year\") +\n",
    "                theme_light() +\n",
    "                theme(\n",
    "                    plot.title = element_text(color=\"black\", size=14, face=\"bold.italic\", hjust = 0.4),\n",
    "                    axis.title.x = element_text(color=\"black\", size=14, face=\"bold\"),\n",
    "                    axis.title.y = element_text(color=\"black\", size=14, face=\"bold\")) "
   ]
  },
  {
   "cell_type": "markdown",
   "id": "b3d8afba",
   "metadata": {},
   "source": [
    " <font size=\"4\"> <b>Year wise Analysis</b> </font>\n",
    "\n",
    "- **Year 2010** \n",
    "    - **Has growing trend of sales, quarter wise**\n",
    "    - **Highest quarter growth was recorded in Q4, highest among all the years**\n",
    "    - **Lowest sales was recorded in Q1**\n",
    "- **Year 2011**\n",
    "    - **Has growing trend of sales, quarter wise**\n",
    "    - **Q4 recorded the highest Sales,** \n",
    "    - **Lowest sales were recorded Q1**\n",
    "- **Year 2012**\n",
    "    - **Q2 recorded highest sales, Q1 and Q3 relatively lower**\n",
    "    - **Q4 has lowest sales, still we cannot comment on Q4 sales as we don't have data for Nov & Dec month of this Year**\n",
    "\n",
    "\n",
    "<font size=\"4\"> <b>Quarter wise Analysis: </b> </font>\n",
    "\n",
    "- **Quarter 1**\n",
    "    - **There has been growing trend of Q1 sales across the years**\n",
    "    - **Each year the sales of Q1 was higher than the previous year's Q1 sales**\n",
    "\n",
    "- **Quarter 2**\n",
    "    - **Q2 sales was almost constant for all the years**\n",
    "    - **There was a dip in sales, though not significant, observed in Q2 of year 2011**\n",
    "\n",
    "- **Quarter 3**\n",
    "    - **Q3 sales was almost constant for year 2010 and 2012**\n",
    "    - **The sales rose in 2011 to significantly higher value**\n",
    "\n",
    "- **Quarter 4**\n",
    "    - **Highest Q4 sales was recorded in year 2010**\n",
    "    - **Observed visible drop in sales in the next following year 2011**\n",
    "    - **The lowest sales of Q4 was recorded in 2012, based on the available data. We do not have data for Nov and Dec month of this year**\n",
    "\n"
   ]
  },
  {
   "cell_type": "code",
   "execution_count": 75,
   "id": "0f579732",
   "metadata": {},
   "outputs": [
    {
     "data": {
      "text/html": [
       "<table>\n",
       "<thead><tr><th scope=col>Store</th><th scope=col>Date</th><th scope=col>Weekly_Sales</th><th scope=col>Holiday_Flag</th><th scope=col>Temperature</th><th scope=col>Fuel_Price</th><th scope=col>CPI</th><th scope=col>Unemployment</th><th scope=col>Weekly_Sales_Scaled</th><th scope=col>Super_Bowl</th><th scope=col>Labour_Day</th><th scope=col>Thanksgiving</th><th scope=col>Christmas</th><th scope=col>Holiday_Names</th><th scope=col>Day</th><th scope=col>Month</th><th scope=col>Year</th><th scope=col>Quarter</th><th scope=col>Month_Name</th></tr></thead>\n",
       "<tbody>\n",
       "\t<tr><td>1          </td><td>2010-02-05 </td><td>1643690.90 </td><td>0          </td><td>42.31      </td><td>2.572      </td><td>211.0963582</td><td>8.106      </td><td>16.4369090 </td><td>0          </td><td>0          </td><td>0          </td><td>0          </td><td>Others     </td><td> 5         </td><td>2          </td><td>2010       </td><td>1          </td><td>Feb        </td></tr>\n",
       "\t<tr><td>1          </td><td>2010-02-12 </td><td>1641957.44 </td><td>1          </td><td>38.51      </td><td>2.548      </td><td>211.2421698</td><td>8.106      </td><td>16.4195744 </td><td>1          </td><td>0          </td><td>0          </td><td>0          </td><td>Super_Bowl </td><td>12         </td><td>2          </td><td>2010       </td><td>1          </td><td>Feb        </td></tr>\n",
       "\t<tr><td>1          </td><td>2010-02-19 </td><td>1611968.17 </td><td>0          </td><td>39.93      </td><td>2.514      </td><td>211.2891429</td><td>8.106      </td><td>16.1196817 </td><td>0          </td><td>0          </td><td>0          </td><td>0          </td><td>Others     </td><td>19         </td><td>2          </td><td>2010       </td><td>1          </td><td>Feb        </td></tr>\n",
       "\t<tr><td>1          </td><td>2010-02-26 </td><td>1409727.59 </td><td>0          </td><td>46.63      </td><td>2.561      </td><td>211.3196429</td><td>8.106      </td><td>14.0972759 </td><td>0          </td><td>0          </td><td>0          </td><td>0          </td><td>Others     </td><td>26         </td><td>2          </td><td>2010       </td><td>1          </td><td>Feb        </td></tr>\n",
       "\t<tr><td>1          </td><td>2010-03-05 </td><td>1554806.68 </td><td>0          </td><td>46.50      </td><td>2.625      </td><td>211.3501429</td><td>8.106      </td><td>15.5480668 </td><td>0          </td><td>0          </td><td>0          </td><td>0          </td><td>Others     </td><td> 5         </td><td>3          </td><td>2010       </td><td>1          </td><td>Mar        </td></tr>\n",
       "\t<tr><td>1          </td><td>2010-03-12 </td><td>1439541.59 </td><td>0          </td><td>57.79      </td><td>2.667      </td><td>211.3806429</td><td>8.106      </td><td>14.3954159 </td><td>0          </td><td>0          </td><td>0          </td><td>0          </td><td>Others     </td><td>12         </td><td>3          </td><td>2010       </td><td>1          </td><td>Mar        </td></tr>\n",
       "</tbody>\n",
       "</table>\n"
      ],
      "text/latex": [
       "\\begin{tabular}{r|lllllllllllllllllll}\n",
       " Store & Date & Weekly\\_Sales & Holiday\\_Flag & Temperature & Fuel\\_Price & CPI & Unemployment & Weekly\\_Sales\\_Scaled & Super\\_Bowl & Labour\\_Day & Thanksgiving & Christmas & Holiday\\_Names & Day & Month & Year & Quarter & Month\\_Name\\\\\n",
       "\\hline\n",
       "\t 1           & 2010-02-05  & 1643690.90  & 0           & 42.31       & 2.572       & 211.0963582 & 8.106       & 16.4369090  & 0           & 0           & 0           & 0           & Others      &  5          & 2           & 2010        & 1           & Feb        \\\\\n",
       "\t 1            & 2010-02-12   & 1641957.44   & 1            & 38.51        & 2.548        & 211.2421698  & 8.106        & 16.4195744   & 1            & 0            & 0            & 0            & Super\\_Bowl & 12           & 2            & 2010         & 1            & Feb         \\\\\n",
       "\t 1           & 2010-02-19  & 1611968.17  & 0           & 39.93       & 2.514       & 211.2891429 & 8.106       & 16.1196817  & 0           & 0           & 0           & 0           & Others      & 19          & 2           & 2010        & 1           & Feb        \\\\\n",
       "\t 1           & 2010-02-26  & 1409727.59  & 0           & 46.63       & 2.561       & 211.3196429 & 8.106       & 14.0972759  & 0           & 0           & 0           & 0           & Others      & 26          & 2           & 2010        & 1           & Feb        \\\\\n",
       "\t 1           & 2010-03-05  & 1554806.68  & 0           & 46.50       & 2.625       & 211.3501429 & 8.106       & 15.5480668  & 0           & 0           & 0           & 0           & Others      &  5          & 3           & 2010        & 1           & Mar        \\\\\n",
       "\t 1           & 2010-03-12  & 1439541.59  & 0           & 57.79       & 2.667       & 211.3806429 & 8.106       & 14.3954159  & 0           & 0           & 0           & 0           & Others      & 12          & 3           & 2010        & 1           & Mar        \\\\\n",
       "\\end{tabular}\n"
      ],
      "text/markdown": [
       "\n",
       "| Store | Date | Weekly_Sales | Holiday_Flag | Temperature | Fuel_Price | CPI | Unemployment | Weekly_Sales_Scaled | Super_Bowl | Labour_Day | Thanksgiving | Christmas | Holiday_Names | Day | Month | Year | Quarter | Month_Name |\n",
       "|---|---|---|---|---|---|---|---|---|---|---|---|---|---|---|---|---|---|---|\n",
       "| 1           | 2010-02-05  | 1643690.90  | 0           | 42.31       | 2.572       | 211.0963582 | 8.106       | 16.4369090  | 0           | 0           | 0           | 0           | Others      |  5          | 2           | 2010        | 1           | Feb         |\n",
       "| 1           | 2010-02-12  | 1641957.44  | 1           | 38.51       | 2.548       | 211.2421698 | 8.106       | 16.4195744  | 1           | 0           | 0           | 0           | Super_Bowl  | 12          | 2           | 2010        | 1           | Feb         |\n",
       "| 1           | 2010-02-19  | 1611968.17  | 0           | 39.93       | 2.514       | 211.2891429 | 8.106       | 16.1196817  | 0           | 0           | 0           | 0           | Others      | 19          | 2           | 2010        | 1           | Feb         |\n",
       "| 1           | 2010-02-26  | 1409727.59  | 0           | 46.63       | 2.561       | 211.3196429 | 8.106       | 14.0972759  | 0           | 0           | 0           | 0           | Others      | 26          | 2           | 2010        | 1           | Feb         |\n",
       "| 1           | 2010-03-05  | 1554806.68  | 0           | 46.50       | 2.625       | 211.3501429 | 8.106       | 15.5480668  | 0           | 0           | 0           | 0           | Others      |  5          | 3           | 2010        | 1           | Mar         |\n",
       "| 1           | 2010-03-12  | 1439541.59  | 0           | 57.79       | 2.667       | 211.3806429 | 8.106       | 14.3954159  | 0           | 0           | 0           | 0           | Others      | 12          | 3           | 2010        | 1           | Mar         |\n",
       "\n"
      ],
      "text/plain": [
       "  Store Date       Weekly_Sales Holiday_Flag Temperature Fuel_Price CPI        \n",
       "1 1     2010-02-05 1643690.90   0            42.31       2.572      211.0963582\n",
       "2 1     2010-02-12 1641957.44   1            38.51       2.548      211.2421698\n",
       "3 1     2010-02-19 1611968.17   0            39.93       2.514      211.2891429\n",
       "4 1     2010-02-26 1409727.59   0            46.63       2.561      211.3196429\n",
       "5 1     2010-03-05 1554806.68   0            46.50       2.625      211.3501429\n",
       "6 1     2010-03-12 1439541.59   0            57.79       2.667      211.3806429\n",
       "  Unemployment Weekly_Sales_Scaled Super_Bowl Labour_Day Thanksgiving Christmas\n",
       "1 8.106        16.4369090          0          0          0            0        \n",
       "2 8.106        16.4195744          1          0          0            0        \n",
       "3 8.106        16.1196817          0          0          0            0        \n",
       "4 8.106        14.0972759          0          0          0            0        \n",
       "5 8.106        15.5480668          0          0          0            0        \n",
       "6 8.106        14.3954159          0          0          0            0        \n",
       "  Holiday_Names Day Month Year Quarter Month_Name\n",
       "1 Others         5  2     2010 1       Feb       \n",
       "2 Super_Bowl    12  2     2010 1       Feb       \n",
       "3 Others        19  2     2010 1       Feb       \n",
       "4 Others        26  2     2010 1       Feb       \n",
       "5 Others         5  3     2010 1       Mar       \n",
       "6 Others        12  3     2010 1       Mar       "
      ]
     },
     "metadata": {},
     "output_type": "display_data"
    }
   ],
   "source": [
    "head(walmart_data)"
   ]
  },
  {
   "cell_type": "code",
   "execution_count": 76,
   "id": "6aae4d42",
   "metadata": {},
   "outputs": [
    {
     "data": {
      "text/html": [
       "<table>\n",
       "<thead><tr><th scope=col>Store</th><th scope=col>Quaterly_sales</th></tr></thead>\n",
       "<tbody>\n",
       "\t<tr><td>1          </td><td>20253947.78</td></tr>\n",
       "\t<tr><td>2          </td><td>24303354.86</td></tr>\n",
       "\t<tr><td>3          </td><td> 5298005.47</td></tr>\n",
       "\t<tr><td>4          </td><td>27796792.46</td></tr>\n",
       "\t<tr><td>5          </td><td> 4163790.99</td></tr>\n",
       "\t<tr><td>6          </td><td>20167312.24</td></tr>\n",
       "</tbody>\n",
       "</table>\n"
      ],
      "text/latex": [
       "\\begin{tabular}{r|ll}\n",
       " Store & Quaterly\\_sales\\\\\n",
       "\\hline\n",
       "\t 1           & 20253947.78\\\\\n",
       "\t 2           & 24303354.86\\\\\n",
       "\t 3           &  5298005.47\\\\\n",
       "\t 4           & 27796792.46\\\\\n",
       "\t 5           &  4163790.99\\\\\n",
       "\t 6           & 20167312.24\\\\\n",
       "\\end{tabular}\n"
      ],
      "text/markdown": [
       "\n",
       "| Store | Quaterly_sales |\n",
       "|---|---|\n",
       "| 1           | 20253947.78 |\n",
       "| 2           | 24303354.86 |\n",
       "| 3           |  5298005.47 |\n",
       "| 4           | 27796792.46 |\n",
       "| 5           |  4163790.99 |\n",
       "| 6           | 20167312.24 |\n",
       "\n"
      ],
      "text/plain": [
       "  Store Quaterly_sales\n",
       "1 1     20253947.78   \n",
       "2 2     24303354.86   \n",
       "3 3      5298005.47   \n",
       "4 4     27796792.46   \n",
       "5 5      4163790.99   \n",
       "6 6     20167312.24   "
      ]
     },
     "metadata": {},
     "output_type": "display_data"
    }
   ],
   "source": [
    "# filtering the data based on Q3 of year 2012, grouping by Store\n",
    "\n",
    "q3_store_sales <- walmart_data %>%\n",
    "                    filter(Year == 2012, Quarter == 3) %>%\n",
    "                    group_by(Store) %>%\n",
    "                    summarise(Quaterly_sales = sum(Weekly_Sales),\n",
    "                             .groups = 'keep')\n",
    "head(q3_store_sales)"
   ]
  },
  {
   "cell_type": "code",
   "execution_count": 77,
   "id": "04387287",
   "metadata": {},
   "outputs": [
    {
     "name": "stdout",
     "output_type": "stream",
     "text": [
      "[1] \"Store 4 has maximum Q3'2012 sales, of:  27796792.46\"\n"
     ]
    }
   ],
   "source": [
    "# finding the store having max q3 sales\n",
    "\n",
    "max_q3_sales_store = q3_store_sales[which.max(q3_store_sales$Quaterly_sales),'Store']\n",
    "print(paste('Store', max_q3_sales_store, 'has maximum Q3\\'2012 sales, of: ', max(q3_store_sales$Quaterly_sales)))"
   ]
  },
  {
   "cell_type": "markdown",
   "id": "1fa98205",
   "metadata": {},
   "source": [
    "### Ans: Store 4 has maximum Q3'2012 sales, of:  27796792.46 units"
   ]
  },
  {
   "cell_type": "code",
   "execution_count": null,
   "id": "9be90cdb",
   "metadata": {},
   "outputs": [],
   "source": []
  },
  {
   "cell_type": "markdown",
   "id": "83c9bf36",
   "metadata": {},
   "source": [
    "### 4. Some holidays have a negative impact on sales. Find out holidays which have higher sales than the mean sales in non-holiday season for all stores together"
   ]
  },
  {
   "cell_type": "code",
   "execution_count": 78,
   "id": "3bc2174b",
   "metadata": {},
   "outputs": [
    {
     "data": {
      "text/html": [
       "<table>\n",
       "<thead><tr><th scope=col>Store</th><th scope=col>Date</th><th scope=col>Weekly_Sales</th><th scope=col>Holiday_Flag</th><th scope=col>Temperature</th><th scope=col>Fuel_Price</th><th scope=col>CPI</th><th scope=col>Unemployment</th><th scope=col>Weekly_Sales_Scaled</th><th scope=col>Super_Bowl</th><th scope=col>Labour_Day</th><th scope=col>Thanksgiving</th><th scope=col>Christmas</th><th scope=col>Holiday_Names</th><th scope=col>Day</th><th scope=col>Month</th><th scope=col>Year</th><th scope=col>Quarter</th><th scope=col>Month_Name</th></tr></thead>\n",
       "<tbody>\n",
       "\t<tr><td>1          </td><td>2010-02-05 </td><td>1643690.90 </td><td>0          </td><td>42.31      </td><td>2.572      </td><td>211.0963582</td><td>8.106      </td><td>16.4369090 </td><td>0          </td><td>0          </td><td>0          </td><td>0          </td><td>Others     </td><td> 5         </td><td>2          </td><td>2010       </td><td>1          </td><td>Feb        </td></tr>\n",
       "\t<tr><td>1          </td><td>2010-02-12 </td><td>1641957.44 </td><td>1          </td><td>38.51      </td><td>2.548      </td><td>211.2421698</td><td>8.106      </td><td>16.4195744 </td><td>1          </td><td>0          </td><td>0          </td><td>0          </td><td>Super_Bowl </td><td>12         </td><td>2          </td><td>2010       </td><td>1          </td><td>Feb        </td></tr>\n",
       "\t<tr><td>1          </td><td>2010-02-19 </td><td>1611968.17 </td><td>0          </td><td>39.93      </td><td>2.514      </td><td>211.2891429</td><td>8.106      </td><td>16.1196817 </td><td>0          </td><td>0          </td><td>0          </td><td>0          </td><td>Others     </td><td>19         </td><td>2          </td><td>2010       </td><td>1          </td><td>Feb        </td></tr>\n",
       "\t<tr><td>1          </td><td>2010-02-26 </td><td>1409727.59 </td><td>0          </td><td>46.63      </td><td>2.561      </td><td>211.3196429</td><td>8.106      </td><td>14.0972759 </td><td>0          </td><td>0          </td><td>0          </td><td>0          </td><td>Others     </td><td>26         </td><td>2          </td><td>2010       </td><td>1          </td><td>Feb        </td></tr>\n",
       "\t<tr><td>1          </td><td>2010-03-05 </td><td>1554806.68 </td><td>0          </td><td>46.50      </td><td>2.625      </td><td>211.3501429</td><td>8.106      </td><td>15.5480668 </td><td>0          </td><td>0          </td><td>0          </td><td>0          </td><td>Others     </td><td> 5         </td><td>3          </td><td>2010       </td><td>1          </td><td>Mar        </td></tr>\n",
       "\t<tr><td>1          </td><td>2010-03-12 </td><td>1439541.59 </td><td>0          </td><td>57.79      </td><td>2.667      </td><td>211.3806429</td><td>8.106      </td><td>14.3954159 </td><td>0          </td><td>0          </td><td>0          </td><td>0          </td><td>Others     </td><td>12         </td><td>3          </td><td>2010       </td><td>1          </td><td>Mar        </td></tr>\n",
       "</tbody>\n",
       "</table>\n"
      ],
      "text/latex": [
       "\\begin{tabular}{r|lllllllllllllllllll}\n",
       " Store & Date & Weekly\\_Sales & Holiday\\_Flag & Temperature & Fuel\\_Price & CPI & Unemployment & Weekly\\_Sales\\_Scaled & Super\\_Bowl & Labour\\_Day & Thanksgiving & Christmas & Holiday\\_Names & Day & Month & Year & Quarter & Month\\_Name\\\\\n",
       "\\hline\n",
       "\t 1           & 2010-02-05  & 1643690.90  & 0           & 42.31       & 2.572       & 211.0963582 & 8.106       & 16.4369090  & 0           & 0           & 0           & 0           & Others      &  5          & 2           & 2010        & 1           & Feb        \\\\\n",
       "\t 1            & 2010-02-12   & 1641957.44   & 1            & 38.51        & 2.548        & 211.2421698  & 8.106        & 16.4195744   & 1            & 0            & 0            & 0            & Super\\_Bowl & 12           & 2            & 2010         & 1            & Feb         \\\\\n",
       "\t 1           & 2010-02-19  & 1611968.17  & 0           & 39.93       & 2.514       & 211.2891429 & 8.106       & 16.1196817  & 0           & 0           & 0           & 0           & Others      & 19          & 2           & 2010        & 1           & Feb        \\\\\n",
       "\t 1           & 2010-02-26  & 1409727.59  & 0           & 46.63       & 2.561       & 211.3196429 & 8.106       & 14.0972759  & 0           & 0           & 0           & 0           & Others      & 26          & 2           & 2010        & 1           & Feb        \\\\\n",
       "\t 1           & 2010-03-05  & 1554806.68  & 0           & 46.50       & 2.625       & 211.3501429 & 8.106       & 15.5480668  & 0           & 0           & 0           & 0           & Others      &  5          & 3           & 2010        & 1           & Mar        \\\\\n",
       "\t 1           & 2010-03-12  & 1439541.59  & 0           & 57.79       & 2.667       & 211.3806429 & 8.106       & 14.3954159  & 0           & 0           & 0           & 0           & Others      & 12          & 3           & 2010        & 1           & Mar        \\\\\n",
       "\\end{tabular}\n"
      ],
      "text/markdown": [
       "\n",
       "| Store | Date | Weekly_Sales | Holiday_Flag | Temperature | Fuel_Price | CPI | Unemployment | Weekly_Sales_Scaled | Super_Bowl | Labour_Day | Thanksgiving | Christmas | Holiday_Names | Day | Month | Year | Quarter | Month_Name |\n",
       "|---|---|---|---|---|---|---|---|---|---|---|---|---|---|---|---|---|---|---|\n",
       "| 1           | 2010-02-05  | 1643690.90  | 0           | 42.31       | 2.572       | 211.0963582 | 8.106       | 16.4369090  | 0           | 0           | 0           | 0           | Others      |  5          | 2           | 2010        | 1           | Feb         |\n",
       "| 1           | 2010-02-12  | 1641957.44  | 1           | 38.51       | 2.548       | 211.2421698 | 8.106       | 16.4195744  | 1           | 0           | 0           | 0           | Super_Bowl  | 12          | 2           | 2010        | 1           | Feb         |\n",
       "| 1           | 2010-02-19  | 1611968.17  | 0           | 39.93       | 2.514       | 211.2891429 | 8.106       | 16.1196817  | 0           | 0           | 0           | 0           | Others      | 19          | 2           | 2010        | 1           | Feb         |\n",
       "| 1           | 2010-02-26  | 1409727.59  | 0           | 46.63       | 2.561       | 211.3196429 | 8.106       | 14.0972759  | 0           | 0           | 0           | 0           | Others      | 26          | 2           | 2010        | 1           | Feb         |\n",
       "| 1           | 2010-03-05  | 1554806.68  | 0           | 46.50       | 2.625       | 211.3501429 | 8.106       | 15.5480668  | 0           | 0           | 0           | 0           | Others      |  5          | 3           | 2010        | 1           | Mar         |\n",
       "| 1           | 2010-03-12  | 1439541.59  | 0           | 57.79       | 2.667       | 211.3806429 | 8.106       | 14.3954159  | 0           | 0           | 0           | 0           | Others      | 12          | 3           | 2010        | 1           | Mar         |\n",
       "\n"
      ],
      "text/plain": [
       "  Store Date       Weekly_Sales Holiday_Flag Temperature Fuel_Price CPI        \n",
       "1 1     2010-02-05 1643690.90   0            42.31       2.572      211.0963582\n",
       "2 1     2010-02-12 1641957.44   1            38.51       2.548      211.2421698\n",
       "3 1     2010-02-19 1611968.17   0            39.93       2.514      211.2891429\n",
       "4 1     2010-02-26 1409727.59   0            46.63       2.561      211.3196429\n",
       "5 1     2010-03-05 1554806.68   0            46.50       2.625      211.3501429\n",
       "6 1     2010-03-12 1439541.59   0            57.79       2.667      211.3806429\n",
       "  Unemployment Weekly_Sales_Scaled Super_Bowl Labour_Day Thanksgiving Christmas\n",
       "1 8.106        16.4369090          0          0          0            0        \n",
       "2 8.106        16.4195744          1          0          0            0        \n",
       "3 8.106        16.1196817          0          0          0            0        \n",
       "4 8.106        14.0972759          0          0          0            0        \n",
       "5 8.106        15.5480668          0          0          0            0        \n",
       "6 8.106        14.3954159          0          0          0            0        \n",
       "  Holiday_Names Day Month Year Quarter Month_Name\n",
       "1 Others         5  2     2010 1       Feb       \n",
       "2 Super_Bowl    12  2     2010 1       Feb       \n",
       "3 Others        19  2     2010 1       Feb       \n",
       "4 Others        26  2     2010 1       Feb       \n",
       "5 Others         5  3     2010 1       Mar       \n",
       "6 Others        12  3     2010 1       Mar       "
      ]
     },
     "metadata": {},
     "output_type": "display_data"
    }
   ],
   "source": [
    "head(walmart_data)"
   ]
  },
  {
   "cell_type": "code",
   "execution_count": 79,
   "id": "ec30b45d",
   "metadata": {},
   "outputs": [
    {
     "data": {
      "text/html": [
       "<ol class=list-inline>\n",
       "\t<li>'Others'</li>\n",
       "\t<li>'Super_Bowl'</li>\n",
       "\t<li>'Labour_Day'</li>\n",
       "\t<li>'Thanksgiving'</li>\n",
       "\t<li>'Christmas'</li>\n",
       "</ol>\n"
      ],
      "text/latex": [
       "\\begin{enumerate*}\n",
       "\\item 'Others'\n",
       "\\item 'Super\\_Bowl'\n",
       "\\item 'Labour\\_Day'\n",
       "\\item 'Thanksgiving'\n",
       "\\item 'Christmas'\n",
       "\\end{enumerate*}\n"
      ],
      "text/markdown": [
       "1. 'Others'\n",
       "2. 'Super_Bowl'\n",
       "3. 'Labour_Day'\n",
       "4. 'Thanksgiving'\n",
       "5. 'Christmas'\n",
       "\n",
       "\n"
      ],
      "text/plain": [
       "[1] \"Others\"       \"Super_Bowl\"   \"Labour_Day\"   \"Thanksgiving\" \"Christmas\"   "
      ]
     },
     "metadata": {},
     "output_type": "display_data"
    }
   ],
   "source": [
    "unique(walmart_data$Holiday_Names) # checking unique holiday names"
   ]
  },
  {
   "cell_type": "code",
   "execution_count": 80,
   "id": "014207bb",
   "metadata": {},
   "outputs": [],
   "source": [
    "# grouping the sales based on holidays and non holidays, and finding the mean sales\n",
    "\n",
    "holiday_wise_sales <- walmart_data %>%\n",
    "                                        group_by(Holiday_Flag) %>%\n",
    "                                        summarise(Mean_Sales = round(mean(Weekly_Sales),2), .groups = 'keep')"
   ]
  },
  {
   "cell_type": "code",
   "execution_count": 81,
   "id": "d7231514",
   "metadata": {},
   "outputs": [
    {
     "data": {
      "text/html": [
       "<table>\n",
       "<thead><tr><th scope=col>Holiday_Flag</th><th scope=col>Mean_Sales</th></tr></thead>\n",
       "<tbody>\n",
       "\t<tr><td>0         </td><td>1041256.38</td></tr>\n",
       "\t<tr><td>1         </td><td>1122887.89</td></tr>\n",
       "</tbody>\n",
       "</table>\n"
      ],
      "text/latex": [
       "\\begin{tabular}{r|ll}\n",
       " Holiday\\_Flag & Mean\\_Sales\\\\\n",
       "\\hline\n",
       "\t 0          & 1041256.38\\\\\n",
       "\t 1          & 1122887.89\\\\\n",
       "\\end{tabular}\n"
      ],
      "text/markdown": [
       "\n",
       "| Holiday_Flag | Mean_Sales |\n",
       "|---|---|\n",
       "| 0          | 1041256.38 |\n",
       "| 1          | 1122887.89 |\n",
       "\n"
      ],
      "text/plain": [
       "  Holiday_Flag Mean_Sales\n",
       "1 0            1041256.38\n",
       "2 1            1122887.89"
      ]
     },
     "metadata": {},
     "output_type": "display_data"
    }
   ],
   "source": [
    "holiday_wise_sales"
   ]
  },
  {
   "cell_type": "code",
   "execution_count": 82,
   "id": "519e65c4",
   "metadata": {},
   "outputs": [
    {
     "data": {
      "text/html": [
       "<table>\n",
       "<thead><tr><th scope=col>Mean_Sales</th></tr></thead>\n",
       "<tbody>\n",
       "\t<tr><td>1041256.38</td></tr>\n",
       "</tbody>\n",
       "</table>\n"
      ],
      "text/latex": [
       "\\begin{tabular}{r|l}\n",
       " Mean\\_Sales\\\\\n",
       "\\hline\n",
       "\t 1041256.38\\\\\n",
       "\\end{tabular}\n"
      ],
      "text/markdown": [
       "\n",
       "| Mean_Sales |\n",
       "|---|\n",
       "| 1041256.38 |\n",
       "\n"
      ],
      "text/plain": [
       "  Mean_Sales\n",
       "1 1041256.38"
      ]
     },
     "metadata": {},
     "output_type": "display_data"
    }
   ],
   "source": [
    "# subsetting the mean sales of non-holiday and storing it in variable\n",
    "\n",
    "non_holiday_mean_sales <- holiday_wise_sales[1,2]\n",
    "non_holiday_mean_sales"
   ]
  },
  {
   "cell_type": "code",
   "execution_count": 83,
   "id": "bdb60d9a",
   "metadata": {},
   "outputs": [
    {
     "data": {
      "text/html": [
       "<table>\n",
       "<thead><tr><th scope=col>Date</th><th scope=col>Holiday_Flag</th><th scope=col>Holiday_Names</th><th scope=col>Weekly_Sales</th></tr></thead>\n",
       "<tbody>\n",
       "\t<tr><td>2010-02-12  </td><td>1           </td><td>Super_Bowl  </td><td>1641957.44  </td></tr>\n",
       "\t<tr><td>2010-09-10  </td><td>1           </td><td>Labour_Day  </td><td>1507460.69  </td></tr>\n",
       "\t<tr><td>2010-11-26  </td><td>1           </td><td>Thanksgiving</td><td>1955624.11  </td></tr>\n",
       "\t<tr><td>2010-12-31  </td><td>1           </td><td>Christmas   </td><td>1367320.01  </td></tr>\n",
       "\t<tr><td>2011-02-11  </td><td>1           </td><td>Super_Bowl  </td><td>1649614.93  </td></tr>\n",
       "\t<tr><td>2011-09-09  </td><td>1           </td><td>Labour_Day  </td><td>1540471.24  </td></tr>\n",
       "\t<tr><td>2011-11-25  </td><td>1           </td><td>Thanksgiving</td><td>2033320.66  </td></tr>\n",
       "\t<tr><td>2011-12-30  </td><td>1           </td><td>Christmas   </td><td>1497462.72  </td></tr>\n",
       "\t<tr><td>2012-02-10  </td><td>1           </td><td>Super_Bowl  </td><td>1802477.43  </td></tr>\n",
       "\t<tr><td>2012-09-07  </td><td>1           </td><td>Labour_Day  </td><td>1661767.33  </td></tr>\n",
       "</tbody>\n",
       "</table>\n"
      ],
      "text/latex": [
       "\\begin{tabular}{r|llll}\n",
       " Date & Holiday\\_Flag & Holiday\\_Names & Weekly\\_Sales\\\\\n",
       "\\hline\n",
       "\t 2010-02-12     & 1              & Super\\_Bowl   & 1641957.44    \\\\\n",
       "\t 2010-09-10     & 1              & Labour\\_Day   & 1507460.69    \\\\\n",
       "\t 2010-11-26   & 1            & Thanksgiving & 1955624.11  \\\\\n",
       "\t 2010-12-31   & 1            & Christmas    & 1367320.01  \\\\\n",
       "\t 2011-02-11     & 1              & Super\\_Bowl   & 1649614.93    \\\\\n",
       "\t 2011-09-09     & 1              & Labour\\_Day   & 1540471.24    \\\\\n",
       "\t 2011-11-25   & 1            & Thanksgiving & 2033320.66  \\\\\n",
       "\t 2011-12-30   & 1            & Christmas    & 1497462.72  \\\\\n",
       "\t 2012-02-10     & 1              & Super\\_Bowl   & 1802477.43    \\\\\n",
       "\t 2012-09-07     & 1              & Labour\\_Day   & 1661767.33    \\\\\n",
       "\\end{tabular}\n"
      ],
      "text/markdown": [
       "\n",
       "| Date | Holiday_Flag | Holiday_Names | Weekly_Sales |\n",
       "|---|---|---|---|\n",
       "| 2010-02-12   | 1            | Super_Bowl   | 1641957.44   |\n",
       "| 2010-09-10   | 1            | Labour_Day   | 1507460.69   |\n",
       "| 2010-11-26   | 1            | Thanksgiving | 1955624.11   |\n",
       "| 2010-12-31   | 1            | Christmas    | 1367320.01   |\n",
       "| 2011-02-11   | 1            | Super_Bowl   | 1649614.93   |\n",
       "| 2011-09-09   | 1            | Labour_Day   | 1540471.24   |\n",
       "| 2011-11-25   | 1            | Thanksgiving | 2033320.66   |\n",
       "| 2011-12-30   | 1            | Christmas    | 1497462.72   |\n",
       "| 2012-02-10   | 1            | Super_Bowl   | 1802477.43   |\n",
       "| 2012-09-07   | 1            | Labour_Day   | 1661767.33   |\n",
       "\n"
      ],
      "text/plain": [
       "   Date       Holiday_Flag Holiday_Names Weekly_Sales\n",
       "1  2010-02-12 1            Super_Bowl    1641957.44  \n",
       "2  2010-09-10 1            Labour_Day    1507460.69  \n",
       "3  2010-11-26 1            Thanksgiving  1955624.11  \n",
       "4  2010-12-31 1            Christmas     1367320.01  \n",
       "5  2011-02-11 1            Super_Bowl    1649614.93  \n",
       "6  2011-09-09 1            Labour_Day    1540471.24  \n",
       "7  2011-11-25 1            Thanksgiving  2033320.66  \n",
       "8  2011-12-30 1            Christmas     1497462.72  \n",
       "9  2012-02-10 1            Super_Bowl    1802477.43  \n",
       "10 2012-09-07 1            Labour_Day    1661767.33  "
      ]
     },
     "metadata": {},
     "output_type": "display_data"
    }
   ],
   "source": [
    "# finding the holidays where we have more sales than average sales of non-holidays\n",
    "\n",
    "holiday_higher_sales_data <- walmart_data %>%\n",
    "                                            select(Date, Holiday_Flag, Holiday_Names, Weekly_Sales) %>%\n",
    "                                            filter(Holiday_Flag == 1) %>%\n",
    "                                            filter(Weekly_Sales > non_holiday_mean_sales)\n",
    "head(holiday_higher_sales_data, n=10)"
   ]
  },
  {
   "cell_type": "code",
   "execution_count": 84,
   "id": "66d88ddc",
   "metadata": {},
   "outputs": [
    {
     "data": {
      "text/html": [
       "<ol class=list-inline>\n",
       "\t<li>'Super_Bowl'</li>\n",
       "\t<li>'Labour_Day'</li>\n",
       "\t<li>'Thanksgiving'</li>\n",
       "\t<li>'Christmas'</li>\n",
       "</ol>\n"
      ],
      "text/latex": [
       "\\begin{enumerate*}\n",
       "\\item 'Super\\_Bowl'\n",
       "\\item 'Labour\\_Day'\n",
       "\\item 'Thanksgiving'\n",
       "\\item 'Christmas'\n",
       "\\end{enumerate*}\n"
      ],
      "text/markdown": [
       "1. 'Super_Bowl'\n",
       "2. 'Labour_Day'\n",
       "3. 'Thanksgiving'\n",
       "4. 'Christmas'\n",
       "\n",
       "\n"
      ],
      "text/plain": [
       "[1] \"Super_Bowl\"   \"Labour_Day\"   \"Thanksgiving\" \"Christmas\"   "
      ]
     },
     "metadata": {},
     "output_type": "display_data"
    }
   ],
   "source": [
    "unique(holiday_higher_sales_data$Holiday_Names) # unique names of holidays where sales was higher than mean of non holidays"
   ]
  },
  {
   "cell_type": "code",
   "execution_count": 85,
   "id": "80711f9c",
   "metadata": {},
   "outputs": [
    {
     "data": {
      "text/html": [
       "450"
      ],
      "text/latex": [
       "450"
      ],
      "text/markdown": [
       "450"
      ],
      "text/plain": [
       "[1] 450"
      ]
     },
     "metadata": {},
     "output_type": "display_data"
    }
   ],
   "source": [
    "nrow(holiday_higher_sales_data)"
   ]
  },
  {
   "cell_type": "markdown",
   "id": "245756b8",
   "metadata": {},
   "source": [
    "### Ans: There are total of 450 dates (holiday weeks) where the sales was higher than the average of normal (non holidays) sales. These includes - 'Super_Bowl', 'Labour_Day' ,'Thanksgiving', 'Christmas'. Below are the dates for reference:"
   ]
  },
  {
   "cell_type": "code",
   "execution_count": 86,
   "id": "34977ee8",
   "metadata": {},
   "outputs": [
    {
     "data": {
      "text/html": [
       "<table>\n",
       "<thead><tr><th scope=col>Date</th><th scope=col>Holiday_Flag</th><th scope=col>Holiday_Names</th><th scope=col>Weekly_Sales</th></tr></thead>\n",
       "<tbody>\n",
       "\t<tr><td>2010-02-12  </td><td>1           </td><td>Super_Bowl  </td><td>1641957.44  </td></tr>\n",
       "\t<tr><td>2010-09-10  </td><td>1           </td><td>Labour_Day  </td><td>1507460.69  </td></tr>\n",
       "\t<tr><td>2010-11-26  </td><td>1           </td><td>Thanksgiving</td><td>1955624.11  </td></tr>\n",
       "\t<tr><td>2010-12-31  </td><td>1           </td><td>Christmas   </td><td>1367320.01  </td></tr>\n",
       "\t<tr><td>2011-02-11  </td><td>1           </td><td>Super_Bowl  </td><td>1649614.93  </td></tr>\n",
       "\t<tr><td>2011-09-09  </td><td>1           </td><td>Labour_Day  </td><td>1540471.24  </td></tr>\n",
       "\t<tr><td>2011-11-25  </td><td>1           </td><td>Thanksgiving</td><td>2033320.66  </td></tr>\n",
       "\t<tr><td>2011-12-30  </td><td>1           </td><td>Christmas   </td><td>1497462.72  </td></tr>\n",
       "\t<tr><td>2012-02-10  </td><td>1           </td><td>Super_Bowl  </td><td>1802477.43  </td></tr>\n",
       "\t<tr><td>2012-09-07  </td><td>1           </td><td>Labour_Day  </td><td>1661767.33  </td></tr>\n",
       "\t<tr><td>2010-02-12  </td><td>1           </td><td>Super_Bowl  </td><td>2137809.50  </td></tr>\n",
       "\t<tr><td>2010-09-10  </td><td>1           </td><td>Labour_Day  </td><td>1839128.83  </td></tr>\n",
       "\t<tr><td>2010-11-26  </td><td>1           </td><td>Thanksgiving</td><td>2658725.29  </td></tr>\n",
       "\t<tr><td>2010-12-31  </td><td>1           </td><td>Christmas   </td><td>1750434.55  </td></tr>\n",
       "\t<tr><td>2011-02-11  </td><td>1           </td><td>Super_Bowl  </td><td>2168041.61  </td></tr>\n",
       "\t<tr><td>2011-09-09  </td><td>1           </td><td>Labour_Day  </td><td>1748000.65  </td></tr>\n",
       "\t<tr><td>2011-11-25  </td><td>1           </td><td>Thanksgiving</td><td>2614202.30  </td></tr>\n",
       "\t<tr><td>2011-12-30  </td><td>1           </td><td>Christmas   </td><td>1874226.52  </td></tr>\n",
       "\t<tr><td>2012-02-10  </td><td>1           </td><td>Super_Bowl  </td><td>2103322.68  </td></tr>\n",
       "\t<tr><td>2012-09-07  </td><td>1           </td><td>Labour_Day  </td><td>1898777.07  </td></tr>\n",
       "\t<tr><td>2010-02-12  </td><td>1           </td><td>Super_Bowl  </td><td> 420728.96  </td></tr>\n",
       "\t<tr><td>2010-09-10  </td><td>1           </td><td>Labour_Day  </td><td> 352260.97  </td></tr>\n",
       "\t<tr><td>2010-11-26  </td><td>1           </td><td>Thanksgiving</td><td> 565567.84  </td></tr>\n",
       "\t<tr><td>2010-12-31  </td><td>1           </td><td>Christmas   </td><td> 382677.76  </td></tr>\n",
       "\t<tr><td>2011-02-11  </td><td>1           </td><td>Super_Bowl  </td><td> 430526.21  </td></tr>\n",
       "\t<tr><td>2011-09-09  </td><td>1           </td><td>Labour_Day  </td><td> 377347.49  </td></tr>\n",
       "\t<tr><td>2011-11-25  </td><td>1           </td><td>Thanksgiving</td><td> 556925.19  </td></tr>\n",
       "\t<tr><td>2011-12-30  </td><td>1           </td><td>Christmas   </td><td> 410553.88  </td></tr>\n",
       "\t<tr><td>2012-02-10  </td><td>1           </td><td>Super_Bowl  </td><td> 473292.47  </td></tr>\n",
       "\t<tr><td>2012-09-07  </td><td>1           </td><td>Labour_Day  </td><td> 408229.73  </td></tr>\n",
       "\t<tr><td>...</td><td>...</td><td>...</td><td>...</td></tr>\n",
       "\t<tr><td>2010-02-12  </td><td>1           </td><td>Super_Bowl  </td><td> 682918.99  </td></tr>\n",
       "\t<tr><td>2010-09-10  </td><td>1           </td><td>Labour_Day  </td><td> 722120.04  </td></tr>\n",
       "\t<tr><td>2010-11-26  </td><td>1           </td><td>Thanksgiving</td><td> 633520.34  </td></tr>\n",
       "\t<tr><td>2010-12-31  </td><td>1           </td><td>Christmas   </td><td> 534740.30  </td></tr>\n",
       "\t<tr><td>2011-02-11  </td><td>1           </td><td>Super_Bowl  </td><td> 635650.98  </td></tr>\n",
       "\t<tr><td>2011-09-09  </td><td>1           </td><td>Labour_Day  </td><td> 649128.23  </td></tr>\n",
       "\t<tr><td>2011-11-25  </td><td>1           </td><td>Thanksgiving</td><td> 669965.22  </td></tr>\n",
       "\t<tr><td>2011-12-30  </td><td>1           </td><td>Christmas   </td><td> 505405.85  </td></tr>\n",
       "\t<tr><td>2012-02-10  </td><td>1           </td><td>Super_Bowl  </td><td> 662198.65  </td></tr>\n",
       "\t<tr><td>2012-09-07  </td><td>1           </td><td>Labour_Day  </td><td> 663814.18  </td></tr>\n",
       "\t<tr><td>2010-02-12  </td><td>1           </td><td>Super_Bowl  </td><td> 286857.13  </td></tr>\n",
       "\t<tr><td>2010-09-10  </td><td>1           </td><td>Labour_Day  </td><td> 283455.13  </td></tr>\n",
       "\t<tr><td>2010-11-26  </td><td>1           </td><td>Thanksgiving</td><td> 307646.50  </td></tr>\n",
       "\t<tr><td>2010-12-31  </td><td>1           </td><td>Christmas   </td><td> 241937.11  </td></tr>\n",
       "\t<tr><td>2011-02-11  </td><td>1           </td><td>Super_Bowl  </td><td> 307486.73  </td></tr>\n",
       "\t<tr><td>2011-09-09  </td><td>1           </td><td>Labour_Day  </td><td> 295811.25  </td></tr>\n",
       "\t<tr><td>2011-11-25  </td><td>1           </td><td>Thanksgiving</td><td> 309129.01  </td></tr>\n",
       "\t<tr><td>2011-12-30  </td><td>1           </td><td>Christmas   </td><td> 263917.85  </td></tr>\n",
       "\t<tr><td>2012-02-10  </td><td>1           </td><td>Super_Bowl  </td><td> 325377.97  </td></tr>\n",
       "\t<tr><td>2012-09-07  </td><td>1           </td><td>Labour_Day  </td><td> 338737.33  </td></tr>\n",
       "\t<tr><td>2010-02-12  </td><td>1           </td><td>Super_Bowl  </td><td> 656988.64  </td></tr>\n",
       "\t<tr><td>2010-09-10  </td><td>1           </td><td>Labour_Day  </td><td> 721460.22  </td></tr>\n",
       "\t<tr><td>2010-11-26  </td><td>1           </td><td>Thanksgiving</td><td>1182500.16  </td></tr>\n",
       "\t<tr><td>2010-12-31  </td><td>1           </td><td>Christmas   </td><td> 679156.20  </td></tr>\n",
       "\t<tr><td>2011-02-11  </td><td>1           </td><td>Super_Bowl  </td><td> 766456.00  </td></tr>\n",
       "\t<tr><td>2011-09-09  </td><td>1           </td><td>Labour_Day  </td><td> 746129.56  </td></tr>\n",
       "\t<tr><td>2011-11-25  </td><td>1           </td><td>Thanksgiving</td><td>1170672.94  </td></tr>\n",
       "\t<tr><td>2011-12-30  </td><td>1           </td><td>Christmas   </td><td> 869403.63  </td></tr>\n",
       "\t<tr><td>2012-02-10  </td><td>1           </td><td>Super_Bowl  </td><td> 803657.12  </td></tr>\n",
       "\t<tr><td>2012-09-07  </td><td>1           </td><td>Labour_Day  </td><td> 766512.66  </td></tr>\n",
       "</tbody>\n",
       "</table>\n"
      ],
      "text/latex": [
       "\\begin{tabular}{r|llll}\n",
       " Date & Holiday\\_Flag & Holiday\\_Names & Weekly\\_Sales\\\\\n",
       "\\hline\n",
       "\t 2010-02-12     & 1              & Super\\_Bowl   & 1641957.44    \\\\\n",
       "\t 2010-09-10     & 1              & Labour\\_Day   & 1507460.69    \\\\\n",
       "\t 2010-11-26   & 1            & Thanksgiving & 1955624.11  \\\\\n",
       "\t 2010-12-31   & 1            & Christmas    & 1367320.01  \\\\\n",
       "\t 2011-02-11     & 1              & Super\\_Bowl   & 1649614.93    \\\\\n",
       "\t 2011-09-09     & 1              & Labour\\_Day   & 1540471.24    \\\\\n",
       "\t 2011-11-25   & 1            & Thanksgiving & 2033320.66  \\\\\n",
       "\t 2011-12-30   & 1            & Christmas    & 1497462.72  \\\\\n",
       "\t 2012-02-10     & 1              & Super\\_Bowl   & 1802477.43    \\\\\n",
       "\t 2012-09-07     & 1              & Labour\\_Day   & 1661767.33    \\\\\n",
       "\t 2010-02-12     & 1              & Super\\_Bowl   & 2137809.50    \\\\\n",
       "\t 2010-09-10     & 1              & Labour\\_Day   & 1839128.83    \\\\\n",
       "\t 2010-11-26   & 1            & Thanksgiving & 2658725.29  \\\\\n",
       "\t 2010-12-31   & 1            & Christmas    & 1750434.55  \\\\\n",
       "\t 2011-02-11     & 1              & Super\\_Bowl   & 2168041.61    \\\\\n",
       "\t 2011-09-09     & 1              & Labour\\_Day   & 1748000.65    \\\\\n",
       "\t 2011-11-25   & 1            & Thanksgiving & 2614202.30  \\\\\n",
       "\t 2011-12-30   & 1            & Christmas    & 1874226.52  \\\\\n",
       "\t 2012-02-10     & 1              & Super\\_Bowl   & 2103322.68    \\\\\n",
       "\t 2012-09-07     & 1              & Labour\\_Day   & 1898777.07    \\\\\n",
       "\t 2010-02-12     & 1              & Super\\_Bowl   &  420728.96    \\\\\n",
       "\t 2010-09-10     & 1              & Labour\\_Day   &  352260.97    \\\\\n",
       "\t 2010-11-26   & 1            & Thanksgiving &  565567.84  \\\\\n",
       "\t 2010-12-31   & 1            & Christmas    &  382677.76  \\\\\n",
       "\t 2011-02-11     & 1              & Super\\_Bowl   &  430526.21    \\\\\n",
       "\t 2011-09-09     & 1              & Labour\\_Day   &  377347.49    \\\\\n",
       "\t 2011-11-25   & 1            & Thanksgiving &  556925.19  \\\\\n",
       "\t 2011-12-30   & 1            & Christmas    &  410553.88  \\\\\n",
       "\t 2012-02-10     & 1              & Super\\_Bowl   &  473292.47    \\\\\n",
       "\t 2012-09-07     & 1              & Labour\\_Day   &  408229.73    \\\\\n",
       "\t ... & ... & ... & ...\\\\\n",
       "\t 2010-02-12     & 1              & Super\\_Bowl   &  682918.99    \\\\\n",
       "\t 2010-09-10     & 1              & Labour\\_Day   &  722120.04    \\\\\n",
       "\t 2010-11-26   & 1            & Thanksgiving &  633520.34  \\\\\n",
       "\t 2010-12-31   & 1            & Christmas    &  534740.30  \\\\\n",
       "\t 2011-02-11     & 1              & Super\\_Bowl   &  635650.98    \\\\\n",
       "\t 2011-09-09     & 1              & Labour\\_Day   &  649128.23    \\\\\n",
       "\t 2011-11-25   & 1            & Thanksgiving &  669965.22  \\\\\n",
       "\t 2011-12-30   & 1            & Christmas    &  505405.85  \\\\\n",
       "\t 2012-02-10     & 1              & Super\\_Bowl   &  662198.65    \\\\\n",
       "\t 2012-09-07     & 1              & Labour\\_Day   &  663814.18    \\\\\n",
       "\t 2010-02-12     & 1              & Super\\_Bowl   &  286857.13    \\\\\n",
       "\t 2010-09-10     & 1              & Labour\\_Day   &  283455.13    \\\\\n",
       "\t 2010-11-26   & 1            & Thanksgiving &  307646.50  \\\\\n",
       "\t 2010-12-31   & 1            & Christmas    &  241937.11  \\\\\n",
       "\t 2011-02-11     & 1              & Super\\_Bowl   &  307486.73    \\\\\n",
       "\t 2011-09-09     & 1              & Labour\\_Day   &  295811.25    \\\\\n",
       "\t 2011-11-25   & 1            & Thanksgiving &  309129.01  \\\\\n",
       "\t 2011-12-30   & 1            & Christmas    &  263917.85  \\\\\n",
       "\t 2012-02-10     & 1              & Super\\_Bowl   &  325377.97    \\\\\n",
       "\t 2012-09-07     & 1              & Labour\\_Day   &  338737.33    \\\\\n",
       "\t 2010-02-12     & 1              & Super\\_Bowl   &  656988.64    \\\\\n",
       "\t 2010-09-10     & 1              & Labour\\_Day   &  721460.22    \\\\\n",
       "\t 2010-11-26   & 1            & Thanksgiving & 1182500.16  \\\\\n",
       "\t 2010-12-31   & 1            & Christmas    &  679156.20  \\\\\n",
       "\t 2011-02-11     & 1              & Super\\_Bowl   &  766456.00    \\\\\n",
       "\t 2011-09-09     & 1              & Labour\\_Day   &  746129.56    \\\\\n",
       "\t 2011-11-25   & 1            & Thanksgiving & 1170672.94  \\\\\n",
       "\t 2011-12-30   & 1            & Christmas    &  869403.63  \\\\\n",
       "\t 2012-02-10     & 1              & Super\\_Bowl   &  803657.12    \\\\\n",
       "\t 2012-09-07     & 1              & Labour\\_Day   &  766512.66    \\\\\n",
       "\\end{tabular}\n"
      ],
      "text/markdown": [
       "\n",
       "| Date | Holiday_Flag | Holiday_Names | Weekly_Sales |\n",
       "|---|---|---|---|\n",
       "| 2010-02-12   | 1            | Super_Bowl   | 1641957.44   |\n",
       "| 2010-09-10   | 1            | Labour_Day   | 1507460.69   |\n",
       "| 2010-11-26   | 1            | Thanksgiving | 1955624.11   |\n",
       "| 2010-12-31   | 1            | Christmas    | 1367320.01   |\n",
       "| 2011-02-11   | 1            | Super_Bowl   | 1649614.93   |\n",
       "| 2011-09-09   | 1            | Labour_Day   | 1540471.24   |\n",
       "| 2011-11-25   | 1            | Thanksgiving | 2033320.66   |\n",
       "| 2011-12-30   | 1            | Christmas    | 1497462.72   |\n",
       "| 2012-02-10   | 1            | Super_Bowl   | 1802477.43   |\n",
       "| 2012-09-07   | 1            | Labour_Day   | 1661767.33   |\n",
       "| 2010-02-12   | 1            | Super_Bowl   | 2137809.50   |\n",
       "| 2010-09-10   | 1            | Labour_Day   | 1839128.83   |\n",
       "| 2010-11-26   | 1            | Thanksgiving | 2658725.29   |\n",
       "| 2010-12-31   | 1            | Christmas    | 1750434.55   |\n",
       "| 2011-02-11   | 1            | Super_Bowl   | 2168041.61   |\n",
       "| 2011-09-09   | 1            | Labour_Day   | 1748000.65   |\n",
       "| 2011-11-25   | 1            | Thanksgiving | 2614202.30   |\n",
       "| 2011-12-30   | 1            | Christmas    | 1874226.52   |\n",
       "| 2012-02-10   | 1            | Super_Bowl   | 2103322.68   |\n",
       "| 2012-09-07   | 1            | Labour_Day   | 1898777.07   |\n",
       "| 2010-02-12   | 1            | Super_Bowl   |  420728.96   |\n",
       "| 2010-09-10   | 1            | Labour_Day   |  352260.97   |\n",
       "| 2010-11-26   | 1            | Thanksgiving |  565567.84   |\n",
       "| 2010-12-31   | 1            | Christmas    |  382677.76   |\n",
       "| 2011-02-11   | 1            | Super_Bowl   |  430526.21   |\n",
       "| 2011-09-09   | 1            | Labour_Day   |  377347.49   |\n",
       "| 2011-11-25   | 1            | Thanksgiving |  556925.19   |\n",
       "| 2011-12-30   | 1            | Christmas    |  410553.88   |\n",
       "| 2012-02-10   | 1            | Super_Bowl   |  473292.47   |\n",
       "| 2012-09-07   | 1            | Labour_Day   |  408229.73   |\n",
       "| ... | ... | ... | ... |\n",
       "| 2010-02-12   | 1            | Super_Bowl   |  682918.99   |\n",
       "| 2010-09-10   | 1            | Labour_Day   |  722120.04   |\n",
       "| 2010-11-26   | 1            | Thanksgiving |  633520.34   |\n",
       "| 2010-12-31   | 1            | Christmas    |  534740.30   |\n",
       "| 2011-02-11   | 1            | Super_Bowl   |  635650.98   |\n",
       "| 2011-09-09   | 1            | Labour_Day   |  649128.23   |\n",
       "| 2011-11-25   | 1            | Thanksgiving |  669965.22   |\n",
       "| 2011-12-30   | 1            | Christmas    |  505405.85   |\n",
       "| 2012-02-10   | 1            | Super_Bowl   |  662198.65   |\n",
       "| 2012-09-07   | 1            | Labour_Day   |  663814.18   |\n",
       "| 2010-02-12   | 1            | Super_Bowl   |  286857.13   |\n",
       "| 2010-09-10   | 1            | Labour_Day   |  283455.13   |\n",
       "| 2010-11-26   | 1            | Thanksgiving |  307646.50   |\n",
       "| 2010-12-31   | 1            | Christmas    |  241937.11   |\n",
       "| 2011-02-11   | 1            | Super_Bowl   |  307486.73   |\n",
       "| 2011-09-09   | 1            | Labour_Day   |  295811.25   |\n",
       "| 2011-11-25   | 1            | Thanksgiving |  309129.01   |\n",
       "| 2011-12-30   | 1            | Christmas    |  263917.85   |\n",
       "| 2012-02-10   | 1            | Super_Bowl   |  325377.97   |\n",
       "| 2012-09-07   | 1            | Labour_Day   |  338737.33   |\n",
       "| 2010-02-12   | 1            | Super_Bowl   |  656988.64   |\n",
       "| 2010-09-10   | 1            | Labour_Day   |  721460.22   |\n",
       "| 2010-11-26   | 1            | Thanksgiving | 1182500.16   |\n",
       "| 2010-12-31   | 1            | Christmas    |  679156.20   |\n",
       "| 2011-02-11   | 1            | Super_Bowl   |  766456.00   |\n",
       "| 2011-09-09   | 1            | Labour_Day   |  746129.56   |\n",
       "| 2011-11-25   | 1            | Thanksgiving | 1170672.94   |\n",
       "| 2011-12-30   | 1            | Christmas    |  869403.63   |\n",
       "| 2012-02-10   | 1            | Super_Bowl   |  803657.12   |\n",
       "| 2012-09-07   | 1            | Labour_Day   |  766512.66   |\n",
       "\n"
      ],
      "text/plain": [
       "    Date       Holiday_Flag Holiday_Names Weekly_Sales\n",
       "1   2010-02-12 1            Super_Bowl    1641957.44  \n",
       "2   2010-09-10 1            Labour_Day    1507460.69  \n",
       "3   2010-11-26 1            Thanksgiving  1955624.11  \n",
       "4   2010-12-31 1            Christmas     1367320.01  \n",
       "5   2011-02-11 1            Super_Bowl    1649614.93  \n",
       "6   2011-09-09 1            Labour_Day    1540471.24  \n",
       "7   2011-11-25 1            Thanksgiving  2033320.66  \n",
       "8   2011-12-30 1            Christmas     1497462.72  \n",
       "9   2012-02-10 1            Super_Bowl    1802477.43  \n",
       "10  2012-09-07 1            Labour_Day    1661767.33  \n",
       "11  2010-02-12 1            Super_Bowl    2137809.50  \n",
       "12  2010-09-10 1            Labour_Day    1839128.83  \n",
       "13  2010-11-26 1            Thanksgiving  2658725.29  \n",
       "14  2010-12-31 1            Christmas     1750434.55  \n",
       "15  2011-02-11 1            Super_Bowl    2168041.61  \n",
       "16  2011-09-09 1            Labour_Day    1748000.65  \n",
       "17  2011-11-25 1            Thanksgiving  2614202.30  \n",
       "18  2011-12-30 1            Christmas     1874226.52  \n",
       "19  2012-02-10 1            Super_Bowl    2103322.68  \n",
       "20  2012-09-07 1            Labour_Day    1898777.07  \n",
       "21  2010-02-12 1            Super_Bowl     420728.96  \n",
       "22  2010-09-10 1            Labour_Day     352260.97  \n",
       "23  2010-11-26 1            Thanksgiving   565567.84  \n",
       "24  2010-12-31 1            Christmas      382677.76  \n",
       "25  2011-02-11 1            Super_Bowl     430526.21  \n",
       "26  2011-09-09 1            Labour_Day     377347.49  \n",
       "27  2011-11-25 1            Thanksgiving   556925.19  \n",
       "28  2011-12-30 1            Christmas      410553.88  \n",
       "29  2012-02-10 1            Super_Bowl     473292.47  \n",
       "30  2012-09-07 1            Labour_Day     408229.73  \n",
       "... ...        ...          ...           ...         \n",
       "421 2010-02-12 1            Super_Bowl     682918.99  \n",
       "422 2010-09-10 1            Labour_Day     722120.04  \n",
       "423 2010-11-26 1            Thanksgiving   633520.34  \n",
       "424 2010-12-31 1            Christmas      534740.30  \n",
       "425 2011-02-11 1            Super_Bowl     635650.98  \n",
       "426 2011-09-09 1            Labour_Day     649128.23  \n",
       "427 2011-11-25 1            Thanksgiving   669965.22  \n",
       "428 2011-12-30 1            Christmas      505405.85  \n",
       "429 2012-02-10 1            Super_Bowl     662198.65  \n",
       "430 2012-09-07 1            Labour_Day     663814.18  \n",
       "431 2010-02-12 1            Super_Bowl     286857.13  \n",
       "432 2010-09-10 1            Labour_Day     283455.13  \n",
       "433 2010-11-26 1            Thanksgiving   307646.50  \n",
       "434 2010-12-31 1            Christmas      241937.11  \n",
       "435 2011-02-11 1            Super_Bowl     307486.73  \n",
       "436 2011-09-09 1            Labour_Day     295811.25  \n",
       "437 2011-11-25 1            Thanksgiving   309129.01  \n",
       "438 2011-12-30 1            Christmas      263917.85  \n",
       "439 2012-02-10 1            Super_Bowl     325377.97  \n",
       "440 2012-09-07 1            Labour_Day     338737.33  \n",
       "441 2010-02-12 1            Super_Bowl     656988.64  \n",
       "442 2010-09-10 1            Labour_Day     721460.22  \n",
       "443 2010-11-26 1            Thanksgiving  1182500.16  \n",
       "444 2010-12-31 1            Christmas      679156.20  \n",
       "445 2011-02-11 1            Super_Bowl     766456.00  \n",
       "446 2011-09-09 1            Labour_Day     746129.56  \n",
       "447 2011-11-25 1            Thanksgiving  1170672.94  \n",
       "448 2011-12-30 1            Christmas      869403.63  \n",
       "449 2012-02-10 1            Super_Bowl     803657.12  \n",
       "450 2012-09-07 1            Labour_Day     766512.66  "
      ]
     },
     "metadata": {},
     "output_type": "display_data"
    }
   ],
   "source": [
    "holiday_higher_sales_data"
   ]
  },
  {
   "cell_type": "code",
   "execution_count": 87,
   "id": "e7b04a2c",
   "metadata": {
    "scrolled": true
   },
   "outputs": [
    {
     "data": {
      "text/html": [
       "<table>\n",
       "<thead><tr><th scope=col>Holiday_Names</th><th scope=col>Total_Sales</th></tr></thead>\n",
       "<tbody>\n",
       "\t<tr><td>Christmas   </td><td> 86474980.04</td></tr>\n",
       "\t<tr><td>Labour_Day  </td><td>140727684.68</td></tr>\n",
       "\t<tr><td>Super_Bowl  </td><td>145682278.34</td></tr>\n",
       "\t<tr><td>Thanksgiving</td><td>132414608.50</td></tr>\n",
       "</tbody>\n",
       "</table>\n"
      ],
      "text/latex": [
       "\\begin{tabular}{r|ll}\n",
       " Holiday\\_Names & Total\\_Sales\\\\\n",
       "\\hline\n",
       "\t Christmas    &  86474980.04\\\\\n",
       "\t Labour\\_Day   & 140727684.68  \\\\\n",
       "\t Super\\_Bowl   & 145682278.34  \\\\\n",
       "\t Thanksgiving & 132414608.50\\\\\n",
       "\\end{tabular}\n"
      ],
      "text/markdown": [
       "\n",
       "| Holiday_Names | Total_Sales |\n",
       "|---|---|\n",
       "| Christmas    |  86474980.04 |\n",
       "| Labour_Day   | 140727684.68 |\n",
       "| Super_Bowl   | 145682278.34 |\n",
       "| Thanksgiving | 132414608.50 |\n",
       "\n"
      ],
      "text/plain": [
       "  Holiday_Names Total_Sales \n",
       "1 Christmas      86474980.04\n",
       "2 Labour_Day    140727684.68\n",
       "3 Super_Bowl    145682278.34\n",
       "4 Thanksgiving  132414608.50"
      ]
     },
     "metadata": {},
     "output_type": "display_data"
    }
   ],
   "source": [
    "# Holiday wise total sales, just for reference\n",
    "\n",
    "holiday_higher_sales_data %>%\n",
    "                                group_by(Holiday_Names) %>%\n",
    "                                summarise(Total_Sales = sum(Weekly_Sales), .groups = 'keep')"
   ]
  },
  {
   "cell_type": "markdown",
   "id": "3f367647",
   "metadata": {},
   "source": [
    "### Provide a monthly and semester view of sales in units and give insights"
   ]
  },
  {
   "cell_type": "code",
   "execution_count": 88,
   "id": "6b3e2fa0",
   "metadata": {},
   "outputs": [
    {
     "data": {
      "text/html": [
       "<table>\n",
       "<thead><tr><th scope=col>Store</th><th scope=col>Date</th><th scope=col>Weekly_Sales</th><th scope=col>Holiday_Flag</th><th scope=col>Temperature</th><th scope=col>Fuel_Price</th><th scope=col>CPI</th><th scope=col>Unemployment</th><th scope=col>Weekly_Sales_Scaled</th><th scope=col>Super_Bowl</th><th scope=col>Labour_Day</th><th scope=col>Thanksgiving</th><th scope=col>Christmas</th><th scope=col>Holiday_Names</th><th scope=col>Day</th><th scope=col>Month</th><th scope=col>Year</th><th scope=col>Quarter</th><th scope=col>Month_Name</th></tr></thead>\n",
       "<tbody>\n",
       "\t<tr><td>1          </td><td>2010-02-05 </td><td>1643690.90 </td><td>0          </td><td>42.31      </td><td>2.572      </td><td>211.0963582</td><td>8.106      </td><td>16.4369090 </td><td>0          </td><td>0          </td><td>0          </td><td>0          </td><td>Others     </td><td> 5         </td><td>2          </td><td>2010       </td><td>1          </td><td>Feb        </td></tr>\n",
       "\t<tr><td>1          </td><td>2010-02-12 </td><td>1641957.44 </td><td>1          </td><td>38.51      </td><td>2.548      </td><td>211.2421698</td><td>8.106      </td><td>16.4195744 </td><td>1          </td><td>0          </td><td>0          </td><td>0          </td><td>Super_Bowl </td><td>12         </td><td>2          </td><td>2010       </td><td>1          </td><td>Feb        </td></tr>\n",
       "\t<tr><td>1          </td><td>2010-02-19 </td><td>1611968.17 </td><td>0          </td><td>39.93      </td><td>2.514      </td><td>211.2891429</td><td>8.106      </td><td>16.1196817 </td><td>0          </td><td>0          </td><td>0          </td><td>0          </td><td>Others     </td><td>19         </td><td>2          </td><td>2010       </td><td>1          </td><td>Feb        </td></tr>\n",
       "\t<tr><td>1          </td><td>2010-02-26 </td><td>1409727.59 </td><td>0          </td><td>46.63      </td><td>2.561      </td><td>211.3196429</td><td>8.106      </td><td>14.0972759 </td><td>0          </td><td>0          </td><td>0          </td><td>0          </td><td>Others     </td><td>26         </td><td>2          </td><td>2010       </td><td>1          </td><td>Feb        </td></tr>\n",
       "\t<tr><td>1          </td><td>2010-03-05 </td><td>1554806.68 </td><td>0          </td><td>46.50      </td><td>2.625      </td><td>211.3501429</td><td>8.106      </td><td>15.5480668 </td><td>0          </td><td>0          </td><td>0          </td><td>0          </td><td>Others     </td><td> 5         </td><td>3          </td><td>2010       </td><td>1          </td><td>Mar        </td></tr>\n",
       "\t<tr><td>1          </td><td>2010-03-12 </td><td>1439541.59 </td><td>0          </td><td>57.79      </td><td>2.667      </td><td>211.3806429</td><td>8.106      </td><td>14.3954159 </td><td>0          </td><td>0          </td><td>0          </td><td>0          </td><td>Others     </td><td>12         </td><td>3          </td><td>2010       </td><td>1          </td><td>Mar        </td></tr>\n",
       "</tbody>\n",
       "</table>\n"
      ],
      "text/latex": [
       "\\begin{tabular}{r|lllllllllllllllllll}\n",
       " Store & Date & Weekly\\_Sales & Holiday\\_Flag & Temperature & Fuel\\_Price & CPI & Unemployment & Weekly\\_Sales\\_Scaled & Super\\_Bowl & Labour\\_Day & Thanksgiving & Christmas & Holiday\\_Names & Day & Month & Year & Quarter & Month\\_Name\\\\\n",
       "\\hline\n",
       "\t 1           & 2010-02-05  & 1643690.90  & 0           & 42.31       & 2.572       & 211.0963582 & 8.106       & 16.4369090  & 0           & 0           & 0           & 0           & Others      &  5          & 2           & 2010        & 1           & Feb        \\\\\n",
       "\t 1            & 2010-02-12   & 1641957.44   & 1            & 38.51        & 2.548        & 211.2421698  & 8.106        & 16.4195744   & 1            & 0            & 0            & 0            & Super\\_Bowl & 12           & 2            & 2010         & 1            & Feb         \\\\\n",
       "\t 1           & 2010-02-19  & 1611968.17  & 0           & 39.93       & 2.514       & 211.2891429 & 8.106       & 16.1196817  & 0           & 0           & 0           & 0           & Others      & 19          & 2           & 2010        & 1           & Feb        \\\\\n",
       "\t 1           & 2010-02-26  & 1409727.59  & 0           & 46.63       & 2.561       & 211.3196429 & 8.106       & 14.0972759  & 0           & 0           & 0           & 0           & Others      & 26          & 2           & 2010        & 1           & Feb        \\\\\n",
       "\t 1           & 2010-03-05  & 1554806.68  & 0           & 46.50       & 2.625       & 211.3501429 & 8.106       & 15.5480668  & 0           & 0           & 0           & 0           & Others      &  5          & 3           & 2010        & 1           & Mar        \\\\\n",
       "\t 1           & 2010-03-12  & 1439541.59  & 0           & 57.79       & 2.667       & 211.3806429 & 8.106       & 14.3954159  & 0           & 0           & 0           & 0           & Others      & 12          & 3           & 2010        & 1           & Mar        \\\\\n",
       "\\end{tabular}\n"
      ],
      "text/markdown": [
       "\n",
       "| Store | Date | Weekly_Sales | Holiday_Flag | Temperature | Fuel_Price | CPI | Unemployment | Weekly_Sales_Scaled | Super_Bowl | Labour_Day | Thanksgiving | Christmas | Holiday_Names | Day | Month | Year | Quarter | Month_Name |\n",
       "|---|---|---|---|---|---|---|---|---|---|---|---|---|---|---|---|---|---|---|\n",
       "| 1           | 2010-02-05  | 1643690.90  | 0           | 42.31       | 2.572       | 211.0963582 | 8.106       | 16.4369090  | 0           | 0           | 0           | 0           | Others      |  5          | 2           | 2010        | 1           | Feb         |\n",
       "| 1           | 2010-02-12  | 1641957.44  | 1           | 38.51       | 2.548       | 211.2421698 | 8.106       | 16.4195744  | 1           | 0           | 0           | 0           | Super_Bowl  | 12          | 2           | 2010        | 1           | Feb         |\n",
       "| 1           | 2010-02-19  | 1611968.17  | 0           | 39.93       | 2.514       | 211.2891429 | 8.106       | 16.1196817  | 0           | 0           | 0           | 0           | Others      | 19          | 2           | 2010        | 1           | Feb         |\n",
       "| 1           | 2010-02-26  | 1409727.59  | 0           | 46.63       | 2.561       | 211.3196429 | 8.106       | 14.0972759  | 0           | 0           | 0           | 0           | Others      | 26          | 2           | 2010        | 1           | Feb         |\n",
       "| 1           | 2010-03-05  | 1554806.68  | 0           | 46.50       | 2.625       | 211.3501429 | 8.106       | 15.5480668  | 0           | 0           | 0           | 0           | Others      |  5          | 3           | 2010        | 1           | Mar         |\n",
       "| 1           | 2010-03-12  | 1439541.59  | 0           | 57.79       | 2.667       | 211.3806429 | 8.106       | 14.3954159  | 0           | 0           | 0           | 0           | Others      | 12          | 3           | 2010        | 1           | Mar         |\n",
       "\n"
      ],
      "text/plain": [
       "  Store Date       Weekly_Sales Holiday_Flag Temperature Fuel_Price CPI        \n",
       "1 1     2010-02-05 1643690.90   0            42.31       2.572      211.0963582\n",
       "2 1     2010-02-12 1641957.44   1            38.51       2.548      211.2421698\n",
       "3 1     2010-02-19 1611968.17   0            39.93       2.514      211.2891429\n",
       "4 1     2010-02-26 1409727.59   0            46.63       2.561      211.3196429\n",
       "5 1     2010-03-05 1554806.68   0            46.50       2.625      211.3501429\n",
       "6 1     2010-03-12 1439541.59   0            57.79       2.667      211.3806429\n",
       "  Unemployment Weekly_Sales_Scaled Super_Bowl Labour_Day Thanksgiving Christmas\n",
       "1 8.106        16.4369090          0          0          0            0        \n",
       "2 8.106        16.4195744          1          0          0            0        \n",
       "3 8.106        16.1196817          0          0          0            0        \n",
       "4 8.106        14.0972759          0          0          0            0        \n",
       "5 8.106        15.5480668          0          0          0            0        \n",
       "6 8.106        14.3954159          0          0          0            0        \n",
       "  Holiday_Names Day Month Year Quarter Month_Name\n",
       "1 Others         5  2     2010 1       Feb       \n",
       "2 Super_Bowl    12  2     2010 1       Feb       \n",
       "3 Others        19  2     2010 1       Feb       \n",
       "4 Others        26  2     2010 1       Feb       \n",
       "5 Others         5  3     2010 1       Mar       \n",
       "6 Others        12  3     2010 1       Mar       "
      ]
     },
     "metadata": {},
     "output_type": "display_data"
    }
   ],
   "source": [
    "head(walmart_data)"
   ]
  },
  {
   "cell_type": "code",
   "execution_count": 89,
   "id": "7cf71c5c",
   "metadata": {},
   "outputs": [
    {
     "data": {
      "text/html": [
       "<ol class=list-inline>\n",
       "\t<li>'ordered'</li>\n",
       "\t<li>'factor'</li>\n",
       "</ol>\n"
      ],
      "text/latex": [
       "\\begin{enumerate*}\n",
       "\\item 'ordered'\n",
       "\\item 'factor'\n",
       "\\end{enumerate*}\n"
      ],
      "text/markdown": [
       "1. 'ordered'\n",
       "2. 'factor'\n",
       "\n",
       "\n"
      ],
      "text/plain": [
       "[1] \"ordered\" \"factor\" "
      ]
     },
     "metadata": {},
     "output_type": "display_data"
    }
   ],
   "source": [
    "class(walmart_data$Month_Name) # checking the class of month_name variable"
   ]
  },
  {
   "cell_type": "code",
   "execution_count": 90,
   "id": "de623247",
   "metadata": {
    "scrolled": false
   },
   "outputs": [
    {
     "data": {
      "image/png": "[encoded data removed]",
      "text/plain": [
       "plot without title"
      ]
     },
     "metadata": {},
     "output_type": "display_data"
    }
   ],
   "source": [
    "# Viewing month wise total sales for all years of Walmart Data - Line Chart\n",
    "\n",
    "fig(8,4)\n",
    "walmart_data %>%\n",
    "                    group_by(Month_Name) %>%\n",
    "                    summarise(Total_Sales = sum(Weekly_Sales)/1000000, .groups = 'keep') %>%\n",
    "                            ggplot(aes(x=Month_Name, y=Total_Sales, group = 1)) +\n",
    "                            geom_line( color=\"#00AFBB\", size = 1, alpha=0.9, linetype=1) +\n",
    "                            geom_point() +\n",
    "                            ggtitle(\"Walmart Monthly Sales Report - 2010-12\") +\n",
    "                            xlab(\"Month\") + ylab(\"Sales\") +\n",
    "                            theme_light() +\n",
    "                            theme(\n",
    "                                plot.title = element_text(color=\"black\", size=14, face=\"bold.italic\", hjust = 0.5),\n",
    "                                axis.title.x = element_text(color=\"black\", size=14, face=\"bold\"),\n",
    "                                axis.title.y = element_text(color=\"black\", size=14, face=\"bold\")) \n",
    "\n"
   ]
  },
  {
   "cell_type": "markdown",
   "id": "c365b298",
   "metadata": {},
   "source": [
    "- **Above data is grouped by Month for all the years - 2010, 2011, 2012**\n",
    "- **April and July Month recorded the highest sales**\n",
    "- **Lowest sales was recorded in the Month of January**\n",
    "- **Starting from Jan, the sales rose till April**\n",
    "- **From April, observed dip in sales, significantly lower than Feb Month**\n",
    "- **Another dip in sales was observed after July, till September.**\n",
    "- **Significant loss of sales was observed after Oct till November, after which there was some rise in sales.**\n"
   ]
  },
  {
   "cell_type": "code",
   "execution_count": 91,
   "id": "2ac2c71e",
   "metadata": {},
   "outputs": [
    {
     "data": {
      "text/html": [
       "<table>\n",
       "<thead><tr><th scope=col>Year</th><th scope=col>Month_Name</th><th scope=col>Total_Sales</th></tr></thead>\n",
       "<tbody>\n",
       "\t<tr><td>2010        </td><td>Feb         </td><td>190.33298304</td></tr>\n",
       "\t<tr><td>2010        </td><td>Mar         </td><td>181.91980250</td></tr>\n",
       "\t<tr><td>2010        </td><td>Apr         </td><td>231.41236805</td></tr>\n",
       "\t<tr><td>2010        </td><td>May         </td><td>186.71093434</td></tr>\n",
       "\t<tr><td>2010        </td><td>Jun         </td><td>192.24617236</td></tr>\n",
       "\t<tr><td>2010        </td><td>Jul         </td><td>232.58012598</td></tr>\n",
       "\t<tr><td>2010        </td><td>Aug         </td><td>187.64011089</td></tr>\n",
       "\t<tr><td>2010        </td><td>Sep         </td><td>177.26789637</td></tr>\n",
       "\t<tr><td>2010        </td><td>Oct         </td><td>217.16182402</td></tr>\n",
       "\t<tr><td>2010        </td><td>Nov         </td><td>202.85337014</td></tr>\n",
       "</tbody>\n",
       "</table>\n"
      ],
      "text/latex": [
       "\\begin{tabular}{r|lll}\n",
       " Year & Month\\_Name & Total\\_Sales\\\\\n",
       "\\hline\n",
       "\t 2010         & Feb          & 190.33298304\\\\\n",
       "\t 2010         & Mar          & 181.91980250\\\\\n",
       "\t 2010         & Apr          & 231.41236805\\\\\n",
       "\t 2010         & May          & 186.71093434\\\\\n",
       "\t 2010         & Jun          & 192.24617236\\\\\n",
       "\t 2010         & Jul          & 232.58012598\\\\\n",
       "\t 2010         & Aug          & 187.64011089\\\\\n",
       "\t 2010         & Sep          & 177.26789637\\\\\n",
       "\t 2010         & Oct          & 217.16182402\\\\\n",
       "\t 2010         & Nov          & 202.85337014\\\\\n",
       "\\end{tabular}\n"
      ],
      "text/markdown": [
       "\n",
       "| Year | Month_Name | Total_Sales |\n",
       "|---|---|---|\n",
       "| 2010         | Feb          | 190.33298304 |\n",
       "| 2010         | Mar          | 181.91980250 |\n",
       "| 2010         | Apr          | 231.41236805 |\n",
       "| 2010         | May          | 186.71093434 |\n",
       "| 2010         | Jun          | 192.24617236 |\n",
       "| 2010         | Jul          | 232.58012598 |\n",
       "| 2010         | Aug          | 187.64011089 |\n",
       "| 2010         | Sep          | 177.26789637 |\n",
       "| 2010         | Oct          | 217.16182402 |\n",
       "| 2010         | Nov          | 202.85337014 |\n",
       "\n"
      ],
      "text/plain": [
       "   Year Month_Name Total_Sales \n",
       "1  2010 Feb        190.33298304\n",
       "2  2010 Mar        181.91980250\n",
       "3  2010 Apr        231.41236805\n",
       "4  2010 May        186.71093434\n",
       "5  2010 Jun        192.24617236\n",
       "6  2010 Jul        232.58012598\n",
       "7  2010 Aug        187.64011089\n",
       "8  2010 Sep        177.26789637\n",
       "9  2010 Oct        217.16182402\n",
       "10 2010 Nov        202.85337014"
      ]
     },
     "metadata": {},
     "output_type": "display_data"
    }
   ],
   "source": [
    "# grouping the data first based on year and than based on Month_name, and storing it in a variable for future use\n",
    "\n",
    "Year_wise_monthly_sales <- walmart_data %>%\n",
    "                                            group_by(Year, Month_Name) %>%\n",
    "                                            summarise(Total_Sales = sum(Weekly_Sales)/1000000, .groups = 'keep')\n",
    "head(Year_wise_monthly_sales, n=10)"
   ]
  },
  {
   "cell_type": "code",
   "execution_count": 92,
   "id": "933deeb1",
   "metadata": {
    "scrolled": false
   },
   "outputs": [
    {
     "data": {
      "text/html": [
       "<table>\n",
       "<thead><tr><th scope=col>Year</th><th scope=col>Month_Name</th><th scope=col>Total_Sales</th></tr></thead>\n",
       "<tbody>\n",
       "\t<tr><td>2010        </td><td>Feb         </td><td>190.33298304</td></tr>\n",
       "\t<tr><td>2010        </td><td>Mar         </td><td>181.91980250</td></tr>\n",
       "\t<tr><td>2010        </td><td>Apr         </td><td>231.41236805</td></tr>\n",
       "\t<tr><td>2010        </td><td>May         </td><td>186.71093434</td></tr>\n",
       "\t<tr><td>2010        </td><td>Jun         </td><td>192.24617236</td></tr>\n",
       "\t<tr><td>2010        </td><td>Jul         </td><td>232.58012598</td></tr>\n",
       "</tbody>\n",
       "</table>\n"
      ],
      "text/latex": [
       "\\begin{tabular}{r|lll}\n",
       " Year & Month\\_Name & Total\\_Sales\\\\\n",
       "\\hline\n",
       "\t 2010         & Feb          & 190.33298304\\\\\n",
       "\t 2010         & Mar          & 181.91980250\\\\\n",
       "\t 2010         & Apr          & 231.41236805\\\\\n",
       "\t 2010         & May          & 186.71093434\\\\\n",
       "\t 2010         & Jun          & 192.24617236\\\\\n",
       "\t 2010         & Jul          & 232.58012598\\\\\n",
       "\\end{tabular}\n"
      ],
      "text/markdown": [
       "\n",
       "| Year | Month_Name | Total_Sales |\n",
       "|---|---|---|\n",
       "| 2010         | Feb          | 190.33298304 |\n",
       "| 2010         | Mar          | 181.91980250 |\n",
       "| 2010         | Apr          | 231.41236805 |\n",
       "| 2010         | May          | 186.71093434 |\n",
       "| 2010         | Jun          | 192.24617236 |\n",
       "| 2010         | Jul          | 232.58012598 |\n",
       "\n"
      ],
      "text/plain": [
       "  Year Month_Name Total_Sales \n",
       "1 2010 Feb        190.33298304\n",
       "2 2010 Mar        181.91980250\n",
       "3 2010 Apr        231.41236805\n",
       "4 2010 May        186.71093434\n",
       "5 2010 Jun        192.24617236\n",
       "6 2010 Jul        232.58012598"
      ]
     },
     "metadata": {},
     "output_type": "display_data"
    }
   ],
   "source": [
    "# changing the data type of Year to factor, to use it in plotting graphs\n",
    "\n",
    "Year_wise_monthly_sales$Year <- as.factor(Year_wise_monthly_sales$Year)\n",
    "head(Year_wise_monthly_sales)"
   ]
  },
  {
   "cell_type": "code",
   "execution_count": 93,
   "id": "fb08ee5e",
   "metadata": {},
   "outputs": [
    {
     "data": {
      "text/html": [
       "'factor'"
      ],
      "text/latex": [
       "'factor'"
      ],
      "text/markdown": [
       "'factor'"
      ],
      "text/plain": [
       "[1] \"factor\""
      ]
     },
     "metadata": {},
     "output_type": "display_data"
    }
   ],
   "source": [
    "class(Year_wise_monthly_sales$Year) # checking the class of Year variable "
   ]
  },
  {
   "cell_type": "code",
   "execution_count": 94,
   "id": "9f4bb706",
   "metadata": {},
   "outputs": [
    {
     "data": {
      "image/png": "[encoded data removed]",
      "text/plain": [
       "plot without title"
      ]
     },
     "metadata": {},
     "output_type": "display_data"
    }
   ],
   "source": [
    "# Line chart of Sales based on Year - Monthwise\n",
    "\n",
    "\n",
    "fig(7,5)\n",
    "ggplot(Year_wise_monthly_sales, aes(Month_Name, Total_Sales, group=Year, colour=Year)) +\n",
    "geom_line(size = 1, alpha=0.8, linetype=1) +\n",
    "geom_point() +\n",
    "ggtitle(\"Walmart Year Wise Monthly Sales Trend Chart\") +\n",
    "xlab(\"Month\") + ylab(\"Sales\") +\n",
    "theme_light() +\n",
    "theme(\n",
    "        plot.title = element_text(color=\"black\", size=14, face=\"bold.italic\", hjust = 0.5),\n",
    "        axis.title.x = element_text(color=\"black\", size=14, face=\"bold\"),\n",
    "        axis.title.y = element_text(color=\"black\", size=14, face=\"bold\")) "
   ]
  },
  {
   "cell_type": "markdown",
   "id": "3b81b92b",
   "metadata": {},
   "source": [
    "- **Data was grouped based on Year first and than after based on Months**\n",
    "- **Pink and Green lines (Sales of 2010 and 2011) is similar from Feb till August**\n",
    "- **From Aug to Sept, pink line falls down (sales of 2010 dips) where as green line picks up (sales of 2011 increases)**\n",
    "- **Vice versa happens from Sept to Oct, where 2010 sales rises and 2011 sales drops, significantly**\n",
    "- **Nov to Dec both 2010 and 2011 sales rises**\n",
    "- **2012 Trends follows a different pattern altogether, a zig zag line, indicates the unpredictable sales**\n",
    "- **There could be many reasons for this, external factors, insufficient stocks and unforeseen demands, this needs  further investigation**\n"
   ]
  },
  {
   "cell_type": "code",
   "execution_count": 95,
   "id": "feafb237",
   "metadata": {},
   "outputs": [],
   "source": [
    "# New variable created, grouping Sales based of year first and than on quarter\n",
    "\n",
    "quarter_wise_sales <- walmart_data %>%\n",
    "                                            group_by(Year, Quarter) %>%\n",
    "                                            summarise(Total_Sales = sum(Weekly_Sales)/1000000, .groups = 'keep')\n",
    "quarter_wise_sales$Quarter <- as.factor(quarter_wise_sales$Quarter)\n",
    "quarter_wise_sales$Year <- as.factor(quarter_wise_sales$Year)"
   ]
  },
  {
   "cell_type": "code",
   "execution_count": 96,
   "id": "dc2de3e5",
   "metadata": {},
   "outputs": [
    {
     "data": {
      "text/html": [
       "<table>\n",
       "<thead><tr><th scope=col>Year</th><th scope=col>Quarter</th><th scope=col>Total_Sales</th></tr></thead>\n",
       "<tbody>\n",
       "\t<tr><td>2010        </td><td>1           </td><td>372.25278554</td></tr>\n",
       "\t<tr><td>2010        </td><td>2           </td><td>610.36947475</td></tr>\n",
       "\t<tr><td>2010        </td><td>3           </td><td>597.48813324</td></tr>\n",
       "\t<tr><td>2010        </td><td>4           </td><td>708.77572688</td></tr>\n",
       "\t<tr><td>2011        </td><td>1           </td><td>529.39174299</td></tr>\n",
       "\t<tr><td>2011        </td><td>2           </td><td>597.94805432</td></tr>\n",
       "\t<tr><td>2011        </td><td>3           </td><td>639.35846954</td></tr>\n",
       "\t<tr><td>2011        </td><td>4           </td><td>681.50174050</td></tr>\n",
       "\t<tr><td>2012        </td><td>1           </td><td>592.46770169</td></tr>\n",
       "\t<tr><td>2012        </td><td>2           </td><td>618.29771469</td></tr>\n",
       "\t<tr><td>2012        </td><td>3           </td><td>605.00576255</td></tr>\n",
       "\t<tr><td>2012        </td><td>4           </td><td>184.36168042</td></tr>\n",
       "</tbody>\n",
       "</table>\n"
      ],
      "text/latex": [
       "\\begin{tabular}{r|lll}\n",
       " Year & Quarter & Total\\_Sales\\\\\n",
       "\\hline\n",
       "\t 2010         & 1            & 372.25278554\\\\\n",
       "\t 2010         & 2            & 610.36947475\\\\\n",
       "\t 2010         & 3            & 597.48813324\\\\\n",
       "\t 2010         & 4            & 708.77572688\\\\\n",
       "\t 2011         & 1            & 529.39174299\\\\\n",
       "\t 2011         & 2            & 597.94805432\\\\\n",
       "\t 2011         & 3            & 639.35846954\\\\\n",
       "\t 2011         & 4            & 681.50174050\\\\\n",
       "\t 2012         & 1            & 592.46770169\\\\\n",
       "\t 2012         & 2            & 618.29771469\\\\\n",
       "\t 2012         & 3            & 605.00576255\\\\\n",
       "\t 2012         & 4            & 184.36168042\\\\\n",
       "\\end{tabular}\n"
      ],
      "text/markdown": [
       "\n",
       "| Year | Quarter | Total_Sales |\n",
       "|---|---|---|\n",
       "| 2010         | 1            | 372.25278554 |\n",
       "| 2010         | 2            | 610.36947475 |\n",
       "| 2010         | 3            | 597.48813324 |\n",
       "| 2010         | 4            | 708.77572688 |\n",
       "| 2011         | 1            | 529.39174299 |\n",
       "| 2011         | 2            | 597.94805432 |\n",
       "| 2011         | 3            | 639.35846954 |\n",
       "| 2011         | 4            | 681.50174050 |\n",
       "| 2012         | 1            | 592.46770169 |\n",
       "| 2012         | 2            | 618.29771469 |\n",
       "| 2012         | 3            | 605.00576255 |\n",
       "| 2012         | 4            | 184.36168042 |\n",
       "\n"
      ],
      "text/plain": [
       "   Year Quarter Total_Sales \n",
       "1  2010 1       372.25278554\n",
       "2  2010 2       610.36947475\n",
       "3  2010 3       597.48813324\n",
       "4  2010 4       708.77572688\n",
       "5  2011 1       529.39174299\n",
       "6  2011 2       597.94805432\n",
       "7  2011 3       639.35846954\n",
       "8  2011 4       681.50174050\n",
       "9  2012 1       592.46770169\n",
       "10 2012 2       618.29771469\n",
       "11 2012 3       605.00576255\n",
       "12 2012 4       184.36168042"
      ]
     },
     "metadata": {},
     "output_type": "display_data"
    }
   ],
   "source": [
    "quarter_wise_sales"
   ]
  },
  {
   "cell_type": "code",
   "execution_count": 97,
   "id": "6d60a698",
   "metadata": {},
   "outputs": [
    {
     "data": {
      "text/html": [
       "<table>\n",
       "<thead><tr><th scope=col>Year</th><th scope=col>Quarter</th><th scope=col>Total_Sales</th></tr></thead>\n",
       "<tbody>\n",
       "\t<tr><td>2010        </td><td>1           </td><td>372.25278554</td></tr>\n",
       "\t<tr><td>2010        </td><td>2           </td><td>610.36947475</td></tr>\n",
       "\t<tr><td>2010        </td><td>3           </td><td>597.48813324</td></tr>\n",
       "\t<tr><td>2010        </td><td>4           </td><td>708.77572688</td></tr>\n",
       "\t<tr><td>2011        </td><td>1           </td><td>529.39174299</td></tr>\n",
       "\t<tr><td>2011        </td><td>2           </td><td>597.94805432</td></tr>\n",
       "\t<tr><td>2011        </td><td>3           </td><td>639.35846954</td></tr>\n",
       "\t<tr><td>2011        </td><td>4           </td><td>681.50174050</td></tr>\n",
       "\t<tr><td>2012        </td><td>1           </td><td>592.46770169</td></tr>\n",
       "\t<tr><td>2012        </td><td>2           </td><td>618.29771469</td></tr>\n",
       "\t<tr><td>2012        </td><td>3           </td><td>605.00576255</td></tr>\n",
       "</tbody>\n",
       "</table>\n"
      ],
      "text/latex": [
       "\\begin{tabular}{r|lll}\n",
       " Year & Quarter & Total\\_Sales\\\\\n",
       "\\hline\n",
       "\t 2010         & 1            & 372.25278554\\\\\n",
       "\t 2010         & 2            & 610.36947475\\\\\n",
       "\t 2010         & 3            & 597.48813324\\\\\n",
       "\t 2010         & 4            & 708.77572688\\\\\n",
       "\t 2011         & 1            & 529.39174299\\\\\n",
       "\t 2011         & 2            & 597.94805432\\\\\n",
       "\t 2011         & 3            & 639.35846954\\\\\n",
       "\t 2011         & 4            & 681.50174050\\\\\n",
       "\t 2012         & 1            & 592.46770169\\\\\n",
       "\t 2012         & 2            & 618.29771469\\\\\n",
       "\t 2012         & 3            & 605.00576255\\\\\n",
       "\\end{tabular}\n"
      ],
      "text/markdown": [
       "\n",
       "| Year | Quarter | Total_Sales |\n",
       "|---|---|---|\n",
       "| 2010         | 1            | 372.25278554 |\n",
       "| 2010         | 2            | 610.36947475 |\n",
       "| 2010         | 3            | 597.48813324 |\n",
       "| 2010         | 4            | 708.77572688 |\n",
       "| 2011         | 1            | 529.39174299 |\n",
       "| 2011         | 2            | 597.94805432 |\n",
       "| 2011         | 3            | 639.35846954 |\n",
       "| 2011         | 4            | 681.50174050 |\n",
       "| 2012         | 1            | 592.46770169 |\n",
       "| 2012         | 2            | 618.29771469 |\n",
       "| 2012         | 3            | 605.00576255 |\n",
       "\n"
      ],
      "text/plain": [
       "   Year Quarter Total_Sales \n",
       "1  2010 1       372.25278554\n",
       "2  2010 2       610.36947475\n",
       "3  2010 3       597.48813324\n",
       "4  2010 4       708.77572688\n",
       "5  2011 1       529.39174299\n",
       "6  2011 2       597.94805432\n",
       "7  2011 3       639.35846954\n",
       "8  2011 4       681.50174050\n",
       "9  2012 1       592.46770169\n",
       "10 2012 2       618.29771469\n",
       "11 2012 3       605.00576255"
      ]
     },
     "metadata": {},
     "output_type": "display_data"
    }
   ],
   "source": [
    "# Removing Q4 of 2012 since we dont have data for Nov and Dec Month\n",
    "\n",
    "quarter_wise_sales <- quarter_wise_sales[!(quarter_wise_sales$Year == 2012 & quarter_wise_sales$Quarter == 4),]\n",
    "quarter_wise_sales"
   ]
  },
  {
   "cell_type": "code",
   "execution_count": 98,
   "id": "b32a4a3b",
   "metadata": {},
   "outputs": [
    {
     "data": {
      "image/png": "[encoded data removed]",
      "text/plain": [
       "plot without title"
      ]
     },
     "metadata": {},
     "output_type": "display_data"
    }
   ],
   "source": [
    "fig(7,5)\n",
    "ggplot(quarter_wise_sales, aes(Year, Total_Sales, group=Quarter, colour=Quarter)) +\n",
    "geom_line(size = 1, alpha=0.8, linetype=1) +\n",
    "geom_point() +\n",
    "ggtitle(\"Walmart Year Wise Quarterly Sales Trend Chart\") +\n",
    "xlab(\"Year\") + ylab(\"Sales\") +\n",
    "theme_light() +\n",
    "theme(\n",
    "        plot.title = element_text(color=\"black\", size=14, face=\"bold.italic\", hjust = 0.5),\n",
    "        axis.title.x = element_text(color=\"black\", size=14, face=\"bold\"),\n",
    "        axis.title.y = element_text(color=\"black\", size=14, face=\"bold\")) "
   ]
  },
  {
   "cell_type": "markdown",
   "id": "1d0ddfb4",
   "metadata": {},
   "source": [
    "- **Q1 sales have a postive slope, the sales of Q1 grew every year. Jan-Feb-Mar is favourable period for Walmart. However, the magnitude of Sales is less than other Quarter sales**\n",
    "- **Q2 sales have good record than Q1 sales, and is almost constant. A dip was observed in year 2011**\n",
    "- **Q3 sales started lesser then Q2 sales in year 2010, rose higher in 2011, and closed lesser than Q2 in 2012**\n",
    "- **Q4 sales has highest magnitude in year 2010, and decreased in 2012, however still closed on highest magnitude among all other quarters. Since Nov and Dec data is not available for 2012, Q4 data is excluded in the plot for 2012.**"
   ]
  },
  {
   "cell_type": "code",
   "execution_count": 99,
   "id": "c5cba752",
   "metadata": {
    "scrolled": false
   },
   "outputs": [
    {
     "data": {
      "text/html": [
       "<table>\n",
       "<thead><tr><th scope=col>Store</th><th scope=col>Date</th><th scope=col>Weekly_Sales</th><th scope=col>Holiday_Flag</th><th scope=col>Temperature</th><th scope=col>Fuel_Price</th><th scope=col>CPI</th><th scope=col>Unemployment</th><th scope=col>Weekly_Sales_Scaled</th><th scope=col>Super_Bowl</th><th scope=col>Labour_Day</th><th scope=col>Thanksgiving</th><th scope=col>Christmas</th><th scope=col>Holiday_Names</th><th scope=col>Day</th><th scope=col>Month</th><th scope=col>Year</th><th scope=col>Quarter</th><th scope=col>Month_Name</th></tr></thead>\n",
       "<tbody>\n",
       "\t<tr><td>1          </td><td>2010-02-05 </td><td>1643690.90 </td><td>0          </td><td>42.31      </td><td>2.572      </td><td>211.0963582</td><td>8.106      </td><td>16.4369090 </td><td>0          </td><td>0          </td><td>0          </td><td>0          </td><td>Others     </td><td> 5         </td><td>2          </td><td>2010       </td><td>1          </td><td>Feb        </td></tr>\n",
       "\t<tr><td>1          </td><td>2010-02-12 </td><td>1641957.44 </td><td>1          </td><td>38.51      </td><td>2.548      </td><td>211.2421698</td><td>8.106      </td><td>16.4195744 </td><td>1          </td><td>0          </td><td>0          </td><td>0          </td><td>Super_Bowl </td><td>12         </td><td>2          </td><td>2010       </td><td>1          </td><td>Feb        </td></tr>\n",
       "\t<tr><td>1          </td><td>2010-02-19 </td><td>1611968.17 </td><td>0          </td><td>39.93      </td><td>2.514      </td><td>211.2891429</td><td>8.106      </td><td>16.1196817 </td><td>0          </td><td>0          </td><td>0          </td><td>0          </td><td>Others     </td><td>19         </td><td>2          </td><td>2010       </td><td>1          </td><td>Feb        </td></tr>\n",
       "\t<tr><td>1          </td><td>2010-02-26 </td><td>1409727.59 </td><td>0          </td><td>46.63      </td><td>2.561      </td><td>211.3196429</td><td>8.106      </td><td>14.0972759 </td><td>0          </td><td>0          </td><td>0          </td><td>0          </td><td>Others     </td><td>26         </td><td>2          </td><td>2010       </td><td>1          </td><td>Feb        </td></tr>\n",
       "\t<tr><td>1          </td><td>2010-03-05 </td><td>1554806.68 </td><td>0          </td><td>46.50      </td><td>2.625      </td><td>211.3501429</td><td>8.106      </td><td>15.5480668 </td><td>0          </td><td>0          </td><td>0          </td><td>0          </td><td>Others     </td><td> 5         </td><td>3          </td><td>2010       </td><td>1          </td><td>Mar        </td></tr>\n",
       "\t<tr><td>1          </td><td>2010-03-12 </td><td>1439541.59 </td><td>0          </td><td>57.79      </td><td>2.667      </td><td>211.3806429</td><td>8.106      </td><td>14.3954159 </td><td>0          </td><td>0          </td><td>0          </td><td>0          </td><td>Others     </td><td>12         </td><td>3          </td><td>2010       </td><td>1          </td><td>Mar        </td></tr>\n",
       "\t<tr><td>1          </td><td>2010-03-19 </td><td>1472515.79 </td><td>0          </td><td>54.58      </td><td>2.720      </td><td>211.2156350</td><td>8.106      </td><td>14.7251579 </td><td>0          </td><td>0          </td><td>0          </td><td>0          </td><td>Others     </td><td>19         </td><td>3          </td><td>2010       </td><td>1          </td><td>Mar        </td></tr>\n",
       "\t<tr><td>1          </td><td>2010-03-26 </td><td>1404429.92 </td><td>0          </td><td>51.45      </td><td>2.732      </td><td>211.0180424</td><td>8.106      </td><td>14.0442992 </td><td>0          </td><td>0          </td><td>0          </td><td>0          </td><td>Others     </td><td>26         </td><td>3          </td><td>2010       </td><td>1          </td><td>Mar        </td></tr>\n",
       "\t<tr><td>1          </td><td>2010-04-02 </td><td>1594968.28 </td><td>0          </td><td>62.27      </td><td>2.719      </td><td>210.8204499</td><td>7.808      </td><td>15.9496828 </td><td>0          </td><td>0          </td><td>0          </td><td>0          </td><td>Others     </td><td> 2         </td><td>4          </td><td>2010       </td><td>2          </td><td>Apr        </td></tr>\n",
       "\t<tr><td>1          </td><td>2010-04-09 </td><td>1545418.53 </td><td>0          </td><td>65.86      </td><td>2.770      </td><td>210.6228574</td><td>7.808      </td><td>15.4541853 </td><td>0          </td><td>0          </td><td>0          </td><td>0          </td><td>Others     </td><td> 9         </td><td>4          </td><td>2010       </td><td>2          </td><td>Apr        </td></tr>\n",
       "</tbody>\n",
       "</table>\n"
      ],
      "text/latex": [
       "\\begin{tabular}{r|lllllllllllllllllll}\n",
       " Store & Date & Weekly\\_Sales & Holiday\\_Flag & Temperature & Fuel\\_Price & CPI & Unemployment & Weekly\\_Sales\\_Scaled & Super\\_Bowl & Labour\\_Day & Thanksgiving & Christmas & Holiday\\_Names & Day & Month & Year & Quarter & Month\\_Name\\\\\n",
       "\\hline\n",
       "\t 1           & 2010-02-05  & 1643690.90  & 0           & 42.31       & 2.572       & 211.0963582 & 8.106       & 16.4369090  & 0           & 0           & 0           & 0           & Others      &  5          & 2           & 2010        & 1           & Feb        \\\\\n",
       "\t 1            & 2010-02-12   & 1641957.44   & 1            & 38.51        & 2.548        & 211.2421698  & 8.106        & 16.4195744   & 1            & 0            & 0            & 0            & Super\\_Bowl & 12           & 2            & 2010         & 1            & Feb         \\\\\n",
       "\t 1           & 2010-02-19  & 1611968.17  & 0           & 39.93       & 2.514       & 211.2891429 & 8.106       & 16.1196817  & 0           & 0           & 0           & 0           & Others      & 19          & 2           & 2010        & 1           & Feb        \\\\\n",
       "\t 1           & 2010-02-26  & 1409727.59  & 0           & 46.63       & 2.561       & 211.3196429 & 8.106       & 14.0972759  & 0           & 0           & 0           & 0           & Others      & 26          & 2           & 2010        & 1           & Feb        \\\\\n",
       "\t 1           & 2010-03-05  & 1554806.68  & 0           & 46.50       & 2.625       & 211.3501429 & 8.106       & 15.5480668  & 0           & 0           & 0           & 0           & Others      &  5          & 3           & 2010        & 1           & Mar        \\\\\n",
       "\t 1           & 2010-03-12  & 1439541.59  & 0           & 57.79       & 2.667       & 211.3806429 & 8.106       & 14.3954159  & 0           & 0           & 0           & 0           & Others      & 12          & 3           & 2010        & 1           & Mar        \\\\\n",
       "\t 1           & 2010-03-19  & 1472515.79  & 0           & 54.58       & 2.720       & 211.2156350 & 8.106       & 14.7251579  & 0           & 0           & 0           & 0           & Others      & 19          & 3           & 2010        & 1           & Mar        \\\\\n",
       "\t 1           & 2010-03-26  & 1404429.92  & 0           & 51.45       & 2.732       & 211.0180424 & 8.106       & 14.0442992  & 0           & 0           & 0           & 0           & Others      & 26          & 3           & 2010        & 1           & Mar        \\\\\n",
       "\t 1           & 2010-04-02  & 1594968.28  & 0           & 62.27       & 2.719       & 210.8204499 & 7.808       & 15.9496828  & 0           & 0           & 0           & 0           & Others      &  2          & 4           & 2010        & 2           & Apr        \\\\\n",
       "\t 1           & 2010-04-09  & 1545418.53  & 0           & 65.86       & 2.770       & 210.6228574 & 7.808       & 15.4541853  & 0           & 0           & 0           & 0           & Others      &  9          & 4           & 2010        & 2           & Apr        \\\\\n",
       "\\end{tabular}\n"
      ],
      "text/markdown": [
       "\n",
       "| Store | Date | Weekly_Sales | Holiday_Flag | Temperature | Fuel_Price | CPI | Unemployment | Weekly_Sales_Scaled | Super_Bowl | Labour_Day | Thanksgiving | Christmas | Holiday_Names | Day | Month | Year | Quarter | Month_Name |\n",
       "|---|---|---|---|---|---|---|---|---|---|---|---|---|---|---|---|---|---|---|\n",
       "| 1           | 2010-02-05  | 1643690.90  | 0           | 42.31       | 2.572       | 211.0963582 | 8.106       | 16.4369090  | 0           | 0           | 0           | 0           | Others      |  5          | 2           | 2010        | 1           | Feb         |\n",
       "| 1           | 2010-02-12  | 1641957.44  | 1           | 38.51       | 2.548       | 211.2421698 | 8.106       | 16.4195744  | 1           | 0           | 0           | 0           | Super_Bowl  | 12          | 2           | 2010        | 1           | Feb         |\n",
       "| 1           | 2010-02-19  | 1611968.17  | 0           | 39.93       | 2.514       | 211.2891429 | 8.106       | 16.1196817  | 0           | 0           | 0           | 0           | Others      | 19          | 2           | 2010        | 1           | Feb         |\n",
       "| 1           | 2010-02-26  | 1409727.59  | 0           | 46.63       | 2.561       | 211.3196429 | 8.106       | 14.0972759  | 0           | 0           | 0           | 0           | Others      | 26          | 2           | 2010        | 1           | Feb         |\n",
       "| 1           | 2010-03-05  | 1554806.68  | 0           | 46.50       | 2.625       | 211.3501429 | 8.106       | 15.5480668  | 0           | 0           | 0           | 0           | Others      |  5          | 3           | 2010        | 1           | Mar         |\n",
       "| 1           | 2010-03-12  | 1439541.59  | 0           | 57.79       | 2.667       | 211.3806429 | 8.106       | 14.3954159  | 0           | 0           | 0           | 0           | Others      | 12          | 3           | 2010        | 1           | Mar         |\n",
       "| 1           | 2010-03-19  | 1472515.79  | 0           | 54.58       | 2.720       | 211.2156350 | 8.106       | 14.7251579  | 0           | 0           | 0           | 0           | Others      | 19          | 3           | 2010        | 1           | Mar         |\n",
       "| 1           | 2010-03-26  | 1404429.92  | 0           | 51.45       | 2.732       | 211.0180424 | 8.106       | 14.0442992  | 0           | 0           | 0           | 0           | Others      | 26          | 3           | 2010        | 1           | Mar         |\n",
       "| 1           | 2010-04-02  | 1594968.28  | 0           | 62.27       | 2.719       | 210.8204499 | 7.808       | 15.9496828  | 0           | 0           | 0           | 0           | Others      |  2          | 4           | 2010        | 2           | Apr         |\n",
       "| 1           | 2010-04-09  | 1545418.53  | 0           | 65.86       | 2.770       | 210.6228574 | 7.808       | 15.4541853  | 0           | 0           | 0           | 0           | Others      |  9          | 4           | 2010        | 2           | Apr         |\n",
       "\n"
      ],
      "text/plain": [
       "   Store Date       Weekly_Sales Holiday_Flag Temperature Fuel_Price\n",
       "1  1     2010-02-05 1643690.90   0            42.31       2.572     \n",
       "2  1     2010-02-12 1641957.44   1            38.51       2.548     \n",
       "3  1     2010-02-19 1611968.17   0            39.93       2.514     \n",
       "4  1     2010-02-26 1409727.59   0            46.63       2.561     \n",
       "5  1     2010-03-05 1554806.68   0            46.50       2.625     \n",
       "6  1     2010-03-12 1439541.59   0            57.79       2.667     \n",
       "7  1     2010-03-19 1472515.79   0            54.58       2.720     \n",
       "8  1     2010-03-26 1404429.92   0            51.45       2.732     \n",
       "9  1     2010-04-02 1594968.28   0            62.27       2.719     \n",
       "10 1     2010-04-09 1545418.53   0            65.86       2.770     \n",
       "   CPI         Unemployment Weekly_Sales_Scaled Super_Bowl Labour_Day\n",
       "1  211.0963582 8.106        16.4369090          0          0         \n",
       "2  211.2421698 8.106        16.4195744          1          0         \n",
       "3  211.2891429 8.106        16.1196817          0          0         \n",
       "4  211.3196429 8.106        14.0972759          0          0         \n",
       "5  211.3501429 8.106        15.5480668          0          0         \n",
       "6  211.3806429 8.106        14.3954159          0          0         \n",
       "7  211.2156350 8.106        14.7251579          0          0         \n",
       "8  211.0180424 8.106        14.0442992          0          0         \n",
       "9  210.8204499 7.808        15.9496828          0          0         \n",
       "10 210.6228574 7.808        15.4541853          0          0         \n",
       "   Thanksgiving Christmas Holiday_Names Day Month Year Quarter Month_Name\n",
       "1  0            0         Others         5  2     2010 1       Feb       \n",
       "2  0            0         Super_Bowl    12  2     2010 1       Feb       \n",
       "3  0            0         Others        19  2     2010 1       Feb       \n",
       "4  0            0         Others        26  2     2010 1       Feb       \n",
       "5  0            0         Others         5  3     2010 1       Mar       \n",
       "6  0            0         Others        12  3     2010 1       Mar       \n",
       "7  0            0         Others        19  3     2010 1       Mar       \n",
       "8  0            0         Others        26  3     2010 1       Mar       \n",
       "9  0            0         Others         2  4     2010 2       Apr       \n",
       "10 0            0         Others         9  4     2010 2       Apr       "
      ]
     },
     "metadata": {},
     "output_type": "display_data"
    }
   ],
   "source": [
    "head(walmart_data, n=10)"
   ]
  },
  {
   "cell_type": "code",
   "execution_count": 100,
   "id": "9ee525a0",
   "metadata": {},
   "outputs": [
    {
     "data": {
      "text/html": [
       "'numeric'"
      ],
      "text/latex": [
       "'numeric'"
      ],
      "text/markdown": [
       "'numeric'"
      ],
      "text/plain": [
       "[1] \"numeric\""
      ]
     },
     "metadata": {},
     "output_type": "display_data"
    }
   ],
   "source": [
    "class(walmart_data$Year) # checking class of Year column"
   ]
  },
  {
   "cell_type": "code",
   "execution_count": 101,
   "id": "3e142a6f",
   "metadata": {
    "scrolled": false
   },
   "outputs": [
    {
     "data": {
      "text/html": [
       "<table>\n",
       "<thead><tr><th scope=col>Month_Name</th><th scope=col>Sales</th></tr></thead>\n",
       "<tbody>\n",
       "\t<tr><td>Feb    </td><td>1903.33</td></tr>\n",
       "\t<tr><td>Mar    </td><td>1819.20</td></tr>\n",
       "\t<tr><td>Apr    </td><td>2314.12</td></tr>\n",
       "\t<tr><td>May    </td><td>1867.11</td></tr>\n",
       "\t<tr><td>Jun    </td><td>1922.46</td></tr>\n",
       "\t<tr><td>Jul    </td><td>2325.80</td></tr>\n",
       "\t<tr><td>Aug    </td><td>1876.40</td></tr>\n",
       "\t<tr><td>Sep    </td><td>1772.68</td></tr>\n",
       "\t<tr><td>Oct    </td><td>2171.62</td></tr>\n",
       "\t<tr><td>Nov    </td><td>2028.53</td></tr>\n",
       "\t<tr><td>Dec    </td><td>2887.61</td></tr>\n",
       "</tbody>\n",
       "</table>\n"
      ],
      "text/latex": [
       "\\begin{tabular}{r|ll}\n",
       " Month\\_Name & Sales\\\\\n",
       "\\hline\n",
       "\t Feb     & 1903.33\\\\\n",
       "\t Mar     & 1819.20\\\\\n",
       "\t Apr     & 2314.12\\\\\n",
       "\t May     & 1867.11\\\\\n",
       "\t Jun     & 1922.46\\\\\n",
       "\t Jul     & 2325.80\\\\\n",
       "\t Aug     & 1876.40\\\\\n",
       "\t Sep     & 1772.68\\\\\n",
       "\t Oct     & 2171.62\\\\\n",
       "\t Nov     & 2028.53\\\\\n",
       "\t Dec     & 2887.61\\\\\n",
       "\\end{tabular}\n"
      ],
      "text/markdown": [
       "\n",
       "| Month_Name | Sales |\n",
       "|---|---|\n",
       "| Feb     | 1903.33 |\n",
       "| Mar     | 1819.20 |\n",
       "| Apr     | 2314.12 |\n",
       "| May     | 1867.11 |\n",
       "| Jun     | 1922.46 |\n",
       "| Jul     | 2325.80 |\n",
       "| Aug     | 1876.40 |\n",
       "| Sep     | 1772.68 |\n",
       "| Oct     | 2171.62 |\n",
       "| Nov     | 2028.53 |\n",
       "| Dec     | 2887.61 |\n",
       "\n"
      ],
      "text/plain": [
       "   Month_Name Sales  \n",
       "1  Feb        1903.33\n",
       "2  Mar        1819.20\n",
       "3  Apr        2314.12\n",
       "4  May        1867.11\n",
       "5  Jun        1922.46\n",
       "6  Jul        2325.80\n",
       "7  Aug        1876.40\n",
       "8  Sep        1772.68\n",
       "9  Oct        2171.62\n",
       "10 Nov        2028.53\n",
       "11 Dec        2887.61"
      ]
     },
     "metadata": {},
     "output_type": "display_data"
    }
   ],
   "source": [
    "# created variable containing 2010 sales grouped by Month\n",
    "\n",
    "walmart_sales_2010 <- walmart_data %>% \n",
    "                                    select(Weekly_Sales_Scaled, Month_Name, Year) %>%\n",
    "                                    filter(Year == 2010) %>%\n",
    "                                    group_by(Month_Name) %>%\n",
    "                                    summarise(Sales = round(sum(Weekly_Sales_Scaled),2), .groups = 'keep')\n",
    "walmart_sales_2010"
   ]
  },
  {
   "cell_type": "code",
   "execution_count": 102,
   "id": "8db6f931",
   "metadata": {
    "scrolled": false
   },
   "outputs": [
    {
     "data": {
      "image/png": "[encoded data removed]",
      "text/plain": [
       "plot without title"
      ]
     },
     "metadata": {},
     "output_type": "display_data"
    }
   ],
   "source": [
    "# Month wise sales of Walmart for year 2010\n",
    "\n",
    "fig(7,4)\n",
    "ggplot(walmart_sales_2010, aes(x=Month_Name, y=Sales, group = 1)) +\n",
    "geom_line( color=\"#00AFBB\", size = 1, alpha=0.9, linetype=1) +\n",
    "geom_point() +\n",
    "ggtitle(\"Walmart Sales (Per Hundred Thousandth) Trend Chart - 2010\") +\n",
    "xlab(\"Month\") + ylab(\"Sales\") +\n",
    "theme_light() +\n",
    "theme(\n",
    "        plot.title = element_text(color=\"black\", size=14, face=\"bold.italic\", hjust = 0.5),\n",
    "        axis.title.x = element_text(color=\"black\", size=14, face=\"bold\"),\n",
    "        axis.title.y = element_text(color=\"black\", size=14, face=\"bold\")) "
   ]
  },
  {
   "cell_type": "markdown",
   "id": "e3e94ed8",
   "metadata": {},
   "source": [
    "- **Looking at the monthly sales of 2010, Apr, Jul, Oct, Dec have peak sales, Dec being the highest.**\n",
    "- **Mar, May, Jun, Sept, Nov has downward slopes of trend line, Sep being the lowest among all the sales.**\n"
   ]
  },
  {
   "cell_type": "code",
   "execution_count": 103,
   "id": "ea16010c",
   "metadata": {},
   "outputs": [
    {
     "data": {
      "text/html": [
       "<table>\n",
       "<thead><tr><th scope=col>Month_Name</th><th scope=col>Sales</th></tr></thead>\n",
       "<tbody>\n",
       "\t<tr><td>Jan    </td><td>1637.04</td></tr>\n",
       "\t<tr><td>Feb    </td><td>1863.31</td></tr>\n",
       "\t<tr><td>Mar    </td><td>1793.56</td></tr>\n",
       "\t<tr><td>Apr    </td><td>2265.27</td></tr>\n",
       "\t<tr><td>May    </td><td>1816.48</td></tr>\n",
       "\t<tr><td>Jun    </td><td>1897.73</td></tr>\n",
       "\t<tr><td>Jul    </td><td>2299.11</td></tr>\n",
       "\t<tr><td>Aug    </td><td>1885.99</td></tr>\n",
       "\t<tr><td>Sep    </td><td>2208.48</td></tr>\n",
       "\t<tr><td>Oct    </td><td>1832.61</td></tr>\n",
       "\t<tr><td>Nov    </td><td>2101.62</td></tr>\n",
       "\t<tr><td>Dec    </td><td>2880.78</td></tr>\n",
       "</tbody>\n",
       "</table>\n"
      ],
      "text/latex": [
       "\\begin{tabular}{r|ll}\n",
       " Month\\_Name & Sales\\\\\n",
       "\\hline\n",
       "\t Jan     & 1637.04\\\\\n",
       "\t Feb     & 1863.31\\\\\n",
       "\t Mar     & 1793.56\\\\\n",
       "\t Apr     & 2265.27\\\\\n",
       "\t May     & 1816.48\\\\\n",
       "\t Jun     & 1897.73\\\\\n",
       "\t Jul     & 2299.11\\\\\n",
       "\t Aug     & 1885.99\\\\\n",
       "\t Sep     & 2208.48\\\\\n",
       "\t Oct     & 1832.61\\\\\n",
       "\t Nov     & 2101.62\\\\\n",
       "\t Dec     & 2880.78\\\\\n",
       "\\end{tabular}\n"
      ],
      "text/markdown": [
       "\n",
       "| Month_Name | Sales |\n",
       "|---|---|\n",
       "| Jan     | 1637.04 |\n",
       "| Feb     | 1863.31 |\n",
       "| Mar     | 1793.56 |\n",
       "| Apr     | 2265.27 |\n",
       "| May     | 1816.48 |\n",
       "| Jun     | 1897.73 |\n",
       "| Jul     | 2299.11 |\n",
       "| Aug     | 1885.99 |\n",
       "| Sep     | 2208.48 |\n",
       "| Oct     | 1832.61 |\n",
       "| Nov     | 2101.62 |\n",
       "| Dec     | 2880.78 |\n",
       "\n"
      ],
      "text/plain": [
       "   Month_Name Sales  \n",
       "1  Jan        1637.04\n",
       "2  Feb        1863.31\n",
       "3  Mar        1793.56\n",
       "4  Apr        2265.27\n",
       "5  May        1816.48\n",
       "6  Jun        1897.73\n",
       "7  Jul        2299.11\n",
       "8  Aug        1885.99\n",
       "9  Sep        2208.48\n",
       "10 Oct        1832.61\n",
       "11 Nov        2101.62\n",
       "12 Dec        2880.78"
      ]
     },
     "metadata": {},
     "output_type": "display_data"
    }
   ],
   "source": [
    "# created variable containing 2011 sales grouped by Month\n",
    "\n",
    "walmart_sales_2011 <- walmart_data %>% \n",
    "                                    select(Weekly_Sales_Scaled, Month_Name, Year) %>%\n",
    "                                    filter(Year == 2011) %>%\n",
    "                                    group_by(Month_Name) %>%\n",
    "                                    summarise(Sales = round(sum(Weekly_Sales_Scaled),2), .groups = 'keep')\n",
    "walmart_sales_2011"
   ]
  },
  {
   "cell_type": "code",
   "execution_count": 104,
   "id": "ea1cb696",
   "metadata": {
    "scrolled": false
   },
   "outputs": [
    {
     "data": {
      "image/png": "[encoded data removed]",
      "text/plain": [
       "plot without title"
      ]
     },
     "metadata": {},
     "output_type": "display_data"
    }
   ],
   "source": [
    "# Month wise sales of Walmart for year 2011\n",
    "\n",
    "fig(7,4)\n",
    "ggplot(walmart_sales_2011, aes(x=Month_Name, y=Sales, group = 1)) +\n",
    "geom_line( color=\"#00AFBB\", size = 1, alpha=0.9, linetype=1) +\n",
    "geom_point() +\n",
    "ggtitle(\"Walmart Sales (per Hundred Thousandth) Trend Chart - 2011\") +\n",
    "xlab(\"Month\") + ylab(\"Sales\") +\n",
    "theme_light() +\n",
    "theme(\n",
    "        plot.title = element_text(color=\"black\", size=14, face=\"bold.italic\", hjust = 0.5),\n",
    "        axis.title.x = element_text(color=\"black\", size=14, face=\"bold\"),\n",
    "        axis.title.y = element_text(color=\"black\", size=14, face=\"bold\")) "
   ]
  },
  {
   "cell_type": "markdown",
   "id": "57805be7",
   "metadata": {},
   "source": [
    "- **Looking at the monthly sales of 2011, Feb, Apr, Jul, Sep, Nov, Dec have positive slope of trend line. Dec being the highest.**\n",
    "- **Jan, Mar, May, Jun, Aug, Oct has downward slope of trend line, Jan being the lowest among all the sales.**\n"
   ]
  },
  {
   "cell_type": "code",
   "execution_count": 105,
   "id": "7cf606e9",
   "metadata": {},
   "outputs": [
    {
     "data": {
      "text/html": [
       "<table>\n",
       "<thead><tr><th scope=col>Month_Name</th><th scope=col>Sales</th></tr></thead>\n",
       "<tbody>\n",
       "\t<tr><td>Jan    </td><td>1688.94</td></tr>\n",
       "\t<tr><td>Feb    </td><td>1920.64</td></tr>\n",
       "\t<tr><td>Mar    </td><td>2315.10</td></tr>\n",
       "\t<tr><td>Apr    </td><td>1889.21</td></tr>\n",
       "\t<tr><td>May    </td><td>1887.66</td></tr>\n",
       "\t<tr><td>Jun    </td><td>2406.10</td></tr>\n",
       "\t<tr><td>Jul    </td><td>1875.09</td></tr>\n",
       "\t<tr><td>Aug    </td><td>2368.51</td></tr>\n",
       "\t<tr><td>Sep    </td><td>1806.46</td></tr>\n",
       "\t<tr><td>Oct    </td><td>1843.62</td></tr>\n",
       "</tbody>\n",
       "</table>\n"
      ],
      "text/latex": [
       "\\begin{tabular}{r|ll}\n",
       " Month\\_Name & Sales\\\\\n",
       "\\hline\n",
       "\t Jan     & 1688.94\\\\\n",
       "\t Feb     & 1920.64\\\\\n",
       "\t Mar     & 2315.10\\\\\n",
       "\t Apr     & 1889.21\\\\\n",
       "\t May     & 1887.66\\\\\n",
       "\t Jun     & 2406.10\\\\\n",
       "\t Jul     & 1875.09\\\\\n",
       "\t Aug     & 2368.51\\\\\n",
       "\t Sep     & 1806.46\\\\\n",
       "\t Oct     & 1843.62\\\\\n",
       "\\end{tabular}\n"
      ],
      "text/markdown": [
       "\n",
       "| Month_Name | Sales |\n",
       "|---|---|\n",
       "| Jan     | 1688.94 |\n",
       "| Feb     | 1920.64 |\n",
       "| Mar     | 2315.10 |\n",
       "| Apr     | 1889.21 |\n",
       "| May     | 1887.66 |\n",
       "| Jun     | 2406.10 |\n",
       "| Jul     | 1875.09 |\n",
       "| Aug     | 2368.51 |\n",
       "| Sep     | 1806.46 |\n",
       "| Oct     | 1843.62 |\n",
       "\n"
      ],
      "text/plain": [
       "   Month_Name Sales  \n",
       "1  Jan        1688.94\n",
       "2  Feb        1920.64\n",
       "3  Mar        2315.10\n",
       "4  Apr        1889.21\n",
       "5  May        1887.66\n",
       "6  Jun        2406.10\n",
       "7  Jul        1875.09\n",
       "8  Aug        2368.51\n",
       "9  Sep        1806.46\n",
       "10 Oct        1843.62"
      ]
     },
     "metadata": {},
     "output_type": "display_data"
    }
   ],
   "source": [
    "# created variable containing 2011 sales grouped by Month\n",
    "\n",
    "walmart_sales_2012 <- walmart_data %>% \n",
    "                                    select(Weekly_Sales_Scaled, Month_Name, Year) %>%\n",
    "                                    filter(Year == 2012) %>%\n",
    "                                    group_by(Month_Name) %>%\n",
    "                                    summarise(Sales = round(sum(Weekly_Sales_Scaled),2), .groups = 'keep')\n",
    "walmart_sales_2012"
   ]
  },
  {
   "cell_type": "code",
   "execution_count": 106,
   "id": "4395aa6c",
   "metadata": {},
   "outputs": [
    {
     "data": {
      "image/png": "[encoded data removed]",
      "text/plain": [
       "plot without title"
      ]
     },
     "metadata": {},
     "output_type": "display_data"
    }
   ],
   "source": [
    "# Month wise sales of Walmart for year 2012\n",
    "\n",
    "fig(7,4)\n",
    "ggplot(walmart_sales_2012, aes(x=Month_Name, y=Sales, group = 1)) +\n",
    "geom_line( color=\"#00AFBB\", size = 1, alpha=0.9, linetype=1) +\n",
    "geom_point() +\n",
    "ggtitle(\"Walmart Sales (per Hundred Thousandth) Trend Chart - 2012\") +\n",
    "xlab(\"Month\") + ylab(\"Sales\") +\n",
    "theme_light() +\n",
    "theme(\n",
    "        plot.title = element_text(color=\"black\", size=14, face=\"bold.italic\", hjust = 0.5),\n",
    "        axis.title.x = element_text(color=\"black\", size=14, face=\"bold\"),\n",
    "        axis.title.y = element_text(color=\"black\", size=14, face=\"bold\")) "
   ]
  },
  {
   "cell_type": "markdown",
   "id": "44c83199",
   "metadata": {},
   "source": [
    "- **Performance wise, Mar, Jun, Aug has peak sales.** \n",
    "- **Jan, Jul, Sep, Oct months recorded lower sales, where Jan month has lowest of all.**"
   ]
  },
  {
   "cell_type": "code",
   "execution_count": 107,
   "id": "4ba1dcb4",
   "metadata": {},
   "outputs": [
    {
     "data": {
      "image/png": "[encoded data removed]",
      "text/plain": [
       "plot without title"
      ]
     },
     "metadata": {},
     "output_type": "display_data"
    }
   ],
   "source": [
    "# Trend chart of Monthly Sales, of all the years seperately, in one chart, for visual comparision purpose\n",
    "\n",
    "fig(8,8)\n",
    "walmart_data %>% \n",
    "                select(Weekly_Sales_Scaled, Month_Name, Year, Quarter) %>%\n",
    "                group_by(Year, Month_Name) %>%\n",
    "                summarise(Sales = sum(Weekly_Sales_Scaled), .groups = 'keep') %>%\n",
    "                        ggplot(aes(x=Month_Name, y=Sales, group = 1)) +\n",
    "                        geom_line( color=\"darkorchid4\", size = 1, alpha=0.9, linetype=1) +\n",
    "                        geom_point() +\n",
    "                        facet_wrap(~ Year, nrow = 3) +\n",
    "                ggtitle(\"Walmart Yearwise Sales (per Hundred Thousandth) Trend Chart\") +\n",
    "                xlab(\"Month\") + ylab(\"Sales\") +\n",
    "                theme_light() +\n",
    "                theme(\n",
    "                        plot.title = element_text(color=\"black\", size=14, face=\"bold.italic\", hjust = 0.5),\n",
    "                        axis.title.x = element_text(color=\"black\", size=14, face=\"bold\"),\n",
    "                        axis.title.y = element_text(color=\"black\", size=14, face=\"bold\")) \n",
    "\n"
   ]
  },
  {
   "cell_type": "code",
   "execution_count": 108,
   "id": "0e53a7ae",
   "metadata": {},
   "outputs": [
    {
     "data": {
      "image/png": "[encoded data removed]",
      "text/plain": [
       "plot without title"
      ]
     },
     "metadata": {},
     "output_type": "display_data"
    }
   ],
   "source": [
    "# Trend chart of Quaterly Sales, of all the years seperately, in one chart, for visual comparision purpose\n",
    "\n",
    "fig(8,8)\n",
    "walmart_data %>% \n",
    "                select(Weekly_Sales_Scaled, Month_Name, Year, Quarter) %>%\n",
    "                group_by(Year, Quarter) %>%\n",
    "                summarise(Sales = sum(Weekly_Sales_Scaled), .groups = 'keep') %>%\n",
    "                        ggplot(aes(x=Quarter, y=Sales, group = 1)) +\n",
    "                        geom_line( color=\"darkorchid4\", size = 1, alpha=0.9, linetype=1) +\n",
    "                        geom_point() +\n",
    "                        facet_wrap(~ Year, nrow = 3) +\n",
    "                ggtitle(\"Walmart Yearwise Sales (per Hundred Thousandth) Trend Chart\") +\n",
    "                xlab(\"Month\") + ylab(\"Sales\") +\n",
    "                theme_light() +\n",
    "                theme(\n",
    "                        plot.title = element_text(color=\"black\", size=14, face=\"bold.italic\", hjust = 0.5),\n",
    "                        axis.title.x = element_text(color=\"black\", size=14, face=\"bold\"),\n",
    "                        axis.title.y = element_text(color=\"black\", size=14, face=\"bold\")) \n",
    "\n"
   ]
  },
  {
   "cell_type": "markdown",
   "id": "870b64c5",
   "metadata": {},
   "source": [
    "### E. Outlier Detection, Treatment and Model Building - Linear Regression"
   ]
  },
  {
   "cell_type": "code",
   "execution_count": 109,
   "id": "ba9bc5f1",
   "metadata": {},
   "outputs": [
    {
     "data": {
      "text/html": [
       "<table>\n",
       "<thead><tr><th scope=col>Store</th><th scope=col>Date</th><th scope=col>Weekly_Sales</th><th scope=col>Holiday_Flag</th><th scope=col>Temperature</th><th scope=col>Fuel_Price</th><th scope=col>CPI</th><th scope=col>Unemployment</th><th scope=col>Weekly_Sales_Scaled</th><th scope=col>Super_Bowl</th><th scope=col>Labour_Day</th><th scope=col>Thanksgiving</th><th scope=col>Christmas</th><th scope=col>Holiday_Names</th><th scope=col>Day</th><th scope=col>Month</th><th scope=col>Year</th><th scope=col>Quarter</th><th scope=col>Month_Name</th></tr></thead>\n",
       "<tbody>\n",
       "\t<tr><td>1          </td><td>2010-02-05 </td><td>1643690.90 </td><td>0          </td><td>42.31      </td><td>2.572      </td><td>211.0963582</td><td>8.106      </td><td>16.4369090 </td><td>0          </td><td>0          </td><td>0          </td><td>0          </td><td>Others     </td><td> 5         </td><td>2          </td><td>2010       </td><td>1          </td><td>Feb        </td></tr>\n",
       "\t<tr><td>1          </td><td>2010-02-12 </td><td>1641957.44 </td><td>1          </td><td>38.51      </td><td>2.548      </td><td>211.2421698</td><td>8.106      </td><td>16.4195744 </td><td>1          </td><td>0          </td><td>0          </td><td>0          </td><td>Super_Bowl </td><td>12         </td><td>2          </td><td>2010       </td><td>1          </td><td>Feb        </td></tr>\n",
       "\t<tr><td>1          </td><td>2010-02-19 </td><td>1611968.17 </td><td>0          </td><td>39.93      </td><td>2.514      </td><td>211.2891429</td><td>8.106      </td><td>16.1196817 </td><td>0          </td><td>0          </td><td>0          </td><td>0          </td><td>Others     </td><td>19         </td><td>2          </td><td>2010       </td><td>1          </td><td>Feb        </td></tr>\n",
       "\t<tr><td>1          </td><td>2010-02-26 </td><td>1409727.59 </td><td>0          </td><td>46.63      </td><td>2.561      </td><td>211.3196429</td><td>8.106      </td><td>14.0972759 </td><td>0          </td><td>0          </td><td>0          </td><td>0          </td><td>Others     </td><td>26         </td><td>2          </td><td>2010       </td><td>1          </td><td>Feb        </td></tr>\n",
       "\t<tr><td>1          </td><td>2010-03-05 </td><td>1554806.68 </td><td>0          </td><td>46.50      </td><td>2.625      </td><td>211.3501429</td><td>8.106      </td><td>15.5480668 </td><td>0          </td><td>0          </td><td>0          </td><td>0          </td><td>Others     </td><td> 5         </td><td>3          </td><td>2010       </td><td>1          </td><td>Mar        </td></tr>\n",
       "\t<tr><td>1          </td><td>2010-03-12 </td><td>1439541.59 </td><td>0          </td><td>57.79      </td><td>2.667      </td><td>211.3806429</td><td>8.106      </td><td>14.3954159 </td><td>0          </td><td>0          </td><td>0          </td><td>0          </td><td>Others     </td><td>12         </td><td>3          </td><td>2010       </td><td>1          </td><td>Mar        </td></tr>\n",
       "</tbody>\n",
       "</table>\n"
      ],
      "text/latex": [
       "\\begin{tabular}{r|lllllllllllllllllll}\n",
       " Store & Date & Weekly\\_Sales & Holiday\\_Flag & Temperature & Fuel\\_Price & CPI & Unemployment & Weekly\\_Sales\\_Scaled & Super\\_Bowl & Labour\\_Day & Thanksgiving & Christmas & Holiday\\_Names & Day & Month & Year & Quarter & Month\\_Name\\\\\n",
       "\\hline\n",
       "\t 1           & 2010-02-05  & 1643690.90  & 0           & 42.31       & 2.572       & 211.0963582 & 8.106       & 16.4369090  & 0           & 0           & 0           & 0           & Others      &  5          & 2           & 2010        & 1           & Feb        \\\\\n",
       "\t 1            & 2010-02-12   & 1641957.44   & 1            & 38.51        & 2.548        & 211.2421698  & 8.106        & 16.4195744   & 1            & 0            & 0            & 0            & Super\\_Bowl & 12           & 2            & 2010         & 1            & Feb         \\\\\n",
       "\t 1           & 2010-02-19  & 1611968.17  & 0           & 39.93       & 2.514       & 211.2891429 & 8.106       & 16.1196817  & 0           & 0           & 0           & 0           & Others      & 19          & 2           & 2010        & 1           & Feb        \\\\\n",
       "\t 1           & 2010-02-26  & 1409727.59  & 0           & 46.63       & 2.561       & 211.3196429 & 8.106       & 14.0972759  & 0           & 0           & 0           & 0           & Others      & 26          & 2           & 2010        & 1           & Feb        \\\\\n",
       "\t 1           & 2010-03-05  & 1554806.68  & 0           & 46.50       & 2.625       & 211.3501429 & 8.106       & 15.5480668  & 0           & 0           & 0           & 0           & Others      &  5          & 3           & 2010        & 1           & Mar        \\\\\n",
       "\t 1           & 2010-03-12  & 1439541.59  & 0           & 57.79       & 2.667       & 211.3806429 & 8.106       & 14.3954159  & 0           & 0           & 0           & 0           & Others      & 12          & 3           & 2010        & 1           & Mar        \\\\\n",
       "\\end{tabular}\n"
      ],
      "text/markdown": [
       "\n",
       "| Store | Date | Weekly_Sales | Holiday_Flag | Temperature | Fuel_Price | CPI | Unemployment | Weekly_Sales_Scaled | Super_Bowl | Labour_Day | Thanksgiving | Christmas | Holiday_Names | Day | Month | Year | Quarter | Month_Name |\n",
       "|---|---|---|---|---|---|---|---|---|---|---|---|---|---|---|---|---|---|---|\n",
       "| 1           | 2010-02-05  | 1643690.90  | 0           | 42.31       | 2.572       | 211.0963582 | 8.106       | 16.4369090  | 0           | 0           | 0           | 0           | Others      |  5          | 2           | 2010        | 1           | Feb         |\n",
       "| 1           | 2010-02-12  | 1641957.44  | 1           | 38.51       | 2.548       | 211.2421698 | 8.106       | 16.4195744  | 1           | 0           | 0           | 0           | Super_Bowl  | 12          | 2           | 2010        | 1           | Feb         |\n",
       "| 1           | 2010-02-19  | 1611968.17  | 0           | 39.93       | 2.514       | 211.2891429 | 8.106       | 16.1196817  | 0           | 0           | 0           | 0           | Others      | 19          | 2           | 2010        | 1           | Feb         |\n",
       "| 1           | 2010-02-26  | 1409727.59  | 0           | 46.63       | 2.561       | 211.3196429 | 8.106       | 14.0972759  | 0           | 0           | 0           | 0           | Others      | 26          | 2           | 2010        | 1           | Feb         |\n",
       "| 1           | 2010-03-05  | 1554806.68  | 0           | 46.50       | 2.625       | 211.3501429 | 8.106       | 15.5480668  | 0           | 0           | 0           | 0           | Others      |  5          | 3           | 2010        | 1           | Mar         |\n",
       "| 1           | 2010-03-12  | 1439541.59  | 0           | 57.79       | 2.667       | 211.3806429 | 8.106       | 14.3954159  | 0           | 0           | 0           | 0           | Others      | 12          | 3           | 2010        | 1           | Mar         |\n",
       "\n"
      ],
      "text/plain": [
       "  Store Date       Weekly_Sales Holiday_Flag Temperature Fuel_Price CPI        \n",
       "1 1     2010-02-05 1643690.90   0            42.31       2.572      211.0963582\n",
       "2 1     2010-02-12 1641957.44   1            38.51       2.548      211.2421698\n",
       "3 1     2010-02-19 1611968.17   0            39.93       2.514      211.2891429\n",
       "4 1     2010-02-26 1409727.59   0            46.63       2.561      211.3196429\n",
       "5 1     2010-03-05 1554806.68   0            46.50       2.625      211.3501429\n",
       "6 1     2010-03-12 1439541.59   0            57.79       2.667      211.3806429\n",
       "  Unemployment Weekly_Sales_Scaled Super_Bowl Labour_Day Thanksgiving Christmas\n",
       "1 8.106        16.4369090          0          0          0            0        \n",
       "2 8.106        16.4195744          1          0          0            0        \n",
       "3 8.106        16.1196817          0          0          0            0        \n",
       "4 8.106        14.0972759          0          0          0            0        \n",
       "5 8.106        15.5480668          0          0          0            0        \n",
       "6 8.106        14.3954159          0          0          0            0        \n",
       "  Holiday_Names Day Month Year Quarter Month_Name\n",
       "1 Others         5  2     2010 1       Feb       \n",
       "2 Super_Bowl    12  2     2010 1       Feb       \n",
       "3 Others        19  2     2010 1       Feb       \n",
       "4 Others        26  2     2010 1       Feb       \n",
       "5 Others         5  3     2010 1       Mar       \n",
       "6 Others        12  3     2010 1       Mar       "
      ]
     },
     "metadata": {},
     "output_type": "display_data"
    }
   ],
   "source": [
    "head(walmart_data)"
   ]
  },
  {
   "cell_type": "code",
   "execution_count": 110,
   "id": "745782a6",
   "metadata": {
    "scrolled": false
   },
   "outputs": [
    {
     "name": "stdout",
     "output_type": "stream",
     "text": [
      "'data.frame':\t6435 obs. of  19 variables:\n",
      " $ Store              : int  1 1 1 1 1 1 1 1 1 1 ...\n",
      " $ Date               : Date, format: \"2010-02-05\" \"2010-02-12\" ...\n",
      " $ Weekly_Sales       : num  1643691 1641957 1611968 1409728 1554807 ...\n",
      " $ Holiday_Flag       : int  0 1 0 0 0 0 0 0 0 0 ...\n",
      " $ Temperature        : num  42.3 38.5 39.9 46.6 46.5 ...\n",
      " $ Fuel_Price         : num  2.57 2.55 2.51 2.56 2.62 ...\n",
      " $ CPI                : num  211 211 211 211 211 ...\n",
      " $ Unemployment       : num  8.11 8.11 8.11 8.11 8.11 ...\n",
      " $ Weekly_Sales_Scaled: num  16.4 16.4 16.1 14.1 15.5 ...\n",
      " $ Super_Bowl         : num  0 1 0 0 0 0 0 0 0 0 ...\n",
      " $ Labour_Day         : num  0 0 0 0 0 0 0 0 0 0 ...\n",
      " $ Thanksgiving       : num  0 0 0 0 0 0 0 0 0 0 ...\n",
      " $ Christmas          : num  0 0 0 0 0 0 0 0 0 0 ...\n",
      " $ Holiday_Names      : chr  \"Others\" \"Super_Bowl\" \"Others\" \"Others\" ...\n",
      " $ Day                : int  5 12 19 26 5 12 19 26 2 9 ...\n",
      " $ Month              : num  2 2 2 2 3 3 3 3 4 4 ...\n",
      " $ Year               : num  2010 2010 2010 2010 2010 2010 2010 2010 2010 2010 ...\n",
      " $ Quarter            : int  1 1 1 1 1 1 1 1 2 2 ...\n",
      " $ Month_Name         : Ord.factor w/ 12 levels \"Jan\"<\"Feb\"<\"Mar\"<..: 2 2 2 2 3 3 3 3 4 4 ...\n"
     ]
    }
   ],
   "source": [
    "str(walmart_data) # checking the structure of the data"
   ]
  },
  {
   "cell_type": "code",
   "execution_count": 111,
   "id": "69f7281e",
   "metadata": {},
   "outputs": [
    {
     "data": {
      "text/html": [
       "<ol class=list-inline>\n",
       "\t<li>'Store'</li>\n",
       "\t<li>'Date'</li>\n",
       "\t<li>'Weekly_Sales'</li>\n",
       "\t<li>'Holiday_Flag'</li>\n",
       "\t<li>'Temperature'</li>\n",
       "\t<li>'Fuel_Price'</li>\n",
       "\t<li>'CPI'</li>\n",
       "\t<li>'Unemployment'</li>\n",
       "\t<li>'Weekly_Sales_Scaled'</li>\n",
       "\t<li>'Super_Bowl'</li>\n",
       "\t<li>'Labour_Day'</li>\n",
       "\t<li>'Thanksgiving'</li>\n",
       "\t<li>'Christmas'</li>\n",
       "\t<li>'Holiday_Names'</li>\n",
       "\t<li>'Day'</li>\n",
       "\t<li>'Month'</li>\n",
       "\t<li>'Year'</li>\n",
       "\t<li>'Quarter'</li>\n",
       "\t<li>'Month_Name'</li>\n",
       "</ol>\n"
      ],
      "text/latex": [
       "\\begin{enumerate*}\n",
       "\\item 'Store'\n",
       "\\item 'Date'\n",
       "\\item 'Weekly\\_Sales'\n",
       "\\item 'Holiday\\_Flag'\n",
       "\\item 'Temperature'\n",
       "\\item 'Fuel\\_Price'\n",
       "\\item 'CPI'\n",
       "\\item 'Unemployment'\n",
       "\\item 'Weekly\\_Sales\\_Scaled'\n",
       "\\item 'Super\\_Bowl'\n",
       "\\item 'Labour\\_Day'\n",
       "\\item 'Thanksgiving'\n",
       "\\item 'Christmas'\n",
       "\\item 'Holiday\\_Names'\n",
       "\\item 'Day'\n",
       "\\item 'Month'\n",
       "\\item 'Year'\n",
       "\\item 'Quarter'\n",
       "\\item 'Month\\_Name'\n",
       "\\end{enumerate*}\n"
      ],
      "text/markdown": [
       "1. 'Store'\n",
       "2. 'Date'\n",
       "3. 'Weekly_Sales'\n",
       "4. 'Holiday_Flag'\n",
       "5. 'Temperature'\n",
       "6. 'Fuel_Price'\n",
       "7. 'CPI'\n",
       "8. 'Unemployment'\n",
       "9. 'Weekly_Sales_Scaled'\n",
       "10. 'Super_Bowl'\n",
       "11. 'Labour_Day'\n",
       "12. 'Thanksgiving'\n",
       "13. 'Christmas'\n",
       "14. 'Holiday_Names'\n",
       "15. 'Day'\n",
       "16. 'Month'\n",
       "17. 'Year'\n",
       "18. 'Quarter'\n",
       "19. 'Month_Name'\n",
       "\n",
       "\n"
      ],
      "text/plain": [
       " [1] \"Store\"               \"Date\"                \"Weekly_Sales\"       \n",
       " [4] \"Holiday_Flag\"        \"Temperature\"         \"Fuel_Price\"         \n",
       " [7] \"CPI\"                 \"Unemployment\"        \"Weekly_Sales_Scaled\"\n",
       "[10] \"Super_Bowl\"          \"Labour_Day\"          \"Thanksgiving\"       \n",
       "[13] \"Christmas\"           \"Holiday_Names\"       \"Day\"                \n",
       "[16] \"Month\"               \"Year\"                \"Quarter\"            \n",
       "[19] \"Month_Name\"         "
      ]
     },
     "metadata": {},
     "output_type": "display_data"
    }
   ],
   "source": [
    "colnames(walmart_data) # viewing column names of dataframe walmart_data"
   ]
  },
  {
   "cell_type": "code",
   "execution_count": 112,
   "id": "ebd607e2",
   "metadata": {},
   "outputs": [
    {
     "data": {
      "text/html": [
       "<dl class=dl-horizontal>\n",
       "\t<dt>Super_Bowl</dt>\n",
       "\t\t<dd>'numeric'</dd>\n",
       "\t<dt>Labour_Day</dt>\n",
       "\t\t<dd>'numeric'</dd>\n",
       "\t<dt>Thanksgiving</dt>\n",
       "\t\t<dd>'numeric'</dd>\n",
       "\t<dt>Christmas</dt>\n",
       "\t\t<dd>'numeric'</dd>\n",
       "\t<dt>Month</dt>\n",
       "\t\t<dd>'numeric'</dd>\n",
       "\t<dt>Year</dt>\n",
       "\t\t<dd>'numeric'</dd>\n",
       "</dl>\n"
      ],
      "text/latex": [
       "\\begin{description*}\n",
       "\\item[Super\\textbackslash{}\\_Bowl] 'numeric'\n",
       "\\item[Labour\\textbackslash{}\\_Day] 'numeric'\n",
       "\\item[Thanksgiving] 'numeric'\n",
       "\\item[Christmas] 'numeric'\n",
       "\\item[Month] 'numeric'\n",
       "\\item[Year] 'numeric'\n",
       "\\end{description*}\n"
      ],
      "text/markdown": [
       "Super_Bowl\n",
       ":   'numeric'Labour_Day\n",
       ":   'numeric'Thanksgiving\n",
       ":   'numeric'Christmas\n",
       ":   'numeric'Month\n",
       ":   'numeric'Year\n",
       ":   'numeric'\n",
       "\n"
      ],
      "text/plain": [
       "  Super_Bowl   Labour_Day Thanksgiving    Christmas        Month         Year \n",
       "   \"numeric\"    \"numeric\"    \"numeric\"    \"numeric\"    \"numeric\"    \"numeric\" "
      ]
     },
     "metadata": {},
     "output_type": "display_data"
    }
   ],
   "source": [
    "# checking the class of specific column names stored in cols variable using sapply\n",
    "\n",
    "cols <- c('Super_Bowl', 'Labour_Day', 'Thanksgiving', 'Christmas', 'Month', 'Year')\n",
    "sapply(walmart_data[cols], class)  "
   ]
  },
  {
   "cell_type": "code",
   "execution_count": 113,
   "id": "99817fa0",
   "metadata": {},
   "outputs": [
    {
     "data": {
      "text/html": [
       "<dl class=dl-horizontal>\n",
       "\t<dt>Super_Bowl</dt>\n",
       "\t\t<dd>'integer'</dd>\n",
       "\t<dt>Labour_Day</dt>\n",
       "\t\t<dd>'integer'</dd>\n",
       "\t<dt>Thanksgiving</dt>\n",
       "\t\t<dd>'integer'</dd>\n",
       "\t<dt>Christmas</dt>\n",
       "\t\t<dd>'integer'</dd>\n",
       "\t<dt>Month</dt>\n",
       "\t\t<dd>'integer'</dd>\n",
       "\t<dt>Year</dt>\n",
       "\t\t<dd>'integer'</dd>\n",
       "</dl>\n"
      ],
      "text/latex": [
       "\\begin{description*}\n",
       "\\item[Super\\textbackslash{}\\_Bowl] 'integer'\n",
       "\\item[Labour\\textbackslash{}\\_Day] 'integer'\n",
       "\\item[Thanksgiving] 'integer'\n",
       "\\item[Christmas] 'integer'\n",
       "\\item[Month] 'integer'\n",
       "\\item[Year] 'integer'\n",
       "\\end{description*}\n"
      ],
      "text/markdown": [
       "Super_Bowl\n",
       ":   'integer'Labour_Day\n",
       ":   'integer'Thanksgiving\n",
       ":   'integer'Christmas\n",
       ":   'integer'Month\n",
       ":   'integer'Year\n",
       ":   'integer'\n",
       "\n"
      ],
      "text/plain": [
       "  Super_Bowl   Labour_Day Thanksgiving    Christmas        Month         Year \n",
       "   \"integer\"    \"integer\"    \"integer\"    \"integer\"    \"integer\"    \"integer\" "
      ]
     },
     "metadata": {},
     "output_type": "display_data"
    }
   ],
   "source": [
    "# chaning the datatype (class) to integer of column names stored in cols variable using sapply\n",
    "\n",
    "walmart_data[cols] <- sapply(walmart_data[cols], as.integer)\n",
    "sapply(walmart_data[cols], class)"
   ]
  },
  {
   "cell_type": "code",
   "execution_count": 114,
   "id": "4d930a6c",
   "metadata": {},
   "outputs": [
    {
     "name": "stdout",
     "output_type": "stream",
     "text": [
      "'data.frame':\t6435 obs. of  19 variables:\n",
      " $ Store              : int  1 1 1 1 1 1 1 1 1 1 ...\n",
      " $ Date               : Date, format: \"2010-02-05\" \"2010-02-12\" ...\n",
      " $ Weekly_Sales       : num  1643691 1641957 1611968 1409728 1554807 ...\n",
      " $ Holiday_Flag       : int  0 1 0 0 0 0 0 0 0 0 ...\n",
      " $ Temperature        : num  42.3 38.5 39.9 46.6 46.5 ...\n",
      " $ Fuel_Price         : num  2.57 2.55 2.51 2.56 2.62 ...\n",
      " $ CPI                : num  211 211 211 211 211 ...\n",
      " $ Unemployment       : num  8.11 8.11 8.11 8.11 8.11 ...\n",
      " $ Weekly_Sales_Scaled: num  16.4 16.4 16.1 14.1 15.5 ...\n",
      " $ Super_Bowl         : int  0 1 0 0 0 0 0 0 0 0 ...\n",
      " $ Labour_Day         : int  0 0 0 0 0 0 0 0 0 0 ...\n",
      " $ Thanksgiving       : int  0 0 0 0 0 0 0 0 0 0 ...\n",
      " $ Christmas          : int  0 0 0 0 0 0 0 0 0 0 ...\n",
      " $ Holiday_Names      : chr  \"Others\" \"Super_Bowl\" \"Others\" \"Others\" ...\n",
      " $ Day                : int  5 12 19 26 5 12 19 26 2 9 ...\n",
      " $ Month              : int  2 2 2 2 3 3 3 3 4 4 ...\n",
      " $ Year               : int  2010 2010 2010 2010 2010 2010 2010 2010 2010 2010 ...\n",
      " $ Quarter            : int  1 1 1 1 1 1 1 1 2 2 ...\n",
      " $ Month_Name         : Ord.factor w/ 12 levels \"Jan\"<\"Feb\"<\"Mar\"<..: 2 2 2 2 3 3 3 3 4 4 ...\n"
     ]
    }
   ],
   "source": [
    "str(walmart_data) # verifying the structure again, if the change of classes of specific columns is reflecting "
   ]
  },
  {
   "cell_type": "code",
   "execution_count": 115,
   "id": "d6748304",
   "metadata": {
    "scrolled": true
   },
   "outputs": [
    {
     "data": {
      "text/html": [
       "<table>\n",
       "<thead><tr><th scope=col>Weekly_Sales</th><th scope=col>Temperature</th><th scope=col>Fuel_Price</th><th scope=col>CPI</th><th scope=col>Unemployment</th><th scope=col>Weekly_Sales_Scaled</th></tr></thead>\n",
       "<tbody>\n",
       "\t<tr><td>1643690.90 </td><td>42.31      </td><td>2.572      </td><td>211.0963582</td><td>8.106      </td><td>16.4369090 </td></tr>\n",
       "\t<tr><td>1641957.44 </td><td>38.51      </td><td>2.548      </td><td>211.2421698</td><td>8.106      </td><td>16.4195744 </td></tr>\n",
       "\t<tr><td>1611968.17 </td><td>39.93      </td><td>2.514      </td><td>211.2891429</td><td>8.106      </td><td>16.1196817 </td></tr>\n",
       "\t<tr><td>1409727.59 </td><td>46.63      </td><td>2.561      </td><td>211.3196429</td><td>8.106      </td><td>14.0972759 </td></tr>\n",
       "\t<tr><td>1554806.68 </td><td>46.50      </td><td>2.625      </td><td>211.3501429</td><td>8.106      </td><td>15.5480668 </td></tr>\n",
       "\t<tr><td>1439541.59 </td><td>57.79      </td><td>2.667      </td><td>211.3806429</td><td>8.106      </td><td>14.3954159 </td></tr>\n",
       "</tbody>\n",
       "</table>\n"
      ],
      "text/latex": [
       "\\begin{tabular}{r|llllll}\n",
       " Weekly\\_Sales & Temperature & Fuel\\_Price & CPI & Unemployment & Weekly\\_Sales\\_Scaled\\\\\n",
       "\\hline\n",
       "\t 1643690.90  & 42.31       & 2.572       & 211.0963582 & 8.106       & 16.4369090 \\\\\n",
       "\t 1641957.44  & 38.51       & 2.548       & 211.2421698 & 8.106       & 16.4195744 \\\\\n",
       "\t 1611968.17  & 39.93       & 2.514       & 211.2891429 & 8.106       & 16.1196817 \\\\\n",
       "\t 1409727.59  & 46.63       & 2.561       & 211.3196429 & 8.106       & 14.0972759 \\\\\n",
       "\t 1554806.68  & 46.50       & 2.625       & 211.3501429 & 8.106       & 15.5480668 \\\\\n",
       "\t 1439541.59  & 57.79       & 2.667       & 211.3806429 & 8.106       & 14.3954159 \\\\\n",
       "\\end{tabular}\n"
      ],
      "text/markdown": [
       "\n",
       "| Weekly_Sales | Temperature | Fuel_Price | CPI | Unemployment | Weekly_Sales_Scaled |\n",
       "|---|---|---|---|---|---|\n",
       "| 1643690.90  | 42.31       | 2.572       | 211.0963582 | 8.106       | 16.4369090  |\n",
       "| 1641957.44  | 38.51       | 2.548       | 211.2421698 | 8.106       | 16.4195744  |\n",
       "| 1611968.17  | 39.93       | 2.514       | 211.2891429 | 8.106       | 16.1196817  |\n",
       "| 1409727.59  | 46.63       | 2.561       | 211.3196429 | 8.106       | 14.0972759  |\n",
       "| 1554806.68  | 46.50       | 2.625       | 211.3501429 | 8.106       | 15.5480668  |\n",
       "| 1439541.59  | 57.79       | 2.667       | 211.3806429 | 8.106       | 14.3954159  |\n",
       "\n"
      ],
      "text/plain": [
       "  Weekly_Sales Temperature Fuel_Price CPI         Unemployment\n",
       "1 1643690.90   42.31       2.572      211.0963582 8.106       \n",
       "2 1641957.44   38.51       2.548      211.2421698 8.106       \n",
       "3 1611968.17   39.93       2.514      211.2891429 8.106       \n",
       "4 1409727.59   46.63       2.561      211.3196429 8.106       \n",
       "5 1554806.68   46.50       2.625      211.3501429 8.106       \n",
       "6 1439541.59   57.79       2.667      211.3806429 8.106       \n",
       "  Weekly_Sales_Scaled\n",
       "1 16.4369090         \n",
       "2 16.4195744         \n",
       "3 16.1196817         \n",
       "4 14.0972759         \n",
       "5 15.5480668         \n",
       "6 14.3954159         "
      ]
     },
     "metadata": {},
     "output_type": "display_data"
    }
   ],
   "source": [
    "# To check for outliers, filtering the columns of only numeric type, since integers are year, month, holiday columns etc\n",
    "# Storing it in variable because we can refer the original columns from this variable in case we wish to revert the changes \n",
    "# done while doing outliar treatment/imputation.\n",
    "  \n",
    "num_cols_df <- walmart_data[, sapply(walmart_data, is.numeric) & !sapply(walmart_data, is.integer)]\n",
    "head(num_cols_df)"
   ]
  },
  {
   "cell_type": "code",
   "execution_count": 116,
   "id": "fe327cb8",
   "metadata": {},
   "outputs": [],
   "source": [
    "# removing the Weekly_Sales_Scaled because Weekly_Sales column will anyhow be scaled while model building\n",
    "\n",
    "num_cols_df$Weekly_Sales_Scaled <- NULL"
   ]
  },
  {
   "cell_type": "code",
   "execution_count": 117,
   "id": "d1e6d5ed",
   "metadata": {},
   "outputs": [
    {
     "data": {
      "text/html": [
       "<table>\n",
       "<thead><tr><th scope=col>Weekly_Sales</th><th scope=col>Temperature</th><th scope=col>Fuel_Price</th><th scope=col>CPI</th><th scope=col>Unemployment</th></tr></thead>\n",
       "<tbody>\n",
       "\t<tr><td>1643690.90 </td><td>42.31      </td><td>2.572      </td><td>211.0963582</td><td>8.106      </td></tr>\n",
       "\t<tr><td>1641957.44 </td><td>38.51      </td><td>2.548      </td><td>211.2421698</td><td>8.106      </td></tr>\n",
       "\t<tr><td>1611968.17 </td><td>39.93      </td><td>2.514      </td><td>211.2891429</td><td>8.106      </td></tr>\n",
       "\t<tr><td>1409727.59 </td><td>46.63      </td><td>2.561      </td><td>211.3196429</td><td>8.106      </td></tr>\n",
       "\t<tr><td>1554806.68 </td><td>46.50      </td><td>2.625      </td><td>211.3501429</td><td>8.106      </td></tr>\n",
       "\t<tr><td>1439541.59 </td><td>57.79      </td><td>2.667      </td><td>211.3806429</td><td>8.106      </td></tr>\n",
       "</tbody>\n",
       "</table>\n"
      ],
      "text/latex": [
       "\\begin{tabular}{r|lllll}\n",
       " Weekly\\_Sales & Temperature & Fuel\\_Price & CPI & Unemployment\\\\\n",
       "\\hline\n",
       "\t 1643690.90  & 42.31       & 2.572       & 211.0963582 & 8.106      \\\\\n",
       "\t 1641957.44  & 38.51       & 2.548       & 211.2421698 & 8.106      \\\\\n",
       "\t 1611968.17  & 39.93       & 2.514       & 211.2891429 & 8.106      \\\\\n",
       "\t 1409727.59  & 46.63       & 2.561       & 211.3196429 & 8.106      \\\\\n",
       "\t 1554806.68  & 46.50       & 2.625       & 211.3501429 & 8.106      \\\\\n",
       "\t 1439541.59  & 57.79       & 2.667       & 211.3806429 & 8.106      \\\\\n",
       "\\end{tabular}\n"
      ],
      "text/markdown": [
       "\n",
       "| Weekly_Sales | Temperature | Fuel_Price | CPI | Unemployment |\n",
       "|---|---|---|---|---|\n",
       "| 1643690.90  | 42.31       | 2.572       | 211.0963582 | 8.106       |\n",
       "| 1641957.44  | 38.51       | 2.548       | 211.2421698 | 8.106       |\n",
       "| 1611968.17  | 39.93       | 2.514       | 211.2891429 | 8.106       |\n",
       "| 1409727.59  | 46.63       | 2.561       | 211.3196429 | 8.106       |\n",
       "| 1554806.68  | 46.50       | 2.625       | 211.3501429 | 8.106       |\n",
       "| 1439541.59  | 57.79       | 2.667       | 211.3806429 | 8.106       |\n",
       "\n"
      ],
      "text/plain": [
       "  Weekly_Sales Temperature Fuel_Price CPI         Unemployment\n",
       "1 1643690.90   42.31       2.572      211.0963582 8.106       \n",
       "2 1641957.44   38.51       2.548      211.2421698 8.106       \n",
       "3 1611968.17   39.93       2.514      211.2891429 8.106       \n",
       "4 1409727.59   46.63       2.561      211.3196429 8.106       \n",
       "5 1554806.68   46.50       2.625      211.3501429 8.106       \n",
       "6 1439541.59   57.79       2.667      211.3806429 8.106       "
      ]
     },
     "metadata": {},
     "output_type": "display_data"
    }
   ],
   "source": [
    "head(num_cols_df)"
   ]
  },
  {
   "cell_type": "code",
   "execution_count": 118,
   "id": "05266a5f",
   "metadata": {
    "scrolled": false
   },
   "outputs": [
    {
     "data": {
      "image/png": "[encoded data removed]",
      "text/plain": [
       "plot without title"
      ]
     },
     "metadata": {},
     "output_type": "display_data"
    }
   ],
   "source": [
    "# Visualizing Weekly_sales column using boxplot to check outliers\n",
    "\n",
    "fig(6,4)\n",
    "\n",
    "ggplot(walmart_data, aes(x = Weekly_Sales)) + \n",
    "stat_boxplot(geom = \"errorbar\",\n",
    "            width = 0.15,\n",
    "            color = 1) +  # Error bar color\n",
    "geom_boxplot(fill = 2,           # Box color\n",
    "            alpha = 0.5,        # Transparency\n",
    "            color = 1,          # Border color\n",
    "            outlier.colour = 2) # Outlier color"
   ]
  },
  {
   "cell_type": "code",
   "execution_count": 119,
   "id": "78f278e3",
   "metadata": {},
   "outputs": [],
   "source": [
    "# created qnt variable to calculate quantile - 25th and 75th\n",
    "# created caps variable to store 5th and 95th percentile, this will be used to cap the outliar values\n",
    "# H variable is the factor 1.5 times of Inter Quartile Range\n",
    "\n",
    "# if the variable value is less than 0.25 - 1.5*IQR, we will cap it with 5th percentile of the variable value\n",
    "# if the variable value is grater than 0.25 + 1.5*IQR, we will cap it with 95th percentile of the variable value\n",
    "\n",
    "# below is the code implementation of the same\n",
    "\n",
    "\n",
    "qnt <- quantile(walmart_data$Weekly_Sales, probs=c(.25, .75), na.rm = T)\n",
    "caps <- quantile(walmart_data$Weekly_Sales, probs=c(.05, .95), na.rm = T)\n",
    "H <- 1.5 * IQR(walmart_data$Weekly_Sales, na.rm = T)\n",
    "\n",
    "walmart_data[walmart_data$Weekly_Sales < (qnt[1] - H), 'Weekly_Sales'] <- caps[1]\n",
    "walmart_data[walmart_data$Weekly_Sales > (qnt[2] + H), 'Weekly_Sales'] <- caps[2]"
   ]
  },
  {
   "cell_type": "code",
   "execution_count": 120,
   "id": "c50487dd",
   "metadata": {
    "scrolled": false
   },
   "outputs": [
    {
     "data": {
      "image/png": "[encoded data removed]",
      "text/plain": [
       "plot without title"
      ]
     },
     "metadata": {},
     "output_type": "display_data"
    }
   ],
   "source": [
    "# checking if the column weekly_sales still has outliers\n",
    "\n",
    "fig(6,4)\n",
    "\n",
    "ggplot(walmart_data, aes(x = Weekly_Sales)) + \n",
    "stat_boxplot(geom = \"errorbar\",\n",
    "            width = 0.15,\n",
    "            color = 1) +  # Error bar color\n",
    "geom_boxplot(fill = 2,           # Box color\n",
    "            alpha = 0.5,        # Transparency\n",
    "            color = 1,          # Border color\n",
    "            outlier.colour = 2) # Outlier color"
   ]
  },
  {
   "cell_type": "code",
   "execution_count": null,
   "id": "d058f8af",
   "metadata": {},
   "outputs": [],
   "source": []
  },
  {
   "cell_type": "code",
   "execution_count": 121,
   "id": "cefe0afe",
   "metadata": {},
   "outputs": [
    {
     "data": {
      "image/png": "[encoded data removed]",
      "text/plain": [
       "plot without title"
      ]
     },
     "metadata": {},
     "output_type": "display_data"
    }
   ],
   "source": [
    "# Checking if the column Temperature has outliers\n",
    "\n",
    "fig(6,4)\n",
    "\n",
    "ggplot(walmart_data, aes(x = Temperature)) + \n",
    "stat_boxplot(geom = \"errorbar\",\n",
    "            width = 0.15,\n",
    "            color = 1) +  # Error bar color\n",
    "geom_boxplot(fill = 2,           # Box color\n",
    "            alpha = 0.5,        # Transparency\n",
    "            color = 1,          # Border color\n",
    "            outlier.colour = 2) # Outlier color"
   ]
  },
  {
   "cell_type": "code",
   "execution_count": 122,
   "id": "7e5aec2a",
   "metadata": {},
   "outputs": [],
   "source": [
    "# created qnt variable to calculate quantile - 25th and 75th\n",
    "# created caps variable to store 5th and 95th percentile, this will be used to cap the outliar values\n",
    "# H variable is the factor 1.5 times of Inter Quartile Range\n",
    "\n",
    "# if the variable value is less than 0.25 - 1.5*IQR, we will cap it with 5th percentile of the variable value\n",
    "# if the variable value is grater than 0.25 + 1.5*IQR, we will cap it with 95th percentile of the variable value\n",
    "\n",
    "# below is the code implementation of the same\n",
    "\n",
    "qnt <- quantile(walmart_data$Temperature, probs=c(.25, .75), na.rm = T)\n",
    "caps <- quantile(walmart_data$Temperature, probs=c(.05, .95), na.rm = T)\n",
    "H <- 1.5 * IQR(walmart_data$Temperature, na.rm = T)\n",
    "\n",
    "walmart_data[walmart_data$Temperature < (qnt[1] - H), 'Temperature'] <- caps[1]\n",
    "walmart_data[walmart_data$Temperature > (qnt[2] + H), 'Temperature'] <- caps[2]"
   ]
  },
  {
   "cell_type": "code",
   "execution_count": 123,
   "id": "5f382872",
   "metadata": {},
   "outputs": [
    {
     "data": {
      "image/png": "[encoded data removed]",
      "text/plain": [
       "plot without title"
      ]
     },
     "metadata": {},
     "output_type": "display_data"
    }
   ],
   "source": [
    "# Checking again if the Temperature column still has outliers\n",
    "\n",
    "fig(6,4)\n",
    "\n",
    "ggplot(walmart_data, aes(x = Temperature)) + \n",
    "stat_boxplot(geom = \"errorbar\",\n",
    "            width = 0.15,\n",
    "            color = 1) +  # Error bar color\n",
    "geom_boxplot(fill = 2,           # Box color\n",
    "            alpha = 0.5,        # Transparency\n",
    "            color = 1,          # Border color\n",
    "            outlier.colour = 2) # Outlier color"
   ]
  },
  {
   "cell_type": "code",
   "execution_count": null,
   "id": "14ba8c65",
   "metadata": {},
   "outputs": [],
   "source": []
  },
  {
   "cell_type": "code",
   "execution_count": 124,
   "id": "54c03c29",
   "metadata": {},
   "outputs": [
    {
     "data": {
      "image/png": "[encoded data removed]",
      "text/plain": [
       "plot without title"
      ]
     },
     "metadata": {},
     "output_type": "display_data"
    }
   ],
   "source": [
    "# Created boxplot to see if Fuel Price has any outliers\n",
    "\n",
    "fig(6,4)\n",
    "\n",
    "ggplot(num_cols_df, aes(x = Fuel_Price)) + \n",
    "stat_boxplot(geom = \"errorbar\",\n",
    "            width = 0.15,\n",
    "            color = 1) +  # Error bar color\n",
    "geom_boxplot(fill = 2,           # Box color\n",
    "            alpha = 0.5,        # Transparency\n",
    "            color = 1,          # Border color\n",
    "            outlier.colour = 2) # Outlier color"
   ]
  },
  {
   "cell_type": "markdown",
   "id": "65a18eda",
   "metadata": {},
   "source": [
    "### There are no outliars in Fuel Price column"
   ]
  },
  {
   "cell_type": "code",
   "execution_count": null,
   "id": "19d9590a",
   "metadata": {},
   "outputs": [],
   "source": []
  },
  {
   "cell_type": "code",
   "execution_count": 125,
   "id": "0edd31bc",
   "metadata": {},
   "outputs": [
    {
     "data": {
      "image/png": "[encoded data removed]",
      "text/plain": [
       "plot without title"
      ]
     },
     "metadata": {},
     "output_type": "display_data"
    }
   ],
   "source": [
    "# Visualizing CPI column as boxplot to see if there are any outliers\n",
    "\n",
    "fig(6,4)\n",
    "\n",
    "ggplot(num_cols_df, aes(x = CPI)) + \n",
    "stat_boxplot(geom = \"errorbar\",\n",
    "            width = 0.15,\n",
    "            color = 1) +  # Error bar color\n",
    "geom_boxplot(fill = 2,           # Box color\n",
    "            alpha = 0.5,        # Transparency\n",
    "            color = 1,          # Border color\n",
    "            outlier.colour = 2) # Outlier color"
   ]
  },
  {
   "cell_type": "markdown",
   "id": "ba8c7d8a",
   "metadata": {},
   "source": [
    "### There are no outliars in CPI column"
   ]
  },
  {
   "cell_type": "code",
   "execution_count": null,
   "id": "2a86b77a",
   "metadata": {},
   "outputs": [],
   "source": []
  },
  {
   "cell_type": "code",
   "execution_count": 126,
   "id": "cd4993a8",
   "metadata": {},
   "outputs": [
    {
     "data": {
      "image/png": "[encoded data removed]",
      "text/plain": [
       "plot without title"
      ]
     },
     "metadata": {},
     "output_type": "display_data"
    }
   ],
   "source": [
    "# Visualizing Unemployment column if there are any outliers present\n",
    "\n",
    "fig(6,4)\n",
    "\n",
    "ggplot(walmart_data, aes(x = Unemployment)) + \n",
    "stat_boxplot(geom = \"errorbar\",\n",
    "            width = 0.15,\n",
    "            color = 1) +  # Error bar color\n",
    "geom_boxplot(fill = 2,           # Box color\n",
    "            alpha = 0.5,        # Transparency\n",
    "            color = 1,          # Border color\n",
    "            outlier.colour = 2) # Outlier color"
   ]
  },
  {
   "cell_type": "code",
   "execution_count": 127,
   "id": "330e53f9",
   "metadata": {},
   "outputs": [],
   "source": [
    "# created qnt variable to calculate quantile - 25th and 75th\n",
    "# created caps variable to store 5th and 95th percentile, this will be used to cap the outliar values\n",
    "# H variable is the factor 1.5 times of Inter Quartile Range\n",
    "\n",
    "# if the variable value is less than 0.25 - 1.5*IQR, we will cap it with 5th percentile of the variable value\n",
    "# if the variable value is grater than 0.25 + 1.5*IQR, we will cap it with 95th percentile of the variable value\n",
    "\n",
    "# below is the code implementation of the same\n",
    "\n",
    "\n",
    "qnt <- quantile(walmart_data$Unemployment, probs=c(.25, .75), na.rm = T)\n",
    "caps <- quantile(walmart_data$Unemployment, probs=c(.05, .95), na.rm = T)\n",
    "H <- 1.5 * IQR(walmart_data$Unemployment, na.rm = T)\n",
    "\n",
    "walmart_data[walmart_data$Unemployment < (qnt[1] - H), 'Unemployment'] <- caps[1]\n",
    "walmart_data[walmart_data$Unemployment > (qnt[2] + H), 'Unemployment'] <- qnt[2] + H"
   ]
  },
  {
   "cell_type": "code",
   "execution_count": 128,
   "id": "3f746a08",
   "metadata": {},
   "outputs": [
    {
     "data": {
      "image/png": "[encoded data removed]",
      "text/plain": [
       "plot without title"
      ]
     },
     "metadata": {},
     "output_type": "display_data"
    }
   ],
   "source": [
    "# Checking again if the column unemployment still has outliers\n",
    "\n",
    "fig(6,4)\n",
    "\n",
    "ggplot(walmart_data, aes(x = Unemployment)) + \n",
    "stat_boxplot(geom = \"errorbar\",\n",
    "            width = 0.15,\n",
    "            color = 1) +  # Error bar color\n",
    "geom_boxplot(fill = 2,           # Box color\n",
    "            alpha = 0.5,        # Transparency\n",
    "            color = 1,          # Border color\n",
    "            outlier.colour = 2) # Outlier color"
   ]
  },
  {
   "cell_type": "code",
   "execution_count": null,
   "id": "680582cf",
   "metadata": {},
   "outputs": [],
   "source": []
  },
  {
   "cell_type": "markdown",
   "id": "023f0fad",
   "metadata": {},
   "source": [
    "### Correlation Plots"
   ]
  },
  {
   "cell_type": "code",
   "execution_count": 129,
   "id": "acc86831",
   "metadata": {},
   "outputs": [
    {
     "data": {
      "text/html": [
       "<table>\n",
       "<thead><tr><th scope=col>Store</th><th scope=col>Weekly_Sales</th><th scope=col>Holiday_Flag</th><th scope=col>Temperature</th><th scope=col>Fuel_Price</th><th scope=col>CPI</th><th scope=col>Unemployment</th><th scope=col>Weekly_Sales_Scaled</th><th scope=col>Super_Bowl</th><th scope=col>Labour_Day</th><th scope=col>Thanksgiving</th><th scope=col>Christmas</th><th scope=col>Day</th><th scope=col>Month</th><th scope=col>Year</th><th scope=col>Quarter</th></tr></thead>\n",
       "<tbody>\n",
       "\t<tr><td>1          </td><td>1643690.90 </td><td>0          </td><td>42.31      </td><td>2.572      </td><td>211.0963582</td><td>8.106      </td><td>16.4369090 </td><td>0          </td><td>0          </td><td>0          </td><td>0          </td><td> 5         </td><td>2          </td><td>2010       </td><td>1          </td></tr>\n",
       "\t<tr><td>1          </td><td>1641957.44 </td><td>1          </td><td>38.51      </td><td>2.548      </td><td>211.2421698</td><td>8.106      </td><td>16.4195744 </td><td>1          </td><td>0          </td><td>0          </td><td>0          </td><td>12         </td><td>2          </td><td>2010       </td><td>1          </td></tr>\n",
       "\t<tr><td>1          </td><td>1611968.17 </td><td>0          </td><td>39.93      </td><td>2.514      </td><td>211.2891429</td><td>8.106      </td><td>16.1196817 </td><td>0          </td><td>0          </td><td>0          </td><td>0          </td><td>19         </td><td>2          </td><td>2010       </td><td>1          </td></tr>\n",
       "\t<tr><td>1          </td><td>1409727.59 </td><td>0          </td><td>46.63      </td><td>2.561      </td><td>211.3196429</td><td>8.106      </td><td>14.0972759 </td><td>0          </td><td>0          </td><td>0          </td><td>0          </td><td>26         </td><td>2          </td><td>2010       </td><td>1          </td></tr>\n",
       "\t<tr><td>1          </td><td>1554806.68 </td><td>0          </td><td>46.50      </td><td>2.625      </td><td>211.3501429</td><td>8.106      </td><td>15.5480668 </td><td>0          </td><td>0          </td><td>0          </td><td>0          </td><td> 5         </td><td>3          </td><td>2010       </td><td>1          </td></tr>\n",
       "\t<tr><td>1          </td><td>1439541.59 </td><td>0          </td><td>57.79      </td><td>2.667      </td><td>211.3806429</td><td>8.106      </td><td>14.3954159 </td><td>0          </td><td>0          </td><td>0          </td><td>0          </td><td>12         </td><td>3          </td><td>2010       </td><td>1          </td></tr>\n",
       "</tbody>\n",
       "</table>\n"
      ],
      "text/latex": [
       "\\begin{tabular}{r|llllllllllllllll}\n",
       " Store & Weekly\\_Sales & Holiday\\_Flag & Temperature & Fuel\\_Price & CPI & Unemployment & Weekly\\_Sales\\_Scaled & Super\\_Bowl & Labour\\_Day & Thanksgiving & Christmas & Day & Month & Year & Quarter\\\\\n",
       "\\hline\n",
       "\t 1           & 1643690.90  & 0           & 42.31       & 2.572       & 211.0963582 & 8.106       & 16.4369090  & 0           & 0           & 0           & 0           &  5          & 2           & 2010        & 1          \\\\\n",
       "\t 1           & 1641957.44  & 1           & 38.51       & 2.548       & 211.2421698 & 8.106       & 16.4195744  & 1           & 0           & 0           & 0           & 12          & 2           & 2010        & 1          \\\\\n",
       "\t 1           & 1611968.17  & 0           & 39.93       & 2.514       & 211.2891429 & 8.106       & 16.1196817  & 0           & 0           & 0           & 0           & 19          & 2           & 2010        & 1          \\\\\n",
       "\t 1           & 1409727.59  & 0           & 46.63       & 2.561       & 211.3196429 & 8.106       & 14.0972759  & 0           & 0           & 0           & 0           & 26          & 2           & 2010        & 1          \\\\\n",
       "\t 1           & 1554806.68  & 0           & 46.50       & 2.625       & 211.3501429 & 8.106       & 15.5480668  & 0           & 0           & 0           & 0           &  5          & 3           & 2010        & 1          \\\\\n",
       "\t 1           & 1439541.59  & 0           & 57.79       & 2.667       & 211.3806429 & 8.106       & 14.3954159  & 0           & 0           & 0           & 0           & 12          & 3           & 2010        & 1          \\\\\n",
       "\\end{tabular}\n"
      ],
      "text/markdown": [
       "\n",
       "| Store | Weekly_Sales | Holiday_Flag | Temperature | Fuel_Price | CPI | Unemployment | Weekly_Sales_Scaled | Super_Bowl | Labour_Day | Thanksgiving | Christmas | Day | Month | Year | Quarter |\n",
       "|---|---|---|---|---|---|---|---|---|---|---|---|---|---|---|---|\n",
       "| 1           | 1643690.90  | 0           | 42.31       | 2.572       | 211.0963582 | 8.106       | 16.4369090  | 0           | 0           | 0           | 0           |  5          | 2           | 2010        | 1           |\n",
       "| 1           | 1641957.44  | 1           | 38.51       | 2.548       | 211.2421698 | 8.106       | 16.4195744  | 1           | 0           | 0           | 0           | 12          | 2           | 2010        | 1           |\n",
       "| 1           | 1611968.17  | 0           | 39.93       | 2.514       | 211.2891429 | 8.106       | 16.1196817  | 0           | 0           | 0           | 0           | 19          | 2           | 2010        | 1           |\n",
       "| 1           | 1409727.59  | 0           | 46.63       | 2.561       | 211.3196429 | 8.106       | 14.0972759  | 0           | 0           | 0           | 0           | 26          | 2           | 2010        | 1           |\n",
       "| 1           | 1554806.68  | 0           | 46.50       | 2.625       | 211.3501429 | 8.106       | 15.5480668  | 0           | 0           | 0           | 0           |  5          | 3           | 2010        | 1           |\n",
       "| 1           | 1439541.59  | 0           | 57.79       | 2.667       | 211.3806429 | 8.106       | 14.3954159  | 0           | 0           | 0           | 0           | 12          | 3           | 2010        | 1           |\n",
       "\n"
      ],
      "text/plain": [
       "  Store Weekly_Sales Holiday_Flag Temperature Fuel_Price CPI        \n",
       "1 1     1643690.90   0            42.31       2.572      211.0963582\n",
       "2 1     1641957.44   1            38.51       2.548      211.2421698\n",
       "3 1     1611968.17   0            39.93       2.514      211.2891429\n",
       "4 1     1409727.59   0            46.63       2.561      211.3196429\n",
       "5 1     1554806.68   0            46.50       2.625      211.3501429\n",
       "6 1     1439541.59   0            57.79       2.667      211.3806429\n",
       "  Unemployment Weekly_Sales_Scaled Super_Bowl Labour_Day Thanksgiving Christmas\n",
       "1 8.106        16.4369090          0          0          0            0        \n",
       "2 8.106        16.4195744          1          0          0            0        \n",
       "3 8.106        16.1196817          0          0          0            0        \n",
       "4 8.106        14.0972759          0          0          0            0        \n",
       "5 8.106        15.5480668          0          0          0            0        \n",
       "6 8.106        14.3954159          0          0          0            0        \n",
       "  Day Month Year Quarter\n",
       "1  5  2     2010 1      \n",
       "2 12  2     2010 1      \n",
       "3 19  2     2010 1      \n",
       "4 26  2     2010 1      \n",
       "5  5  3     2010 1      \n",
       "6 12  3     2010 1      "
      ]
     },
     "metadata": {},
     "output_type": "display_data"
    }
   ],
   "source": [
    "# creating new variable 'corr_data' and storing only numeric columns into it \n",
    "\n",
    "corr_data = walmart_data[,sapply(walmart_data, is.numeric)]\n",
    "head(corr_data)"
   ]
  },
  {
   "cell_type": "code",
   "execution_count": 130,
   "id": "12cf29bc",
   "metadata": {},
   "outputs": [],
   "source": [
    "# Removing 'Weekly_Sales_Scaled' column as it is redundent, we already have 'Weekly_Sales' column\n",
    "\n",
    "corr_data$Weekly_Sales_Scaled <- NULL"
   ]
  },
  {
   "cell_type": "code",
   "execution_count": 131,
   "id": "7df95162",
   "metadata": {},
   "outputs": [
    {
     "data": {
      "text/html": [
       "<table>\n",
       "<thead><tr><th scope=col>Store</th><th scope=col>Weekly_Sales</th><th scope=col>Holiday_Flag</th><th scope=col>Temperature</th><th scope=col>Fuel_Price</th><th scope=col>CPI</th><th scope=col>Unemployment</th><th scope=col>Super_Bowl</th><th scope=col>Labour_Day</th><th scope=col>Thanksgiving</th><th scope=col>Christmas</th><th scope=col>Day</th><th scope=col>Month</th><th scope=col>Year</th><th scope=col>Quarter</th></tr></thead>\n",
       "<tbody>\n",
       "\t<tr><td>1          </td><td>1643690.90 </td><td>0          </td><td>42.31      </td><td>2.572      </td><td>211.0963582</td><td>8.106      </td><td>0          </td><td>0          </td><td>0          </td><td>0          </td><td> 5         </td><td>2          </td><td>2010       </td><td>1          </td></tr>\n",
       "\t<tr><td>1          </td><td>1641957.44 </td><td>1          </td><td>38.51      </td><td>2.548      </td><td>211.2421698</td><td>8.106      </td><td>1          </td><td>0          </td><td>0          </td><td>0          </td><td>12         </td><td>2          </td><td>2010       </td><td>1          </td></tr>\n",
       "\t<tr><td>1          </td><td>1611968.17 </td><td>0          </td><td>39.93      </td><td>2.514      </td><td>211.2891429</td><td>8.106      </td><td>0          </td><td>0          </td><td>0          </td><td>0          </td><td>19         </td><td>2          </td><td>2010       </td><td>1          </td></tr>\n",
       "\t<tr><td>1          </td><td>1409727.59 </td><td>0          </td><td>46.63      </td><td>2.561      </td><td>211.3196429</td><td>8.106      </td><td>0          </td><td>0          </td><td>0          </td><td>0          </td><td>26         </td><td>2          </td><td>2010       </td><td>1          </td></tr>\n",
       "\t<tr><td>1          </td><td>1554806.68 </td><td>0          </td><td>46.50      </td><td>2.625      </td><td>211.3501429</td><td>8.106      </td><td>0          </td><td>0          </td><td>0          </td><td>0          </td><td> 5         </td><td>3          </td><td>2010       </td><td>1          </td></tr>\n",
       "\t<tr><td>1          </td><td>1439541.59 </td><td>0          </td><td>57.79      </td><td>2.667      </td><td>211.3806429</td><td>8.106      </td><td>0          </td><td>0          </td><td>0          </td><td>0          </td><td>12         </td><td>3          </td><td>2010       </td><td>1          </td></tr>\n",
       "</tbody>\n",
       "</table>\n"
      ],
      "text/latex": [
       "\\begin{tabular}{r|lllllllllllllll}\n",
       " Store & Weekly\\_Sales & Holiday\\_Flag & Temperature & Fuel\\_Price & CPI & Unemployment & Super\\_Bowl & Labour\\_Day & Thanksgiving & Christmas & Day & Month & Year & Quarter\\\\\n",
       "\\hline\n",
       "\t 1           & 1643690.90  & 0           & 42.31       & 2.572       & 211.0963582 & 8.106       & 0           & 0           & 0           & 0           &  5          & 2           & 2010        & 1          \\\\\n",
       "\t 1           & 1641957.44  & 1           & 38.51       & 2.548       & 211.2421698 & 8.106       & 1           & 0           & 0           & 0           & 12          & 2           & 2010        & 1          \\\\\n",
       "\t 1           & 1611968.17  & 0           & 39.93       & 2.514       & 211.2891429 & 8.106       & 0           & 0           & 0           & 0           & 19          & 2           & 2010        & 1          \\\\\n",
       "\t 1           & 1409727.59  & 0           & 46.63       & 2.561       & 211.3196429 & 8.106       & 0           & 0           & 0           & 0           & 26          & 2           & 2010        & 1          \\\\\n",
       "\t 1           & 1554806.68  & 0           & 46.50       & 2.625       & 211.3501429 & 8.106       & 0           & 0           & 0           & 0           &  5          & 3           & 2010        & 1          \\\\\n",
       "\t 1           & 1439541.59  & 0           & 57.79       & 2.667       & 211.3806429 & 8.106       & 0           & 0           & 0           & 0           & 12          & 3           & 2010        & 1          \\\\\n",
       "\\end{tabular}\n"
      ],
      "text/markdown": [
       "\n",
       "| Store | Weekly_Sales | Holiday_Flag | Temperature | Fuel_Price | CPI | Unemployment | Super_Bowl | Labour_Day | Thanksgiving | Christmas | Day | Month | Year | Quarter |\n",
       "|---|---|---|---|---|---|---|---|---|---|---|---|---|---|---|\n",
       "| 1           | 1643690.90  | 0           | 42.31       | 2.572       | 211.0963582 | 8.106       | 0           | 0           | 0           | 0           |  5          | 2           | 2010        | 1           |\n",
       "| 1           | 1641957.44  | 1           | 38.51       | 2.548       | 211.2421698 | 8.106       | 1           | 0           | 0           | 0           | 12          | 2           | 2010        | 1           |\n",
       "| 1           | 1611968.17  | 0           | 39.93       | 2.514       | 211.2891429 | 8.106       | 0           | 0           | 0           | 0           | 19          | 2           | 2010        | 1           |\n",
       "| 1           | 1409727.59  | 0           | 46.63       | 2.561       | 211.3196429 | 8.106       | 0           | 0           | 0           | 0           | 26          | 2           | 2010        | 1           |\n",
       "| 1           | 1554806.68  | 0           | 46.50       | 2.625       | 211.3501429 | 8.106       | 0           | 0           | 0           | 0           |  5          | 3           | 2010        | 1           |\n",
       "| 1           | 1439541.59  | 0           | 57.79       | 2.667       | 211.3806429 | 8.106       | 0           | 0           | 0           | 0           | 12          | 3           | 2010        | 1           |\n",
       "\n"
      ],
      "text/plain": [
       "  Store Weekly_Sales Holiday_Flag Temperature Fuel_Price CPI        \n",
       "1 1     1643690.90   0            42.31       2.572      211.0963582\n",
       "2 1     1641957.44   1            38.51       2.548      211.2421698\n",
       "3 1     1611968.17   0            39.93       2.514      211.2891429\n",
       "4 1     1409727.59   0            46.63       2.561      211.3196429\n",
       "5 1     1554806.68   0            46.50       2.625      211.3501429\n",
       "6 1     1439541.59   0            57.79       2.667      211.3806429\n",
       "  Unemployment Super_Bowl Labour_Day Thanksgiving Christmas Day Month Year\n",
       "1 8.106        0          0          0            0          5  2     2010\n",
       "2 8.106        1          0          0            0         12  2     2010\n",
       "3 8.106        0          0          0            0         19  2     2010\n",
       "4 8.106        0          0          0            0         26  2     2010\n",
       "5 8.106        0          0          0            0          5  3     2010\n",
       "6 8.106        0          0          0            0         12  3     2010\n",
       "  Quarter\n",
       "1 1      \n",
       "2 1      \n",
       "3 1      \n",
       "4 1      \n",
       "5 1      \n",
       "6 1      "
      ]
     },
     "metadata": {},
     "output_type": "display_data"
    }
   ],
   "source": [
    "head(corr_data)"
   ]
  },
  {
   "cell_type": "code",
   "execution_count": 132,
   "id": "a814bffc",
   "metadata": {},
   "outputs": [
    {
     "data": {
      "text/html": [
       "<ol class=list-inline>\n",
       "\t<li>'Store'</li>\n",
       "\t<li>'Weekly_Sales'</li>\n",
       "\t<li>'Holiday_Flag'</li>\n",
       "\t<li>'Temperature'</li>\n",
       "\t<li>'Fuel_Price'</li>\n",
       "\t<li>'CPI'</li>\n",
       "\t<li>'Unemployment'</li>\n",
       "\t<li>'Super_Bowl'</li>\n",
       "\t<li>'Labour_Day'</li>\n",
       "\t<li>'Thanksgiving'</li>\n",
       "\t<li>'Christmas'</li>\n",
       "\t<li>'Day'</li>\n",
       "\t<li>'Month'</li>\n",
       "\t<li>'Year'</li>\n",
       "\t<li>'Quarter'</li>\n",
       "</ol>\n"
      ],
      "text/latex": [
       "\\begin{enumerate*}\n",
       "\\item 'Store'\n",
       "\\item 'Weekly\\_Sales'\n",
       "\\item 'Holiday\\_Flag'\n",
       "\\item 'Temperature'\n",
       "\\item 'Fuel\\_Price'\n",
       "\\item 'CPI'\n",
       "\\item 'Unemployment'\n",
       "\\item 'Super\\_Bowl'\n",
       "\\item 'Labour\\_Day'\n",
       "\\item 'Thanksgiving'\n",
       "\\item 'Christmas'\n",
       "\\item 'Day'\n",
       "\\item 'Month'\n",
       "\\item 'Year'\n",
       "\\item 'Quarter'\n",
       "\\end{enumerate*}\n"
      ],
      "text/markdown": [
       "1. 'Store'\n",
       "2. 'Weekly_Sales'\n",
       "3. 'Holiday_Flag'\n",
       "4. 'Temperature'\n",
       "5. 'Fuel_Price'\n",
       "6. 'CPI'\n",
       "7. 'Unemployment'\n",
       "8. 'Super_Bowl'\n",
       "9. 'Labour_Day'\n",
       "10. 'Thanksgiving'\n",
       "11. 'Christmas'\n",
       "12. 'Day'\n",
       "13. 'Month'\n",
       "14. 'Year'\n",
       "15. 'Quarter'\n",
       "\n",
       "\n"
      ],
      "text/plain": [
       " [1] \"Store\"        \"Weekly_Sales\" \"Holiday_Flag\" \"Temperature\"  \"Fuel_Price\"  \n",
       " [6] \"CPI\"          \"Unemployment\" \"Super_Bowl\"   \"Labour_Day\"   \"Thanksgiving\"\n",
       "[11] \"Christmas\"    \"Day\"          \"Month\"        \"Year\"         \"Quarter\"     "
      ]
     },
     "metadata": {},
     "output_type": "display_data"
    }
   ],
   "source": [
    "colnames(corr_data)"
   ]
  },
  {
   "cell_type": "code",
   "execution_count": 133,
   "id": "37936d5b",
   "metadata": {
    "scrolled": true
   },
   "outputs": [
    {
     "data": {
      "text/html": [
       "<table>\n",
       "<thead><tr><th scope=col>Store</th><th scope=col>Weekly_Sales</th><th scope=col>Holiday_Flag</th><th scope=col>Temperature</th><th scope=col>Fuel_Price</th><th scope=col>CPI</th><th scope=col>Unemployment</th><th scope=col>Day</th><th scope=col>Month</th><th scope=col>Year</th><th scope=col>Quarter</th></tr></thead>\n",
       "<tbody>\n",
       "\t<tr><td>1          </td><td>1643690.90 </td><td>0          </td><td>42.31      </td><td>2.572      </td><td>211.0963582</td><td>8.106      </td><td> 5         </td><td>2          </td><td>2010       </td><td>1          </td></tr>\n",
       "\t<tr><td>1          </td><td>1641957.44 </td><td>1          </td><td>38.51      </td><td>2.548      </td><td>211.2421698</td><td>8.106      </td><td>12         </td><td>2          </td><td>2010       </td><td>1          </td></tr>\n",
       "\t<tr><td>1          </td><td>1611968.17 </td><td>0          </td><td>39.93      </td><td>2.514      </td><td>211.2891429</td><td>8.106      </td><td>19         </td><td>2          </td><td>2010       </td><td>1          </td></tr>\n",
       "\t<tr><td>1          </td><td>1409727.59 </td><td>0          </td><td>46.63      </td><td>2.561      </td><td>211.3196429</td><td>8.106      </td><td>26         </td><td>2          </td><td>2010       </td><td>1          </td></tr>\n",
       "\t<tr><td>1          </td><td>1554806.68 </td><td>0          </td><td>46.50      </td><td>2.625      </td><td>211.3501429</td><td>8.106      </td><td> 5         </td><td>3          </td><td>2010       </td><td>1          </td></tr>\n",
       "\t<tr><td>1          </td><td>1439541.59 </td><td>0          </td><td>57.79      </td><td>2.667      </td><td>211.3806429</td><td>8.106      </td><td>12         </td><td>3          </td><td>2010       </td><td>1          </td></tr>\n",
       "\t<tr><td>1          </td><td>1472515.79 </td><td>0          </td><td>54.58      </td><td>2.720      </td><td>211.2156350</td><td>8.106      </td><td>19         </td><td>3          </td><td>2010       </td><td>1          </td></tr>\n",
       "\t<tr><td>1          </td><td>1404429.92 </td><td>0          </td><td>51.45      </td><td>2.732      </td><td>211.0180424</td><td>8.106      </td><td>26         </td><td>3          </td><td>2010       </td><td>1          </td></tr>\n",
       "\t<tr><td>1          </td><td>1594968.28 </td><td>0          </td><td>62.27      </td><td>2.719      </td><td>210.8204499</td><td>7.808      </td><td> 2         </td><td>4          </td><td>2010       </td><td>2          </td></tr>\n",
       "\t<tr><td>1          </td><td>1545418.53 </td><td>0          </td><td>65.86      </td><td>2.770      </td><td>210.6228574</td><td>7.808      </td><td> 9         </td><td>4          </td><td>2010       </td><td>2          </td></tr>\n",
       "</tbody>\n",
       "</table>\n"
      ],
      "text/latex": [
       "\\begin{tabular}{r|lllllllllll}\n",
       " Store & Weekly\\_Sales & Holiday\\_Flag & Temperature & Fuel\\_Price & CPI & Unemployment & Day & Month & Year & Quarter\\\\\n",
       "\\hline\n",
       "\t 1           & 1643690.90  & 0           & 42.31       & 2.572       & 211.0963582 & 8.106       &  5          & 2           & 2010        & 1          \\\\\n",
       "\t 1           & 1641957.44  & 1           & 38.51       & 2.548       & 211.2421698 & 8.106       & 12          & 2           & 2010        & 1          \\\\\n",
       "\t 1           & 1611968.17  & 0           & 39.93       & 2.514       & 211.2891429 & 8.106       & 19          & 2           & 2010        & 1          \\\\\n",
       "\t 1           & 1409727.59  & 0           & 46.63       & 2.561       & 211.3196429 & 8.106       & 26          & 2           & 2010        & 1          \\\\\n",
       "\t 1           & 1554806.68  & 0           & 46.50       & 2.625       & 211.3501429 & 8.106       &  5          & 3           & 2010        & 1          \\\\\n",
       "\t 1           & 1439541.59  & 0           & 57.79       & 2.667       & 211.3806429 & 8.106       & 12          & 3           & 2010        & 1          \\\\\n",
       "\t 1           & 1472515.79  & 0           & 54.58       & 2.720       & 211.2156350 & 8.106       & 19          & 3           & 2010        & 1          \\\\\n",
       "\t 1           & 1404429.92  & 0           & 51.45       & 2.732       & 211.0180424 & 8.106       & 26          & 3           & 2010        & 1          \\\\\n",
       "\t 1           & 1594968.28  & 0           & 62.27       & 2.719       & 210.8204499 & 7.808       &  2          & 4           & 2010        & 2          \\\\\n",
       "\t 1           & 1545418.53  & 0           & 65.86       & 2.770       & 210.6228574 & 7.808       &  9          & 4           & 2010        & 2          \\\\\n",
       "\\end{tabular}\n"
      ],
      "text/markdown": [
       "\n",
       "| Store | Weekly_Sales | Holiday_Flag | Temperature | Fuel_Price | CPI | Unemployment | Day | Month | Year | Quarter |\n",
       "|---|---|---|---|---|---|---|---|---|---|---|\n",
       "| 1           | 1643690.90  | 0           | 42.31       | 2.572       | 211.0963582 | 8.106       |  5          | 2           | 2010        | 1           |\n",
       "| 1           | 1641957.44  | 1           | 38.51       | 2.548       | 211.2421698 | 8.106       | 12          | 2           | 2010        | 1           |\n",
       "| 1           | 1611968.17  | 0           | 39.93       | 2.514       | 211.2891429 | 8.106       | 19          | 2           | 2010        | 1           |\n",
       "| 1           | 1409727.59  | 0           | 46.63       | 2.561       | 211.3196429 | 8.106       | 26          | 2           | 2010        | 1           |\n",
       "| 1           | 1554806.68  | 0           | 46.50       | 2.625       | 211.3501429 | 8.106       |  5          | 3           | 2010        | 1           |\n",
       "| 1           | 1439541.59  | 0           | 57.79       | 2.667       | 211.3806429 | 8.106       | 12          | 3           | 2010        | 1           |\n",
       "| 1           | 1472515.79  | 0           | 54.58       | 2.720       | 211.2156350 | 8.106       | 19          | 3           | 2010        | 1           |\n",
       "| 1           | 1404429.92  | 0           | 51.45       | 2.732       | 211.0180424 | 8.106       | 26          | 3           | 2010        | 1           |\n",
       "| 1           | 1594968.28  | 0           | 62.27       | 2.719       | 210.8204499 | 7.808       |  2          | 4           | 2010        | 2           |\n",
       "| 1           | 1545418.53  | 0           | 65.86       | 2.770       | 210.6228574 | 7.808       |  9          | 4           | 2010        | 2           |\n",
       "\n"
      ],
      "text/plain": [
       "   Store Weekly_Sales Holiday_Flag Temperature Fuel_Price CPI        \n",
       "1  1     1643690.90   0            42.31       2.572      211.0963582\n",
       "2  1     1641957.44   1            38.51       2.548      211.2421698\n",
       "3  1     1611968.17   0            39.93       2.514      211.2891429\n",
       "4  1     1409727.59   0            46.63       2.561      211.3196429\n",
       "5  1     1554806.68   0            46.50       2.625      211.3501429\n",
       "6  1     1439541.59   0            57.79       2.667      211.3806429\n",
       "7  1     1472515.79   0            54.58       2.720      211.2156350\n",
       "8  1     1404429.92   0            51.45       2.732      211.0180424\n",
       "9  1     1594968.28   0            62.27       2.719      210.8204499\n",
       "10 1     1545418.53   0            65.86       2.770      210.6228574\n",
       "   Unemployment Day Month Year Quarter\n",
       "1  8.106         5  2     2010 1      \n",
       "2  8.106        12  2     2010 1      \n",
       "3  8.106        19  2     2010 1      \n",
       "4  8.106        26  2     2010 1      \n",
       "5  8.106         5  3     2010 1      \n",
       "6  8.106        12  3     2010 1      \n",
       "7  8.106        19  3     2010 1      \n",
       "8  8.106        26  3     2010 1      \n",
       "9  7.808         2  4     2010 2      \n",
       "10 7.808         9  4     2010 2      "
      ]
     },
     "metadata": {},
     "output_type": "display_data"
    }
   ],
   "source": [
    "# Removing dummy holiday variables which were created, since 'Holiday_Flag' is already present\n",
    "\n",
    "corr_data <- subset(corr_data, select = -c(Super_Bowl, Labour_Day, Thanksgiving, Christmas))\n",
    "head(corr_data, n=10)"
   ]
  },
  {
   "cell_type": "code",
   "execution_count": 134,
   "id": "4bc0a3e9",
   "metadata": {
    "scrolled": false
   },
   "outputs": [
    {
     "data": {
      "text/html": [
       "<table>\n",
       "<thead><tr><th></th><th scope=col>Store</th><th scope=col>Weekly_Sales</th><th scope=col>Holiday_Flag</th><th scope=col>Temperature</th><th scope=col>Fuel_Price</th><th scope=col>CPI</th><th scope=col>Unemployment</th><th scope=col>Day</th><th scope=col>Month</th><th scope=col>Year</th><th scope=col>Quarter</th></tr></thead>\n",
       "<tbody>\n",
       "\t<tr><th scope=row>Store</th><td> 1.00</td><td>-0.34</td><td> 0.00</td><td>-0.02</td><td> 0.06</td><td>-0.21</td><td> 0.27</td><td> 0.00</td><td> 0.00</td><td> 0.00</td><td> 0.00</td></tr>\n",
       "\t<tr><th scope=row>Weekly_Sales</th><td>-0.34</td><td> 1.00</td><td> 0.03</td><td>-0.05</td><td> 0.01</td><td>-0.07</td><td>-0.11</td><td>-0.03</td><td> 0.06</td><td>-0.01</td><td> 0.05</td></tr>\n",
       "\t<tr><th scope=row>Holiday_Flag</th><td> 0.00</td><td> 0.03</td><td> 1.00</td><td>-0.16</td><td>-0.08</td><td> 0.00</td><td> 0.01</td><td> 0.04</td><td> 0.12</td><td>-0.06</td><td> 0.08</td></tr>\n",
       "\t<tr><th scope=row>Temperature</th><td>-0.02</td><td>-0.05</td><td>-0.16</td><td> 1.00</td><td> 0.14</td><td> 0.18</td><td> 0.09</td><td> 0.03</td><td> 0.24</td><td> 0.06</td><td> 0.24</td></tr>\n",
       "\t<tr><th scope=row>Fuel_Price</th><td> 0.06</td><td> 0.01</td><td>-0.08</td><td> 0.14</td><td> 1.00</td><td>-0.17</td><td>-0.04</td><td> 0.03</td><td>-0.04</td><td> 0.78</td><td>-0.04</td></tr>\n",
       "\t<tr><th scope=row>CPI</th><td>-0.21</td><td>-0.07</td><td> 0.00</td><td> 0.18</td><td>-0.17</td><td> 1.00</td><td>-0.29</td><td> 0.00</td><td> 0.00</td><td> 0.07</td><td> 0.00</td></tr>\n",
       "\t<tr><th scope=row>Unemployment</th><td> 0.27</td><td>-0.11</td><td> 0.01</td><td> 0.09</td><td>-0.04</td><td>-0.29</td><td> 1.00</td><td> 0.00</td><td>-0.02</td><td>-0.24</td><td>-0.02</td></tr>\n",
       "\t<tr><th scope=row>Day</th><td> 0.00</td><td>-0.03</td><td> 0.04</td><td> 0.03</td><td> 0.03</td><td> 0.00</td><td> 0.00</td><td> 1.00</td><td> 0.02</td><td> 0.01</td><td> 0.02</td></tr>\n",
       "\t<tr><th scope=row>Month</th><td> 0.00</td><td> 0.06</td><td> 0.12</td><td> 0.24</td><td>-0.04</td><td> 0.00</td><td>-0.02</td><td> 0.02</td><td> 1.00</td><td>-0.19</td><td> 0.97</td></tr>\n",
       "\t<tr><th scope=row>Year</th><td> 0.00</td><td>-0.01</td><td>-0.06</td><td> 0.06</td><td> 0.78</td><td> 0.07</td><td>-0.24</td><td> 0.01</td><td>-0.19</td><td> 1.00</td><td>-0.19</td></tr>\n",
       "\t<tr><th scope=row>Quarter</th><td> 0.00</td><td> 0.05</td><td> 0.08</td><td> 0.24</td><td>-0.04</td><td> 0.00</td><td>-0.02</td><td> 0.02</td><td> 0.97</td><td>-0.19</td><td> 1.00</td></tr>\n",
       "</tbody>\n",
       "</table>\n"
      ],
      "text/latex": [
       "\\begin{tabular}{r|lllllllllll}\n",
       "  & Store & Weekly\\_Sales & Holiday\\_Flag & Temperature & Fuel\\_Price & CPI & Unemployment & Day & Month & Year & Quarter\\\\\n",
       "\\hline\n",
       "\tStore &  1.00 & -0.34 &  0.00 & -0.02 &  0.06 & -0.21 &  0.27 &  0.00 &  0.00 &  0.00 &  0.00\\\\\n",
       "\tWeekly\\_Sales & -0.34 &  1.00 &  0.03 & -0.05 &  0.01 & -0.07 & -0.11 & -0.03 &  0.06 & -0.01 &  0.05\\\\\n",
       "\tHoliday\\_Flag &  0.00 &  0.03 &  1.00 & -0.16 & -0.08 &  0.00 &  0.01 &  0.04 &  0.12 & -0.06 &  0.08\\\\\n",
       "\tTemperature & -0.02 & -0.05 & -0.16 &  1.00 &  0.14 &  0.18 &  0.09 &  0.03 &  0.24 &  0.06 &  0.24\\\\\n",
       "\tFuel\\_Price &  0.06 &  0.01 & -0.08 &  0.14 &  1.00 & -0.17 & -0.04 &  0.03 & -0.04 &  0.78 & -0.04\\\\\n",
       "\tCPI & -0.21 & -0.07 &  0.00 &  0.18 & -0.17 &  1.00 & -0.29 &  0.00 &  0.00 &  0.07 &  0.00\\\\\n",
       "\tUnemployment &  0.27 & -0.11 &  0.01 &  0.09 & -0.04 & -0.29 &  1.00 &  0.00 & -0.02 & -0.24 & -0.02\\\\\n",
       "\tDay &  0.00 & -0.03 &  0.04 &  0.03 &  0.03 &  0.00 &  0.00 &  1.00 &  0.02 &  0.01 &  0.02\\\\\n",
       "\tMonth &  0.00 &  0.06 &  0.12 &  0.24 & -0.04 &  0.00 & -0.02 &  0.02 &  1.00 & -0.19 &  0.97\\\\\n",
       "\tYear &  0.00 & -0.01 & -0.06 &  0.06 &  0.78 &  0.07 & -0.24 &  0.01 & -0.19 &  1.00 & -0.19\\\\\n",
       "\tQuarter &  0.00 &  0.05 &  0.08 &  0.24 & -0.04 &  0.00 & -0.02 &  0.02 &  0.97 & -0.19 &  1.00\\\\\n",
       "\\end{tabular}\n"
      ],
      "text/markdown": [
       "\n",
       "| <!--/--> | Store | Weekly_Sales | Holiday_Flag | Temperature | Fuel_Price | CPI | Unemployment | Day | Month | Year | Quarter |\n",
       "|---|---|---|---|---|---|---|---|---|---|---|---|\n",
       "| Store |  1.00 | -0.34 |  0.00 | -0.02 |  0.06 | -0.21 |  0.27 |  0.00 |  0.00 |  0.00 |  0.00 |\n",
       "| Weekly_Sales | -0.34 |  1.00 |  0.03 | -0.05 |  0.01 | -0.07 | -0.11 | -0.03 |  0.06 | -0.01 |  0.05 |\n",
       "| Holiday_Flag |  0.00 |  0.03 |  1.00 | -0.16 | -0.08 |  0.00 |  0.01 |  0.04 |  0.12 | -0.06 |  0.08 |\n",
       "| Temperature | -0.02 | -0.05 | -0.16 |  1.00 |  0.14 |  0.18 |  0.09 |  0.03 |  0.24 |  0.06 |  0.24 |\n",
       "| Fuel_Price |  0.06 |  0.01 | -0.08 |  0.14 |  1.00 | -0.17 | -0.04 |  0.03 | -0.04 |  0.78 | -0.04 |\n",
       "| CPI | -0.21 | -0.07 |  0.00 |  0.18 | -0.17 |  1.00 | -0.29 |  0.00 |  0.00 |  0.07 |  0.00 |\n",
       "| Unemployment |  0.27 | -0.11 |  0.01 |  0.09 | -0.04 | -0.29 |  1.00 |  0.00 | -0.02 | -0.24 | -0.02 |\n",
       "| Day |  0.00 | -0.03 |  0.04 |  0.03 |  0.03 |  0.00 |  0.00 |  1.00 |  0.02 |  0.01 |  0.02 |\n",
       "| Month |  0.00 |  0.06 |  0.12 |  0.24 | -0.04 |  0.00 | -0.02 |  0.02 |  1.00 | -0.19 |  0.97 |\n",
       "| Year |  0.00 | -0.01 | -0.06 |  0.06 |  0.78 |  0.07 | -0.24 |  0.01 | -0.19 |  1.00 | -0.19 |\n",
       "| Quarter |  0.00 |  0.05 |  0.08 |  0.24 | -0.04 |  0.00 | -0.02 |  0.02 |  0.97 | -0.19 |  1.00 |\n",
       "\n"
      ],
      "text/plain": [
       "             Store Weekly_Sales Holiday_Flag Temperature Fuel_Price CPI  \n",
       "Store         1.00 -0.34         0.00        -0.02        0.06      -0.21\n",
       "Weekly_Sales -0.34  1.00         0.03        -0.05        0.01      -0.07\n",
       "Holiday_Flag  0.00  0.03         1.00        -0.16       -0.08       0.00\n",
       "Temperature  -0.02 -0.05        -0.16         1.00        0.14       0.18\n",
       "Fuel_Price    0.06  0.01        -0.08         0.14        1.00      -0.17\n",
       "CPI          -0.21 -0.07         0.00         0.18       -0.17       1.00\n",
       "Unemployment  0.27 -0.11         0.01         0.09       -0.04      -0.29\n",
       "Day           0.00 -0.03         0.04         0.03        0.03       0.00\n",
       "Month         0.00  0.06         0.12         0.24       -0.04       0.00\n",
       "Year          0.00 -0.01        -0.06         0.06        0.78       0.07\n",
       "Quarter       0.00  0.05         0.08         0.24       -0.04       0.00\n",
       "             Unemployment Day   Month Year  Quarter\n",
       "Store         0.27         0.00  0.00  0.00  0.00  \n",
       "Weekly_Sales -0.11        -0.03  0.06 -0.01  0.05  \n",
       "Holiday_Flag  0.01         0.04  0.12 -0.06  0.08  \n",
       "Temperature   0.09         0.03  0.24  0.06  0.24  \n",
       "Fuel_Price   -0.04         0.03 -0.04  0.78 -0.04  \n",
       "CPI          -0.29         0.00  0.00  0.07  0.00  \n",
       "Unemployment  1.00         0.00 -0.02 -0.24 -0.02  \n",
       "Day           0.00         1.00  0.02  0.01  0.02  \n",
       "Month        -0.02         0.02  1.00 -0.19  0.97  \n",
       "Year         -0.24         0.01 -0.19  1.00 -0.19  \n",
       "Quarter      -0.02         0.02  0.97 -0.19  1.00  "
      ]
     },
     "metadata": {},
     "output_type": "display_data"
    }
   ],
   "source": [
    "# creating a correlation matrix, and storing it in a new variable corr_matrix, after rounding it to 2 digits\n",
    "\n",
    "corr_matrix <- round(cor(corr_data),2)\n",
    "corr_matrix"
   ]
  },
  {
   "cell_type": "code",
   "execution_count": 135,
   "id": "542db28d",
   "metadata": {},
   "outputs": [
    {
     "data": {
      "text/plain": [
       "             S  W  H  T  F  C  U  D  M  Y  Q \n",
       "Store        ++ .  .  .     .     .  .  .  . \n",
       "Weekly_Sales .  ++    .     .  .  .     .    \n",
       "Holiday_Flag .     ++ .  .  .           .    \n",
       "Temperature  .  .  .  ++                     \n",
       "Fuel_Price         .     ++ .  .     .  ++ . \n",
       "CPI          .  .  .     .  ++ .  .  .     . \n",
       "Unemployment    .        .  .  ++ .  .  .  . \n",
       "Day          .  .           .  .  ++         \n",
       "Month        .           .  .  .     ++ .  ++\n",
       "Year         .  .  .     ++    .     .  ++ . \n",
       "Quarter      .           .  .  .     ++ .  ++\n",
       "attr(,\"legend\")\n",
       "[1] -0.99 '--' -0.6 '.' 0 ' ' 0.6 '++' 1"
      ]
     },
     "metadata": {},
     "output_type": "display_data"
    }
   ],
   "source": [
    "# this is another way to visualize correlation matrix. All the values will be replaced by symbols \n",
    "# based on the correlation magnitude and sign\n",
    "\n",
    "\n",
    "symnum(corr_matrix, cutpoints = c(-0.99, -0.60, 0.00, 0.60 , 1),\n",
    "       symbols = c(\"--\", \".\", \" \", \"++\"),\n",
    "       abbr.colnames = TRUE)"
   ]
  },
  {
   "cell_type": "code",
   "execution_count": 136,
   "id": "231bc520",
   "metadata": {},
   "outputs": [
    {
     "data": {
      "text/html": [
       "<table>\n",
       "<thead><tr><th></th><th scope=col>Store</th><th scope=col>Weekly_Sales</th><th scope=col>Holiday_Flag</th><th scope=col>Temperature</th><th scope=col>Fuel_Price</th><th scope=col>CPI</th><th scope=col>Unemployment</th><th scope=col>Day</th><th scope=col>Month</th><th scope=col>Year</th><th scope=col>Quarter</th></tr></thead>\n",
       "<tbody>\n",
       "\t<tr><th scope=row>Store</th><td> 1.00</td><td>-0.34</td><td> 0.00</td><td>-0.02</td><td> 0.06</td><td>-0.21</td><td> 0.27</td><td> 0.00</td><td> 0.00</td><td> 0.00</td><td> 0.00</td></tr>\n",
       "\t<tr><th scope=row>Weekly_Sales</th><td>-0.34</td><td> 1.00</td><td> 0.03</td><td>-0.05</td><td> 0.01</td><td>-0.07</td><td>-0.11</td><td>-0.03</td><td> 0.06</td><td>-0.01</td><td> 0.05</td></tr>\n",
       "\t<tr><th scope=row>Holiday_Flag</th><td> 0.00</td><td> 0.03</td><td> 1.00</td><td>-0.16</td><td>-0.08</td><td> 0.00</td><td> 0.01</td><td> 0.04</td><td> 0.12</td><td>-0.06</td><td> 0.08</td></tr>\n",
       "\t<tr><th scope=row>Temperature</th><td>-0.02</td><td>-0.05</td><td>-0.16</td><td> 1.00</td><td> 0.14</td><td> 0.18</td><td> 0.09</td><td> 0.03</td><td> 0.24</td><td> 0.06</td><td> 0.24</td></tr>\n",
       "\t<tr><th scope=row>Fuel_Price</th><td> 0.06</td><td> 0.01</td><td>-0.08</td><td> 0.14</td><td> 1.00</td><td>-0.17</td><td>-0.04</td><td> 0.03</td><td>-0.04</td><td> 0.78</td><td>-0.04</td></tr>\n",
       "\t<tr><th scope=row>CPI</th><td>-0.21</td><td>-0.07</td><td> 0.00</td><td> 0.18</td><td>-0.17</td><td> 1.00</td><td>-0.29</td><td> 0.00</td><td> 0.00</td><td> 0.07</td><td> 0.00</td></tr>\n",
       "\t<tr><th scope=row>Unemployment</th><td> 0.27</td><td>-0.11</td><td> 0.01</td><td> 0.09</td><td>-0.04</td><td>-0.29</td><td> 1.00</td><td> 0.00</td><td>-0.02</td><td>-0.24</td><td>-0.02</td></tr>\n",
       "\t<tr><th scope=row>Day</th><td> 0.00</td><td>-0.03</td><td> 0.04</td><td> 0.03</td><td> 0.03</td><td> 0.00</td><td> 0.00</td><td> 1.00</td><td> 0.02</td><td> 0.01</td><td> 0.02</td></tr>\n",
       "\t<tr><th scope=row>Month</th><td> 0.00</td><td> 0.06</td><td> 0.12</td><td> 0.24</td><td>-0.04</td><td> 0.00</td><td>-0.02</td><td> 0.02</td><td> 1.00</td><td>-0.19</td><td> 0.97</td></tr>\n",
       "\t<tr><th scope=row>Year</th><td> 0.00</td><td>-0.01</td><td>-0.06</td><td> 0.06</td><td> 0.78</td><td> 0.07</td><td>-0.24</td><td> 0.01</td><td>-0.19</td><td> 1.00</td><td>-0.19</td></tr>\n",
       "\t<tr><th scope=row>Quarter</th><td> 0.00</td><td> 0.05</td><td> 0.08</td><td> 0.24</td><td>-0.04</td><td> 0.00</td><td>-0.02</td><td> 0.02</td><td> 0.97</td><td>-0.19</td><td> 1.00</td></tr>\n",
       "</tbody>\n",
       "</table>\n"
      ],
      "text/latex": [
       "\\begin{tabular}{r|lllllllllll}\n",
       "  & Store & Weekly\\_Sales & Holiday\\_Flag & Temperature & Fuel\\_Price & CPI & Unemployment & Day & Month & Year & Quarter\\\\\n",
       "\\hline\n",
       "\tStore &  1.00 & -0.34 &  0.00 & -0.02 &  0.06 & -0.21 &  0.27 &  0.00 &  0.00 &  0.00 &  0.00\\\\\n",
       "\tWeekly\\_Sales & -0.34 &  1.00 &  0.03 & -0.05 &  0.01 & -0.07 & -0.11 & -0.03 &  0.06 & -0.01 &  0.05\\\\\n",
       "\tHoliday\\_Flag &  0.00 &  0.03 &  1.00 & -0.16 & -0.08 &  0.00 &  0.01 &  0.04 &  0.12 & -0.06 &  0.08\\\\\n",
       "\tTemperature & -0.02 & -0.05 & -0.16 &  1.00 &  0.14 &  0.18 &  0.09 &  0.03 &  0.24 &  0.06 &  0.24\\\\\n",
       "\tFuel\\_Price &  0.06 &  0.01 & -0.08 &  0.14 &  1.00 & -0.17 & -0.04 &  0.03 & -0.04 &  0.78 & -0.04\\\\\n",
       "\tCPI & -0.21 & -0.07 &  0.00 &  0.18 & -0.17 &  1.00 & -0.29 &  0.00 &  0.00 &  0.07 &  0.00\\\\\n",
       "\tUnemployment &  0.27 & -0.11 &  0.01 &  0.09 & -0.04 & -0.29 &  1.00 &  0.00 & -0.02 & -0.24 & -0.02\\\\\n",
       "\tDay &  0.00 & -0.03 &  0.04 &  0.03 &  0.03 &  0.00 &  0.00 &  1.00 &  0.02 &  0.01 &  0.02\\\\\n",
       "\tMonth &  0.00 &  0.06 &  0.12 &  0.24 & -0.04 &  0.00 & -0.02 &  0.02 &  1.00 & -0.19 &  0.97\\\\\n",
       "\tYear &  0.00 & -0.01 & -0.06 &  0.06 &  0.78 &  0.07 & -0.24 &  0.01 & -0.19 &  1.00 & -0.19\\\\\n",
       "\tQuarter &  0.00 &  0.05 &  0.08 &  0.24 & -0.04 &  0.00 & -0.02 &  0.02 &  0.97 & -0.19 &  1.00\\\\\n",
       "\\end{tabular}\n"
      ],
      "text/markdown": [
       "\n",
       "| <!--/--> | Store | Weekly_Sales | Holiday_Flag | Temperature | Fuel_Price | CPI | Unemployment | Day | Month | Year | Quarter |\n",
       "|---|---|---|---|---|---|---|---|---|---|---|---|\n",
       "| Store |  1.00 | -0.34 |  0.00 | -0.02 |  0.06 | -0.21 |  0.27 |  0.00 |  0.00 |  0.00 |  0.00 |\n",
       "| Weekly_Sales | -0.34 |  1.00 |  0.03 | -0.05 |  0.01 | -0.07 | -0.11 | -0.03 |  0.06 | -0.01 |  0.05 |\n",
       "| Holiday_Flag |  0.00 |  0.03 |  1.00 | -0.16 | -0.08 |  0.00 |  0.01 |  0.04 |  0.12 | -0.06 |  0.08 |\n",
       "| Temperature | -0.02 | -0.05 | -0.16 |  1.00 |  0.14 |  0.18 |  0.09 |  0.03 |  0.24 |  0.06 |  0.24 |\n",
       "| Fuel_Price |  0.06 |  0.01 | -0.08 |  0.14 |  1.00 | -0.17 | -0.04 |  0.03 | -0.04 |  0.78 | -0.04 |\n",
       "| CPI | -0.21 | -0.07 |  0.00 |  0.18 | -0.17 |  1.00 | -0.29 |  0.00 |  0.00 |  0.07 |  0.00 |\n",
       "| Unemployment |  0.27 | -0.11 |  0.01 |  0.09 | -0.04 | -0.29 |  1.00 |  0.00 | -0.02 | -0.24 | -0.02 |\n",
       "| Day |  0.00 | -0.03 |  0.04 |  0.03 |  0.03 |  0.00 |  0.00 |  1.00 |  0.02 |  0.01 |  0.02 |\n",
       "| Month |  0.00 |  0.06 |  0.12 |  0.24 | -0.04 |  0.00 | -0.02 |  0.02 |  1.00 | -0.19 |  0.97 |\n",
       "| Year |  0.00 | -0.01 | -0.06 |  0.06 |  0.78 |  0.07 | -0.24 |  0.01 | -0.19 |  1.00 | -0.19 |\n",
       "| Quarter |  0.00 |  0.05 |  0.08 |  0.24 | -0.04 |  0.00 | -0.02 |  0.02 |  0.97 | -0.19 |  1.00 |\n",
       "\n"
      ],
      "text/plain": [
       "             Store Weekly_Sales Holiday_Flag Temperature Fuel_Price CPI  \n",
       "Store         1.00 -0.34         0.00        -0.02        0.06      -0.21\n",
       "Weekly_Sales -0.34  1.00         0.03        -0.05        0.01      -0.07\n",
       "Holiday_Flag  0.00  0.03         1.00        -0.16       -0.08       0.00\n",
       "Temperature  -0.02 -0.05        -0.16         1.00        0.14       0.18\n",
       "Fuel_Price    0.06  0.01        -0.08         0.14        1.00      -0.17\n",
       "CPI          -0.21 -0.07         0.00         0.18       -0.17       1.00\n",
       "Unemployment  0.27 -0.11         0.01         0.09       -0.04      -0.29\n",
       "Day           0.00 -0.03         0.04         0.03        0.03       0.00\n",
       "Month         0.00  0.06         0.12         0.24       -0.04       0.00\n",
       "Year          0.00 -0.01        -0.06         0.06        0.78       0.07\n",
       "Quarter       0.00  0.05         0.08         0.24       -0.04       0.00\n",
       "             Unemployment Day   Month Year  Quarter\n",
       "Store         0.27         0.00  0.00  0.00  0.00  \n",
       "Weekly_Sales -0.11        -0.03  0.06 -0.01  0.05  \n",
       "Holiday_Flag  0.01         0.04  0.12 -0.06  0.08  \n",
       "Temperature   0.09         0.03  0.24  0.06  0.24  \n",
       "Fuel_Price   -0.04         0.03 -0.04  0.78 -0.04  \n",
       "CPI          -0.29         0.00  0.00  0.07  0.00  \n",
       "Unemployment  1.00         0.00 -0.02 -0.24 -0.02  \n",
       "Day           0.00         1.00  0.02  0.01  0.02  \n",
       "Month        -0.02         0.02  1.00 -0.19  0.97  \n",
       "Year         -0.24         0.01 -0.19  1.00 -0.19  \n",
       "Quarter      -0.02         0.02  0.97 -0.19  1.00  "
      ]
     },
     "metadata": {},
     "output_type": "display_data"
    }
   ],
   "source": [
    "# created new variable 'corr_matrix_2' and stored correlation as matrix, to perform different analysis\n",
    "\n",
    "corr_matrix_2 <- as.matrix(cor(corr_data, use = 'complete.obs'))\n",
    "corr_matrix_2 <- round(corr_matrix_2, 2)\n",
    "corr_matrix_2"
   ]
  },
  {
   "cell_type": "code",
   "execution_count": 137,
   "id": "e0159869",
   "metadata": {},
   "outputs": [
    {
     "data": {
      "text/html": [
       "<table>\n",
       "<thead><tr><th></th><th scope=col>Store</th><th scope=col>Weekly_Sales</th><th scope=col>Holiday_Flag</th><th scope=col>Temperature</th><th scope=col>Fuel_Price</th><th scope=col>CPI</th><th scope=col>Unemployment</th><th scope=col>Day</th><th scope=col>Month</th><th scope=col>Year</th><th scope=col>Quarter</th></tr></thead>\n",
       "<tbody>\n",
       "\t<tr><th scope=row>Store</th><td>     </td><td>     </td><td>     </td><td>     </td><td>     </td><td>     </td><td>     </td><td>     </td><td>     </td><td>     </td><td>     </td></tr>\n",
       "\t<tr><th scope=row>Weekly_Sales</th><td>-0.34</td><td>     </td><td>     </td><td>     </td><td>     </td><td>     </td><td>     </td><td>     </td><td>     </td><td>     </td><td>     </td></tr>\n",
       "\t<tr><th scope=row>Holiday_Flag</th><td>0    </td><td>0.03 </td><td>     </td><td>     </td><td>     </td><td>     </td><td>     </td><td>     </td><td>     </td><td>     </td><td>     </td></tr>\n",
       "\t<tr><th scope=row>Temperature</th><td>-0.02</td><td>-0.05</td><td>-0.16</td><td>     </td><td>     </td><td>     </td><td>     </td><td>     </td><td>     </td><td>     </td><td>     </td></tr>\n",
       "\t<tr><th scope=row>Fuel_Price</th><td>0.06 </td><td>0.01 </td><td>-0.08</td><td>0.14 </td><td>     </td><td>     </td><td>     </td><td>     </td><td>     </td><td>     </td><td>     </td></tr>\n",
       "\t<tr><th scope=row>CPI</th><td>-0.21</td><td>-0.07</td><td>0    </td><td>0.18 </td><td>-0.17</td><td>     </td><td>     </td><td>     </td><td>     </td><td>     </td><td>     </td></tr>\n",
       "\t<tr><th scope=row>Unemployment</th><td>0.27 </td><td>-0.11</td><td>0.01 </td><td>0.09 </td><td>-0.04</td><td>-0.29</td><td>     </td><td>     </td><td>     </td><td>     </td><td>     </td></tr>\n",
       "\t<tr><th scope=row>Day</th><td>0    </td><td>-0.03</td><td>0.04 </td><td>0.03 </td><td>0.03 </td><td>0    </td><td>0    </td><td>     </td><td>     </td><td>     </td><td>     </td></tr>\n",
       "\t<tr><th scope=row>Month</th><td>0    </td><td>0.06 </td><td>0.12 </td><td>0.24 </td><td>-0.04</td><td>0    </td><td>-0.02</td><td>0.02 </td><td>     </td><td>     </td><td>     </td></tr>\n",
       "\t<tr><th scope=row>Year</th><td>0    </td><td>-0.01</td><td>-0.06</td><td>0.06 </td><td>0.78 </td><td>0.07 </td><td>-0.24</td><td>0.01 </td><td>-0.19</td><td>     </td><td>     </td></tr>\n",
       "\t<tr><th scope=row>Quarter</th><td>0    </td><td>0.05 </td><td>0.08 </td><td>0.24 </td><td>-0.04</td><td>0    </td><td>-0.02</td><td>0.02 </td><td>0.97 </td><td>-0.19</td><td>     </td></tr>\n",
       "</tbody>\n",
       "</table>\n"
      ],
      "text/latex": [
       "\\begin{tabular}{r|lllllllllll}\n",
       "  & Store & Weekly\\_Sales & Holiday\\_Flag & Temperature & Fuel\\_Price & CPI & Unemployment & Day & Month & Year & Quarter\\\\\n",
       "\\hline\n",
       "\tStore &       &       &       &       &       &       &       &       &       &       &      \\\\\n",
       "\tWeekly\\_Sales & -0.34 &       &       &       &       &       &       &       &       &       &      \\\\\n",
       "\tHoliday\\_Flag & 0     & 0.03  &       &       &       &       &       &       &       &       &      \\\\\n",
       "\tTemperature & -0.02 & -0.05 & -0.16 &       &       &       &       &       &       &       &      \\\\\n",
       "\tFuel\\_Price & 0.06  & 0.01  & -0.08 & 0.14  &       &       &       &       &       &       &      \\\\\n",
       "\tCPI & -0.21 & -0.07 & 0     & 0.18  & -0.17 &       &       &       &       &       &      \\\\\n",
       "\tUnemployment & 0.27  & -0.11 & 0.01  & 0.09  & -0.04 & -0.29 &       &       &       &       &      \\\\\n",
       "\tDay & 0     & -0.03 & 0.04  & 0.03  & 0.03  & 0     & 0     &       &       &       &      \\\\\n",
       "\tMonth & 0     & 0.06  & 0.12  & 0.24  & -0.04 & 0     & -0.02 & 0.02  &       &       &      \\\\\n",
       "\tYear & 0     & -0.01 & -0.06 & 0.06  & 0.78  & 0.07  & -0.24 & 0.01  & -0.19 &       &      \\\\\n",
       "\tQuarter & 0     & 0.05  & 0.08  & 0.24  & -0.04 & 0     & -0.02 & 0.02  & 0.97  & -0.19 &      \\\\\n",
       "\\end{tabular}\n"
      ],
      "text/markdown": [
       "\n",
       "| <!--/--> | Store | Weekly_Sales | Holiday_Flag | Temperature | Fuel_Price | CPI | Unemployment | Day | Month | Year | Quarter |\n",
       "|---|---|---|---|---|---|---|---|---|---|---|---|\n",
       "| Store |       |       |       |       |       |       |       |       |       |       |       |\n",
       "| Weekly_Sales | -0.34 |       |       |       |       |       |       |       |       |       |       |\n",
       "| Holiday_Flag | 0     | 0.03  |       |       |       |       |       |       |       |       |       |\n",
       "| Temperature | -0.02 | -0.05 | -0.16 |       |       |       |       |       |       |       |       |\n",
       "| Fuel_Price | 0.06  | 0.01  | -0.08 | 0.14  |       |       |       |       |       |       |       |\n",
       "| CPI | -0.21 | -0.07 | 0     | 0.18  | -0.17 |       |       |       |       |       |       |\n",
       "| Unemployment | 0.27  | -0.11 | 0.01  | 0.09  | -0.04 | -0.29 |       |       |       |       |       |\n",
       "| Day | 0     | -0.03 | 0.04  | 0.03  | 0.03  | 0     | 0     |       |       |       |       |\n",
       "| Month | 0     | 0.06  | 0.12  | 0.24  | -0.04 | 0     | -0.02 | 0.02  |       |       |       |\n",
       "| Year | 0     | -0.01 | -0.06 | 0.06  | 0.78  | 0.07  | -0.24 | 0.01  | -0.19 |       |       |\n",
       "| Quarter | 0     | 0.05  | 0.08  | 0.24  | -0.04 | 0     | -0.02 | 0.02  | 0.97  | -0.19 |       |\n",
       "\n"
      ],
      "text/plain": [
       "             Store Weekly_Sales Holiday_Flag Temperature Fuel_Price CPI  \n",
       "Store                                                                    \n",
       "Weekly_Sales -0.34                                                       \n",
       "Holiday_Flag 0     0.03                                                  \n",
       "Temperature  -0.02 -0.05        -0.16                                    \n",
       "Fuel_Price   0.06  0.01         -0.08        0.14                        \n",
       "CPI          -0.21 -0.07        0            0.18        -0.17           \n",
       "Unemployment 0.27  -0.11        0.01         0.09        -0.04      -0.29\n",
       "Day          0     -0.03        0.04         0.03        0.03       0    \n",
       "Month        0     0.06         0.12         0.24        -0.04      0    \n",
       "Year         0     -0.01        -0.06        0.06        0.78       0.07 \n",
       "Quarter      0     0.05         0.08         0.24        -0.04      0    \n",
       "             Unemployment Day  Month Year  Quarter\n",
       "Store                                             \n",
       "Weekly_Sales                                      \n",
       "Holiday_Flag                                      \n",
       "Temperature                                       \n",
       "Fuel_Price                                        \n",
       "CPI                                               \n",
       "Unemployment                                      \n",
       "Day          0                                    \n",
       "Month        -0.02        0.02                    \n",
       "Year         -0.24        0.01 -0.19              \n",
       "Quarter      -0.02        0.02 0.97  -0.19        "
      ]
     },
     "metadata": {},
     "output_type": "display_data"
    }
   ],
   "source": [
    "# replacing the upper triangle of 'corr_matrix_2' with empty string, for better readability\n",
    "# this matrix is used later to view the positively related columns based on cut off value\n",
    "\n",
    "corr_matrix_2[upper.tri(corr_matrix_2, diag = TRUE)] <- \"\"\n",
    "corr_matrix_2\n"
   ]
  },
  {
   "cell_type": "code",
   "execution_count": 138,
   "id": "d2d0b3e1",
   "metadata": {},
   "outputs": [
    {
     "data": {
      "text/html": [
       "<table>\n",
       "<thead><tr><th></th><th scope=col>Store</th><th scope=col>Weekly_Sales</th><th scope=col>Holiday_Flag</th><th scope=col>Temperature</th><th scope=col>Fuel_Price</th><th scope=col>CPI</th><th scope=col>Unemployment</th><th scope=col>Day</th><th scope=col>Month</th><th scope=col>Year</th><th scope=col>Quarter</th></tr></thead>\n",
       "<tbody>\n",
       "\t<tr><th scope=row>Store</th><td> 1.00</td><td> 1.00</td><td> 1.00</td><td>1    </td><td> 1.00</td><td> 1.00</td><td> 1.00</td><td>1    </td><td> 1.00</td><td> 1.00</td><td>1    </td></tr>\n",
       "\t<tr><th scope=row>Weekly_Sales</th><td>-0.34</td><td> 1.00</td><td> 1.00</td><td>1    </td><td> 1.00</td><td> 1.00</td><td> 1.00</td><td>1    </td><td> 1.00</td><td> 1.00</td><td>1    </td></tr>\n",
       "\t<tr><th scope=row>Holiday_Flag</th><td> 0.00</td><td> 1.00</td><td> 1.00</td><td>1    </td><td> 1.00</td><td> 1.00</td><td> 1.00</td><td>1    </td><td> 1.00</td><td> 1.00</td><td>1    </td></tr>\n",
       "\t<tr><th scope=row>Temperature</th><td>-0.02</td><td>-0.05</td><td>-0.16</td><td>1    </td><td> 1.00</td><td> 1.00</td><td> 1.00</td><td>1    </td><td> 1.00</td><td> 1.00</td><td>1    </td></tr>\n",
       "\t<tr><th scope=row>Fuel_Price</th><td> 1.00</td><td> 1.00</td><td>-0.08</td><td>1    </td><td> 1.00</td><td> 1.00</td><td> 1.00</td><td>1    </td><td> 1.00</td><td> 1.00</td><td>1    </td></tr>\n",
       "\t<tr><th scope=row>CPI</th><td>-0.21</td><td>-0.07</td><td> 0.00</td><td>1    </td><td>-0.17</td><td> 1.00</td><td> 1.00</td><td>1    </td><td> 1.00</td><td> 1.00</td><td>1    </td></tr>\n",
       "\t<tr><th scope=row>Unemployment</th><td> 1.00</td><td>-0.11</td><td> 1.00</td><td>1    </td><td>-0.04</td><td>-0.29</td><td> 1.00</td><td>1    </td><td> 1.00</td><td> 1.00</td><td>1    </td></tr>\n",
       "\t<tr><th scope=row>Day</th><td> 0.00</td><td>-0.03</td><td> 1.00</td><td>1    </td><td> 1.00</td><td> 0.00</td><td> 0.00</td><td>1    </td><td> 1.00</td><td> 1.00</td><td>1    </td></tr>\n",
       "\t<tr><th scope=row>Month</th><td> 0.00</td><td> 1.00</td><td> 1.00</td><td>1    </td><td>-0.04</td><td> 0.00</td><td>-0.02</td><td>1    </td><td> 1.00</td><td> 1.00</td><td>1    </td></tr>\n",
       "\t<tr><th scope=row>Year</th><td> 0.00</td><td>-0.01</td><td>-0.06</td><td>1    </td><td> 1.00</td><td> 1.00</td><td>-0.24</td><td>1    </td><td>-0.19</td><td> 1.00</td><td>1    </td></tr>\n",
       "\t<tr><th scope=row>Quarter</th><td> 0.00</td><td> 1.00</td><td> 1.00</td><td>1    </td><td>-0.04</td><td> 0.00</td><td>-0.02</td><td>1    </td><td> 1.00</td><td>-0.19</td><td>1    </td></tr>\n",
       "</tbody>\n",
       "</table>\n"
      ],
      "text/latex": [
       "\\begin{tabular}{r|lllllllllll}\n",
       "  & Store & Weekly\\_Sales & Holiday\\_Flag & Temperature & Fuel\\_Price & CPI & Unemployment & Day & Month & Year & Quarter\\\\\n",
       "\\hline\n",
       "\tStore &  1.00 &  1.00 &  1.00 & 1     &  1.00 &  1.00 &  1.00 & 1     &  1.00 &  1.00 & 1    \\\\\n",
       "\tWeekly\\_Sales & -0.34 &  1.00 &  1.00 & 1     &  1.00 &  1.00 &  1.00 & 1     &  1.00 &  1.00 & 1    \\\\\n",
       "\tHoliday\\_Flag &  0.00 &  1.00 &  1.00 & 1     &  1.00 &  1.00 &  1.00 & 1     &  1.00 &  1.00 & 1    \\\\\n",
       "\tTemperature & -0.02 & -0.05 & -0.16 & 1     &  1.00 &  1.00 &  1.00 & 1     &  1.00 &  1.00 & 1    \\\\\n",
       "\tFuel\\_Price &  1.00 &  1.00 & -0.08 & 1     &  1.00 &  1.00 &  1.00 & 1     &  1.00 &  1.00 & 1    \\\\\n",
       "\tCPI & -0.21 & -0.07 &  0.00 & 1     & -0.17 &  1.00 &  1.00 & 1     &  1.00 &  1.00 & 1    \\\\\n",
       "\tUnemployment &  1.00 & -0.11 &  1.00 & 1     & -0.04 & -0.29 &  1.00 & 1     &  1.00 &  1.00 & 1    \\\\\n",
       "\tDay &  0.00 & -0.03 &  1.00 & 1     &  1.00 &  0.00 &  0.00 & 1     &  1.00 &  1.00 & 1    \\\\\n",
       "\tMonth &  0.00 &  1.00 &  1.00 & 1     & -0.04 &  0.00 & -0.02 & 1     &  1.00 &  1.00 & 1    \\\\\n",
       "\tYear &  0.00 & -0.01 & -0.06 & 1     &  1.00 &  1.00 & -0.24 & 1     & -0.19 &  1.00 & 1    \\\\\n",
       "\tQuarter &  0.00 &  1.00 &  1.00 & 1     & -0.04 &  0.00 & -0.02 & 1     &  1.00 & -0.19 & 1    \\\\\n",
       "\\end{tabular}\n"
      ],
      "text/markdown": [
       "\n",
       "| <!--/--> | Store | Weekly_Sales | Holiday_Flag | Temperature | Fuel_Price | CPI | Unemployment | Day | Month | Year | Quarter |\n",
       "|---|---|---|---|---|---|---|---|---|---|---|---|\n",
       "| Store |  1.00 |  1.00 |  1.00 | 1     |  1.00 |  1.00 |  1.00 | 1     |  1.00 |  1.00 | 1     |\n",
       "| Weekly_Sales | -0.34 |  1.00 |  1.00 | 1     |  1.00 |  1.00 |  1.00 | 1     |  1.00 |  1.00 | 1     |\n",
       "| Holiday_Flag |  0.00 |  1.00 |  1.00 | 1     |  1.00 |  1.00 |  1.00 | 1     |  1.00 |  1.00 | 1     |\n",
       "| Temperature | -0.02 | -0.05 | -0.16 | 1     |  1.00 |  1.00 |  1.00 | 1     |  1.00 |  1.00 | 1     |\n",
       "| Fuel_Price |  1.00 |  1.00 | -0.08 | 1     |  1.00 |  1.00 |  1.00 | 1     |  1.00 |  1.00 | 1     |\n",
       "| CPI | -0.21 | -0.07 |  0.00 | 1     | -0.17 |  1.00 |  1.00 | 1     |  1.00 |  1.00 | 1     |\n",
       "| Unemployment |  1.00 | -0.11 |  1.00 | 1     | -0.04 | -0.29 |  1.00 | 1     |  1.00 |  1.00 | 1     |\n",
       "| Day |  0.00 | -0.03 |  1.00 | 1     |  1.00 |  0.00 |  0.00 | 1     |  1.00 |  1.00 | 1     |\n",
       "| Month |  0.00 |  1.00 |  1.00 | 1     | -0.04 |  0.00 | -0.02 | 1     |  1.00 |  1.00 | 1     |\n",
       "| Year |  0.00 | -0.01 | -0.06 | 1     |  1.00 |  1.00 | -0.24 | 1     | -0.19 |  1.00 | 1     |\n",
       "| Quarter |  0.00 |  1.00 |  1.00 | 1     | -0.04 |  0.00 | -0.02 | 1     |  1.00 | -0.19 | 1     |\n",
       "\n"
      ],
      "text/plain": [
       "             Store Weekly_Sales Holiday_Flag Temperature Fuel_Price CPI  \n",
       "Store         1.00  1.00         1.00        1            1.00       1.00\n",
       "Weekly_Sales -0.34  1.00         1.00        1            1.00       1.00\n",
       "Holiday_Flag  0.00  1.00         1.00        1            1.00       1.00\n",
       "Temperature  -0.02 -0.05        -0.16        1            1.00       1.00\n",
       "Fuel_Price    1.00  1.00        -0.08        1            1.00       1.00\n",
       "CPI          -0.21 -0.07         0.00        1           -0.17       1.00\n",
       "Unemployment  1.00 -0.11         1.00        1           -0.04      -0.29\n",
       "Day           0.00 -0.03         1.00        1            1.00       0.00\n",
       "Month         0.00  1.00         1.00        1           -0.04       0.00\n",
       "Year          0.00 -0.01        -0.06        1            1.00       1.00\n",
       "Quarter       0.00  1.00         1.00        1           -0.04       0.00\n",
       "             Unemployment Day Month Year  Quarter\n",
       "Store         1.00        1    1.00  1.00 1      \n",
       "Weekly_Sales  1.00        1    1.00  1.00 1      \n",
       "Holiday_Flag  1.00        1    1.00  1.00 1      \n",
       "Temperature   1.00        1    1.00  1.00 1      \n",
       "Fuel_Price    1.00        1    1.00  1.00 1      \n",
       "CPI           1.00        1    1.00  1.00 1      \n",
       "Unemployment  1.00        1    1.00  1.00 1      \n",
       "Day           0.00        1    1.00  1.00 1      \n",
       "Month        -0.02        1    1.00  1.00 1      \n",
       "Year         -0.24        1   -0.19  1.00 1      \n",
       "Quarter      -0.02        1    1.00 -0.19 1      "
      ]
     },
     "metadata": {},
     "output_type": "display_data"
    }
   ],
   "source": [
    "# New variable 'neg_corr_matrix' is created with correlations\n",
    "# replacing the upper triangle of 'neg_corr_matrix' with 1, because we wish to view the negatively related columns \n",
    "# with a specific cut off value, and in order to eliminate the redundant outputs, we replace upper triangle with 1\n",
    "# by doing this, the upper triangle values will not be selected anytime we put conditions based on negative values\n",
    "\n",
    "\n",
    "neg_corr_matrix <- round(cor(corr_data),2)\n",
    "neg_corr_matrix[neg_corr_matrix > 0] <- 1\n",
    "neg_corr_matrix[upper.tri(neg_corr_matrix, diag = TRUE)] <- 1\n",
    "neg_corr_matrix"
   ]
  },
  {
   "cell_type": "code",
   "execution_count": 139,
   "id": "20ac8e93",
   "metadata": {},
   "outputs": [],
   "source": [
    "# 'p_indx', 'n_indx' variable stores the index values of 'corr_matrix_2' (positive corr matrix) and 'neg_corr_matrix'\n",
    "# based on specific threshold, in our case, index position greater than or equal to 0.5 for positive correlations\n",
    "# and index positions lesser than -0.3 for negative correlations\n",
    "\n",
    "# postive_corr_df is a dataframe where we create three columns, Var1, Var2, Cor. Var1 and Var2 contains the names of the columns\n",
    "# based on the p_indx index values, and Cor column contains their respective correlation value.\n",
    "# the idea to do this is to only see the column names and correlation value, based on the threshold.\n",
    "\n",
    "# likewise, dataframe negative_corr_df is created based on n_indx\n",
    "\n",
    "p_indx <- which(corr_matrix_2 >= 0.5, arr.ind = TRUE)\n",
    "n_indx <- which(neg_corr_matrix < -0.30, arr.ind = TRUE)\n",
    "\n",
    "postive_corr_df <- data.frame(Var1 = rownames(corr_matrix_2)[p_indx[, 1]], \n",
    "           Var2 = colnames(corr_matrix_2)[p_indx[, 2]], \n",
    "            Cor = corr_matrix_2[p_indx])\n",
    "\n",
    "negative_corr_df <- data.frame(Var1 = rownames(neg_corr_matrix)[n_indx[, 1]], \n",
    "           Var2 = colnames(neg_corr_matrix)[n_indx[, 2]], \n",
    "            Cor = neg_corr_matrix[n_indx])"
   ]
  },
  {
   "cell_type": "code",
   "execution_count": 140,
   "id": "195276ec",
   "metadata": {},
   "outputs": [
    {
     "data": {
      "text/html": [
       "<table>\n",
       "<thead><tr><th scope=col>Var1</th><th scope=col>Var2</th><th scope=col>Cor</th></tr></thead>\n",
       "<tbody>\n",
       "\t<tr><td>Year      </td><td>Fuel_Price</td><td>0.78      </td></tr>\n",
       "\t<tr><td>Quarter   </td><td>Month     </td><td>0.97      </td></tr>\n",
       "</tbody>\n",
       "</table>\n"
      ],
      "text/latex": [
       "\\begin{tabular}{r|lll}\n",
       " Var1 & Var2 & Cor\\\\\n",
       "\\hline\n",
       "\t Year         & Fuel\\_Price & 0.78        \\\\\n",
       "\t Quarter    & Month      & 0.97      \\\\\n",
       "\\end{tabular}\n"
      ],
      "text/markdown": [
       "\n",
       "| Var1 | Var2 | Cor |\n",
       "|---|---|---|\n",
       "| Year       | Fuel_Price | 0.78       |\n",
       "| Quarter    | Month      | 0.97       |\n",
       "\n"
      ],
      "text/plain": [
       "  Var1    Var2       Cor \n",
       "1 Year    Fuel_Price 0.78\n",
       "2 Quarter Month      0.97"
      ]
     },
     "metadata": {},
     "output_type": "display_data"
    }
   ],
   "source": [
    "postive_corr_df"
   ]
  },
  {
   "cell_type": "code",
   "execution_count": 141,
   "id": "ff3083c2",
   "metadata": {},
   "outputs": [
    {
     "data": {
      "text/html": [
       "<table>\n",
       "<thead><tr><th scope=col>Var1</th><th scope=col>Var2</th><th scope=col>Cor</th></tr></thead>\n",
       "<tbody>\n",
       "\t<tr><td>Weekly_Sales</td><td>Store       </td><td>-0.34       </td></tr>\n",
       "</tbody>\n",
       "</table>\n"
      ],
      "text/latex": [
       "\\begin{tabular}{r|lll}\n",
       " Var1 & Var2 & Cor\\\\\n",
       "\\hline\n",
       "\t Weekly\\_Sales & Store          & -0.34         \\\\\n",
       "\\end{tabular}\n"
      ],
      "text/markdown": [
       "\n",
       "| Var1 | Var2 | Cor |\n",
       "|---|---|---|\n",
       "| Weekly_Sales | Store        | -0.34        |\n",
       "\n"
      ],
      "text/plain": [
       "  Var1         Var2  Cor  \n",
       "1 Weekly_Sales Store -0.34"
      ]
     },
     "metadata": {},
     "output_type": "display_data"
    }
   ],
   "source": [
    "negative_corr_df"
   ]
  },
  {
   "cell_type": "markdown",
   "id": "e30566b1",
   "metadata": {},
   "source": [
    "### Q. Hypothesize if CPI, unemployment, and fuel price have any impact on sales."
   ]
  },
  {
   "cell_type": "markdown",
   "id": "968fc939",
   "metadata": {},
   "source": [
    "### Ans: Based on corrleation matrix values, since CPI, unemployment, and fuel price have no significant correlation coefficient magnitude with Weekly_sales, therefore, there is not relationship of CPI, Uemployment and Fuel Price on Weekly sales"
   ]
  },
  {
   "cell_type": "code",
   "execution_count": 142,
   "id": "799b12c5",
   "metadata": {},
   "outputs": [
    {
     "data": {
      "text/html": [
       "<table>\n",
       "<thead><tr><th scope=col>Store</th><th scope=col>Date</th><th scope=col>Weekly_Sales</th><th scope=col>Holiday_Flag</th><th scope=col>Temperature</th><th scope=col>Fuel_Price</th><th scope=col>CPI</th><th scope=col>Unemployment</th><th scope=col>Weekly_Sales_Scaled</th><th scope=col>Super_Bowl</th><th scope=col>Labour_Day</th><th scope=col>Thanksgiving</th><th scope=col>Christmas</th><th scope=col>Holiday_Names</th><th scope=col>Day</th><th scope=col>Month</th><th scope=col>Year</th><th scope=col>Quarter</th><th scope=col>Month_Name</th></tr></thead>\n",
       "<tbody>\n",
       "\t<tr><td>1          </td><td>2010-02-05 </td><td>1643690.90 </td><td>0          </td><td>42.31      </td><td>2.572      </td><td>211.0963582</td><td>8.106      </td><td>16.4369090 </td><td>0          </td><td>0          </td><td>0          </td><td>0          </td><td>Others     </td><td> 5         </td><td>2          </td><td>2010       </td><td>1          </td><td>Feb        </td></tr>\n",
       "\t<tr><td>1          </td><td>2010-02-12 </td><td>1641957.44 </td><td>1          </td><td>38.51      </td><td>2.548      </td><td>211.2421698</td><td>8.106      </td><td>16.4195744 </td><td>1          </td><td>0          </td><td>0          </td><td>0          </td><td>Super_Bowl </td><td>12         </td><td>2          </td><td>2010       </td><td>1          </td><td>Feb        </td></tr>\n",
       "\t<tr><td>1          </td><td>2010-02-19 </td><td>1611968.17 </td><td>0          </td><td>39.93      </td><td>2.514      </td><td>211.2891429</td><td>8.106      </td><td>16.1196817 </td><td>0          </td><td>0          </td><td>0          </td><td>0          </td><td>Others     </td><td>19         </td><td>2          </td><td>2010       </td><td>1          </td><td>Feb        </td></tr>\n",
       "\t<tr><td>1          </td><td>2010-02-26 </td><td>1409727.59 </td><td>0          </td><td>46.63      </td><td>2.561      </td><td>211.3196429</td><td>8.106      </td><td>14.0972759 </td><td>0          </td><td>0          </td><td>0          </td><td>0          </td><td>Others     </td><td>26         </td><td>2          </td><td>2010       </td><td>1          </td><td>Feb        </td></tr>\n",
       "\t<tr><td>1          </td><td>2010-03-05 </td><td>1554806.68 </td><td>0          </td><td>46.50      </td><td>2.625      </td><td>211.3501429</td><td>8.106      </td><td>15.5480668 </td><td>0          </td><td>0          </td><td>0          </td><td>0          </td><td>Others     </td><td> 5         </td><td>3          </td><td>2010       </td><td>1          </td><td>Mar        </td></tr>\n",
       "\t<tr><td>1          </td><td>2010-03-12 </td><td>1439541.59 </td><td>0          </td><td>57.79      </td><td>2.667      </td><td>211.3806429</td><td>8.106      </td><td>14.3954159 </td><td>0          </td><td>0          </td><td>0          </td><td>0          </td><td>Others     </td><td>12         </td><td>3          </td><td>2010       </td><td>1          </td><td>Mar        </td></tr>\n",
       "\t<tr><td>1          </td><td>2010-03-19 </td><td>1472515.79 </td><td>0          </td><td>54.58      </td><td>2.720      </td><td>211.2156350</td><td>8.106      </td><td>14.7251579 </td><td>0          </td><td>0          </td><td>0          </td><td>0          </td><td>Others     </td><td>19         </td><td>3          </td><td>2010       </td><td>1          </td><td>Mar        </td></tr>\n",
       "\t<tr><td>1          </td><td>2010-03-26 </td><td>1404429.92 </td><td>0          </td><td>51.45      </td><td>2.732      </td><td>211.0180424</td><td>8.106      </td><td>14.0442992 </td><td>0          </td><td>0          </td><td>0          </td><td>0          </td><td>Others     </td><td>26         </td><td>3          </td><td>2010       </td><td>1          </td><td>Mar        </td></tr>\n",
       "\t<tr><td>1          </td><td>2010-04-02 </td><td>1594968.28 </td><td>0          </td><td>62.27      </td><td>2.719      </td><td>210.8204499</td><td>7.808      </td><td>15.9496828 </td><td>0          </td><td>0          </td><td>0          </td><td>0          </td><td>Others     </td><td> 2         </td><td>4          </td><td>2010       </td><td>2          </td><td>Apr        </td></tr>\n",
       "\t<tr><td>1          </td><td>2010-04-09 </td><td>1545418.53 </td><td>0          </td><td>65.86      </td><td>2.770      </td><td>210.6228574</td><td>7.808      </td><td>15.4541853 </td><td>0          </td><td>0          </td><td>0          </td><td>0          </td><td>Others     </td><td> 9         </td><td>4          </td><td>2010       </td><td>2          </td><td>Apr        </td></tr>\n",
       "</tbody>\n",
       "</table>\n"
      ],
      "text/latex": [
       "\\begin{tabular}{r|lllllllllllllllllll}\n",
       " Store & Date & Weekly\\_Sales & Holiday\\_Flag & Temperature & Fuel\\_Price & CPI & Unemployment & Weekly\\_Sales\\_Scaled & Super\\_Bowl & Labour\\_Day & Thanksgiving & Christmas & Holiday\\_Names & Day & Month & Year & Quarter & Month\\_Name\\\\\n",
       "\\hline\n",
       "\t 1           & 2010-02-05  & 1643690.90  & 0           & 42.31       & 2.572       & 211.0963582 & 8.106       & 16.4369090  & 0           & 0           & 0           & 0           & Others      &  5          & 2           & 2010        & 1           & Feb        \\\\\n",
       "\t 1            & 2010-02-12   & 1641957.44   & 1            & 38.51        & 2.548        & 211.2421698  & 8.106        & 16.4195744   & 1            & 0            & 0            & 0            & Super\\_Bowl & 12           & 2            & 2010         & 1            & Feb         \\\\\n",
       "\t 1           & 2010-02-19  & 1611968.17  & 0           & 39.93       & 2.514       & 211.2891429 & 8.106       & 16.1196817  & 0           & 0           & 0           & 0           & Others      & 19          & 2           & 2010        & 1           & Feb        \\\\\n",
       "\t 1           & 2010-02-26  & 1409727.59  & 0           & 46.63       & 2.561       & 211.3196429 & 8.106       & 14.0972759  & 0           & 0           & 0           & 0           & Others      & 26          & 2           & 2010        & 1           & Feb        \\\\\n",
       "\t 1           & 2010-03-05  & 1554806.68  & 0           & 46.50       & 2.625       & 211.3501429 & 8.106       & 15.5480668  & 0           & 0           & 0           & 0           & Others      &  5          & 3           & 2010        & 1           & Mar        \\\\\n",
       "\t 1           & 2010-03-12  & 1439541.59  & 0           & 57.79       & 2.667       & 211.3806429 & 8.106       & 14.3954159  & 0           & 0           & 0           & 0           & Others      & 12          & 3           & 2010        & 1           & Mar        \\\\\n",
       "\t 1           & 2010-03-19  & 1472515.79  & 0           & 54.58       & 2.720       & 211.2156350 & 8.106       & 14.7251579  & 0           & 0           & 0           & 0           & Others      & 19          & 3           & 2010        & 1           & Mar        \\\\\n",
       "\t 1           & 2010-03-26  & 1404429.92  & 0           & 51.45       & 2.732       & 211.0180424 & 8.106       & 14.0442992  & 0           & 0           & 0           & 0           & Others      & 26          & 3           & 2010        & 1           & Mar        \\\\\n",
       "\t 1           & 2010-04-02  & 1594968.28  & 0           & 62.27       & 2.719       & 210.8204499 & 7.808       & 15.9496828  & 0           & 0           & 0           & 0           & Others      &  2          & 4           & 2010        & 2           & Apr        \\\\\n",
       "\t 1           & 2010-04-09  & 1545418.53  & 0           & 65.86       & 2.770       & 210.6228574 & 7.808       & 15.4541853  & 0           & 0           & 0           & 0           & Others      &  9          & 4           & 2010        & 2           & Apr        \\\\\n",
       "\\end{tabular}\n"
      ],
      "text/markdown": [
       "\n",
       "| Store | Date | Weekly_Sales | Holiday_Flag | Temperature | Fuel_Price | CPI | Unemployment | Weekly_Sales_Scaled | Super_Bowl | Labour_Day | Thanksgiving | Christmas | Holiday_Names | Day | Month | Year | Quarter | Month_Name |\n",
       "|---|---|---|---|---|---|---|---|---|---|---|---|---|---|---|---|---|---|---|\n",
       "| 1           | 2010-02-05  | 1643690.90  | 0           | 42.31       | 2.572       | 211.0963582 | 8.106       | 16.4369090  | 0           | 0           | 0           | 0           | Others      |  5          | 2           | 2010        | 1           | Feb         |\n",
       "| 1           | 2010-02-12  | 1641957.44  | 1           | 38.51       | 2.548       | 211.2421698 | 8.106       | 16.4195744  | 1           | 0           | 0           | 0           | Super_Bowl  | 12          | 2           | 2010        | 1           | Feb         |\n",
       "| 1           | 2010-02-19  | 1611968.17  | 0           | 39.93       | 2.514       | 211.2891429 | 8.106       | 16.1196817  | 0           | 0           | 0           | 0           | Others      | 19          | 2           | 2010        | 1           | Feb         |\n",
       "| 1           | 2010-02-26  | 1409727.59  | 0           | 46.63       | 2.561       | 211.3196429 | 8.106       | 14.0972759  | 0           | 0           | 0           | 0           | Others      | 26          | 2           | 2010        | 1           | Feb         |\n",
       "| 1           | 2010-03-05  | 1554806.68  | 0           | 46.50       | 2.625       | 211.3501429 | 8.106       | 15.5480668  | 0           | 0           | 0           | 0           | Others      |  5          | 3           | 2010        | 1           | Mar         |\n",
       "| 1           | 2010-03-12  | 1439541.59  | 0           | 57.79       | 2.667       | 211.3806429 | 8.106       | 14.3954159  | 0           | 0           | 0           | 0           | Others      | 12          | 3           | 2010        | 1           | Mar         |\n",
       "| 1           | 2010-03-19  | 1472515.79  | 0           | 54.58       | 2.720       | 211.2156350 | 8.106       | 14.7251579  | 0           | 0           | 0           | 0           | Others      | 19          | 3           | 2010        | 1           | Mar         |\n",
       "| 1           | 2010-03-26  | 1404429.92  | 0           | 51.45       | 2.732       | 211.0180424 | 8.106       | 14.0442992  | 0           | 0           | 0           | 0           | Others      | 26          | 3           | 2010        | 1           | Mar         |\n",
       "| 1           | 2010-04-02  | 1594968.28  | 0           | 62.27       | 2.719       | 210.8204499 | 7.808       | 15.9496828  | 0           | 0           | 0           | 0           | Others      |  2          | 4           | 2010        | 2           | Apr         |\n",
       "| 1           | 2010-04-09  | 1545418.53  | 0           | 65.86       | 2.770       | 210.6228574 | 7.808       | 15.4541853  | 0           | 0           | 0           | 0           | Others      |  9          | 4           | 2010        | 2           | Apr         |\n",
       "\n"
      ],
      "text/plain": [
       "   Store Date       Weekly_Sales Holiday_Flag Temperature Fuel_Price\n",
       "1  1     2010-02-05 1643690.90   0            42.31       2.572     \n",
       "2  1     2010-02-12 1641957.44   1            38.51       2.548     \n",
       "3  1     2010-02-19 1611968.17   0            39.93       2.514     \n",
       "4  1     2010-02-26 1409727.59   0            46.63       2.561     \n",
       "5  1     2010-03-05 1554806.68   0            46.50       2.625     \n",
       "6  1     2010-03-12 1439541.59   0            57.79       2.667     \n",
       "7  1     2010-03-19 1472515.79   0            54.58       2.720     \n",
       "8  1     2010-03-26 1404429.92   0            51.45       2.732     \n",
       "9  1     2010-04-02 1594968.28   0            62.27       2.719     \n",
       "10 1     2010-04-09 1545418.53   0            65.86       2.770     \n",
       "   CPI         Unemployment Weekly_Sales_Scaled Super_Bowl Labour_Day\n",
       "1  211.0963582 8.106        16.4369090          0          0         \n",
       "2  211.2421698 8.106        16.4195744          1          0         \n",
       "3  211.2891429 8.106        16.1196817          0          0         \n",
       "4  211.3196429 8.106        14.0972759          0          0         \n",
       "5  211.3501429 8.106        15.5480668          0          0         \n",
       "6  211.3806429 8.106        14.3954159          0          0         \n",
       "7  211.2156350 8.106        14.7251579          0          0         \n",
       "8  211.0180424 8.106        14.0442992          0          0         \n",
       "9  210.8204499 7.808        15.9496828          0          0         \n",
       "10 210.6228574 7.808        15.4541853          0          0         \n",
       "   Thanksgiving Christmas Holiday_Names Day Month Year Quarter Month_Name\n",
       "1  0            0         Others         5  2     2010 1       Feb       \n",
       "2  0            0         Super_Bowl    12  2     2010 1       Feb       \n",
       "3  0            0         Others        19  2     2010 1       Feb       \n",
       "4  0            0         Others        26  2     2010 1       Feb       \n",
       "5  0            0         Others         5  3     2010 1       Mar       \n",
       "6  0            0         Others        12  3     2010 1       Mar       \n",
       "7  0            0         Others        19  3     2010 1       Mar       \n",
       "8  0            0         Others        26  3     2010 1       Mar       \n",
       "9  0            0         Others         2  4     2010 2       Apr       \n",
       "10 0            0         Others         9  4     2010 2       Apr       "
      ]
     },
     "metadata": {},
     "output_type": "display_data"
    }
   ],
   "source": [
    "head(walmart_data, n = 10)"
   ]
  },
  {
   "cell_type": "markdown",
   "id": "c1e39583",
   "metadata": {},
   "source": [
    "### Creating Linear Model"
   ]
  },
  {
   "cell_type": "code",
   "execution_count": 143,
   "id": "c8b7c3ec",
   "metadata": {},
   "outputs": [
    {
     "data": {
      "text/html": [
       "<table>\n",
       "<thead><tr><th scope=col>Store</th><th scope=col>Weekly_Sales</th><th scope=col>Temperature</th><th scope=col>CPI</th><th scope=col>Unemployment</th><th scope=col>Super_Bowl</th><th scope=col>Labour_Day</th><th scope=col>Thanksgiving</th><th scope=col>Christmas</th><th scope=col>Day</th><th scope=col>Month</th><th scope=col>Year</th></tr></thead>\n",
       "<tbody>\n",
       "\t<tr><td>1          </td><td>1643690.90 </td><td>42.31      </td><td>211.0963582</td><td>8.106      </td><td>0          </td><td>0          </td><td>0          </td><td>0          </td><td> 5         </td><td>2          </td><td>2010       </td></tr>\n",
       "\t<tr><td>1          </td><td>1641957.44 </td><td>38.51      </td><td>211.2421698</td><td>8.106      </td><td>1          </td><td>0          </td><td>0          </td><td>0          </td><td>12         </td><td>2          </td><td>2010       </td></tr>\n",
       "\t<tr><td>1          </td><td>1611968.17 </td><td>39.93      </td><td>211.2891429</td><td>8.106      </td><td>0          </td><td>0          </td><td>0          </td><td>0          </td><td>19         </td><td>2          </td><td>2010       </td></tr>\n",
       "\t<tr><td>1          </td><td>1409727.59 </td><td>46.63      </td><td>211.3196429</td><td>8.106      </td><td>0          </td><td>0          </td><td>0          </td><td>0          </td><td>26         </td><td>2          </td><td>2010       </td></tr>\n",
       "\t<tr><td>1          </td><td>1554806.68 </td><td>46.50      </td><td>211.3501429</td><td>8.106      </td><td>0          </td><td>0          </td><td>0          </td><td>0          </td><td> 5         </td><td>3          </td><td>2010       </td></tr>\n",
       "\t<tr><td>1          </td><td>1439541.59 </td><td>57.79      </td><td>211.3806429</td><td>8.106      </td><td>0          </td><td>0          </td><td>0          </td><td>0          </td><td>12         </td><td>3          </td><td>2010       </td></tr>\n",
       "\t<tr><td>1          </td><td>1472515.79 </td><td>54.58      </td><td>211.2156350</td><td>8.106      </td><td>0          </td><td>0          </td><td>0          </td><td>0          </td><td>19         </td><td>3          </td><td>2010       </td></tr>\n",
       "\t<tr><td>1          </td><td>1404429.92 </td><td>51.45      </td><td>211.0180424</td><td>8.106      </td><td>0          </td><td>0          </td><td>0          </td><td>0          </td><td>26         </td><td>3          </td><td>2010       </td></tr>\n",
       "\t<tr><td>1          </td><td>1594968.28 </td><td>62.27      </td><td>210.8204499</td><td>7.808      </td><td>0          </td><td>0          </td><td>0          </td><td>0          </td><td> 2         </td><td>4          </td><td>2010       </td></tr>\n",
       "\t<tr><td>1          </td><td>1545418.53 </td><td>65.86      </td><td>210.6228574</td><td>7.808      </td><td>0          </td><td>0          </td><td>0          </td><td>0          </td><td> 9         </td><td>4          </td><td>2010       </td></tr>\n",
       "</tbody>\n",
       "</table>\n"
      ],
      "text/latex": [
       "\\begin{tabular}{r|llllllllllll}\n",
       " Store & Weekly\\_Sales & Temperature & CPI & Unemployment & Super\\_Bowl & Labour\\_Day & Thanksgiving & Christmas & Day & Month & Year\\\\\n",
       "\\hline\n",
       "\t 1           & 1643690.90  & 42.31       & 211.0963582 & 8.106       & 0           & 0           & 0           & 0           &  5          & 2           & 2010       \\\\\n",
       "\t 1           & 1641957.44  & 38.51       & 211.2421698 & 8.106       & 1           & 0           & 0           & 0           & 12          & 2           & 2010       \\\\\n",
       "\t 1           & 1611968.17  & 39.93       & 211.2891429 & 8.106       & 0           & 0           & 0           & 0           & 19          & 2           & 2010       \\\\\n",
       "\t 1           & 1409727.59  & 46.63       & 211.3196429 & 8.106       & 0           & 0           & 0           & 0           & 26          & 2           & 2010       \\\\\n",
       "\t 1           & 1554806.68  & 46.50       & 211.3501429 & 8.106       & 0           & 0           & 0           & 0           &  5          & 3           & 2010       \\\\\n",
       "\t 1           & 1439541.59  & 57.79       & 211.3806429 & 8.106       & 0           & 0           & 0           & 0           & 12          & 3           & 2010       \\\\\n",
       "\t 1           & 1472515.79  & 54.58       & 211.2156350 & 8.106       & 0           & 0           & 0           & 0           & 19          & 3           & 2010       \\\\\n",
       "\t 1           & 1404429.92  & 51.45       & 211.0180424 & 8.106       & 0           & 0           & 0           & 0           & 26          & 3           & 2010       \\\\\n",
       "\t 1           & 1594968.28  & 62.27       & 210.8204499 & 7.808       & 0           & 0           & 0           & 0           &  2          & 4           & 2010       \\\\\n",
       "\t 1           & 1545418.53  & 65.86       & 210.6228574 & 7.808       & 0           & 0           & 0           & 0           &  9          & 4           & 2010       \\\\\n",
       "\\end{tabular}\n"
      ],
      "text/markdown": [
       "\n",
       "| Store | Weekly_Sales | Temperature | CPI | Unemployment | Super_Bowl | Labour_Day | Thanksgiving | Christmas | Day | Month | Year |\n",
       "|---|---|---|---|---|---|---|---|---|---|---|---|\n",
       "| 1           | 1643690.90  | 42.31       | 211.0963582 | 8.106       | 0           | 0           | 0           | 0           |  5          | 2           | 2010        |\n",
       "| 1           | 1641957.44  | 38.51       | 211.2421698 | 8.106       | 1           | 0           | 0           | 0           | 12          | 2           | 2010        |\n",
       "| 1           | 1611968.17  | 39.93       | 211.2891429 | 8.106       | 0           | 0           | 0           | 0           | 19          | 2           | 2010        |\n",
       "| 1           | 1409727.59  | 46.63       | 211.3196429 | 8.106       | 0           | 0           | 0           | 0           | 26          | 2           | 2010        |\n",
       "| 1           | 1554806.68  | 46.50       | 211.3501429 | 8.106       | 0           | 0           | 0           | 0           |  5          | 3           | 2010        |\n",
       "| 1           | 1439541.59  | 57.79       | 211.3806429 | 8.106       | 0           | 0           | 0           | 0           | 12          | 3           | 2010        |\n",
       "| 1           | 1472515.79  | 54.58       | 211.2156350 | 8.106       | 0           | 0           | 0           | 0           | 19          | 3           | 2010        |\n",
       "| 1           | 1404429.92  | 51.45       | 211.0180424 | 8.106       | 0           | 0           | 0           | 0           | 26          | 3           | 2010        |\n",
       "| 1           | 1594968.28  | 62.27       | 210.8204499 | 7.808       | 0           | 0           | 0           | 0           |  2          | 4           | 2010        |\n",
       "| 1           | 1545418.53  | 65.86       | 210.6228574 | 7.808       | 0           | 0           | 0           | 0           |  9          | 4           | 2010        |\n",
       "\n"
      ],
      "text/plain": [
       "   Store Weekly_Sales Temperature CPI         Unemployment Super_Bowl\n",
       "1  1     1643690.90   42.31       211.0963582 8.106        0         \n",
       "2  1     1641957.44   38.51       211.2421698 8.106        1         \n",
       "3  1     1611968.17   39.93       211.2891429 8.106        0         \n",
       "4  1     1409727.59   46.63       211.3196429 8.106        0         \n",
       "5  1     1554806.68   46.50       211.3501429 8.106        0         \n",
       "6  1     1439541.59   57.79       211.3806429 8.106        0         \n",
       "7  1     1472515.79   54.58       211.2156350 8.106        0         \n",
       "8  1     1404429.92   51.45       211.0180424 8.106        0         \n",
       "9  1     1594968.28   62.27       210.8204499 7.808        0         \n",
       "10 1     1545418.53   65.86       210.6228574 7.808        0         \n",
       "   Labour_Day Thanksgiving Christmas Day Month Year\n",
       "1  0          0            0          5  2     2010\n",
       "2  0          0            0         12  2     2010\n",
       "3  0          0            0         19  2     2010\n",
       "4  0          0            0         26  2     2010\n",
       "5  0          0            0          5  3     2010\n",
       "6  0          0            0         12  3     2010\n",
       "7  0          0            0         19  3     2010\n",
       "8  0          0            0         26  3     2010\n",
       "9  0          0            0          2  4     2010\n",
       "10 0          0            0          9  4     2010"
      ]
     },
     "metadata": {},
     "output_type": "display_data"
    }
   ],
   "source": [
    "# Storing the specific columns in model_data variable\n",
    "\n",
    "model_data <- subset(walmart_data, select = -c(Date, Holiday_Names, Holiday_Flag, Weekly_Sales_Scaled, \n",
    "                                               Quarter, Month_Name, Fuel_Price ))\n",
    "\n",
    "head(model_data, n=10)"
   ]
  },
  {
   "cell_type": "code",
   "execution_count": 144,
   "id": "1b9835e1",
   "metadata": {},
   "outputs": [
    {
     "data": {
      "text/html": [
       "<table>\n",
       "<thead><tr><th scope=col>Store</th><th scope=col>Weekly_Sales</th><th scope=col>Temperature</th><th scope=col>CPI</th><th scope=col>Unemployment</th><th scope=col>Super_Bowl</th><th scope=col>Labour_Day</th><th scope=col>Thanksgiving</th><th scope=col>Christmas</th><th scope=col>Day</th><th scope=col>Month</th><th scope=col>Year</th></tr></thead>\n",
       "<tbody>\n",
       "\t<tr><td>-1.69384748029762  </td><td>1.097534375557905  </td><td>-0.9972007109095585</td><td>1.004097193239728  </td><td> 0.1467938199052847</td><td>0                  </td><td>0                  </td><td>0                  </td><td>0                  </td><td>-1.219574020925407 </td><td>-1.373418444284726 </td><td>-1.21080498156193  </td></tr>\n",
       "\t<tr><td>-1.69384748029762  </td><td>1.094375115071336  </td><td>-1.2035345621576705</td><td>1.007802065712423  </td><td> 0.1467938199052847</td><td>1                  </td><td>0                  </td><td>0                  </td><td>0                  </td><td>-0.420102118537501 </td><td>-1.373418444284726 </td><td>-1.21080498156193  </td></tr>\n",
       "\t<tr><td>-1.69384748029762  </td><td>1.039719157776656  </td><td>-1.1264308598491655</td><td>1.008995587662304  </td><td> 0.1467938199052847</td><td>0                  </td><td>0                  </td><td>0                  </td><td>0                  </td><td> 0.379369783850405 </td><td>-1.373418444284726 </td><td>-1.21080498156193  </td></tr>\n",
       "\t<tr><td>-1.69384748029762  </td><td>0.671132243065785  </td><td>-0.7626317010695999</td><td>1.009770550768238  </td><td> 0.1467938199052847</td><td>0                  </td><td>0                  </td><td>0                  </td><td>0                  </td><td> 1.178841686238311 </td><td>-1.373418444284726 </td><td>-1.21080498156193  </td></tr>\n",
       "\t<tr><td>-1.69384748029762  </td><td>0.935541364974755  </td><td>-0.7696904907175617</td><td>1.010545513874172  </td><td> 0.1467938199052847</td><td>0                  </td><td>0                  </td><td>0                  </td><td>0                  </td><td>-1.219574020925407 </td><td>-1.064615240616934 </td><td>-1.21080498156193  </td></tr>\n",
       "\t<tr><td>-1.69384748029762  </td><td>0.725468767788914  </td><td>-0.1566617589830402</td><td>1.011320476980106  </td><td> 0.1467938199052847</td><td>0                  </td><td>0                  </td><td>0                  </td><td>0                  </td><td>-0.420102118537501 </td><td>-1.064615240616934 </td><td>-1.21080498156193  </td></tr>\n",
       "\t<tr><td>-1.69384748029762  </td><td>0.785564811041258  </td><td>-0.3309595649057873</td><td>1.007127852891986  </td><td> 0.1467938199052847</td><td>0                  </td><td>0                  </td><td>0                  </td><td>0                  </td><td> 0.379369783850405 </td><td>-1.064615240616934 </td><td>-1.21080498156193  </td></tr>\n",
       "\t<tr><td>-1.69384748029762  </td><td>0.661477148917734  </td><td>-0.5009135002759423</td><td>1.002107296334426  </td><td> 0.1467938199052847</td><td>0                  </td><td>0                  </td><td>0                  </td><td>0                  </td><td> 1.178841686238311 </td><td>-1.064615240616934 </td><td>-1.21080498156193  </td></tr>\n",
       "\t<tr><td>-1.69384748029762  </td><td>1.008736567608431  </td><td> 0.0865949919621023</td><td>0.997086742317729  </td><td>-0.0536107199518823</td><td>0                  </td><td>0                  </td><td>0                  </td><td>0                  </td><td>-1.562204836234510 </td><td>-0.755812036949141 </td><td>-1.21080498156193  </td></tr>\n",
       "\t<tr><td>-1.69384748029762  </td><td>0.918431301092705  </td><td> 0.2815261830096604</td><td>0.992066188301031  </td><td>-0.0536107199518823</td><td>0                  </td><td>0                  </td><td>0                  </td><td>0                  </td><td>-0.762732933846604 </td><td>-0.755812036949141 </td><td>-1.21080498156193  </td></tr>\n",
       "</tbody>\n",
       "</table>\n"
      ],
      "text/latex": [
       "\\begin{tabular}{r|llllllllllll}\n",
       " Store & Weekly\\_Sales & Temperature & CPI & Unemployment & Super\\_Bowl & Labour\\_Day & Thanksgiving & Christmas & Day & Month & Year\\\\\n",
       "\\hline\n",
       "\t -1.69384748029762   & 1.097534375557905   & -0.9972007109095585 & 1.004097193239728   &  0.1467938199052847 & 0                   & 0                   & 0                   & 0                   & -1.219574020925407  & -1.373418444284726  & -1.21080498156193  \\\\\n",
       "\t -1.69384748029762   & 1.094375115071336   & -1.2035345621576705 & 1.007802065712423   &  0.1467938199052847 & 1                   & 0                   & 0                   & 0                   & -0.420102118537501  & -1.373418444284726  & -1.21080498156193  \\\\\n",
       "\t -1.69384748029762   & 1.039719157776656   & -1.1264308598491655 & 1.008995587662304   &  0.1467938199052847 & 0                   & 0                   & 0                   & 0                   &  0.379369783850405  & -1.373418444284726  & -1.21080498156193  \\\\\n",
       "\t -1.69384748029762   & 0.671132243065785   & -0.7626317010695999 & 1.009770550768238   &  0.1467938199052847 & 0                   & 0                   & 0                   & 0                   &  1.178841686238311  & -1.373418444284726  & -1.21080498156193  \\\\\n",
       "\t -1.69384748029762   & 0.935541364974755   & -0.7696904907175617 & 1.010545513874172   &  0.1467938199052847 & 0                   & 0                   & 0                   & 0                   & -1.219574020925407  & -1.064615240616934  & -1.21080498156193  \\\\\n",
       "\t -1.69384748029762   & 0.725468767788914   & -0.1566617589830402 & 1.011320476980106   &  0.1467938199052847 & 0                   & 0                   & 0                   & 0                   & -0.420102118537501  & -1.064615240616934  & -1.21080498156193  \\\\\n",
       "\t -1.69384748029762   & 0.785564811041258   & -0.3309595649057873 & 1.007127852891986   &  0.1467938199052847 & 0                   & 0                   & 0                   & 0                   &  0.379369783850405  & -1.064615240616934  & -1.21080498156193  \\\\\n",
       "\t -1.69384748029762   & 0.661477148917734   & -0.5009135002759423 & 1.002107296334426   &  0.1467938199052847 & 0                   & 0                   & 0                   & 0                   &  1.178841686238311  & -1.064615240616934  & -1.21080498156193  \\\\\n",
       "\t -1.69384748029762   & 1.008736567608431   &  0.0865949919621023 & 0.997086742317729   & -0.0536107199518823 & 0                   & 0                   & 0                   & 0                   & -1.562204836234510  & -0.755812036949141  & -1.21080498156193  \\\\\n",
       "\t -1.69384748029762   & 0.918431301092705   &  0.2815261830096604 & 0.992066188301031   & -0.0536107199518823 & 0                   & 0                   & 0                   & 0                   & -0.762732933846604  & -0.755812036949141  & -1.21080498156193  \\\\\n",
       "\\end{tabular}\n"
      ],
      "text/markdown": [
       "\n",
       "| Store | Weekly_Sales | Temperature | CPI | Unemployment | Super_Bowl | Labour_Day | Thanksgiving | Christmas | Day | Month | Year |\n",
       "|---|---|---|---|---|---|---|---|---|---|---|---|\n",
       "| -1.69384748029762   | 1.097534375557905   | -0.9972007109095585 | 1.004097193239728   |  0.1467938199052847 | 0                   | 0                   | 0                   | 0                   | -1.219574020925407  | -1.373418444284726  | -1.21080498156193   |\n",
       "| -1.69384748029762   | 1.094375115071336   | -1.2035345621576705 | 1.007802065712423   |  0.1467938199052847 | 1                   | 0                   | 0                   | 0                   | -0.420102118537501  | -1.373418444284726  | -1.21080498156193   |\n",
       "| -1.69384748029762   | 1.039719157776656   | -1.1264308598491655 | 1.008995587662304   |  0.1467938199052847 | 0                   | 0                   | 0                   | 0                   |  0.379369783850405  | -1.373418444284726  | -1.21080498156193   |\n",
       "| -1.69384748029762   | 0.671132243065785   | -0.7626317010695999 | 1.009770550768238   |  0.1467938199052847 | 0                   | 0                   | 0                   | 0                   |  1.178841686238311  | -1.373418444284726  | -1.21080498156193   |\n",
       "| -1.69384748029762   | 0.935541364974755   | -0.7696904907175617 | 1.010545513874172   |  0.1467938199052847 | 0                   | 0                   | 0                   | 0                   | -1.219574020925407  | -1.064615240616934  | -1.21080498156193   |\n",
       "| -1.69384748029762   | 0.725468767788914   | -0.1566617589830402 | 1.011320476980106   |  0.1467938199052847 | 0                   | 0                   | 0                   | 0                   | -0.420102118537501  | -1.064615240616934  | -1.21080498156193   |\n",
       "| -1.69384748029762   | 0.785564811041258   | -0.3309595649057873 | 1.007127852891986   |  0.1467938199052847 | 0                   | 0                   | 0                   | 0                   |  0.379369783850405  | -1.064615240616934  | -1.21080498156193   |\n",
       "| -1.69384748029762   | 0.661477148917734   | -0.5009135002759423 | 1.002107296334426   |  0.1467938199052847 | 0                   | 0                   | 0                   | 0                   |  1.178841686238311  | -1.064615240616934  | -1.21080498156193   |\n",
       "| -1.69384748029762   | 1.008736567608431   |  0.0865949919621023 | 0.997086742317729   | -0.0536107199518823 | 0                   | 0                   | 0                   | 0                   | -1.562204836234510  | -0.755812036949141  | -1.21080498156193   |\n",
       "| -1.69384748029762   | 0.918431301092705   |  0.2815261830096604 | 0.992066188301031   | -0.0536107199518823 | 0                   | 0                   | 0                   | 0                   | -0.762732933846604  | -0.755812036949141  | -1.21080498156193   |\n",
       "\n"
      ],
      "text/plain": [
       "   Store             Weekly_Sales      Temperature         CPI              \n",
       "1  -1.69384748029762 1.097534375557905 -0.9972007109095585 1.004097193239728\n",
       "2  -1.69384748029762 1.094375115071336 -1.2035345621576705 1.007802065712423\n",
       "3  -1.69384748029762 1.039719157776656 -1.1264308598491655 1.008995587662304\n",
       "4  -1.69384748029762 0.671132243065785 -0.7626317010695999 1.009770550768238\n",
       "5  -1.69384748029762 0.935541364974755 -0.7696904907175617 1.010545513874172\n",
       "6  -1.69384748029762 0.725468767788914 -0.1566617589830402 1.011320476980106\n",
       "7  -1.69384748029762 0.785564811041258 -0.3309595649057873 1.007127852891986\n",
       "8  -1.69384748029762 0.661477148917734 -0.5009135002759423 1.002107296334426\n",
       "9  -1.69384748029762 1.008736567608431  0.0865949919621023 0.997086742317729\n",
       "10 -1.69384748029762 0.918431301092705  0.2815261830096604 0.992066188301031\n",
       "   Unemployment        Super_Bowl Labour_Day Thanksgiving Christmas\n",
       "1   0.1467938199052847 0          0          0            0        \n",
       "2   0.1467938199052847 1          0          0            0        \n",
       "3   0.1467938199052847 0          0          0            0        \n",
       "4   0.1467938199052847 0          0          0            0        \n",
       "5   0.1467938199052847 0          0          0            0        \n",
       "6   0.1467938199052847 0          0          0            0        \n",
       "7   0.1467938199052847 0          0          0            0        \n",
       "8   0.1467938199052847 0          0          0            0        \n",
       "9  -0.0536107199518823 0          0          0            0        \n",
       "10 -0.0536107199518823 0          0          0            0        \n",
       "   Day                Month              Year             \n",
       "1  -1.219574020925407 -1.373418444284726 -1.21080498156193\n",
       "2  -0.420102118537501 -1.373418444284726 -1.21080498156193\n",
       "3   0.379369783850405 -1.373418444284726 -1.21080498156193\n",
       "4   1.178841686238311 -1.373418444284726 -1.21080498156193\n",
       "5  -1.219574020925407 -1.064615240616934 -1.21080498156193\n",
       "6  -0.420102118537501 -1.064615240616934 -1.21080498156193\n",
       "7   0.379369783850405 -1.064615240616934 -1.21080498156193\n",
       "8   1.178841686238311 -1.064615240616934 -1.21080498156193\n",
       "9  -1.562204836234510 -0.755812036949141 -1.21080498156193\n",
       "10 -0.762732933846604 -0.755812036949141 -1.21080498156193"
      ]
     },
     "metadata": {},
     "output_type": "display_data"
    }
   ],
   "source": [
    "# scaling the columns, except the ones which have 0 and 1 as values\n",
    "\n",
    "cols_to_scale <- c('Store','Weekly_Sales', 'Temperature', 'CPI', 'Unemployment', 'Year', 'Month', 'Day')\n",
    "model_data[,cols_to_scale] <- scale(model_data[, cols_to_scale])\n",
    "head(model_data, n=10)"
   ]
  },
  {
   "cell_type": "code",
   "execution_count": 145,
   "id": "dc6bc48f",
   "metadata": {},
   "outputs": [],
   "source": [
    "# splitting the data into training and test set in 70% and 30% ratio & storing it in variable trainingSet, testSet respectively\n",
    "\n",
    "sample = sample.split(model_data, SplitRatio = 0.7) # Returns a vector with T for 70% of data and F for 30% data\n",
    "trainingSet = subset(model_data, sample == T)\n",
    "testSet = subset(model_data, sample == F)\n"
   ]
  },
  {
   "cell_type": "code",
   "execution_count": 146,
   "id": "ba0635dd",
   "metadata": {},
   "outputs": [
    {
     "data": {
      "text/html": [
       "<table>\n",
       "<thead><tr><th></th><th scope=col>Store</th><th scope=col>Weekly_Sales</th><th scope=col>Temperature</th><th scope=col>CPI</th><th scope=col>Unemployment</th><th scope=col>Super_Bowl</th><th scope=col>Labour_Day</th><th scope=col>Thanksgiving</th><th scope=col>Christmas</th><th scope=col>Day</th><th scope=col>Month</th><th scope=col>Year</th></tr></thead>\n",
       "<tbody>\n",
       "\t<tr><th scope=row>1</th><td>-1.69384748029762  </td><td>1.097534375557905  </td><td>-0.9972007109095585</td><td>1.004097193239728  </td><td> 0.1467938199052847</td><td>0                  </td><td>0                  </td><td>0                  </td><td>0                  </td><td>-1.219574020925407 </td><td>-1.373418444284726 </td><td>-1.21080498156193  </td></tr>\n",
       "\t<tr><th scope=row>2</th><td>-1.69384748029762  </td><td>1.094375115071336  </td><td>-1.2035345621576705</td><td>1.007802065712423  </td><td> 0.1467938199052847</td><td>1                  </td><td>0                  </td><td>0                  </td><td>0                  </td><td>-0.420102118537501 </td><td>-1.373418444284726 </td><td>-1.21080498156193  </td></tr>\n",
       "\t<tr><th scope=row>4</th><td>-1.69384748029762  </td><td>0.671132243065785  </td><td>-0.7626317010695999</td><td>1.009770550768238  </td><td> 0.1467938199052847</td><td>0                  </td><td>0                  </td><td>0                  </td><td>0                  </td><td> 1.178841686238311 </td><td>-1.373418444284726 </td><td>-1.21080498156193  </td></tr>\n",
       "\t<tr><th scope=row>5</th><td>-1.69384748029762  </td><td>0.935541364974755  </td><td>-0.7696904907175617</td><td>1.010545513874172  </td><td> 0.1467938199052847</td><td>0                  </td><td>0                  </td><td>0                  </td><td>0                  </td><td>-1.219574020925407 </td><td>-1.064615240616934 </td><td>-1.21080498156193  </td></tr>\n",
       "\t<tr><th scope=row>7</th><td>-1.69384748029762  </td><td>0.785564811041258  </td><td>-0.3309595649057873</td><td>1.007127852891986  </td><td> 0.1467938199052847</td><td>0                  </td><td>0                  </td><td>0                  </td><td>0                  </td><td> 0.379369783850405 </td><td>-1.064615240616934 </td><td>-1.21080498156193  </td></tr>\n",
       "\t<tr><th scope=row>9</th><td>-1.69384748029762  </td><td>1.008736567608431  </td><td> 0.0865949919621023</td><td>0.997086742317729  </td><td>-0.0536107199518823</td><td>0                  </td><td>0                  </td><td>0                  </td><td>0                  </td><td>-1.562204836234510 </td><td>-0.755812036949141 </td><td>-1.21080498156193  </td></tr>\n",
       "</tbody>\n",
       "</table>\n"
      ],
      "text/latex": [
       "\\begin{tabular}{r|llllllllllll}\n",
       "  & Store & Weekly\\_Sales & Temperature & CPI & Unemployment & Super\\_Bowl & Labour\\_Day & Thanksgiving & Christmas & Day & Month & Year\\\\\n",
       "\\hline\n",
       "\t1 & -1.69384748029762   & 1.097534375557905   & -0.9972007109095585 & 1.004097193239728   &  0.1467938199052847 & 0                   & 0                   & 0                   & 0                   & -1.219574020925407  & -1.373418444284726  & -1.21080498156193  \\\\\n",
       "\t2 & -1.69384748029762   & 1.094375115071336   & -1.2035345621576705 & 1.007802065712423   &  0.1467938199052847 & 1                   & 0                   & 0                   & 0                   & -0.420102118537501  & -1.373418444284726  & -1.21080498156193  \\\\\n",
       "\t4 & -1.69384748029762   & 0.671132243065785   & -0.7626317010695999 & 1.009770550768238   &  0.1467938199052847 & 0                   & 0                   & 0                   & 0                   &  1.178841686238311  & -1.373418444284726  & -1.21080498156193  \\\\\n",
       "\t5 & -1.69384748029762   & 0.935541364974755   & -0.7696904907175617 & 1.010545513874172   &  0.1467938199052847 & 0                   & 0                   & 0                   & 0                   & -1.219574020925407  & -1.064615240616934  & -1.21080498156193  \\\\\n",
       "\t7 & -1.69384748029762   & 0.785564811041258   & -0.3309595649057873 & 1.007127852891986   &  0.1467938199052847 & 0                   & 0                   & 0                   & 0                   &  0.379369783850405  & -1.064615240616934  & -1.21080498156193  \\\\\n",
       "\t9 & -1.69384748029762   & 1.008736567608431   &  0.0865949919621023 & 0.997086742317729   & -0.0536107199518823 & 0                   & 0                   & 0                   & 0                   & -1.562204836234510  & -0.755812036949141  & -1.21080498156193  \\\\\n",
       "\\end{tabular}\n"
      ],
      "text/markdown": [
       "\n",
       "| <!--/--> | Store | Weekly_Sales | Temperature | CPI | Unemployment | Super_Bowl | Labour_Day | Thanksgiving | Christmas | Day | Month | Year |\n",
       "|---|---|---|---|---|---|---|---|---|---|---|---|---|\n",
       "| 1 | -1.69384748029762   | 1.097534375557905   | -0.9972007109095585 | 1.004097193239728   |  0.1467938199052847 | 0                   | 0                   | 0                   | 0                   | -1.219574020925407  | -1.373418444284726  | -1.21080498156193   |\n",
       "| 2 | -1.69384748029762   | 1.094375115071336   | -1.2035345621576705 | 1.007802065712423   |  0.1467938199052847 | 1                   | 0                   | 0                   | 0                   | -0.420102118537501  | -1.373418444284726  | -1.21080498156193   |\n",
       "| 4 | -1.69384748029762   | 0.671132243065785   | -0.7626317010695999 | 1.009770550768238   |  0.1467938199052847 | 0                   | 0                   | 0                   | 0                   |  1.178841686238311  | -1.373418444284726  | -1.21080498156193   |\n",
       "| 5 | -1.69384748029762   | 0.935541364974755   | -0.7696904907175617 | 1.010545513874172   |  0.1467938199052847 | 0                   | 0                   | 0                   | 0                   | -1.219574020925407  | -1.064615240616934  | -1.21080498156193   |\n",
       "| 7 | -1.69384748029762   | 0.785564811041258   | -0.3309595649057873 | 1.007127852891986   |  0.1467938199052847 | 0                   | 0                   | 0                   | 0                   |  0.379369783850405  | -1.064615240616934  | -1.21080498156193   |\n",
       "| 9 | -1.69384748029762   | 1.008736567608431   |  0.0865949919621023 | 0.997086742317729   | -0.0536107199518823 | 0                   | 0                   | 0                   | 0                   | -1.562204836234510  | -0.755812036949141  | -1.21080498156193   |\n",
       "\n"
      ],
      "text/plain": [
       "  Store             Weekly_Sales      Temperature         CPI              \n",
       "1 -1.69384748029762 1.097534375557905 -0.9972007109095585 1.004097193239728\n",
       "2 -1.69384748029762 1.094375115071336 -1.2035345621576705 1.007802065712423\n",
       "4 -1.69384748029762 0.671132243065785 -0.7626317010695999 1.009770550768238\n",
       "5 -1.69384748029762 0.935541364974755 -0.7696904907175617 1.010545513874172\n",
       "7 -1.69384748029762 0.785564811041258 -0.3309595649057873 1.007127852891986\n",
       "9 -1.69384748029762 1.008736567608431  0.0865949919621023 0.997086742317729\n",
       "  Unemployment        Super_Bowl Labour_Day Thanksgiving Christmas\n",
       "1  0.1467938199052847 0          0          0            0        \n",
       "2  0.1467938199052847 1          0          0            0        \n",
       "4  0.1467938199052847 0          0          0            0        \n",
       "5  0.1467938199052847 0          0          0            0        \n",
       "7  0.1467938199052847 0          0          0            0        \n",
       "9 -0.0536107199518823 0          0          0            0        \n",
       "  Day                Month              Year             \n",
       "1 -1.219574020925407 -1.373418444284726 -1.21080498156193\n",
       "2 -0.420102118537501 -1.373418444284726 -1.21080498156193\n",
       "4  1.178841686238311 -1.373418444284726 -1.21080498156193\n",
       "5 -1.219574020925407 -1.064615240616934 -1.21080498156193\n",
       "7  0.379369783850405 -1.064615240616934 -1.21080498156193\n",
       "9 -1.562204836234510 -0.755812036949141 -1.21080498156193"
      ]
     },
     "metadata": {},
     "output_type": "display_data"
    }
   ],
   "source": [
    "head(trainingSet)"
   ]
  },
  {
   "cell_type": "code",
   "execution_count": 147,
   "id": "f9a01083",
   "metadata": {},
   "outputs": [
    {
     "data": {
      "text/html": [
       "<table>\n",
       "<thead><tr><th></th><th scope=col>Store</th><th scope=col>Weekly_Sales</th><th scope=col>Temperature</th><th scope=col>CPI</th><th scope=col>Unemployment</th><th scope=col>Super_Bowl</th><th scope=col>Labour_Day</th><th scope=col>Thanksgiving</th><th scope=col>Christmas</th><th scope=col>Day</th><th scope=col>Month</th><th scope=col>Year</th></tr></thead>\n",
       "<tbody>\n",
       "\t<tr><th scope=row>3</th><td>-1.69384748029762  </td><td>1.039719157776656  </td><td>-1.126430859849165 </td><td>1.008995587662304  </td><td> 0.1467938199052847</td><td>0                  </td><td>0                  </td><td>0                  </td><td>0                  </td><td> 0.379369783850405 </td><td>-1.373418444284726 </td><td>-1.21080498156193  </td></tr>\n",
       "\t<tr><th scope=row>6</th><td>-1.69384748029762  </td><td>0.725468767788914  </td><td>-0.156661758983040 </td><td>1.011320476980106  </td><td> 0.1467938199052847</td><td>0                  </td><td>0                  </td><td>0                  </td><td>0                  </td><td>-0.420102118537501 </td><td>-1.064615240616934 </td><td>-1.21080498156193  </td></tr>\n",
       "\t<tr><th scope=row>8</th><td>-1.69384748029762  </td><td>0.661477148917734  </td><td>-0.500913500275942 </td><td>1.002107296334426  </td><td> 0.1467938199052847</td><td>0                  </td><td>0                  </td><td>0                  </td><td>0                  </td><td> 1.178841686238311 </td><td>-1.064615240616934 </td><td>-1.21080498156193  </td></tr>\n",
       "\t<tr><th scope=row>12</th><td>-1.69384748029762  </td><td>0.637467673188293  </td><td> 0.226141833464115 </td><td>0.987397744488456  </td><td>-0.0536107199518823</td><td>0                  </td><td>0                  </td><td>0                  </td><td>0                  </td><td> 0.836210870929209 </td><td>-0.755812036949141 </td><td>-1.21080498156193  </td></tr>\n",
       "\t<tr><th scope=row>15</th><td>-1.69384748029762  </td><td>0.825178514126713  </td><td> 0.765867749623649 </td><td>0.984813771029595  </td><td>-0.0536107199518823</td><td>0                  </td><td>0                  </td><td>0                  </td><td>0                  </td><td>-0.191681574998099 </td><td>-0.447008833281349 </td><td>-1.21080498156193  </td></tr>\n",
       "\t<tr><th scope=row>18</th><td>-1.69384748029762  </td><td>1.046201012732006  </td><td> 1.086771186696370 </td><td>1.006131651794052  </td><td>-0.0536107199518823</td><td>0                  </td><td>0                  </td><td>0                  </td><td>0                  </td><td>-1.333784292695108 </td><td>-0.138205629613557 </td><td>-1.21080498156193  </td></tr>\n",
       "</tbody>\n",
       "</table>\n"
      ],
      "text/latex": [
       "\\begin{tabular}{r|llllllllllll}\n",
       "  & Store & Weekly\\_Sales & Temperature & CPI & Unemployment & Super\\_Bowl & Labour\\_Day & Thanksgiving & Christmas & Day & Month & Year\\\\\n",
       "\\hline\n",
       "\t3 & -1.69384748029762   & 1.039719157776656   & -1.126430859849165  & 1.008995587662304   &  0.1467938199052847 & 0                   & 0                   & 0                   & 0                   &  0.379369783850405  & -1.373418444284726  & -1.21080498156193  \\\\\n",
       "\t6 & -1.69384748029762   & 0.725468767788914   & -0.156661758983040  & 1.011320476980106   &  0.1467938199052847 & 0                   & 0                   & 0                   & 0                   & -0.420102118537501  & -1.064615240616934  & -1.21080498156193  \\\\\n",
       "\t8 & -1.69384748029762   & 0.661477148917734   & -0.500913500275942  & 1.002107296334426   &  0.1467938199052847 & 0                   & 0                   & 0                   & 0                   &  1.178841686238311  & -1.064615240616934  & -1.21080498156193  \\\\\n",
       "\t12 & -1.69384748029762   & 0.637467673188293   &  0.226141833464115  & 0.987397744488456   & -0.0536107199518823 & 0                   & 0                   & 0                   & 0                   &  0.836210870929209  & -0.755812036949141  & -1.21080498156193  \\\\\n",
       "\t15 & -1.69384748029762   & 0.825178514126713   &  0.765867749623649  & 0.984813771029595   & -0.0536107199518823 & 0                   & 0                   & 0                   & 0                   & -0.191681574998099  & -0.447008833281349  & -1.21080498156193  \\\\\n",
       "\t18 & -1.69384748029762   & 1.046201012732006   &  1.086771186696370  & 1.006131651794052   & -0.0536107199518823 & 0                   & 0                   & 0                   & 0                   & -1.333784292695108  & -0.138205629613557  & -1.21080498156193  \\\\\n",
       "\\end{tabular}\n"
      ],
      "text/markdown": [
       "\n",
       "| <!--/--> | Store | Weekly_Sales | Temperature | CPI | Unemployment | Super_Bowl | Labour_Day | Thanksgiving | Christmas | Day | Month | Year |\n",
       "|---|---|---|---|---|---|---|---|---|---|---|---|---|\n",
       "| 3 | -1.69384748029762   | 1.039719157776656   | -1.126430859849165  | 1.008995587662304   |  0.1467938199052847 | 0                   | 0                   | 0                   | 0                   |  0.379369783850405  | -1.373418444284726  | -1.21080498156193   |\n",
       "| 6 | -1.69384748029762   | 0.725468767788914   | -0.156661758983040  | 1.011320476980106   |  0.1467938199052847 | 0                   | 0                   | 0                   | 0                   | -0.420102118537501  | -1.064615240616934  | -1.21080498156193   |\n",
       "| 8 | -1.69384748029762   | 0.661477148917734   | -0.500913500275942  | 1.002107296334426   |  0.1467938199052847 | 0                   | 0                   | 0                   | 0                   |  1.178841686238311  | -1.064615240616934  | -1.21080498156193   |\n",
       "| 12 | -1.69384748029762   | 0.637467673188293   |  0.226141833464115  | 0.987397744488456   | -0.0536107199518823 | 0                   | 0                   | 0                   | 0                   |  0.836210870929209  | -0.755812036949141  | -1.21080498156193   |\n",
       "| 15 | -1.69384748029762   | 0.825178514126713   |  0.765867749623649  | 0.984813771029595   | -0.0536107199518823 | 0                   | 0                   | 0                   | 0                   | -0.191681574998099  | -0.447008833281349  | -1.21080498156193   |\n",
       "| 18 | -1.69384748029762   | 1.046201012732006   |  1.086771186696370  | 1.006131651794052   | -0.0536107199518823 | 0                   | 0                   | 0                   | 0                   | -1.333784292695108  | -0.138205629613557  | -1.21080498156193   |\n",
       "\n"
      ],
      "text/plain": [
       "   Store             Weekly_Sales      Temperature        CPI              \n",
       "3  -1.69384748029762 1.039719157776656 -1.126430859849165 1.008995587662304\n",
       "6  -1.69384748029762 0.725468767788914 -0.156661758983040 1.011320476980106\n",
       "8  -1.69384748029762 0.661477148917734 -0.500913500275942 1.002107296334426\n",
       "12 -1.69384748029762 0.637467673188293  0.226141833464115 0.987397744488456\n",
       "15 -1.69384748029762 0.825178514126713  0.765867749623649 0.984813771029595\n",
       "18 -1.69384748029762 1.046201012732006  1.086771186696370 1.006131651794052\n",
       "   Unemployment        Super_Bowl Labour_Day Thanksgiving Christmas\n",
       "3   0.1467938199052847 0          0          0            0        \n",
       "6   0.1467938199052847 0          0          0            0        \n",
       "8   0.1467938199052847 0          0          0            0        \n",
       "12 -0.0536107199518823 0          0          0            0        \n",
       "15 -0.0536107199518823 0          0          0            0        \n",
       "18 -0.0536107199518823 0          0          0            0        \n",
       "   Day                Month              Year             \n",
       "3   0.379369783850405 -1.373418444284726 -1.21080498156193\n",
       "6  -0.420102118537501 -1.064615240616934 -1.21080498156193\n",
       "8   1.178841686238311 -1.064615240616934 -1.21080498156193\n",
       "12  0.836210870929209 -0.755812036949141 -1.21080498156193\n",
       "15 -0.191681574998099 -0.447008833281349 -1.21080498156193\n",
       "18 -1.333784292695108 -0.138205629613557 -1.21080498156193"
      ]
     },
     "metadata": {},
     "output_type": "display_data"
    }
   ],
   "source": [
    "head(testSet)"
   ]
  },
  {
   "cell_type": "code",
   "execution_count": 148,
   "id": "312eb65a",
   "metadata": {},
   "outputs": [
    {
     "data": {
      "text/plain": [
       "\n",
       "Call:\n",
       "lm(formula = Weekly_Sales ~ ., data = trainingSet)\n",
       "\n",
       "Residuals:\n",
       "            Min              1Q          Median              3Q             Max \n",
       "-2.058563466608 -0.701432918096 -0.054524007852  0.681769599988  3.268710282481 \n",
       "\n",
       "Coefficients:\n",
       "                      Estimate        Std. Error   t value   Pr(>|t|)    \n",
       "(Intercept)  -0.00855970607293  0.01465194649973  -0.58420  0.5591148    \n",
       "Store        -0.35568973217283  0.01482071549249 -23.99950 < 2.22e-16 ***\n",
       "Temperature  -0.04129573030712  0.01589104938801  -2.59868  0.0093905 ** \n",
       "CPI          -0.15468707984677  0.01530486207683 -10.10705 < 2.22e-16 ***\n",
       "Unemployment -0.05218391490816  0.01596316083259  -3.26902  0.0010877 ** \n",
       "Super_Bowl    0.12672835668561  0.10208385488158   1.24141  0.2145208    \n",
       "Labour_Day    0.01427937332357  0.10077574243349   0.14169  0.8873280    \n",
       "Thanksgiving  0.66718462442039  0.12469983738143   5.35032 9.2387e-08 ***\n",
       "Christmas    -0.21483101611608  0.12934912258082  -1.66086  0.0968145 .  \n",
       "Day          -0.03348353531445  0.01475924766930  -2.26865  0.0233394 *  \n",
       "Month         0.07358144892979  0.01605066314988   4.58432 4.6845e-06 ***\n",
       "Year          0.00883471347018  0.01506725476967   0.58635  0.5576700    \n",
       "---\n",
       "Signif. codes:  0 '***' 0.001 '**' 0.01 '*' 0.05 '.' 0.1 ' ' 1\n",
       "\n",
       "Residual standard error: 0.923469700977 on 4278 degrees of freedom\n",
       "Multiple R-squared:  0.151746485577,\tAdjusted R-squared:  0.149565375559 \n",
       "F-statistic: 69.5730542237 on 11 and 4278 DF,  p-value: < 2.220446049e-16\n"
      ]
     },
     "metadata": {},
     "output_type": "display_data"
    }
   ],
   "source": [
    "# Creating the model and viewing the model parameters created using summary\n",
    "\n",
    "linear_model <- lm(Weekly_Sales ~ . , data = trainingSet)\n",
    "summary(linear_model)"
   ]
  },
  {
   "cell_type": "markdown",
   "id": "b25e8fde",
   "metadata": {},
   "source": [
    "### Adjusted R square is lower than Multiple R square, because there are variables which are not significant, the ones which have high p-values and do not have asterisk in front of them"
   ]
  },
  {
   "cell_type": "markdown",
   "id": "ea709328",
   "metadata": {},
   "source": [
    "### Re Building the model removing non-significant variables\n"
   ]
  },
  {
   "cell_type": "code",
   "execution_count": 149,
   "id": "37e36701",
   "metadata": {},
   "outputs": [
    {
     "data": {
      "text/html": [
       "<table>\n",
       "<thead><tr><th scope=col>Store</th><th scope=col>Weekly_Sales</th><th scope=col>Temperature</th><th scope=col>CPI</th><th scope=col>Unemployment</th><th scope=col>Thanksgiving</th><th scope=col>Month</th></tr></thead>\n",
       "<tbody>\n",
       "\t<tr><td>1          </td><td>1643690.90 </td><td>42.31      </td><td>211.0963582</td><td>8.106      </td><td>0          </td><td>2          </td></tr>\n",
       "\t<tr><td>1          </td><td>1641957.44 </td><td>38.51      </td><td>211.2421698</td><td>8.106      </td><td>0          </td><td>2          </td></tr>\n",
       "\t<tr><td>1          </td><td>1611968.17 </td><td>39.93      </td><td>211.2891429</td><td>8.106      </td><td>0          </td><td>2          </td></tr>\n",
       "\t<tr><td>1          </td><td>1409727.59 </td><td>46.63      </td><td>211.3196429</td><td>8.106      </td><td>0          </td><td>2          </td></tr>\n",
       "\t<tr><td>1          </td><td>1554806.68 </td><td>46.50      </td><td>211.3501429</td><td>8.106      </td><td>0          </td><td>3          </td></tr>\n",
       "\t<tr><td>1          </td><td>1439541.59 </td><td>57.79      </td><td>211.3806429</td><td>8.106      </td><td>0          </td><td>3          </td></tr>\n",
       "\t<tr><td>1          </td><td>1472515.79 </td><td>54.58      </td><td>211.2156350</td><td>8.106      </td><td>0          </td><td>3          </td></tr>\n",
       "\t<tr><td>1          </td><td>1404429.92 </td><td>51.45      </td><td>211.0180424</td><td>8.106      </td><td>0          </td><td>3          </td></tr>\n",
       "\t<tr><td>1          </td><td>1594968.28 </td><td>62.27      </td><td>210.8204499</td><td>7.808      </td><td>0          </td><td>4          </td></tr>\n",
       "\t<tr><td>1          </td><td>1545418.53 </td><td>65.86      </td><td>210.6228574</td><td>7.808      </td><td>0          </td><td>4          </td></tr>\n",
       "</tbody>\n",
       "</table>\n"
      ],
      "text/latex": [
       "\\begin{tabular}{r|lllllll}\n",
       " Store & Weekly\\_Sales & Temperature & CPI & Unemployment & Thanksgiving & Month\\\\\n",
       "\\hline\n",
       "\t 1           & 1643690.90  & 42.31       & 211.0963582 & 8.106       & 0           & 2          \\\\\n",
       "\t 1           & 1641957.44  & 38.51       & 211.2421698 & 8.106       & 0           & 2          \\\\\n",
       "\t 1           & 1611968.17  & 39.93       & 211.2891429 & 8.106       & 0           & 2          \\\\\n",
       "\t 1           & 1409727.59  & 46.63       & 211.3196429 & 8.106       & 0           & 2          \\\\\n",
       "\t 1           & 1554806.68  & 46.50       & 211.3501429 & 8.106       & 0           & 3          \\\\\n",
       "\t 1           & 1439541.59  & 57.79       & 211.3806429 & 8.106       & 0           & 3          \\\\\n",
       "\t 1           & 1472515.79  & 54.58       & 211.2156350 & 8.106       & 0           & 3          \\\\\n",
       "\t 1           & 1404429.92  & 51.45       & 211.0180424 & 8.106       & 0           & 3          \\\\\n",
       "\t 1           & 1594968.28  & 62.27       & 210.8204499 & 7.808       & 0           & 4          \\\\\n",
       "\t 1           & 1545418.53  & 65.86       & 210.6228574 & 7.808       & 0           & 4          \\\\\n",
       "\\end{tabular}\n"
      ],
      "text/markdown": [
       "\n",
       "| Store | Weekly_Sales | Temperature | CPI | Unemployment | Thanksgiving | Month |\n",
       "|---|---|---|---|---|---|---|\n",
       "| 1           | 1643690.90  | 42.31       | 211.0963582 | 8.106       | 0           | 2           |\n",
       "| 1           | 1641957.44  | 38.51       | 211.2421698 | 8.106       | 0           | 2           |\n",
       "| 1           | 1611968.17  | 39.93       | 211.2891429 | 8.106       | 0           | 2           |\n",
       "| 1           | 1409727.59  | 46.63       | 211.3196429 | 8.106       | 0           | 2           |\n",
       "| 1           | 1554806.68  | 46.50       | 211.3501429 | 8.106       | 0           | 3           |\n",
       "| 1           | 1439541.59  | 57.79       | 211.3806429 | 8.106       | 0           | 3           |\n",
       "| 1           | 1472515.79  | 54.58       | 211.2156350 | 8.106       | 0           | 3           |\n",
       "| 1           | 1404429.92  | 51.45       | 211.0180424 | 8.106       | 0           | 3           |\n",
       "| 1           | 1594968.28  | 62.27       | 210.8204499 | 7.808       | 0           | 4           |\n",
       "| 1           | 1545418.53  | 65.86       | 210.6228574 | 7.808       | 0           | 4           |\n",
       "\n"
      ],
      "text/plain": [
       "   Store Weekly_Sales Temperature CPI         Unemployment Thanksgiving Month\n",
       "1  1     1643690.90   42.31       211.0963582 8.106        0            2    \n",
       "2  1     1641957.44   38.51       211.2421698 8.106        0            2    \n",
       "3  1     1611968.17   39.93       211.2891429 8.106        0            2    \n",
       "4  1     1409727.59   46.63       211.3196429 8.106        0            2    \n",
       "5  1     1554806.68   46.50       211.3501429 8.106        0            3    \n",
       "6  1     1439541.59   57.79       211.3806429 8.106        0            3    \n",
       "7  1     1472515.79   54.58       211.2156350 8.106        0            3    \n",
       "8  1     1404429.92   51.45       211.0180424 8.106        0            3    \n",
       "9  1     1594968.28   62.27       210.8204499 7.808        0            4    \n",
       "10 1     1545418.53   65.86       210.6228574 7.808        0            4    "
      ]
     },
     "metadata": {},
     "output_type": "display_data"
    }
   ],
   "source": [
    "# removing non significant variables\n",
    "\n",
    "model_data <- subset(walmart_data, select = -c(Date, Holiday_Names, Holiday_Flag, Weekly_Sales_Scaled, \n",
    "                                               Quarter, Fuel_Price, Month_Name, Super_Bowl,Labour_Day, Christmas, Day, Year))\n",
    "\n",
    "head(model_data, n=10)"
   ]
  },
  {
   "cell_type": "code",
   "execution_count": 150,
   "id": "ef692dc6",
   "metadata": {},
   "outputs": [
    {
     "data": {
      "text/html": [
       "<table>\n",
       "<thead><tr><th scope=col>Store</th><th scope=col>Weekly_Sales</th><th scope=col>Temperature</th><th scope=col>CPI</th><th scope=col>Unemployment</th><th scope=col>Thanksgiving</th><th scope=col>Month</th></tr></thead>\n",
       "<tbody>\n",
       "\t<tr><td>-1.69384748029762  </td><td>1.097534375557905  </td><td>-0.9972007109095585</td><td>1.004097193239728  </td><td> 0.1467938199052847</td><td>0                  </td><td>-1.373418444284726 </td></tr>\n",
       "\t<tr><td>-1.69384748029762  </td><td>1.094375115071336  </td><td>-1.2035345621576705</td><td>1.007802065712423  </td><td> 0.1467938199052847</td><td>0                  </td><td>-1.373418444284726 </td></tr>\n",
       "\t<tr><td>-1.69384748029762  </td><td>1.039719157776656  </td><td>-1.1264308598491655</td><td>1.008995587662304  </td><td> 0.1467938199052847</td><td>0                  </td><td>-1.373418444284726 </td></tr>\n",
       "\t<tr><td>-1.69384748029762  </td><td>0.671132243065785  </td><td>-0.7626317010695999</td><td>1.009770550768238  </td><td> 0.1467938199052847</td><td>0                  </td><td>-1.373418444284726 </td></tr>\n",
       "\t<tr><td>-1.69384748029762  </td><td>0.935541364974755  </td><td>-0.7696904907175617</td><td>1.010545513874172  </td><td> 0.1467938199052847</td><td>0                  </td><td>-1.064615240616934 </td></tr>\n",
       "\t<tr><td>-1.69384748029762  </td><td>0.725468767788914  </td><td>-0.1566617589830402</td><td>1.011320476980106  </td><td> 0.1467938199052847</td><td>0                  </td><td>-1.064615240616934 </td></tr>\n",
       "\t<tr><td>-1.69384748029762  </td><td>0.785564811041258  </td><td>-0.3309595649057873</td><td>1.007127852891986  </td><td> 0.1467938199052847</td><td>0                  </td><td>-1.064615240616934 </td></tr>\n",
       "\t<tr><td>-1.69384748029762  </td><td>0.661477148917734  </td><td>-0.5009135002759423</td><td>1.002107296334426  </td><td> 0.1467938199052847</td><td>0                  </td><td>-1.064615240616934 </td></tr>\n",
       "\t<tr><td>-1.69384748029762  </td><td>1.008736567608431  </td><td> 0.0865949919621023</td><td>0.997086742317729  </td><td>-0.0536107199518823</td><td>0                  </td><td>-0.755812036949141 </td></tr>\n",
       "\t<tr><td>-1.69384748029762  </td><td>0.918431301092705  </td><td> 0.2815261830096604</td><td>0.992066188301031  </td><td>-0.0536107199518823</td><td>0                  </td><td>-0.755812036949141 </td></tr>\n",
       "</tbody>\n",
       "</table>\n"
      ],
      "text/latex": [
       "\\begin{tabular}{r|lllllll}\n",
       " Store & Weekly\\_Sales & Temperature & CPI & Unemployment & Thanksgiving & Month\\\\\n",
       "\\hline\n",
       "\t -1.69384748029762   & 1.097534375557905   & -0.9972007109095585 & 1.004097193239728   &  0.1467938199052847 & 0                   & -1.373418444284726 \\\\\n",
       "\t -1.69384748029762   & 1.094375115071336   & -1.2035345621576705 & 1.007802065712423   &  0.1467938199052847 & 0                   & -1.373418444284726 \\\\\n",
       "\t -1.69384748029762   & 1.039719157776656   & -1.1264308598491655 & 1.008995587662304   &  0.1467938199052847 & 0                   & -1.373418444284726 \\\\\n",
       "\t -1.69384748029762   & 0.671132243065785   & -0.7626317010695999 & 1.009770550768238   &  0.1467938199052847 & 0                   & -1.373418444284726 \\\\\n",
       "\t -1.69384748029762   & 0.935541364974755   & -0.7696904907175617 & 1.010545513874172   &  0.1467938199052847 & 0                   & -1.064615240616934 \\\\\n",
       "\t -1.69384748029762   & 0.725468767788914   & -0.1566617589830402 & 1.011320476980106   &  0.1467938199052847 & 0                   & -1.064615240616934 \\\\\n",
       "\t -1.69384748029762   & 0.785564811041258   & -0.3309595649057873 & 1.007127852891986   &  0.1467938199052847 & 0                   & -1.064615240616934 \\\\\n",
       "\t -1.69384748029762   & 0.661477148917734   & -0.5009135002759423 & 1.002107296334426   &  0.1467938199052847 & 0                   & -1.064615240616934 \\\\\n",
       "\t -1.69384748029762   & 1.008736567608431   &  0.0865949919621023 & 0.997086742317729   & -0.0536107199518823 & 0                   & -0.755812036949141 \\\\\n",
       "\t -1.69384748029762   & 0.918431301092705   &  0.2815261830096604 & 0.992066188301031   & -0.0536107199518823 & 0                   & -0.755812036949141 \\\\\n",
       "\\end{tabular}\n"
      ],
      "text/markdown": [
       "\n",
       "| Store | Weekly_Sales | Temperature | CPI | Unemployment | Thanksgiving | Month |\n",
       "|---|---|---|---|---|---|---|\n",
       "| -1.69384748029762   | 1.097534375557905   | -0.9972007109095585 | 1.004097193239728   |  0.1467938199052847 | 0                   | -1.373418444284726  |\n",
       "| -1.69384748029762   | 1.094375115071336   | -1.2035345621576705 | 1.007802065712423   |  0.1467938199052847 | 0                   | -1.373418444284726  |\n",
       "| -1.69384748029762   | 1.039719157776656   | -1.1264308598491655 | 1.008995587662304   |  0.1467938199052847 | 0                   | -1.373418444284726  |\n",
       "| -1.69384748029762   | 0.671132243065785   | -0.7626317010695999 | 1.009770550768238   |  0.1467938199052847 | 0                   | -1.373418444284726  |\n",
       "| -1.69384748029762   | 0.935541364974755   | -0.7696904907175617 | 1.010545513874172   |  0.1467938199052847 | 0                   | -1.064615240616934  |\n",
       "| -1.69384748029762   | 0.725468767788914   | -0.1566617589830402 | 1.011320476980106   |  0.1467938199052847 | 0                   | -1.064615240616934  |\n",
       "| -1.69384748029762   | 0.785564811041258   | -0.3309595649057873 | 1.007127852891986   |  0.1467938199052847 | 0                   | -1.064615240616934  |\n",
       "| -1.69384748029762   | 0.661477148917734   | -0.5009135002759423 | 1.002107296334426   |  0.1467938199052847 | 0                   | -1.064615240616934  |\n",
       "| -1.69384748029762   | 1.008736567608431   |  0.0865949919621023 | 0.997086742317729   | -0.0536107199518823 | 0                   | -0.755812036949141  |\n",
       "| -1.69384748029762   | 0.918431301092705   |  0.2815261830096604 | 0.992066188301031   | -0.0536107199518823 | 0                   | -0.755812036949141  |\n",
       "\n"
      ],
      "text/plain": [
       "   Store             Weekly_Sales      Temperature         CPI              \n",
       "1  -1.69384748029762 1.097534375557905 -0.9972007109095585 1.004097193239728\n",
       "2  -1.69384748029762 1.094375115071336 -1.2035345621576705 1.007802065712423\n",
       "3  -1.69384748029762 1.039719157776656 -1.1264308598491655 1.008995587662304\n",
       "4  -1.69384748029762 0.671132243065785 -0.7626317010695999 1.009770550768238\n",
       "5  -1.69384748029762 0.935541364974755 -0.7696904907175617 1.010545513874172\n",
       "6  -1.69384748029762 0.725468767788914 -0.1566617589830402 1.011320476980106\n",
       "7  -1.69384748029762 0.785564811041258 -0.3309595649057873 1.007127852891986\n",
       "8  -1.69384748029762 0.661477148917734 -0.5009135002759423 1.002107296334426\n",
       "9  -1.69384748029762 1.008736567608431  0.0865949919621023 0.997086742317729\n",
       "10 -1.69384748029762 0.918431301092705  0.2815261830096604 0.992066188301031\n",
       "   Unemployment        Thanksgiving Month             \n",
       "1   0.1467938199052847 0            -1.373418444284726\n",
       "2   0.1467938199052847 0            -1.373418444284726\n",
       "3   0.1467938199052847 0            -1.373418444284726\n",
       "4   0.1467938199052847 0            -1.373418444284726\n",
       "5   0.1467938199052847 0            -1.064615240616934\n",
       "6   0.1467938199052847 0            -1.064615240616934\n",
       "7   0.1467938199052847 0            -1.064615240616934\n",
       "8   0.1467938199052847 0            -1.064615240616934\n",
       "9  -0.0536107199518823 0            -0.755812036949141\n",
       "10 -0.0536107199518823 0            -0.755812036949141"
      ]
     },
     "metadata": {},
     "output_type": "display_data"
    }
   ],
   "source": [
    "# scaling the variables/columns so that all the column values are within same range\n",
    "\n",
    "cols_to_scale <- c('Store','Weekly_Sales', 'Temperature', 'CPI', 'Unemployment', 'Month')\n",
    "model_data[,cols_to_scale] <- scale(model_data[, cols_to_scale])\n",
    "head(model_data, n=10)"
   ]
  },
  {
   "cell_type": "code",
   "execution_count": 151,
   "id": "184038df",
   "metadata": {},
   "outputs": [],
   "source": [
    "# Splitting the dataset into training and testing set with 70% and 30% ratio and storing them into variables\n",
    "\n",
    "sample = sample.split(model_data, SplitRatio = 0.7) # Returns a vector with T for 70% of data and F for 30% data\n",
    "trainingSet = subset(model_data, sample == T)\n",
    "testSet = subset(model_data, sample == F)\n"
   ]
  },
  {
   "cell_type": "code",
   "execution_count": 152,
   "id": "caae4da5",
   "metadata": {},
   "outputs": [
    {
     "data": {
      "text/plain": [
       "\n",
       "Call:\n",
       "lm(formula = Weekly_Sales ~ ., data = trainingSet)\n",
       "\n",
       "Residuals:\n",
       "             Min               1Q           Median               3Q \n",
       "-1.8593459563999 -0.7033787213362 -0.0611230995104  0.6824981528095 \n",
       "             Max \n",
       " 3.1496180870781 \n",
       "\n",
       "Coefficients:\n",
       "                      Estimate        Std. Error   t value   Pr(>|t|)    \n",
       "(Intercept)  -0.00832912792241  0.01529840013251  -0.54444  0.5861688    \n",
       "Store        -0.35658882915177  0.01591226538877 -22.40968 < 2.22e-16 ***\n",
       "Temperature  -0.03966348985775  0.01625051458981  -2.44075  0.0147037 *  \n",
       "CPI          -0.15570365329744  0.01644373448852  -9.46887 < 2.22e-16 ***\n",
       "Unemployment -0.05080700542226  0.01648367815926  -3.08226  0.0020696 ** \n",
       "Thanksgiving  0.26677343030365  0.13027473797393   2.04778  0.0406530 *  \n",
       "Month         0.06814929556980  0.01597085952582   4.26710 2.0303e-05 ***\n",
       "---\n",
       "Signif. codes:  0 '***' 0.001 '**' 0.01 '*' 0.05 '.' 0.1 ' ' 1\n",
       "\n",
       "Residual standard error: 0.920626496362 on 3670 degrees of freedom\n",
       "Multiple R-squared:  0.145539383844,\tAdjusted R-squared:  0.144142445507 \n",
       "F-statistic: 104.184544146 on 6 and 3670 DF,  p-value: < 2.220446049e-16\n"
      ]
     },
     "metadata": {},
     "output_type": "display_data"
    }
   ],
   "source": [
    "# Creating the model again\n",
    "\n",
    "linear_model <- lm(Weekly_Sales ~ . , data = trainingSet)\n",
    "summary(linear_model)"
   ]
  },
  {
   "cell_type": "markdown",
   "id": "71986644",
   "metadata": {},
   "source": [
    "- **The model created has all the variables p-value lesser than 0.05, which means that independent variables are significant to the model**\n",
    "- **Multiple R squared and Adjusted are square are similar, confirming the no irrelavant variables are present in the model**\n",
    "- **However, the magnitude of R squared is very poor, only 14.5% of variance is explained by the independent variable of dependent variable**\n",
    "- **This model is not a good fit for this particular data.**"
   ]
  },
  {
   "cell_type": "code",
   "execution_count": 153,
   "id": "5e521180",
   "metadata": {},
   "outputs": [],
   "source": [
    "# below is the code to predict the dependent variable using the model created\n",
    "\n",
    "pred <- predict(linear_model, newdata = testSet)"
   ]
  },
  {
   "cell_type": "code",
   "execution_count": 154,
   "id": "cfeb3eab",
   "metadata": {},
   "outputs": [
    {
     "data": {
      "text/html": [
       "<table>\n",
       "<thead><tr><th scope=col>R2</th><th scope=col>RMSE</th><th scope=col>MAE</th></tr></thead>\n",
       "<tbody>\n",
       "\t<tr><td>0.147348100084151</td><td>0.929378942990169</td><td>0.776662060922886</td></tr>\n",
       "</tbody>\n",
       "</table>\n"
      ],
      "text/latex": [
       "\\begin{tabular}{r|lll}\n",
       " R2 & RMSE & MAE\\\\\n",
       "\\hline\n",
       "\t 0.147348100084151 & 0.929378942990169 & 0.776662060922886\\\\\n",
       "\\end{tabular}\n"
      ],
      "text/markdown": [
       "\n",
       "| R2 | RMSE | MAE |\n",
       "|---|---|---|\n",
       "| 0.147348100084151 | 0.929378942990169 | 0.776662060922886 |\n",
       "\n"
      ],
      "text/plain": [
       "  R2                RMSE              MAE              \n",
       "1 0.147348100084151 0.929378942990169 0.776662060922886"
      ]
     },
     "metadata": {},
     "output_type": "display_data"
    }
   ],
   "source": [
    "# Using functions of 'modelr' library, we can get R squared, Root Mean Square Error, and Mean Absolute Error as follows\n",
    "\n",
    "\n",
    "data.frame(\n",
    "  R2 = rsquare(linear_model, data = testSet),\n",
    "  RMSE = rmse(linear_model, data = testSet),\n",
    "  MAE = mae(linear_model, data = testSet)\n",
    ")"
   ]
  },
  {
   "cell_type": "code",
   "execution_count": 155,
   "id": "c2dfac53",
   "metadata": {},
   "outputs": [
    {
     "data": {
      "text/html": [
       "<table>\n",
       "<thead><tr><th scope=col>R2</th><th scope=col>RMSE</th><th scope=col>MAE</th></tr></thead>\n",
       "<tbody>\n",
       "\t<tr><td>0.147382857911645</td><td>0.929378942990169</td><td>0.776662060922886</td></tr>\n",
       "</tbody>\n",
       "</table>\n"
      ],
      "text/latex": [
       "\\begin{tabular}{r|lll}\n",
       " R2 & RMSE & MAE\\\\\n",
       "\\hline\n",
       "\t 0.147382857911645 & 0.929378942990169 & 0.776662060922886\\\\\n",
       "\\end{tabular}\n"
      ],
      "text/markdown": [
       "\n",
       "| R2 | RMSE | MAE |\n",
       "|---|---|---|\n",
       "| 0.147382857911645 | 0.929378942990169 | 0.776662060922886 |\n",
       "\n"
      ],
      "text/plain": [
       "  R2                RMSE              MAE              \n",
       "1 0.147382857911645 0.929378942990169 0.776662060922886"
      ]
     },
     "metadata": {},
     "output_type": "display_data"
    }
   ],
   "source": [
    "# Likewise, using the functions of 'caret' library, we can get the performance metrics of Linear Regression as follows:\n",
    "\n",
    "data.frame(\n",
    "  R2 = R2(pred, testSet$Weekly_Sales),\n",
    "  RMSE = RMSE(pred, testSet$Weekly_Sales),\n",
    "  MAE = MAE(pred, testSet$Weekly_Sales)\n",
    ")"
   ]
  },
  {
   "cell_type": "code",
   "execution_count": null,
   "id": "fc04f960",
   "metadata": {},
   "outputs": [],
   "source": []
  },
  {
   "cell_type": "code",
   "execution_count": null,
   "id": "a2575aa8",
   "metadata": {},
   "outputs": [],
   "source": []
  }
 ],
 "metadata": {
  "kernelspec": {
   "display_name": "R",
   "language": "R",
   "name": "ir"
  },
  "language_info": {
   "codemirror_mode": "r",
   "file_extension": ".r",
   "mimetype": "text/x-r-source",
   "name": "R",
   "pygments_lexer": "r",
   "version": "3.6.1"
  }
 },
 "nbformat": 4,
 "nbformat_minor": 5
}
